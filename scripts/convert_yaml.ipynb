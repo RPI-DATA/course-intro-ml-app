{
 "cells": [
  {
   "cell_type": "code",
   "execution_count": 1,
   "metadata": {},
   "outputs": [
    {
     "name": "stdout",
     "output_type": "stream",
     "text": [
      "Requirement already satisfied: ruamel.yaml in c:\\users\\sjgar\\anaconda3\\lib\\site-packages (0.15.97)\n"
     ]
    }
   ],
   "source": [
    "!pip install ruamel.yaml"
   ]
  },
  {
   "cell_type": "code",
   "execution_count": 20,
   "metadata": {},
   "outputs": [],
   "source": [
    "import pandas as pd\n",
    "import numpy as np\n",
    "import csv\n",
    "import logging\n",
    "import subprocess\n",
    "import ruamel.yaml\n"
   ]
  },
  {
   "cell_type": "code",
   "execution_count": 21,
   "metadata": {},
   "outputs": [],
   "source": [
    "def load_yaml_file(file):\n",
    "    \"\"\"\n",
    "    Loads a yaml file from file system.\n",
    "    @param file Path to file to be loaded.\n",
    "    \"\"\"\n",
    "    try:\n",
    "        with open(file, 'r') as yaml:\n",
    "            kwargs = ruamel.yaml.round_trip_load(yaml, preserve_quotes=True)\n",
    "        return kwargs\n",
    "    except subprocess.CalledProcessError as e:\n",
    "        print(\"error\")\n",
    "    return(e.output.decode(\"utf-8\"))\n",
    "\n",
    "def update_yaml_file(file, kwargs):\n",
    "    \"\"\"\n",
    "    Updates a yaml file.\n",
    "    @param kwargs dictionary.\n",
    "    \"\"\"\n",
    "    print(\"Updating the file: \" + file)\n",
    "    try:\n",
    "        ruamel.yaml.round_trip_dump(kwargs, open(file, 'w'))\n",
    "    except subprocess.CalledProcessError as e:\n",
    "        print(\"error: \" + e)\n"
   ]
  },
  {
   "cell_type": "code",
   "execution_count": 22,
   "metadata": {},
   "outputs": [
    {
     "data": {
      "text/plain": [
       "ordereddict([('title', 'MGMT6560-fa19'), ('author', 'Jason Kuruzovich'), ('email', 'kuruzj@rpi.edu'), ('description', 'Welcome to Technology Fundamentals for Business Analytics. We are going to familiarize you with all phases of the data science lifecycle and a wide variety of the technologies used.'), ('baseurl', '/course-intro-ml-app'), ('url', 'https://rpi-data.github.io'), ('show_sidebar', True), ('collapse_inactive_chapters', True), ('textbook_logo', 'images/logo/rpi.png'), ('textbook_logo_link', 'https://rpi-data.github.io/course-intro-ml-app/'), ('sidebar_footer_text', 'Powered by <a href=\"https://github.com/jupyter/jupyter-book\">Jupyter Book</a>'), ('number_toc_chapters', False), ('search_max_words_in_content', 100), ('use_jupyterlab', False), ('use_jupyterhub_button', False), ('jupyterhub_url', ''), ('jupyterhub_interact_text', 'Interact'), ('use_binder_button', False), ('binderhub_url', 'https://mybinder.org'), ('binder_repo_base', 'https://github.com/'), ('binder_repo_org', 'YOUR-ORG'), ('binder_repo_name', 'YOUR-REPO'), ('binder_repo_branch', 'gh-pages'), ('binderhub_interact_text', 'Interact'), ('use_thebelab_button', False), ('thebelab_button_text', 'Thebelab'), ('codemirror_theme', 'abcdef'), ('use_show_widgets_button', True), ('use_download_button', True), ('download_button_text', 'Download'), ('scholar', ordereddict([('style', 'ieee')])), ('google_analytics', ordereddict([('mytrackingcode', None)])), ('content_folder_name', 'content'), ('images_url', '/assets/images'), ('css_url', '/assets/css'), ('js_url', '/assets/js'), ('custom_static_url', '/assets/custom'), ('defaults', [ordereddict([('scope', ordereddict([('path', '')])), ('values', ordereddict([('layout', 'default'), ('toc', True), ('toc_label', '  On this page'), ('toc_icon', 'list-ul')]))])]), ('favicon_path', 'images/logo/favicon.png'), ('markdown', 'kramdown'), ('kramdown', ordereddict([('input', 'GFM'), ('syntax_highlighter', 'rouge')])), ('encoding', 'utf-8'), ('sass', ordereddict([('style', 'compressed')])), ('collections', ordereddict([('build', ordereddict([('output', True), ('permalink', '/:path.html')]))])), ('exclude', ['scripts/', 'Gemfile', 'Gemfile.lock', 'node_modules', 'vendor/bundle/', 'vendor/cache/', 'vendor/gems/', 'vendor/ruby/']), ('plugins', ['jekyll-redirect-from', 'jekyll-scholar']), ('jupyter_book_version', '0.5.1')])"
      ]
     },
     "execution_count": 22,
     "metadata": {},
     "output_type": "execute_result"
    }
   ],
   "source": [
    "# Configuration\n",
    "# 1. Load the file.\n",
    "config = load_yaml_file('../_config.yml')\n",
    "config"
   ]
  },
  {
   "cell_type": "code",
   "execution_count": 23,
   "metadata": {},
   "outputs": [
    {
     "data": {
      "text/html": [
       "<div>\n",
       "<style scoped>\n",
       "    .dataframe tbody tr th:only-of-type {\n",
       "        vertical-align: middle;\n",
       "    }\n",
       "\n",
       "    .dataframe tbody tr th {\n",
       "        vertical-align: top;\n",
       "    }\n",
       "\n",
       "    .dataframe thead th {\n",
       "        text-align: right;\n",
       "    }\n",
       "</style>\n",
       "<table border=\"1\" class=\"dataframe\">\n",
       "  <thead>\n",
       "    <tr style=\"text-align: right;\">\n",
       "      <th></th>\n",
       "      <th>0</th>\n",
       "      <th>1</th>\n",
       "    </tr>\n",
       "  </thead>\n",
       "  <tbody>\n",
       "    <tr>\n",
       "      <th>0</th>\n",
       "      <td>title</td>\n",
       "      <td>MGMT6560-fa19</td>\n",
       "    </tr>\n",
       "    <tr>\n",
       "      <th>1</th>\n",
       "      <td>author</td>\n",
       "      <td>Jason Kuruzovich</td>\n",
       "    </tr>\n",
       "    <tr>\n",
       "      <th>2</th>\n",
       "      <td>email</td>\n",
       "      <td>kuruzj@rpi.edu</td>\n",
       "    </tr>\n",
       "    <tr>\n",
       "      <th>3</th>\n",
       "      <td>description</td>\n",
       "      <td>Welcome to Technology Fundamentals for Busines...</td>\n",
       "    </tr>\n",
       "    <tr>\n",
       "      <th>4</th>\n",
       "      <td>baseurl</td>\n",
       "      <td>/course-intro-ml-app</td>\n",
       "    </tr>\n",
       "    <tr>\n",
       "      <th>5</th>\n",
       "      <td>url</td>\n",
       "      <td>https://rpi-data.github.io</td>\n",
       "    </tr>\n",
       "  </tbody>\n",
       "</table>\n",
       "</div>"
      ],
      "text/plain": [
       "             0                                                  1\n",
       "0        title                                      MGMT6560-fa19\n",
       "1       author                                   Jason Kuruzovich\n",
       "2        email                                     kuruzj@rpi.edu\n",
       "3  description  Welcome to Technology Fundamentals for Busines...\n",
       "4      baseurl                               /course-intro-ml-app\n",
       "5          url                         https://rpi-data.github.io"
      ]
     },
     "execution_count": 23,
     "metadata": {},
     "output_type": "execute_result"
    }
   ],
   "source": [
    "# 2. Load the configuration from the spreadsheet.\n",
    "config_xl= pd.read_excel('../schedule.xlsx', sheet_name = '_config_yml', header=None, index_col=None)\n",
    "config_xl"
   ]
  },
  {
   "cell_type": "code",
   "execution_count": 24,
   "metadata": {},
   "outputs": [],
   "source": [
    "#Update the Yaml with the config from excel\n",
    "for x in range(len(config_xl)):\n",
    "    config[config_xl.iloc[x,0]]=config_xl.iloc[x,1]"
   ]
  },
  {
   "cell_type": "code",
   "execution_count": 25,
   "metadata": {},
   "outputs": [
    {
     "name": "stdout",
     "output_type": "stream",
     "text": [
      "Updating the file: ../_config.yml\n"
     ]
    }
   ],
   "source": [
    "update_yaml_file('../_config.yml', config)"
   ]
  },
  {
   "cell_type": "code",
   "execution_count": 79,
   "metadata": {},
   "outputs": [
    {
     "data": {
      "text/html": [
       "<div>\n",
       "<style scoped>\n",
       "    .dataframe tbody tr th:only-of-type {\n",
       "        vertical-align: middle;\n",
       "    }\n",
       "\n",
       "    .dataframe tbody tr th {\n",
       "        vertical-align: top;\n",
       "    }\n",
       "\n",
       "    .dataframe thead th {\n",
       "        text-align: right;\n",
       "    }\n",
       "</style>\n",
       "<table border=\"1\" class=\"dataframe\">\n",
       "  <thead>\n",
       "    <tr style=\"text-align: right;\">\n",
       "      <th></th>\n",
       "      <th>index</th>\n",
       "      <th>title</th>\n",
       "      <th>url</th>\n",
       "      <th>external</th>\n",
       "      <th>not_numbered</th>\n",
       "    </tr>\n",
       "  </thead>\n",
       "  <tbody>\n",
       "    <tr>\n",
       "      <th>0</th>\n",
       "      <td>7</td>\n",
       "      <td>GitHub Repository</td>\n",
       "      <td>https://github.com/RPI-DATA/jupyter-book</td>\n",
       "      <td>True</td>\n",
       "      <td>True</td>\n",
       "    </tr>\n",
       "    <tr>\n",
       "      <th>1</th>\n",
       "      <td>8</td>\n",
       "      <td>Colab</td>\n",
       "      <td>https://colab.research.google.com/notebooks/we...</td>\n",
       "      <td>True</td>\n",
       "      <td>True</td>\n",
       "    </tr>\n",
       "    <tr>\n",
       "      <th>2</th>\n",
       "      <td>9</td>\n",
       "      <td>Slack</td>\n",
       "      <td>https://rpi-data.slack.com/messages</td>\n",
       "      <td>True</td>\n",
       "      <td>True</td>\n",
       "    </tr>\n",
       "  </tbody>\n",
       "</table>\n",
       "</div>"
      ],
      "text/plain": [
       "   index              title  \\\n",
       "0      7  GitHub Repository   \n",
       "1      8              Colab   \n",
       "2      9              Slack   \n",
       "\n",
       "                                                 url  external  not_numbered  \n",
       "0           https://github.com/RPI-DATA/jupyter-book      True          True  \n",
       "1  https://colab.research.google.com/notebooks/we...      True          True  \n",
       "2                https://rpi-data.slack.com/messages      True          True  "
      ]
     },
     "execution_count": 79,
     "metadata": {},
     "output_type": "execute_result"
    }
   ],
   "source": [
    "# Table of contents\n",
    "from collections import OrderedDict\n",
    "toc = load_yaml_file('../_data/toc.yml')\n",
    "#updated to have a different sheet. \n",
    "toc_xl= pd.read_excel('../schedule.xlsx', sheet_name = 'toc_yml2',  index_col=None)\n",
    "toc_xl"
   ]
  },
  {
   "cell_type": "code",
   "execution_count": 62,
   "metadata": {},
   "outputs": [
    {
     "data": {
      "text/plain": [
       "ordereddict([('divider', True)])"
      ]
     },
     "execution_count": 62,
     "metadata": {},
     "output_type": "execute_result"
    }
   ],
   "source": [
    "toc[6]"
   ]
  },
  {
   "cell_type": "code",
   "execution_count": 80,
   "metadata": {},
   "outputs": [
    {
     "name": "stdout",
     "output_type": "stream",
     "text": [
      "7\n",
      "8\n",
      "9\n"
     ]
    }
   ],
   "source": [
    "#Update the Yaml with the config from excel for just the notebooks. \n",
    "for x in range(len(toc_xl)):\n",
    "    toc[toc_xl.loc[x,'index']]['title']=toc_xl.loc[x,'title']\n",
    "    toc[toc_xl.loc[x,'index']]['url']=toc_xl.loc[x,'url']\n",
    "    toc[toc_xl.loc[x,'index']]['external']=  toc_xl.loc[x,'external']\n",
    "    #toc[toc_xl.loc[x,'index']]['not_numbered']=toc_xl.loc[x,'not_numbered']\n",
    "    #config[config_xl.iloc[x,0]]=config_xl.iloc[x,1]"
   ]
  },
  {
   "cell_type": "code",
   "execution_count": null,
   "metadata": {},
   "outputs": [],
   "source": []
  }
 ],
 "metadata": {
  "kernelspec": {
   "display_name": "Python 3",
   "language": "python",
   "name": "python3"
  },
  "language_info": {
   "codemirror_mode": {
    "name": "ipython",
    "version": 3
   },
   "file_extension": ".py",
   "mimetype": "text/x-python",
   "name": "python",
   "nbconvert_exporter": "python",
   "pygments_lexer": "ipython3",
   "version": "3.7.3"
  }
 },
 "nbformat": 4,
 "nbformat_minor": 2
}
