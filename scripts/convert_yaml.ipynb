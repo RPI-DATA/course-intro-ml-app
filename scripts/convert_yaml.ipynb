{
 "cells": [
  {
   "cell_type": "code",
   "execution_count": 1,
   "metadata": {},
   "outputs": [
    {
     "name": "stdout",
     "output_type": "stream",
     "text": [
      "Requirement already satisfied: ruamel.yaml in c:\\users\\sjgar\\anaconda3\\lib\\site-packages (0.15.97)\n"
     ]
    }
   ],
   "source": [
    "!pip install ruamel.yaml"
   ]
  },
  {
   "cell_type": "code",
   "execution_count": 1,
   "metadata": {},
   "outputs": [],
   "source": [
    "import pandas as pd\n",
    "import numpy as np\n",
    "import csv\n",
    "import logging\n",
    "import subprocess\n",
    "import ruamel.yaml\n"
   ]
  },
  {
   "cell_type": "code",
   "execution_count": 2,
   "metadata": {},
   "outputs": [],
   "source": [
    "def load_yaml_file(file):\n",
    "    \"\"\"\n",
    "    Loads a yaml file from file system.\n",
    "    @param file Path to file to be loaded.\n",
    "    \"\"\"\n",
    "    try:\n",
    "        with open(file, 'r') as yaml:\n",
    "            kwargs = ruamel.yaml.round_trip_load(yaml, preserve_quotes=True)\n",
    "        return kwargs\n",
    "    except subprocess.CalledProcessError as e:\n",
    "        print(\"error\")\n",
    "    return(e.output.decode(\"utf-8\"))\n",
    "\n",
    "def update_yaml_file(file, kwargs):\n",
    "    \"\"\"\n",
    "    Updates a yaml file.\n",
    "    @param kwargs dictionary.\n",
    "    \"\"\"\n",
    "    print(\"Updating the file: \" + file)\n",
    "    try:\n",
    "        ruamel.yaml.round_trip_dump(kwargs, open(file, 'w'))\n",
    "    except subprocess.CalledProcessError as e:\n",
    "        print(\"error: \" + e)\n"
   ]
  },
  {
   "cell_type": "code",
   "execution_count": 3,
   "metadata": {},
   "outputs": [
    {
     "data": {
      "text/plain": [
       "CommentedMap([('title', 'MGMT6560-fa19'),\n",
       "              ('author', 'Jason Kuruzovich'),\n",
       "              ('email', 'kuruzj@rpi.edu'),\n",
       "              ('description',\n",
       "               'Welcome to Technology Fundamentals for Business Analytics. We are going to familiarize you with all phases of the data science lifecycle and a wide variety of the technologies used.'),\n",
       "              ('baseurl', '/course-intro-ml-app'),\n",
       "              ('url', 'https://rpi-data.github.io'),\n",
       "              ('show_sidebar', True),\n",
       "              ('collapse_inactive_chapters', True),\n",
       "              ('textbook_logo', 'images/logo/rpi.png'),\n",
       "              ('textbook_logo_link',\n",
       "               'https://rpi-data.github.io/course-intro-ml-app/'),\n",
       "              ('sidebar_footer_text',\n",
       "               'Powered by <a href=\"https://github.com/jupyter/jupyter-book\">Jupyter Book</a>'),\n",
       "              ('number_toc_chapters', False),\n",
       "              ('search_max_words_in_content', 100),\n",
       "              ('use_jupyterlab', False),\n",
       "              ('use_jupyterhub_button', False),\n",
       "              ('jupyterhub_url', ''),\n",
       "              ('jupyterhub_interact_text', 'Interact'),\n",
       "              ('use_binder_button', False),\n",
       "              ('binderhub_url', 'https://mybinder.org'),\n",
       "              ('binder_repo_base', 'https://github.com/'),\n",
       "              ('binder_repo_org', 'YOUR-ORG'),\n",
       "              ('binder_repo_name', 'YOUR-REPO'),\n",
       "              ('binder_repo_branch', 'gh-pages'),\n",
       "              ('binderhub_interact_text', 'Interact'),\n",
       "              ('use_thebelab_button', False),\n",
       "              ('thebelab_button_text', 'Thebelab'),\n",
       "              ('codemirror_theme', 'abcdef'),\n",
       "              ('use_show_widgets_button', True),\n",
       "              ('use_download_button', True),\n",
       "              ('download_button_text', 'Download'),\n",
       "              ('scholar', CommentedMap([('style', 'ieee')])),\n",
       "              ('google_analytics', CommentedMap([('mytrackingcode', None)])),\n",
       "              ('content_folder_name', 'content'),\n",
       "              ('images_url', '/assets/images'),\n",
       "              ('css_url', '/assets/css'),\n",
       "              ('js_url', '/assets/js'),\n",
       "              ('custom_static_url', '/assets/custom'),\n",
       "              ('defaults',\n",
       "               [ordereddict([('scope', ordereddict([('path', '')])), ('values', ordereddict([('layout', 'default'), ('toc', True), ('toc_label', '  On this page'), ('toc_icon', 'list-ul')]))])]),\n",
       "              ('favicon_path', 'images/logo/favicon.png'),\n",
       "              ('markdown', 'kramdown'),\n",
       "              ('kramdown',\n",
       "               CommentedMap([('input', 'GFM'),\n",
       "                             ('syntax_highlighter', 'rouge')])),\n",
       "              ('encoding', 'utf-8'),\n",
       "              ('sass', CommentedMap([('style', 'compressed')])),\n",
       "              ('collections',\n",
       "               CommentedMap([('build',\n",
       "                              CommentedMap([('output', True),\n",
       "                                            ('permalink', '/:path.html')]))])),\n",
       "              ('exclude',\n",
       "               ['scripts/', 'Gemfile', 'Gemfile.lock', 'node_modules', 'vendor/bundle/', 'vendor/cache/', 'vendor/gems/', 'vendor/ruby/']),\n",
       "              ('plugins', ['jekyll-redirect-from', 'jekyll-scholar']),\n",
       "              ('jupyter_book_version', '0.5.1')])"
      ]
     },
     "execution_count": 3,
     "metadata": {},
     "output_type": "execute_result"
    }
   ],
   "source": [
    "# Configuration\n",
    "# 1. Load the file.\n",
    "config = load_yaml_file('../_config.yml')\n",
    "config"
   ]
  },
  {
   "cell_type": "code",
   "execution_count": 4,
   "metadata": {},
   "outputs": [
    {
     "data": {
      "text/html": [
       "<div>\n",
       "<style scoped>\n",
       "    .dataframe tbody tr th:only-of-type {\n",
       "        vertical-align: middle;\n",
       "    }\n",
       "\n",
       "    .dataframe tbody tr th {\n",
       "        vertical-align: top;\n",
       "    }\n",
       "\n",
       "    .dataframe thead th {\n",
       "        text-align: right;\n",
       "    }\n",
       "</style>\n",
       "<table border=\"1\" class=\"dataframe\">\n",
       "  <thead>\n",
       "    <tr style=\"text-align: right;\">\n",
       "      <th></th>\n",
       "      <th>0</th>\n",
       "      <th>1</th>\n",
       "    </tr>\n",
       "  </thead>\n",
       "  <tbody>\n",
       "    <tr>\n",
       "      <th>0</th>\n",
       "      <td>title</td>\n",
       "      <td>MGMT6560-fa19</td>\n",
       "    </tr>\n",
       "    <tr>\n",
       "      <th>1</th>\n",
       "      <td>author</td>\n",
       "      <td>Jason Kuruzovich</td>\n",
       "    </tr>\n",
       "    <tr>\n",
       "      <th>2</th>\n",
       "      <td>email</td>\n",
       "      <td>kuruzj@rpi.edu</td>\n",
       "    </tr>\n",
       "    <tr>\n",
       "      <th>3</th>\n",
       "      <td>description</td>\n",
       "      <td>Welcome to Technology Fundamentals for Busines...</td>\n",
       "    </tr>\n",
       "    <tr>\n",
       "      <th>4</th>\n",
       "      <td>baseurl</td>\n",
       "      <td>/course-intro-ml-app</td>\n",
       "    </tr>\n",
       "    <tr>\n",
       "      <th>5</th>\n",
       "      <td>url</td>\n",
       "      <td>https://rpi-data.github.io</td>\n",
       "    </tr>\n",
       "  </tbody>\n",
       "</table>\n",
       "</div>"
      ],
      "text/plain": [
       "             0                                                  1\n",
       "0        title                                      MGMT6560-fa19\n",
       "1       author                                   Jason Kuruzovich\n",
       "2        email                                     kuruzj@rpi.edu\n",
       "3  description  Welcome to Technology Fundamentals for Busines...\n",
       "4      baseurl                               /course-intro-ml-app\n",
       "5          url                         https://rpi-data.github.io"
      ]
     },
     "execution_count": 4,
     "metadata": {},
     "output_type": "execute_result"
    }
   ],
   "source": [
    "# 2. Load the configuration from the spreadsheet.\n",
    "config_xl= pd.read_excel('../schedule.xlsx', sheet_name = '_config_yml', header=None, index_col=None)\n",
    "config_xl"
   ]
  },
  {
   "cell_type": "code",
   "execution_count": 16,
   "metadata": {},
   "outputs": [
    {
     "name": "stdout",
     "output_type": "stream",
     "text": [
      "key title\n",
      "key author\n",
      "key email\n",
      "key description\n",
      "key baseurl\n",
      "key url\n"
     ]
    }
   ],
   "source": [
    "#Update the Yaml with the config from excel\n",
    "for x in range(len(config_xl)):\n",
    "    config[config_xl.iloc[x,0]]=config_xl.iloc[x,1]"
   ]
  },
  {
   "cell_type": "code",
   "execution_count": 18,
   "metadata": {},
   "outputs": [],
   "source": [
    "update_yaml_file('../_config.yml', config)"
   ]
  },
  {
   "cell_type": "code",
   "execution_count": 8,
   "metadata": {},
   "outputs": [
    {
     "data": {
      "text/html": [
       "<div>\n",
       "<style scoped>\n",
       "    .dataframe tbody tr th:only-of-type {\n",
       "        vertical-align: middle;\n",
       "    }\n",
       "\n",
       "    .dataframe tbody tr th {\n",
       "        vertical-align: top;\n",
       "    }\n",
       "\n",
       "    .dataframe thead th {\n",
       "        text-align: right;\n",
       "    }\n",
       "</style>\n",
       "<table border=\"1\" class=\"dataframe\">\n",
       "  <thead>\n",
       "    <tr style=\"text-align: right;\">\n",
       "      <th></th>\n",
       "      <th>0</th>\n",
       "      <th>1</th>\n",
       "    </tr>\n",
       "  </thead>\n",
       "  <tbody>\n",
       "    <tr>\n",
       "      <th>0</th>\n",
       "      <td>title</td>\n",
       "      <td>Home</td>\n",
       "    </tr>\n",
       "    <tr>\n",
       "      <th>1</th>\n",
       "      <td>url</td>\n",
       "      <td>/index</td>\n",
       "    </tr>\n",
       "    <tr>\n",
       "      <th>2</th>\n",
       "      <td>not_numbered</td>\n",
       "      <td>true</td>\n",
       "    </tr>\n",
       "    <tr>\n",
       "      <th>3</th>\n",
       "      <td>title</td>\n",
       "      <td>Search</td>\n",
       "    </tr>\n",
       "    <tr>\n",
       "      <th>4</th>\n",
       "      <td>search</td>\n",
       "      <td>true</td>\n",
       "    </tr>\n",
       "    <tr>\n",
       "      <th>5</th>\n",
       "      <td>title</td>\n",
       "      <td>Contact Info</td>\n",
       "    </tr>\n",
       "    <tr>\n",
       "      <th>6</th>\n",
       "      <td>url</td>\n",
       "      <td>/contact</td>\n",
       "    </tr>\n",
       "    <tr>\n",
       "      <th>7</th>\n",
       "      <td>title</td>\n",
       "      <td>Schedule</td>\n",
       "    </tr>\n",
       "    <tr>\n",
       "      <th>8</th>\n",
       "      <td>url</td>\n",
       "      <td>/schedule</td>\n",
       "    </tr>\n",
       "    <tr>\n",
       "      <th>9</th>\n",
       "      <td>title</td>\n",
       "      <td>Session</td>\n",
       "    </tr>\n",
       "    <tr>\n",
       "      <th>10</th>\n",
       "      <td>url</td>\n",
       "      <td>/session_01</td>\n",
       "    </tr>\n",
       "    <tr>\n",
       "      <th>11</th>\n",
       "      <td>title</td>\n",
       "      <td>GitHub Repository</td>\n",
       "    </tr>\n",
       "    <tr>\n",
       "      <th>12</th>\n",
       "      <td>url</td>\n",
       "      <td>https://github.com/RPI-DATA/jupyter-book</td>\n",
       "    </tr>\n",
       "    <tr>\n",
       "      <th>13</th>\n",
       "      <td>title</td>\n",
       "      <td>Colab</td>\n",
       "    </tr>\n",
       "    <tr>\n",
       "      <th>14</th>\n",
       "      <td>url</td>\n",
       "      <td>https://colab.research.google.com/notebooks/we...</td>\n",
       "    </tr>\n",
       "    <tr>\n",
       "      <th>15</th>\n",
       "      <td>title</td>\n",
       "      <td>Slack</td>\n",
       "    </tr>\n",
       "    <tr>\n",
       "      <th>16</th>\n",
       "      <td>url</td>\n",
       "      <td>https://rpi-data.slack.com/messages</td>\n",
       "    </tr>\n",
       "  </tbody>\n",
       "</table>\n",
       "</div>"
      ],
      "text/plain": [
       "               0                                                  1\n",
       "0          title                                               Home\n",
       "1            url                                             /index\n",
       "2   not_numbered                                               true\n",
       "3          title                                             Search\n",
       "4         search                                               true\n",
       "5          title                                       Contact Info\n",
       "6            url                                           /contact\n",
       "7          title                                           Schedule\n",
       "8            url                                          /schedule\n",
       "9          title                                            Session\n",
       "10           url                                        /session_01\n",
       "11         title                                  GitHub Repository\n",
       "12           url           https://github.com/RPI-DATA/jupyter-book\n",
       "13         title                                              Colab\n",
       "14           url  https://colab.research.google.com/notebooks/we...\n",
       "15         title                                              Slack\n",
       "16           url                https://rpi-data.slack.com/messages"
      ]
     },
     "execution_count": 8,
     "metadata": {},
     "output_type": "execute_result"
    }
   ],
   "source": [
    "# Table of contents\n",
    "from collections import OrderedDict\n",
    "toc = load_yaml_file('../_data/toc.yml')\n",
    "toc_xl= pd.read_excel('../schedule.xlsx', sheet_name = 'toc_yml', header=None, index_col=None)\n",
    "toc_xl"
   ]
  },
  {
   "cell_type": "code",
   "execution_count": 9,
   "metadata": {},
   "outputs": [
    {
     "ename": "TypeError",
     "evalue": "'<' not supported between instances of 'str' and 'int'",
     "output_type": "error",
     "traceback": [
      "\u001b[1;31m---------------------------------------------------------------------------\u001b[0m",
      "\u001b[1;31mTypeError\u001b[0m                                 Traceback (most recent call last)",
      "\u001b[1;32m<ipython-input-9-e1e053344f32>\u001b[0m in \u001b[0;36m<module>\u001b[1;34m()\u001b[0m\n\u001b[0;32m      1\u001b[0m \u001b[1;32mfor\u001b[0m \u001b[0mx\u001b[0m \u001b[1;32min\u001b[0m \u001b[0mrange\u001b[0m\u001b[1;33m(\u001b[0m\u001b[0mlen\u001b[0m\u001b[1;33m(\u001b[0m\u001b[0mtoc_xl\u001b[0m\u001b[1;33m)\u001b[0m\u001b[1;33m)\u001b[0m\u001b[1;33m:\u001b[0m\u001b[1;33m\u001b[0m\u001b[1;33m\u001b[0m\u001b[0m\n\u001b[1;32m----> 2\u001b[1;33m     \u001b[0mtoc\u001b[0m\u001b[1;33m[\u001b[0m\u001b[0mtoc_xl\u001b[0m\u001b[1;33m.\u001b[0m\u001b[0miloc\u001b[0m\u001b[1;33m[\u001b[0m\u001b[0mx\u001b[0m\u001b[1;33m,\u001b[0m\u001b[1;36m0\u001b[0m\u001b[1;33m]\u001b[0m\u001b[1;33m]\u001b[0m\u001b[1;33m=\u001b[0m\u001b[0mtoc_xl\u001b[0m\u001b[1;33m.\u001b[0m\u001b[0miloc\u001b[0m\u001b[1;33m[\u001b[0m\u001b[0mx\u001b[0m\u001b[1;33m,\u001b[0m\u001b[1;36m1\u001b[0m\u001b[1;33m]\u001b[0m\u001b[1;33m\u001b[0m\u001b[1;33m\u001b[0m\u001b[0m\n\u001b[0m",
      "\u001b[1;32mC:\\Users\\sjgar\\Anaconda3\\lib\\site-packages\\ruamel\\yaml\\compat.py\u001b[0m in \u001b[0;36m__setitem__\u001b[1;34m(self, index, value)\u001b[0m\n\u001b[0;32m    273\u001b[0m         \u001b[1;31m# type: (Any, Any) -> None\u001b[0m\u001b[1;33m\u001b[0m\u001b[1;33m\u001b[0m\u001b[1;33m\u001b[0m\u001b[0m\n\u001b[0;32m    274\u001b[0m         \u001b[1;32mif\u001b[0m \u001b[1;32mnot\u001b[0m \u001b[0misinstance\u001b[0m\u001b[1;33m(\u001b[0m\u001b[0mindex\u001b[0m\u001b[1;33m,\u001b[0m \u001b[0mslice\u001b[0m\u001b[1;33m)\u001b[0m\u001b[1;33m:\u001b[0m\u001b[1;33m\u001b[0m\u001b[1;33m\u001b[0m\u001b[0m\n\u001b[1;32m--> 275\u001b[1;33m             \u001b[1;32mreturn\u001b[0m \u001b[0mself\u001b[0m\u001b[1;33m.\u001b[0m\u001b[0m__setsingleitem__\u001b[0m\u001b[1;33m(\u001b[0m\u001b[0mindex\u001b[0m\u001b[1;33m,\u001b[0m \u001b[0mvalue\u001b[0m\u001b[1;33m)\u001b[0m\u001b[1;33m\u001b[0m\u001b[1;33m\u001b[0m\u001b[0m\n\u001b[0m\u001b[0;32m    276\u001b[0m         \u001b[1;32massert\u001b[0m \u001b[0miter\u001b[0m\u001b[1;33m(\u001b[0m\u001b[0mvalue\u001b[0m\u001b[1;33m)\u001b[0m\u001b[1;33m\u001b[0m\u001b[1;33m\u001b[0m\u001b[0m\n\u001b[0;32m    277\u001b[0m         \u001b[1;31m# nprint(index.start, index.stop, index.step, index.indices(len(self)))\u001b[0m\u001b[1;33m\u001b[0m\u001b[1;33m\u001b[0m\u001b[1;33m\u001b[0m\u001b[0m\n",
      "\u001b[1;32mC:\\Users\\sjgar\\Anaconda3\\lib\\site-packages\\ruamel\\yaml\\comments.py\u001b[0m in \u001b[0;36m__setsingleitem__\u001b[1;34m(self, idx, value)\u001b[0m\n\u001b[0;32m    390\u001b[0m         \u001b[1;31m# type: (Any, Any) -> None\u001b[0m\u001b[1;33m\u001b[0m\u001b[1;33m\u001b[0m\u001b[1;33m\u001b[0m\u001b[0m\n\u001b[0;32m    391\u001b[0m         \u001b[1;31m# try to preserve the scalarstring type if setting an existing key to a new value\u001b[0m\u001b[1;33m\u001b[0m\u001b[1;33m\u001b[0m\u001b[1;33m\u001b[0m\u001b[0m\n\u001b[1;32m--> 392\u001b[1;33m         \u001b[1;32mif\u001b[0m \u001b[0midx\u001b[0m \u001b[1;33m<\u001b[0m \u001b[0mlen\u001b[0m\u001b[1;33m(\u001b[0m\u001b[0mself\u001b[0m\u001b[1;33m)\u001b[0m\u001b[1;33m:\u001b[0m\u001b[1;33m\u001b[0m\u001b[1;33m\u001b[0m\u001b[0m\n\u001b[0m\u001b[0;32m    393\u001b[0m             if (\n\u001b[0;32m    394\u001b[0m                 \u001b[0misinstance\u001b[0m\u001b[1;33m(\u001b[0m\u001b[0mvalue\u001b[0m\u001b[1;33m,\u001b[0m \u001b[0mstring_types\u001b[0m\u001b[1;33m)\u001b[0m\u001b[1;33m\u001b[0m\u001b[1;33m\u001b[0m\u001b[0m\n",
      "\u001b[1;31mTypeError\u001b[0m: '<' not supported between instances of 'str' and 'int'"
     ]
    }
   ],
   "source": [
    "for x in range(len(toc_xl)):\n",
    "    toc[toc_xl.iloc[x,0]]=toc_xl.iloc[x,1]"
   ]
  },
  {
   "cell_type": "code",
   "execution_count": null,
   "metadata": {},
   "outputs": [],
   "source": []
  }
 ],
 "metadata": {
  "kernelspec": {
   "display_name": "Python 3",
   "language": "python",
   "name": "python3"
  },
  "language_info": {
   "codemirror_mode": {
    "name": "ipython",
    "version": 3
   },
   "file_extension": ".py",
   "mimetype": "text/x-python",
   "name": "python",
   "nbconvert_exporter": "python",
   "pygments_lexer": "ipython3",
   "version": "3.7.3"
  }
 },
 "nbformat": 4,
 "nbformat_minor": 2
}
