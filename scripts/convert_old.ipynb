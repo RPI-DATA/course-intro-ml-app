{
 "cells": [
  {
   "cell_type": "markdown",
   "metadata": {},
   "source": [
    "# YAML Files\n",
    "---\n",
    "These files are used to configure and organize the website's contents."
   ]
  },
  {
   "cell_type": "code",
   "execution_count": null,
   "metadata": {},
   "outputs": [],
   "source": [
    "# Only need to run once\n",
    "!pip install ruamel.yaml"
   ]
  },
  {
   "cell_type": "code",
   "execution_count": 1,
   "metadata": {},
   "outputs": [],
   "source": [
    "# Always run this before any of the following cells\n",
    "import pandas as pd\n",
    "import numpy as np\n",
    "import csv\n",
    "import logging\n",
    "import subprocess\n",
    "import ruamel.yaml"
   ]
  },
  {
   "cell_type": "code",
   "execution_count": 2,
   "metadata": {},
   "outputs": [],
   "source": [
    "def load_yaml_file(file):\n",
    "    \"\"\"\n",
    "    Loads a yaml file from file system.\n",
    "    @param file Path to file to be loaded.\n",
    "    \"\"\"\n",
    "    try:\n",
    "        with open(file, 'r') as yaml:\n",
    "            kwargs = ruamel.yaml.round_trip_load(yaml, preserve_quotes=True)\n",
    "        return kwargs\n",
    "    except subprocess.CalledProcessError as e:\n",
    "        print(\"error\")\n",
    "    return(e.output.decode(\"utf-8\"))\n",
    "\n",
    "def update_yaml_file(file, kwargs):\n",
    "    \"\"\"\n",
    "    Updates a yaml file.\n",
    "    @param kwargs dictionary.\n",
    "    \"\"\"\n",
    "    print(\"Updating the file: \" + file)\n",
    "    try:\n",
    "        ruamel.yaml.round_trip_dump(kwargs, open(file, 'w'))\n",
    "    except subprocess.CalledProcessError as e:\n",
    "        print(\"error: \" + e)"
   ]
  },
  {
   "cell_type": "code",
   "execution_count": 3,
   "metadata": {},
   "outputs": [
    {
     "name": "stdout",
     "output_type": "stream",
     "text": [
      "Updating the file: ../_config.yml\n"
     ]
    }
   ],
   "source": [
    "# Configuration\n",
    "config = load_yaml_file('../_config.yml') # Load the file.\n",
    "config_xl= pd.read_excel('../book.xlsx', sheet_name = '_config_yml', header=None, index_col=None)\n",
    "for x in range(len(config_xl)):           # Update the Yaml with the config from excel\n",
    "    config[config_xl.iloc[x,0]]=config_xl.iloc[x,1]\n",
    "update_yaml_file('../_config.yml', config)"
   ]
  },
  {
   "cell_type": "code",
   "execution_count": 4,
   "metadata": {},
   "outputs": [],
   "source": [
    "# Table of contents (current)\n",
    "# 1. read the Excel sheet and create a yaml file from it.\n",
    "import re\n",
    "import os\n",
    "toc_yml= pd.read_excel('../book.xlsx', sheet_name = 'toc_yml', header=0)\n",
    "toc_yml.to_csv('../_data/toc2.yml',index=None,quoting=csv.QUOTE_NONE,escapechar=' ')\n",
    "\n",
    "# 2. replace double spaces with single spaces.\n",
    "with open('../_data/toc.yml', 'w') as out:\n",
    "    with open('../_data/toc2.yml', 'r') as f:\n",
    "        for line in f:\n",
    "            line = re.sub(r\"  \", \" \", line)\n",
    "            out.write(line)\n",
    "            \n",
    "# 3. delete toc2.yml\n",
    "os.remove('../_data/toc2.yml')"
   ]
  },
  {
   "cell_type": "code",
   "execution_count": 5,
   "metadata": {},
   "outputs": [],
   "source": [
    "# Table of contents (old approach - only works for an unchanging number of fields)\n",
    "# toc = load_yaml_file('../_data/toc.yml')\n",
    "# toc_xl= pd.read_excel('../book.xlsx', sheet_name = 'toc_yml',  index_col=None)\n",
    "# for x in range(len(toc_xl)):\n",
    "#     toc[toc_xl.loc[x,'index']]['title']=toc_xl.loc[x,'title']\n",
    "#     toc[toc_xl.loc[x,'index']]['url']=toc_xl.loc[x,'url']\n",
    "# update_yaml_file('../_data/toc.yml', toc)"
   ]
  },
  {
   "cell_type": "code",
   "execution_count": 6,
   "metadata": {
    "scrolled": true
   },
   "outputs": [],
   "source": [
    "# Table of contents (experimental - currently doesn't work; see issue #3 in the repo)\n",
    "# from collections import OrderedDict\n",
    "# toc = load_yaml_file('../_data/toc.yml')                                 # load original yaml file\n",
    "# toc_xl= pd.read_excel('../book.xlsx',sheet_name ='toc_yml3',index_col=0) # load excel data\n",
    "# toc_ses= toc_xl.to_dict(into=OrderedDict,orient='records')               # convert excel df to list of OrderedDict\n",
    "# toc[3]['sections']= toc_ses\n",
    "# update_yaml_file('../_data/toc2.yml', toc)"
   ]
  },
  {
   "cell_type": "markdown",
   "metadata": {},
   "source": [
    "# Markdown files\n",
    "---\n",
    "These files comprise the site's content, aside from the notebooks already created."
   ]
  },
  {
   "cell_type": "code",
   "execution_count": 7,
   "metadata": {},
   "outputs": [],
   "source": [
    "# Always run this before any of the following cells\n",
    "import pandas as pd\n",
    "import numpy as np\n",
    "import csv"
   ]
  },
  {
   "cell_type": "code",
   "execution_count": 8,
   "metadata": {},
   "outputs": [],
   "source": [
    "# Home\n",
    "index_md= pd.read_excel('../book.xlsx', sheet_name = 'index_md', header=0)\n",
    "index_md.to_csv('../content/index.md',index=None,sep=' ',quoting=csv.QUOTE_NONE,escapechar=' ')"
   ]
  },
  {
   "cell_type": "code",
   "execution_count": 9,
   "metadata": {},
   "outputs": [],
   "source": [
    "# Schedule\n",
    "schedule_md= pd.read_excel('../book.xlsx', sheet_name = 'schedule_md', header=0)\n",
    "schedule_md.to_csv('../content/sessions/index.md',index=None,sep=' ',quoting=csv.QUOTE_NONE,escapechar=' ')"
   ]
  },
  {
   "cell_type": "code",
   "execution_count": 10,
   "metadata": {},
   "outputs": [],
   "source": [
    "# Sessions\n",
    "session_md= pd.read_excel('../book.xlsx',sheet_name='session_md',header=0,index_col=0,usecols=\"A:B\")\n",
    "session_md=session_md.dropna()\n",
    "for index, row in session_md.iterrows():\n",
    "    row.to_csv('../content/sessions/'+str(index)+'.md',index=False,header=False,sep=' ',quoting = csv.QUOTE_NONE,\n",
    "               escapechar = ' ')"
   ]
  },
  {
   "cell_type": "code",
   "execution_count": 11,
   "metadata": {},
   "outputs": [],
   "source": [
    "# Assignments\n",
    "assignments_md= pd.read_excel('../book.xlsx', sheet_name = 'assignments_md', header=0)\n",
    "assignments_md.to_csv('../content/assignments/index.md',index=None,sep=' ',quoting = csv.QUOTE_NONE,escapechar = ' ')"
   ]
  },
  {
   "cell_type": "code",
   "execution_count": 12,
   "metadata": {},
   "outputs": [],
   "source": [
    "# Grading\n",
    "grading_md= pd.read_excel('../book.xlsx', sheet_name = 'grading_md', header=0)\n",
    "grading_md.to_csv('../content/grading.md',index=None,sep=' ',quoting = csv.QUOTE_NONE,escapechar=' ')"
   ]
  },
  {
   "cell_type": "code",
   "execution_count": 14,
   "metadata": {},
   "outputs": [
    {
     "data": {
      "text/html": [
       "<div>\n",
       "<style scoped>\n",
       "    .dataframe tbody tr th:only-of-type {\n",
       "        vertical-align: middle;\n",
       "    }\n",
       "\n",
       "    .dataframe tbody tr th {\n",
       "        vertical-align: top;\n",
       "    }\n",
       "\n",
       "    .dataframe thead th {\n",
       "        text-align: right;\n",
       "    }\n",
       "</style>\n",
       "<table border=\"1\" class=\"dataframe\">\n",
       "  <thead>\n",
       "    <tr style=\"text-align: right;\">\n",
       "      <th></th>\n",
       "      <th>&lt;h1 style=\"font-family: Verdana, Geneva, sans-serif; text-align:center;\"&gt;All Notebooks&lt;/h1&gt;\\n---\\n</th>\n",
       "    </tr>\n",
       "  </thead>\n",
       "  <tbody>\n",
       "    <tr>\n",
       "      <th>0</th>\n",
       "      <td>| Session | Notebooks |</td>\n",
       "    </tr>\n",
       "    <tr>\n",
       "      <th>1</th>\n",
       "      <td>| :---: | :----- |</td>\n",
       "    </tr>\n",
       "    <tr>\n",
       "      <th>2</th>\n",
       "      <td>| [1](https://rpi-data.github.io/course-intro-...</td>\n",
       "    </tr>\n",
       "    <tr>\n",
       "      <th>3</th>\n",
       "      <td>| [2](https://rpi-data.github.io/course-intro-...</td>\n",
       "    </tr>\n",
       "    <tr>\n",
       "      <th>4</th>\n",
       "      <td>NaN</td>\n",
       "    </tr>\n",
       "    <tr>\n",
       "      <th>5</th>\n",
       "      <td>NaN</td>\n",
       "    </tr>\n",
       "    <tr>\n",
       "      <th>6</th>\n",
       "      <td>| [4](https://rpi-data.github.io/course-intro-...</td>\n",
       "    </tr>\n",
       "    <tr>\n",
       "      <th>7</th>\n",
       "      <td>| [6](https://rpi-data.github.io/course-intro-...</td>\n",
       "    </tr>\n",
       "    <tr>\n",
       "      <th>8</th>\n",
       "      <td>| [9](https://rpi-data.github.io/course-intro-...</td>\n",
       "    </tr>\n",
       "    <tr>\n",
       "      <th>9</th>\n",
       "      <td>| [13](https://rpi-data.github.io/course-intro...</td>\n",
       "    </tr>\n",
       "    <tr>\n",
       "      <th>10</th>\n",
       "      <td>| [15](https://rpi-data.github.io/course-intro...</td>\n",
       "    </tr>\n",
       "  </tbody>\n",
       "</table>\n",
       "</div>"
      ],
      "text/plain": [
       "   <h1 style=\"font-family: Verdana, Geneva, sans-serif; text-align:center;\">All Notebooks</h1>\\n---\\n\n",
       "0                             | Session | Notebooks |                                                \n",
       "1                                  | :---: | :----- |                                                \n",
       "2   | [1](https://rpi-data.github.io/course-intro-...                                                \n",
       "3   | [2](https://rpi-data.github.io/course-intro-...                                                \n",
       "4                                                 NaN                                                \n",
       "5                                                 NaN                                                \n",
       "6   | [4](https://rpi-data.github.io/course-intro-...                                                \n",
       "7   | [6](https://rpi-data.github.io/course-intro-...                                                \n",
       "8   | [9](https://rpi-data.github.io/course-intro-...                                                \n",
       "9   | [13](https://rpi-data.github.io/course-intro...                                                \n",
       "10  | [15](https://rpi-data.github.io/course-intro...                                                "
      ]
     },
     "execution_count": 14,
     "metadata": {},
     "output_type": "execute_result"
    }
   ],
   "source": [
    "notebooks_md"
   ]
  },
  {
   "cell_type": "code",
   "execution_count": 17,
   "metadata": {},
   "outputs": [],
   "source": [
    "# Notebooks\n",
    "notebooks_md= pd.read_excel('../book.xlsx', sheet_name = 'notebooks_md', header=0)\n",
    "notebooks_md.to_csv('../content/notebooks/index.md',index=None,sep=' ',quoting=csv.QUOTE_NONE,escapechar=' ')"
   ]
  },
  {
   "cell_type": "code",
   "execution_count": 18,
   "metadata": {},
   "outputs": [],
   "source": [
    "# Readings\n",
    "readings_md= pd.read_excel('../book.xlsx', sheet_name = 'readings_md', header=0)\n",
    "readings_md.to_csv('../content/sessions/readings.md',index=None,sep=' ',quoting=csv.QUOTE_NONE,escapechar=' ')"
   ]
  },
  {
   "cell_type": "code",
   "execution_count": null,
   "metadata": {},
   "outputs": [],
   "source": []
  }
 ],
 "metadata": {
  "kernelspec": {
   "display_name": "Python [conda env:book]",
   "language": "python",
   "name": "conda-env-book-py"
  },
  "language_info": {
   "codemirror_mode": {
    "name": "ipython",
    "version": 3
   },
   "file_extension": ".py",
   "mimetype": "text/x-python",
   "name": "python",
   "nbconvert_exporter": "python",
   "pygments_lexer": "ipython3",
   "version": "3.6.9"
  }
 },
 "nbformat": 4,
 "nbformat_minor": 4
}
