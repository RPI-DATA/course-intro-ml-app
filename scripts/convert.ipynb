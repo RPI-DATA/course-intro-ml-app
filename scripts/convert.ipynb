{
 "cells": [
  {
   "cell_type": "markdown",
   "metadata": {},
   "source": [
    "# YAML Files\n",
    "---\n",
    "These files are used to configure and organize the website's contents."
   ]
  },
  {
   "cell_type": "code",
   "execution_count": null,
   "metadata": {},
   "outputs": [],
   "source": [
    "!pip install ruamel.yaml"
   ]
  },
  {
   "cell_type": "code",
   "execution_count": 2,
   "metadata": {},
   "outputs": [],
   "source": [
    "import pandas as pd\n",
    "import numpy as np\n",
    "import csv\n",
    "import logging\n",
    "import subprocess\n",
    "import ruamel.yaml"
   ]
  },
  {
   "cell_type": "code",
   "execution_count": null,
   "metadata": {},
   "outputs": [],
   "source": [
    "def load_yaml_file(file):\n",
    "    \"\"\"\n",
    "    Loads a yaml file from file system.\n",
    "    @param file Path to file to be loaded.\n",
    "    \"\"\"\n",
    "    try:\n",
    "        with open(file, 'r') as yaml:\n",
    "            kwargs = ruamel.yaml.round_trip_load(yaml, preserve_quotes=True)\n",
    "        return kwargs\n",
    "    except subprocess.CalledProcessError as e:\n",
    "        print(\"error\")\n",
    "    return(e.output.decode(\"utf-8\"))\n",
    "\n",
    "def update_yaml_file(file, kwargs):\n",
    "    \"\"\"\n",
    "    Updates a yaml file.\n",
    "    @param kwargs dictionary.\n",
    "    \"\"\"\n",
    "    print(\"Updating the file: \" + file)\n",
    "    try:\n",
    "        ruamel.yaml.round_trip_dump(kwargs, open(file, 'w'))\n",
    "    except subprocess.CalledProcessError as e:\n",
    "        print(\"error: \" + e)"
   ]
  },
  {
   "cell_type": "code",
   "execution_count": null,
   "metadata": {},
   "outputs": [],
   "source": [
    "# Configuration\n",
    "config = load_yaml_file('../_config.yml') # Load the file.\n",
    "config_xl= pd.read_excel('../book.xlsx', sheet_name = '_config_yml', header=None, index_col=None)\n",
    "for x in range(len(config_xl)):           # Update the Yaml with the config from excel\n",
    "    config[config_xl.iloc[x,0]]=config_xl.iloc[x,1]\n",
    "update_yaml_file('../_config.yml', config)"
   ]
  },
  {
   "cell_type": "code",
   "execution_count": null,
   "metadata": {},
   "outputs": [],
   "source": [
    "# Table of contents\n",
    "from collections import OrderedDict\n",
    "toc = load_yaml_file('../_data/toc.yml')\n",
    "toc_xl= pd.read_excel('../book.xlsx', sheet_name = 'toc_yml',  index_col=None)\n",
    "for x in range(len(toc_xl)):\n",
    "    toc[toc_xl.loc[x,'index']]['title']=toc_xl.loc[x,'title']\n",
    "    toc[toc_xl.loc[x,'index']]['url']=toc_xl.loc[x,'url']\n",
    "update_yaml_file('../_data/toc.yml', toc)"
   ]
  },
  {
   "cell_type": "markdown",
   "metadata": {},
   "source": [
    "# Markdown files\n",
    "---\n",
    "These files comprise the site's content, aside from the notebooks already created."
   ]
  },
  {
   "cell_type": "code",
   "execution_count": 1,
   "metadata": {},
   "outputs": [],
   "source": [
    "# Always run this before any of the following cells\n",
    "import pandas as pd\n",
    "import numpy as np\n",
    "import csv"
   ]
  },
  {
   "cell_type": "code",
   "execution_count": null,
   "metadata": {},
   "outputs": [],
   "source": [
    "# Landing page\n",
    "index_md= pd.read_excel('../book.xlsx', sheet_name = 'index_md', header=0)\n",
    "index_md.to_csv('../content/index.md',  index=None, sep=' ',quoting = csv.QUOTE_NONE, escapechar = ' ')"
   ]
  },
  {
   "cell_type": "code",
   "execution_count": null,
   "metadata": {},
   "outputs": [],
   "source": [
    "# Contact info\n",
    "contact_md= pd.read_excel('../book.xlsx', sheet_name = 'contact_md', header=0)\n",
    "contact_md.to_csv('../content/contact.md',  index=None, sep=' ',quoting = csv.QUOTE_NONE, escapechar = ' ')"
   ]
  },
  {
   "cell_type": "code",
   "execution_count": 10,
   "metadata": {},
   "outputs": [],
   "source": [
    "# Schedule\n",
    "schedule_md= pd.read_excel('../book.xlsx', sheet_name = 'schedule_md', header=0)\n",
    "schedule_md.to_csv('../content/sessions/index.md',  index=None, sep=' ',quoting = csv.QUOTE_NONE, escapechar = ' ')"
   ]
  },
  {
   "cell_type": "code",
   "execution_count": null,
   "metadata": {},
   "outputs": [],
   "source": [
    "# Sessions (individual pages)\n",
    "sessions_md= pd.read_excel('../book.xlsx', sheet_name = 'sessions_md', header=0, usecols=\"A\", skiprows=1)\n",
    "sessions_md.to_csv('../content/sessions/session1.md',  index=None, sep=' ',quoting = csv.QUOTE_NONE, escapechar = ' ')"
   ]
  },
  {
   "cell_type": "code",
   "execution_count": 39,
   "metadata": {},
   "outputs": [],
   "source": [
    "# Assignments\n",
    "assignments_md= pd.read_excel('../book.xlsx', sheet_name = 'assignments_md', header=0)\n",
    "assignments_md.to_csv('../content/assignments/index.md',  index=None, sep=' ',quoting = csv.QUOTE_NONE, escapechar = ' ')"
   ]
  },
  {
   "cell_type": "code",
   "execution_count": 36,
   "metadata": {},
   "outputs": [
    {
     "data": {
      "text/html": [
       "<div>\n",
       "<style scoped>\n",
       "    .dataframe tbody tr th:only-of-type {\n",
       "        vertical-align: middle;\n",
       "    }\n",
       "\n",
       "    .dataframe tbody tr th {\n",
       "        vertical-align: top;\n",
       "    }\n",
       "\n",
       "    .dataframe thead th {\n",
       "        text-align: right;\n",
       "    }\n",
       "</style>\n",
       "<table border=\"1\" class=\"dataframe\">\n",
       "  <thead>\n",
       "    <tr style=\"text-align: right;\">\n",
       "      <th></th>\n",
       "      <th>Unnamed: 0</th>\n",
       "      <th>Unnamed: 1</th>\n",
       "    </tr>\n",
       "  </thead>\n",
       "  <tbody>\n",
       "    <tr>\n",
       "      <th>0</th>\n",
       "      <td>NaN</td>\n",
       "      <td>NaN</td>\n",
       "    </tr>\n",
       "    <tr>\n",
       "      <th>1</th>\n",
       "      <td>NaN</td>\n",
       "      <td>NaN</td>\n",
       "    </tr>\n",
       "    <tr>\n",
       "      <th>2</th>\n",
       "      <td>assign1</td>\n",
       "      <td>&lt;h1 style=\"font-family: Verdana, Geneva, sans-...</td>\n",
       "    </tr>\n",
       "    <tr>\n",
       "      <th>3</th>\n",
       "      <td>NaN</td>\n",
       "      <td>NaN</td>\n",
       "    </tr>\n",
       "    <tr>\n",
       "      <th>4</th>\n",
       "      <td>NaN</td>\n",
       "      <td>NaN</td>\n",
       "    </tr>\n",
       "    <tr>\n",
       "      <th>5</th>\n",
       "      <td>assign2</td>\n",
       "      <td>&lt;h1 style=\"font-family: Verdana, Geneva, sans-...</td>\n",
       "    </tr>\n",
       "    <tr>\n",
       "      <th>6</th>\n",
       "      <td>NaN</td>\n",
       "      <td>NaN</td>\n",
       "    </tr>\n",
       "    <tr>\n",
       "      <th>7</th>\n",
       "      <td>assign3</td>\n",
       "      <td>&lt;h1 style=\"font-family: Verdana, Geneva, sans-...</td>\n",
       "    </tr>\n",
       "    <tr>\n",
       "      <th>8</th>\n",
       "      <td>NaN</td>\n",
       "      <td>NaN</td>\n",
       "    </tr>\n",
       "    <tr>\n",
       "      <th>9</th>\n",
       "      <td>assign4</td>\n",
       "      <td>&lt;h1 style=\"font-family: Verdana, Geneva, sans-...</td>\n",
       "    </tr>\n",
       "    <tr>\n",
       "      <th>10</th>\n",
       "      <td>NaN</td>\n",
       "      <td>NaN</td>\n",
       "    </tr>\n",
       "    <tr>\n",
       "      <th>11</th>\n",
       "      <td>assign5</td>\n",
       "      <td>&lt;h1 style=\"font-family: Verdana, Geneva, sans-...</td>\n",
       "    </tr>\n",
       "    <tr>\n",
       "      <th>12</th>\n",
       "      <td>NaN</td>\n",
       "      <td>NaN</td>\n",
       "    </tr>\n",
       "    <tr>\n",
       "      <th>13</th>\n",
       "      <td>assign6</td>\n",
       "      <td>&lt;h1 style=\"font-family: Verdana, Geneva, sans-...</td>\n",
       "    </tr>\n",
       "    <tr>\n",
       "      <th>14</th>\n",
       "      <td>NaN</td>\n",
       "      <td>NaN</td>\n",
       "    </tr>\n",
       "    <tr>\n",
       "      <th>15</th>\n",
       "      <td>assign7</td>\n",
       "      <td>&lt;h1 style=\"font-family: Verdana, Geneva, sans-...</td>\n",
       "    </tr>\n",
       "    <tr>\n",
       "      <th>16</th>\n",
       "      <td>NaN</td>\n",
       "      <td>NaN</td>\n",
       "    </tr>\n",
       "    <tr>\n",
       "      <th>17</th>\n",
       "      <td>NaN</td>\n",
       "      <td>NaN</td>\n",
       "    </tr>\n",
       "    <tr>\n",
       "      <th>18</th>\n",
       "      <td>NaN</td>\n",
       "      <td>NaN</td>\n",
       "    </tr>\n",
       "    <tr>\n",
       "      <th>19</th>\n",
       "      <td>NaN</td>\n",
       "      <td>NaN</td>\n",
       "    </tr>\n",
       "    <tr>\n",
       "      <th>20</th>\n",
       "      <td>NaN</td>\n",
       "      <td>NaN</td>\n",
       "    </tr>\n",
       "    <tr>\n",
       "      <th>21</th>\n",
       "      <td>NaN</td>\n",
       "      <td>NaN</td>\n",
       "    </tr>\n",
       "    <tr>\n",
       "      <th>22</th>\n",
       "      <td>assign8</td>\n",
       "      <td>&lt;h1 style=\"font-family: Verdana, Geneva, sans-...</td>\n",
       "    </tr>\n",
       "  </tbody>\n",
       "</table>\n",
       "</div>"
      ],
      "text/plain": [
       "   Unnamed: 0                                         Unnamed: 1\n",
       "0         NaN                                                NaN\n",
       "1         NaN                                                NaN\n",
       "2     assign1  <h1 style=\"font-family: Verdana, Geneva, sans-...\n",
       "3         NaN                                                NaN\n",
       "4         NaN                                                NaN\n",
       "5     assign2  <h1 style=\"font-family: Verdana, Geneva, sans-...\n",
       "6         NaN                                                NaN\n",
       "7     assign3  <h1 style=\"font-family: Verdana, Geneva, sans-...\n",
       "8         NaN                                                NaN\n",
       "9     assign4  <h1 style=\"font-family: Verdana, Geneva, sans-...\n",
       "10        NaN                                                NaN\n",
       "11    assign5  <h1 style=\"font-family: Verdana, Geneva, sans-...\n",
       "12        NaN                                                NaN\n",
       "13    assign6  <h1 style=\"font-family: Verdana, Geneva, sans-...\n",
       "14        NaN                                                NaN\n",
       "15    assign7  <h1 style=\"font-family: Verdana, Geneva, sans-...\n",
       "16        NaN                                                NaN\n",
       "17        NaN                                                NaN\n",
       "18        NaN                                                NaN\n",
       "19        NaN                                                NaN\n",
       "20        NaN                                                NaN\n",
       "21        NaN                                                NaN\n",
       "22    assign8  <h1 style=\"font-family: Verdana, Geneva, sans-..."
      ]
     },
     "execution_count": 36,
     "metadata": {},
     "output_type": "execute_result"
    }
   ],
   "source": [
    "# Assignments (individual pages)\n",
    "assign_md= pd.read_excel('../book.xlsx', sheet_name = 'assign_md', header=0, usecols=\"A:B\")\n",
    "assign_md\n"
   ]
  },
  {
   "cell_type": "code",
   "execution_count": 38,
   "metadata": {},
   "outputs": [],
   "source": [
    "for name, group in assign_md.groupby(by='Unnamed: 0'): \n",
    "    group.to_csv('../content/assignments/'+str(name)+'.md', index=False, sep=' ',quoting = csv.QUOTE_NONE, escapechar = ' ')"
   ]
  },
  {
   "cell_type": "code",
   "execution_count": 8,
   "metadata": {},
   "outputs": [],
   "source": [
    "# Grading\n",
    "grading_md= pd.read_excel('../book.xlsx', sheet_name = 'grading_md', header=0)\n",
    "grading_md.to_csv('../content/grading.md',  index=None, sep=' ',quoting = csv.QUOTE_NONE, escapechar = ' ')"
   ]
  },
  {
   "cell_type": "code",
   "execution_count": 18,
   "metadata": {},
   "outputs": [],
   "source": [
    "# Notebooks\n",
    "notebooks_md= pd.read_excel('../book.xlsx', sheet_name = 'notebooks_md', header=0)\n",
    "notebooks_md.to_csv('../content/sessions/notebooks.md', index=None, sep=' ',quoting = csv.QUOTE_NONE, escapechar = ' ')"
   ]
  },
  {
   "cell_type": "code",
   "execution_count": 19,
   "metadata": {},
   "outputs": [],
   "source": [
    "# Readings\n",
    "readings_md= pd.read_excel('../book.xlsx', sheet_name = 'readings_md', header=0)\n",
    "readings_md.to_csv('../content/sessions/readings.md',  index=None, sep=' ',quoting = csv.QUOTE_NONE, escapechar = ' ')"
   ]
  },
  {
   "cell_type": "code",
   "execution_count": null,
   "metadata": {},
   "outputs": [],
   "source": []
  }
 ],
 "metadata": {
  "kernelspec": {
   "display_name": "Python 3",
   "language": "python",
   "name": "python3"
  },
  "language_info": {
   "codemirror_mode": {
    "name": "ipython",
    "version": 3
   },
   "file_extension": ".py",
   "mimetype": "text/x-python",
   "name": "python",
   "nbconvert_exporter": "python",
   "pygments_lexer": "ipython3",
   "version": "3.7.3"
  }
 },
 "nbformat": 4,
 "nbformat_minor": 2
}
