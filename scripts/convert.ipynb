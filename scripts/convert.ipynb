{
 "cells": [
  {
   "cell_type": "markdown",
   "metadata": {},
   "source": [
    "# YAML Files\n",
    "---\n",
    "These files are used to configure and organize the website's contents."
   ]
  },
  {
   "cell_type": "code",
   "execution_count": null,
   "metadata": {},
   "outputs": [],
   "source": [
    "# Only need to run once\n",
    "#!pip install ruamel.yaml"
   ]
  },
  {
   "cell_type": "code",
   "execution_count": 2,
   "metadata": {},
   "outputs": [],
   "source": [
    "# Always run this before any of the following cells\n",
    "import pandas as pd\n",
    "import numpy as np\n",
    "import csv\n",
    "import logging\n",
    "import subprocess\n",
    "import ruamel.yaml"
   ]
  },
  {
   "cell_type": "code",
   "execution_count": 3,
   "metadata": {},
   "outputs": [],
   "source": [
    "def load_yaml_file(file):\n",
    "    \"\"\"\n",
    "    Loads a yaml file from file system.\n",
    "    @param file Path to file to be loaded.\n",
    "    \"\"\"\n",
    "    try:\n",
    "        with open(file, 'r') as yaml:\n",
    "            kwargs = ruamel.yaml.round_trip_load(yaml, preserve_quotes=True)\n",
    "        return kwargs\n",
    "    except subprocess.CalledProcessError as e:\n",
    "        print(\"error\")\n",
    "    return(e.output.decode(\"utf-8\"))\n",
    "\n",
    "def update_yaml_file(file, kwargs):\n",
    "    \"\"\"\n",
    "    Updates a yaml file.\n",
    "    @param kwargs dictionary.\n",
    "    \"\"\"\n",
    "    print(\"Updating the file: \" + file)\n",
    "    try:\n",
    "        ruamel.yaml.round_trip_dump(kwargs, open(file, 'w'))\n",
    "    except subprocess.CalledProcessError as e:\n",
    "        print(\"error: \" + e)\n",
    "        \n",
    "def write_md_file(filename, df):\n",
    "    print(\"Updating the file: \" + filename)\n",
    "    df.to_csv(filename,  index=None, sep=' ',quoting = csv.QUOTE_NONE, escapechar = ' ')\n",
    "    \n"
   ]
  },
  {
   "cell_type": "code",
   "execution_count": 9,
   "metadata": {},
   "outputs": [
    {
     "name": "stdout",
     "output_type": "stream",
     "text": [
      "Updating the file: ../_config.yml\n"
     ]
    }
   ],
   "source": [
    "# Configuration\n",
    "config = load_yaml_file('../_config.yml') # Load the file.\n",
    "config_xl= pd.read_excel('../book.xlsx', sheet_name = '_config_yml', header=None, index_col=None)\n",
    "for x in range(len(config_xl)):           # Update the Yaml with the config from excel\n",
    "    config[config_xl.iloc[x,0]]=config_xl.iloc[x,1]\n",
    "update_yaml_file('../_config.yml', config)"
   ]
  },
  {
   "cell_type": "code",
   "execution_count": 7,
   "metadata": {},
   "outputs": [
    {
     "data": {
      "text/plain": [
       "CommentedMap([('title', 'MGMT6560 Fall 19'),\n",
       "              ('author', 'Jason Kuruzovich'),\n",
       "              ('email', 'kuruzj@rpi.edu'),\n",
       "              ('description',\n",
       "               'Welcome to Technology Fundamentals for Business Analytics. We are going to familiarize you with all phases of the data science lifecycle and a wide variety of the technologies used.'),\n",
       "              ('baseurl', '\"\"'),\n",
       "              ('url', 'https://rpi.analyticsdojo.com'),\n",
       "              ('show_sidebar', True),\n",
       "              ('collapse_inactive_chapters', True),\n",
       "              ('textbook_logo', 'images/logo/rpi.png'),\n",
       "              ('textbook_logo_link',\n",
       "               'https://rpi-data.github.io/course-intro-ml-app/'),\n",
       "              ('sidebar_footer_text',\n",
       "               'Powered by <a href=\"https://github.com/jupyter/jupyter-book\">Jupyter Book</a>'),\n",
       "              ('number_toc_chapters', True),\n",
       "              ('search_max_words_in_content', 100),\n",
       "              ('use_jupyterlab', False),\n",
       "              ('use_jupyterhub_button', False),\n",
       "              ('jupyterhub_url', ''),\n",
       "              ('jupyterhub_interact_text', 'Interact'),\n",
       "              ('use_binder_button', False),\n",
       "              ('binderhub_url', 'https://mybinder.org'),\n",
       "              ('binder_repo_base', 'https://github.com/'),\n",
       "              ('binder_repo_org', 'YOUR-ORG'),\n",
       "              ('binder_repo_name', 'YOUR-REPO'),\n",
       "              ('binder_repo_branch', 'gh-pages'),\n",
       "              ('binderhub_interact_text', 'Interact'),\n",
       "              ('use_thebelab_button', False),\n",
       "              ('thebelab_button_text', 'Thebelab'),\n",
       "              ('codemirror_theme', 'abcdef'),\n",
       "              ('use_show_widgets_button', True),\n",
       "              ('use_download_button', True),\n",
       "              ('download_button_text', 'Download'),\n",
       "              ('scholar', CommentedMap([('style', 'ieee')])),\n",
       "              ('google_analytics', CommentedMap([('mytrackingcode', None)])),\n",
       "              ('content_folder_name', 'content'),\n",
       "              ('images_url', '/assets/images'),\n",
       "              ('css_url', '/assets/css'),\n",
       "              ('js_url', '/assets/js'),\n",
       "              ('custom_static_url', '/assets/custom'),\n",
       "              ('defaults',\n",
       "               [ordereddict([('scope', ordereddict([('path', '')])), ('values', ordereddict([('layout', 'default'), ('toc', True), ('toc_label', '  On this page'), ('toc_icon', 'list-ul')]))])]),\n",
       "              ('favicon_path', 'images/logo/favicon.png'),\n",
       "              ('markdown', 'kramdown'),\n",
       "              ('kramdown',\n",
       "               CommentedMap([('input', 'GFM'),\n",
       "                             ('syntax_highlighter', 'rouge')])),\n",
       "              ('encoding', 'utf-8'),\n",
       "              ('sass', CommentedMap([('style', 'compressed')])),\n",
       "              ('collections',\n",
       "               CommentedMap([('build',\n",
       "                              CommentedMap([('output', True),\n",
       "                                            ('permalink', '/:path.html')]))])),\n",
       "              ('exclude',\n",
       "               ['scripts/', 'Gemfile', 'Gemfile.lock', 'node_modules', 'vendor/bundle/', 'vendor/cache/', 'vendor/gems/', 'vendor/ruby/']),\n",
       "              ('plugins', ['jekyll-redirect-from', 'jekyll-scholar']),\n",
       "              ('jupyter_book_version', '0.5.1')])"
      ]
     },
     "execution_count": 7,
     "metadata": {},
     "output_type": "execute_result"
    }
   ],
   "source": [
    "config"
   ]
  },
  {
   "cell_type": "code",
   "execution_count": 4,
   "metadata": {},
   "outputs": [],
   "source": [
    "# Table of contents (current)\n",
    "# 1. read the Excel sheet and create a yaml file from it.\n",
    "import re\n",
    "import os\n",
    "toc_yml= pd.read_excel('../book.xlsx', sheet_name = 'toc_yml', header=0)\n",
    "toc_yml.to_csv('../_data/toc2.yml',index=None,quoting=csv.QUOTE_NONE,escapechar=' ')\n",
    "\n",
    "# 2. replace double spaces with single spaces.\n",
    "with open('../_data/toc.yml', 'w') as out:\n",
    "    with open('../_data/toc2.yml', 'r') as f:\n",
    "        for line in f:\n",
    "            line = re.sub(r\"  \", \" \", line)\n",
    "            out.write(line)\n",
    "            \n",
    "# 3. delete toc2.yml\n",
    "os.remove('../_data/toc2.yml')"
   ]
  },
  {
   "cell_type": "code",
   "execution_count": 5,
   "metadata": {},
   "outputs": [],
   "source": [
    "# Table of contents (old approach - only works for an unchanging number of fields)\n",
    "# toc = load_yaml_file('../_data/toc.yml')\n",
    "# toc_xl= pd.read_excel('../book.xlsx', sheet_name = 'toc_yml',  index_col=None)\n",
    "# for x in range(len(toc_xl)):\n",
    "#     toc[toc_xl.loc[x,'index']]['title']=toc_xl.loc[x,'title']\n",
    "#     toc[toc_xl.loc[x,'index']]['url']=toc_xl.loc[x,'url']\n",
    "# update_yaml_file('../_data/toc.yml', toc)"
   ]
  },
  {
   "cell_type": "code",
   "execution_count": 6,
   "metadata": {
    "scrolled": true
   },
   "outputs": [],
   "source": [
    "# Table of contents (experimental - currently doesn't work; see issue #3 in the repo)\n",
    "# from collections import OrderedDict\n",
    "# toc = load_yaml_file('../_data/toc.yml')                                 # load original yaml file\n",
    "# toc_xl= pd.read_excel('../book.xlsx',sheet_name ='toc_yml3',index_col=0) # load excel data\n",
    "# toc_ses= toc_xl.to_dict(into=OrderedDict,orient='records')               # convert excel df to list of OrderedDict\n",
    "# toc[3]['sections']= toc_ses\n",
    "# update_yaml_file('../_data/toc2.yml', toc)"
   ]
  },
  {
   "cell_type": "markdown",
   "metadata": {},
   "source": [
    "# Markdown files\n",
    "---\n",
    "These files comprise the site's content, aside from the notebooks already created."
   ]
  },
  {
   "cell_type": "code",
   "execution_count": 7,
   "metadata": {},
   "outputs": [],
   "source": [
    "# Always run this before any of the following cells\n",
    "import pandas as pd\n",
    "import numpy as np\n",
    "import csv"
   ]
  },
  {
   "cell_type": "code",
   "execution_count": 8,
   "metadata": {},
   "outputs": [
    {
     "name": "stdout",
     "output_type": "stream",
     "text": [
      "Updating the file: ../content/index.md\n"
     ]
    }
   ],
   "source": [
    "# Home\n",
    "index_file = '../content/index.md'\n",
    "index_md= pd.read_excel('../book.xlsx', sheet_name = 'index_md', header=0)\n",
    "write_md_file(index_file, index_md)"
   ]
  },
  {
   "cell_type": "code",
   "execution_count": 9,
   "metadata": {},
   "outputs": [
    {
     "name": "stdout",
     "output_type": "stream",
     "text": [
      "Updating the file: ../content/sessions/index.md\n"
     ]
    }
   ],
   "source": [
    "# Schedule\n",
    "schedule_file='../content/sessions/index.md'\n",
    "schedule_md= pd.read_excel('../book.xlsx', sheet_name = 'schedule_md', header=0)\n",
    "write_md_file(schedule_file, schedule_md)"
   ]
  },
  {
   "cell_type": "code",
   "execution_count": 10,
   "metadata": {},
   "outputs": [
    {
     "name": "stdout",
     "output_type": "stream",
     "text": [
      "Updating the file: ../content/sessions/session1.md\n",
      "Updating the file: ../content/sessions/nan.md\n",
      "Updating the file: ../content/sessions/session2.md\n",
      "Updating the file: ../content/sessions/session3.md\n",
      "Updating the file: ../content/sessions/session4.md\n",
      "Updating the file: ../content/sessions/session5.md\n",
      "Updating the file: ../content/sessions/session6.md\n",
      "Updating the file: ../content/sessions/session7.md\n",
      "Updating the file: ../content/sessions/session8.md\n",
      "Updating the file: ../content/sessions/session9.md\n",
      "Updating the file: ../content/sessions/session10.md\n",
      "Updating the file: ../content/sessions/session11.md\n",
      "Updating the file: ../content/sessions/session12.md\n",
      "Updating the file: ../content/sessions/session13.md\n",
      "Updating the file: ../content/sessions/session14.md\n",
      "Updating the file: ../content/sessions/session15.md\n",
      "Updating the file: ../content/sessions/session16.md\n",
      "Updating the file: ../content/sessions/session17.md\n",
      "Updating the file: ../content/sessions/session18.md\n",
      "Updating the file: ../content/sessions/session19.md\n",
      "Updating the file: ../content/sessions/session20.md\n",
      "Updating the file: ../content/sessions/session21.md\n",
      "Updating the file: ../content/sessions/session22.md\n",
      "Updating the file: ../content/sessions/session23.md\n",
      "Updating the file: ../content/sessions/session24.md\n",
      "Updating the file: ../content/sessions/session25.md\n",
      "Updating the file: ../content/sessions/session26.md\n",
      "Updating the file: ../content/sessions/nan.md\n",
      "Updating the file: ../content/sessions/session27.md\n",
      "Updating the file: ../content/sessions/session28.md\n",
      "Updating the file: ../content/sessions/session29.md\n",
      "Updating the file: ../content/sessions/nan.md\n"
     ]
    }
   ],
   "source": [
    "# Sessions\n",
    "session_md= pd.read_excel('../book.xlsx',sheet_name='session_md',header=0,index_col=0,usecols=\"A:B\")\n",
    "session_md=session_md.dropna()\n",
    "for index, row in session_md.iterrows():\n",
    "    session_file='../content/sessions/'+str(index)+'.md'\n",
    "    print(\"Updating the file: \" + session_file)\n",
    "    row.to_csv(session_file,index=False,header=False,sep=' ',quoting = csv.QUOTE_NONE,\n",
    "               escapechar = ' ')"
   ]
  },
  {
   "cell_type": "code",
   "execution_count": 11,
   "metadata": {},
   "outputs": [
    {
     "name": "stdout",
     "output_type": "stream",
     "text": [
      "Updating the file: ../content/assignments/index.md\n"
     ]
    }
   ],
   "source": [
    "#Assignments\n",
    "assignments_file='../content/assignments/index.md'\n",
    "assignments_md= pd.read_excel('../book.xlsx', sheet_name = 'assignments_md', header=0)\n",
    "write_md_file(assignments_file, assignments_md)"
   ]
  },
  {
   "cell_type": "code",
   "execution_count": 12,
   "metadata": {},
   "outputs": [
    {
     "name": "stdout",
     "output_type": "stream",
     "text": [
      "Updating the file: ../content/grading.md\n"
     ]
    }
   ],
   "source": [
    "# Grading\n",
    "grading_file='../content/grading.md'\n",
    "grading_md= pd.read_excel('../book.xlsx', sheet_name = 'grading_md', header=0)\n",
    "write_md_file(grading_file, grading_md)"
   ]
  },
  {
   "cell_type": "code",
   "execution_count": 15,
   "metadata": {},
   "outputs": [
    {
     "name": "stdout",
     "output_type": "stream",
     "text": [
      "Updating the file: ../content/notebooks/index.md\n"
     ]
    }
   ],
   "source": [
    "# Notebooks\n",
    "notebooks_file='../content/notebooks/index.md'\n",
    "notebooks_md= pd.read_excel('../book.xlsx', sheet_name = 'notebooks_md', header=0)\n",
    "write_md_file(notebooks_file, notebooks_md)"
   ]
  },
  {
   "cell_type": "code",
   "execution_count": 16,
   "metadata": {},
   "outputs": [
    {
     "name": "stdout",
     "output_type": "stream",
     "text": [
      "Updating the file: ../content/sessions/readings.md\n"
     ]
    }
   ],
   "source": [
    "# Readings\n",
    "readings_file='../content/sessions/readings.md'\n",
    "readings_md= pd.read_excel('../book.xlsx', sheet_name = 'readings_md', header=0)\n",
    "write_md_file(readings_file, readings_md)"
   ]
  },
  {
   "cell_type": "code",
   "execution_count": null,
   "metadata": {},
   "outputs": [],
   "source": []
  }
 ],
 "metadata": {
  "kernelspec": {
   "display_name": "Python 3",
   "language": "python",
   "name": "python3"
  },
  "language_info": {
   "codemirror_mode": {
    "name": "ipython",
    "version": 3
   },
   "file_extension": ".py",
   "mimetype": "text/x-python",
   "name": "python",
   "nbconvert_exporter": "python",
   "pygments_lexer": "ipython3",
   "version": "3.7.3"
  }
 },
 "nbformat": 4,
 "nbformat_minor": 4
}
