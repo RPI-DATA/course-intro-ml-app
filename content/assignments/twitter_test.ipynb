{
 "cells": [
  {
   "cell_type": "markdown",
   "metadata": {},
   "source": [
    "## Twitter Test\n",
    "A number of you missed the Twitter question. The goal was to create a function as described below.\n"
   ]
  },
  {
   "cell_type": "markdown",
   "metadata": {},
   "source": [
    "## Question\n",
    "\n",
    "(t2) Now create a function `get_hashtags(tweets, hashtag)` that accepts a list of tweets and a hashtag and returns a list of *other* hashtags included in the tweets *except* `hashtag`. This means, you should not include the origional hashtag used (i.e.,  mlanalyticsdojorocks) and the function should aggregate hashtags across all tweets passed.  \n",
    "\n",
    "For example, if there is a a single tweet passed that says \"Hello world! #mlanalyticsdojorocks #learningmachinelearning\"  it would return ['#learningmachinelearning']\n",
    "\n",
    "Use your function and the `statuses` list to create `other_hashtags` as shown below: \n",
    "\n",
    "```\n",
    "other_hashtags= get_hashtags(statuses, '#mlanalyticsdojorocks')\n",
    "print(other_hashtags)\n",
    "\n",
    "```\n",
    "\n"
   ]
  },
  {
   "cell_type": "markdown",
   "metadata": {},
   "source": [
    "## Tests\n",
    "The following code was used to test the function. The main issue that people had was not dealing with the fact that a hashtag is passed with a # sign but they aren't actually stored that way.  Robust code should have removed the leading hash tag as shown in the calling example. "
   ]
  },
  {
   "cell_type": "code",
   "execution_count": null,
   "metadata": {},
   "outputs": [],
   "source": [
    "# Add your function here. \n"
   ]
  },
  {
   "cell_type": "code",
   "execution_count": null,
   "metadata": {},
   "outputs": [],
   "source": [
    "import json"
   ]
  },
  {
   "cell_type": "code",
   "execution_count": null,
   "metadata": {},
   "outputs": [],
   "source": [
    "!wget https://www.dropbox.com/s/bwl4fbxdi7jpl3k/tweets.json?dl=0"
   ]
  },
  {
   "cell_type": "code",
   "execution_count": null,
   "metadata": {},
   "outputs": [],
   "source": [
    "#Checks function.\n",
    "def check_get_hashtags(file,hashtag,answer):\n",
    "    with open(file) as json_file:\n",
    "        statuses = json.load(json_file)\n",
    "    other_hashtags = get_hashtags(statuses, hashtag)\n",
    "    other_hashtags = [s.replace('#', '') for s in other_hashtags]\n",
    "    if other_hashtags==answer:\n",
    "        print(\"Test passed\")\n",
    "        return True\n",
    "    else:\n",
    "        print(\"Test Failed\")\n",
    "        print(\"Your function returned\", other_hashtags)\n",
    "        return False"
   ]
  },
  {
   "cell_type": "code",
   "execution_count": null,
   "metadata": {},
   "outputs": [],
   "source": [
    "check_get_hashtags('status.json', '#mlanalyticsdojorocks', ['machLearningComplex', 'MachLearning'])"
   ]
  },
  {
   "cell_type": "code",
   "execution_count": null,
   "metadata": {},
   "outputs": [],
   "source": []
  }
 ],
 "metadata": {
  "kernelspec": {
   "display_name": "Python 3",
   "language": "python",
   "name": "python3"
  },
  "language_info": {
   "codemirror_mode": {
    "name": "ipython",
    "version": 3
   },
   "file_extension": ".py",
   "mimetype": "text/x-python",
   "name": "python",
   "nbconvert_exporter": "python",
   "pygments_lexer": "ipython3",
   "version": "3.6.8"
  }
 },
 "nbformat": 4,
 "nbformat_minor": 4
}
