{
  "nbformat": 4,
  "nbformat_minor": 0,
  "metadata": {
    "colab": {
      "name": "hm01.ipynb",
      "version": "0.3.2",
      "provenance": []
    },
    "kernelspec": {
      "display_name": "Python 3",
      "language": "python",
      "name": "python3"
    }
  },
  "cells": [
    {
      "metadata": {
        "slideshow": {
          "slide_type": "slide"
        },
        "id": "z6VoPPKsCipO",
        "colab_type": "text"
      },
      "cell_type": "markdown",
      "source": [
        "## Homework 01 - Instructions\n",
        "\n",
        "- The goal for this lab will be to collect some data from you and get you some experience in working with Github and Jupyter Notebooks. We are going to also learn the basics of loading data into Python, updating Python objects, and writing out files.\n",
        "\n",
        "Here you will learn:\n",
        "- Importing data from a number of different file types (.csv, .json, Parquet).\n",
        "- Updating lists, dataframes, and JSON objects. \n",
        "- Outputting data as comma delimited, tab delimited, JSON, Parquet \n",
        "\n"
      ]
    },
    {
      "metadata": {
        "id": "VaQ_q62mDw_y",
        "colab_type": "text"
      },
      "cell_type": "markdown",
      "source": [
        "### Download some Data\n",
        "First, we are going do townload some files.  These files have my contact info in various structures.  "
      ]
    },
    {
      "metadata": {
        "id": "Z_MKPKq-Clhv",
        "colab_type": "code",
        "colab": {}
      },
      "cell_type": "code",
      "source": [
        "!wget https://github.com/rpi-techfundamentals/spring2019-materials/raw/master/02-intro-python/hm-01/in.zip && unzip -o in.zip"
      ],
      "execution_count": 0,
      "outputs": []
    },
    {
      "metadata": {
        "id": "h3qZv0-RDfea",
        "colab_type": "text"
      },
      "cell_type": "markdown",
      "source": [
        "### Making a Directory\n",
        "First we are going to make a directory called out that has the updated data structures.  "
      ]
    },
    {
      "metadata": {
        "id": "NwzybqkjDYVh",
        "colab_type": "code",
        "colab": {}
      },
      "cell_type": "code",
      "source": [
        "!mkdir out"
      ],
      "execution_count": 0,
      "outputs": []
    },
    {
      "metadata": {
        "slideshow": {
          "slide_type": "subslide"
        },
        "id": "zp_xW6YmCipT",
        "colab_type": "text"
      },
      "cell_type": "markdown",
      "source": [
        "### Importing a CSV File to a Python List\n",
        "- A list is a rather simple Python data structure. While it isn't very common to import a CSV to a list, we are going to start off there.   \n",
        "- Luckily, someone has written a `csv` package that does the majority of the heavy lifting. \n",
        "- `import csv` imports all methods in the csv package.  \n",
        "- We are going to import the values from the csv into a specific type of Python data structure, a `list`. Declaring `listcsv=[]` initializes the objects as a list and makes available the `append` method.  \n",
        "- By using the `with open` syntax shown below, we don't have to open and then close the data structure. "
      ]
    },
    {
      "metadata": {
        "slideshow": {
          "slide_type": "subslide"
        },
        "id": "CXb8xZnCCipU",
        "colab_type": "text"
      },
      "cell_type": "markdown",
      "source": [
        "## CSV\n",
        "- Comma delimited files are a common way of transmitting data. \n",
        "- Data for different columns is separated by a comma.\n",
        "- It is possible to open a csv in different ways.  "
      ]
    },
    {
      "metadata": {
        "slideshow": {
          "slide_type": "subslide"
        },
        "id": "6z4Nz-EwCipV",
        "colab_type": "text"
      },
      "cell_type": "markdown",
      "source": [
        "### Importing a CSV File\n",
        "- The `open` command specifies the file name and what we want to do with it, here `r` stand for read.\n",
        "- The `csvreader` is an object which iterates on the file. \n",
        "- We then read each `row` using a `for` loop. "
      ]
    },
    {
      "metadata": {
        "id": "58ybOjaJCipW",
        "colab_type": "code",
        "colab": {}
      },
      "cell_type": "code",
      "source": [
        "#This is an example of how to import a CSV into a Python list. \n",
        "import csv  #This imports the CSV package.\n",
        "listcsv=[] #This initializes a list data structure.\n",
        "\n",
        "with open('in/name.csv', 'r') as data_file:   #The \"with\" incorporates an open and close of file. \n",
        "    csvreader = csv.reader(data_file, delimiter=',')\n",
        "    for row in csvreader:\n",
        "        print(\"each row of the reader imported as a:\", type(row), row,\"\\n\")\n",
        "        listcsv.append(row)\n"
      ],
      "execution_count": 0,
      "outputs": []
    },
    {
      "metadata": {
        "id": "3BL4-NiDCipf",
        "colab_type": "text"
      },
      "cell_type": "markdown",
      "source": [
        "### Printing out the List\n",
        "- Just enter the name of the list in order to get the contents of the list. "
      ]
    },
    {
      "metadata": {
        "id": "ULQP49puCipg",
        "colab_type": "code",
        "colab": {}
      },
      "cell_type": "code",
      "source": [
        "listcsv"
      ],
      "execution_count": 0,
      "outputs": []
    },
    {
      "metadata": {
        "slideshow": {
          "slide_type": "subslide"
        },
        "id": "SyaxccdNCipm",
        "colab_type": "text"
      },
      "cell_type": "markdown",
      "source": [
        "### Updating List Values\n",
        "- `listcsv` is a 2 dimensional list, with the first number indicating the row and the second number indicating the column.\n",
        "- Objects start numbering at 0, so that in this case the header-row is 0. \n",
        "\n",
        "**Go ahead and reassign the values of the list to include your first and last name**\n"
      ]
    },
    {
      "metadata": {
        "id": "tac8lfYfCipn",
        "colab_type": "code",
        "colab": {}
      },
      "cell_type": "code",
      "source": [
        "listcsv[1][0] = \"sam\"   #row/column numbers start at 0\n",
        "listcsv[1][1] = \"smith\"    #row/column numbers start at 0\n",
        "\n"
      ],
      "execution_count": 0,
      "outputs": []
    },
    {
      "metadata": {
        "id": "y2OoPqynCipp",
        "colab_type": "text"
      },
      "cell_type": "markdown",
      "source": [
        "### Let's print it out to make sure that it worked."
      ]
    },
    {
      "metadata": {
        "id": "EkbCg5iwCipr",
        "colab_type": "code",
        "colab": {}
      },
      "cell_type": "code",
      "source": [
        "listcsv"
      ],
      "execution_count": 0,
      "outputs": []
    },
    {
      "metadata": {
        "id": "x-FTSHiACipv",
        "colab_type": "text"
      },
      "cell_type": "markdown",
      "source": [
        "**In the cell below replace the values for 'email-rpi', 'email-other', 'github-userid', 'slack-userid' just like you did for first and last name.**"
      ]
    },
    {
      "metadata": {
        "id": "hJwNMoQYCipw",
        "colab_type": "code",
        "colab": {}
      },
      "cell_type": "code",
      "source": [
        "listcsv[1][3] = \"sam@rpi\"   #row/column numbers start at 0\n",
        "listcsv[1][4] = \"san@gmail\"    #row/column numbers start at 0"
      ],
      "execution_count": 0,
      "outputs": []
    },
    {
      "metadata": {
        "id": "Xf1xfR35Cipz",
        "colab_type": "text"
      },
      "cell_type": "markdown",
      "source": [
        "### Let's print it out to make sure that it worked."
      ]
    },
    {
      "metadata": {
        "id": "cvZ1i7CBCipz",
        "colab_type": "code",
        "colab": {}
      },
      "cell_type": "code",
      "source": [
        "listcsv"
      ],
      "execution_count": 0,
      "outputs": []
    },
    {
      "metadata": {
        "slideshow": {
          "slide_type": "subslide"
        },
        "id": "pE845NVZCip2",
        "colab_type": "text"
      },
      "cell_type": "markdown",
      "source": [
        "### Outputing a CSV File from a List\n",
        "- It is very common to write to a CSV file.  Here we are doing it using a list. \n",
        "- Here, notice we are doing just the same thing as reading. However, we are doing it by opening the file with a `w`. "
      ]
    },
    {
      "metadata": {
        "id": "OUcwTtHBCip3",
        "colab_type": "code",
        "colab": {}
      },
      "cell_type": "code",
      "source": [
        "#Here we are going to save as a tab delimited file\n",
        "with open(\"out/name.csv\", 'w' ) as outfile:\n",
        "    writer = csv.writer(outfile, delimiter=',')\n",
        "    writer.writerows(listcsv)"
      ],
      "execution_count": 0,
      "outputs": []
    },
    {
      "metadata": {
        "slideshow": {
          "slide_type": "subslide"
        },
        "id": "WSiaFrLhCip5",
        "colab_type": "text"
      },
      "cell_type": "markdown",
      "source": [
        "### Writing a Tab Delimited File from a List\n",
        "- Here we are able to output the file as a tab delimited file.  \n",
        "- A tab delimed file utilizes '\\t' as the delimiter.\n",
        "- Notice that this code is about the same, with just the filename and the delimiter changed "
      ]
    },
    {
      "metadata": {
        "id": "dg03Q7kJCip6",
        "colab_type": "code",
        "colab": {}
      },
      "cell_type": "code",
      "source": [
        "#Here we are going to save as a tab delimited file\n",
        "with open(\"out/name.txt\", 'w') as outfile:\n",
        "    writer = csv.writer(outfile, delimiter='\\t')\n",
        "    writer.writerows(listcsv)"
      ],
      "execution_count": 0,
      "outputs": []
    },
    {
      "metadata": {
        "slideshow": {
          "slide_type": "subslide"
        },
        "id": "JJLfNsZkCip_",
        "colab_type": "text"
      },
      "cell_type": "markdown",
      "source": [
        "### Importing CSV into a Pandas Dataframe\n",
        "- Data structured like CSV's are extremely common.\n",
        "- The most common data structure you will import them into is a Pandas dataframe. \n",
        "- Pandas will give access to many useful methods for working with data.  \n",
        "- `pandas` is often imported as the abbreviated `pd`.\n",
        "- Typing the object name of a pandas dataframe (here `dfcsv`) gives a *pretty printed* version of the table."
      ]
    },
    {
      "metadata": {
        "id": "b8SgOS6mCiqA",
        "colab_type": "code",
        "colab": {}
      },
      "cell_type": "code",
      "source": [
        "# This will load the local name.csv file into a Pandas dataframe.  We will work with these a lot in the future.\n",
        "import pandas as pd # This line imports the pandas package. \n",
        "dfcsv = pd.read_csv('in/name.csv')\n",
        "dfcsv"
      ],
      "execution_count": 0,
      "outputs": []
    },
    {
      "metadata": {
        "id": "R2_EuXExCiqF",
        "colab_type": "text"
      },
      "cell_type": "markdown",
      "source": [
        "### Updating a Pandas Dataframe\n",
        "- Pandas figured out that you have columns and even knows the rows. Notice the Pandas Magic! \n",
        "- We will utilize 2 different methods of updating a Pandas dataframe. \n",
        "- The `loc` method uses an index of the `[rownum, colname]`\n",
        "- The `iloc` method uses an indes of the `[rownum, colnum]`\n",
        "\n",
        "**Again update the first 2 values. Here we have added the dfcsf to the end of the cell, printing the dataframe. **"
      ]
    },
    {
      "metadata": {
        "id": "1j9FG5P4CiqF",
        "colab_type": "code",
        "colab": {}
      },
      "cell_type": "code",
      "source": [
        "# Updating  \n",
        "dfcsv.loc[0, 'first-name'] = 'sam'\n",
        "dfcsv.loc[0, 'last-name'] = 'smith'\n",
        "dfcsv"
      ],
      "execution_count": 0,
      "outputs": []
    },
    {
      "metadata": {
        "id": "UHiVw1TdCiqJ",
        "colab_type": "text"
      },
      "cell_type": "markdown",
      "source": [
        "**Update the remainder of the columns.** "
      ]
    },
    {
      "metadata": {
        "id": "kwM5B-08CiqN",
        "colab_type": "code",
        "colab": {}
      },
      "cell_type": "code",
      "source": [
        "#Enter your code to update the remaining columns. \n",
        "\n",
        "dfcsv.loc[0, 'email-rpi'] = 'sam@rpi'\n",
        "dfcsv.loc[0, 'email-other'] = 'smith'\n",
        "\n",
        "## Notice how we can just as easily write the file with Pandas. \n",
        "dfcsv.to_csv('out/nameloc.csv')\n",
        "dfcsv #this prints the dataframe"
      ],
      "execution_count": 0,
      "outputs": []
    },
    {
      "metadata": {
        "id": "HAw02IcQCiqS",
        "colab_type": "code",
        "colab": {}
      },
      "cell_type": "code",
      "source": [
        "#Reloading Data\n",
        "# This will load the local name.csv file into a Pandas dataframe.  We will work with these a lot in the future.\n",
        "dfcsv = pd.read_csv('in/name.csv')\n",
        "dfcsv"
      ],
      "execution_count": 0,
      "outputs": []
    },
    {
      "metadata": {
        "id": "b-FGu5hKCiqV",
        "colab_type": "text"
      },
      "cell_type": "markdown",
      "source": [
        "**Again update the first 2 values. Here we have added the dfcsv to the end of the cell, printing the dataframe. **"
      ]
    },
    {
      "metadata": {
        "id": "06nCYElwCiqY",
        "colab_type": "code",
        "colab": {}
      },
      "cell_type": "code",
      "source": [
        "# This just utilizes the integer position. \n",
        "dfcsv.iloc[0, 0] =  'your first name'\n",
        "dfcsv.iloc[0, 1] = 'your last name'\n",
        "dfcsv"
      ],
      "execution_count": 0,
      "outputs": []
    },
    {
      "metadata": {
        "id": "STg_Bym4Ciqb",
        "colab_type": "text"
      },
      "cell_type": "markdown",
      "source": [
        "**Update the remainder of the columns.** "
      ]
    },
    {
      "metadata": {
        "id": "7YaPH93WCiqd",
        "colab_type": "code",
        "colab": {}
      },
      "cell_type": "code",
      "source": [
        "#Enter your code to update the remaining columns using iloc. \n",
        "\n",
        "\n",
        "\n",
        "## Notice how we can just as easily write the file with Pandas. \n",
        "dfcsv.to_csv('out/nameiloc.csv')\n"
      ],
      "execution_count": 0,
      "outputs": []
    },
    {
      "metadata": {
        "id": "CYglXq1yCiqe",
        "colab_type": "text"
      },
      "cell_type": "markdown",
      "source": [
        "### Loading a JSON File\n",
        "- Javascript object notation is another file format you may frequently see, particularlly from APIs.  \n",
        "- This enables multipled layers of nesting, something that could take multiple files in a CSV or relational tables.\n",
        "- Our JSON is imported as a `dictionary`, which is another internal type of Python data structure.\n",
        "- *Pretty Printing* (pprint) will keep structure. \n"
      ]
    },
    {
      "metadata": {
        "id": "Y3wF5D0MCiqf",
        "colab_type": "code",
        "colab": {}
      },
      "cell_type": "code",
      "source": [
        "import json   #This imports the JSON\n",
        "from pprint import pprint  #This will print the file in a nested way. \n",
        "\n",
        "with open('in/name.json') as data_file:   #The \"with\" incorporates an open and close of file.   \n",
        "    datajson = json.load(data_file)\n",
        "\n",
        "print(\"data is a python object of type: \", type(datajson),\"\\n\")\n",
        "pprint(datajson) #Pretty printing (pprint) makes it easier to see the nesting of the files. \n"
      ],
      "execution_count": 0,
      "outputs": []
    },
    {
      "metadata": {
        "id": "ThYTJfx-Ciqj",
        "colab_type": "text"
      },
      "cell_type": "markdown",
      "source": [
        "### Updating a Dictionary\n",
        "- Here we are going to again update the first two rows and then print the results. "
      ]
    },
    {
      "metadata": {
        "id": "qb3ZCEgECiqk",
        "colab_type": "code",
        "colab": {}
      },
      "cell_type": "code",
      "source": [
        "#Here is how you update the dictionary: \n",
        "#We are indicating that we want the first student, and from there we list which \"key\" for \n",
        "#the dictionary we want (i.e., 'first-name').\n",
        "\n",
        "datajson['student'][0]['first-name']  = 'sam '\n",
        "datajson['student'][0]['last-name']  = 'smith'\n",
        "pprint(datajson)"
      ],
      "execution_count": 0,
      "outputs": []
    },
    {
      "metadata": {
        "id": "xzQPovCVCiqm",
        "colab_type": "text"
      },
      "cell_type": "markdown",
      "source": [
        "**Update the remainder of the columns below.** "
      ]
    },
    {
      "metadata": {
        "id": "AZHc-_ylCiqm",
        "colab_type": "code",
        "colab": {}
      },
      "cell_type": "code",
      "source": [
        "#Enter your code to update the remaining dictionary values. \n",
        "\n",
        "\n",
        "#This writes the file\n",
        "with open('out/name.json', 'w') as data_file:   #The \"with\" incorporates an open and close of file.   \n",
        "    json.dump(datajson, data_file)\n",
        "pprint(datajson)"
      ],
      "execution_count": 0,
      "outputs": []
    },
    {
      "metadata": {
        "id": "I5tBfCPPCiqp",
        "colab_type": "text"
      },
      "cell_type": "markdown",
      "source": [
        "## Parquet Files\n",
        "- CSV files are great for humans to read and understand.  \n",
        "- For \"big data\" though, it isn't a great long term storage option (inefficient/slow).\n",
        "- Parquet is a type columnar storage format.  It makes dealing with lots of columns fast. \n",
        "- [fastparquet](https://fastparquet.readthedocs.io) is a Python package for dealing with Parquet files. \n",
        "- Apache Spark also natively reads Parquet Files. \n",
        "- If you are running this locally you may need to install fastparquet.  This is a package. Look [here](https://anaconda.org/conda-forge/fastparquet) for instructions on installing the fastparquet package. "
      ]
    },
    {
      "metadata": {
        "id": "3CJfWl0lDDLR",
        "colab_type": "code",
        "colab": {}
      },
      "cell_type": "code",
      "source": [
        "!pip install fastparquet"
      ],
      "execution_count": 0,
      "outputs": []
    },
    {
      "metadata": {
        "id": "jPRZNNxhCiqr",
        "colab_type": "code",
        "colab": {}
      },
      "cell_type": "code",
      "source": [
        "from fastparquet import ParquetFile\n",
        "pf = ParquetFile('in/name.parq')\n",
        "dfparq = pf.to_pandas()\n",
        "dfparq"
      ],
      "execution_count": 0,
      "outputs": []
    },
    {
      "metadata": {
        "id": "hw6GnLbeCiqt",
        "colab_type": "code",
        "colab": {}
      },
      "cell_type": "code",
      "source": [
        "#Update the dfparq dataframe with your info (Hint: You updated a dataframe earlier).\n",
        "dfparq"
      ],
      "execution_count": 0,
      "outputs": []
    },
    {
      "metadata": {
        "id": "GkxlrEFBCiqv",
        "colab_type": "text"
      },
      "cell_type": "markdown",
      "source": [
        "## Create a Parquet file.  \n",
        "- This is a binary file, so it can't be read by a text editor. "
      ]
    },
    {
      "metadata": {
        "id": "S_MnKtGUCiqx",
        "colab_type": "code",
        "colab": {}
      },
      "cell_type": "code",
      "source": [
        "# We can similarly easily write to a .parq file. \n",
        "from fastparquet import write\n",
        "write('out/name.parq', dfparq)\n",
        "dfparq"
      ],
      "execution_count": 0,
      "outputs": []
    },
    {
      "metadata": {
        "id": "n7JlUaJ9Ciqz",
        "colab_type": "text"
      },
      "cell_type": "markdown",
      "source": [
        "## This is All\n",
        "- Unfortunately "
      ]
    },
    {
      "metadata": {
        "id": "mpOSKOFBCiq0",
        "colab_type": "text"
      },
      "cell_type": "markdown",
      "source": [
        "## Homework Rubric\n",
        "The following Rubric will be used to grade homwork. \n",
        "q1. Updated `out/name.csv` file with your information  (1 pt).<br>\n",
        "q2. Updated `out/name.txt` file with your information  (1 pt).<br>\n",
        "q3. Updated `out/name.csv` file with your information  (1 pt).<br>\n",
        "q4. Updated `out/name.json`  file with your information  (1 pt).<br>\n",
        "q5. Updated `out/name.parq` parquet file (1 pt)<br>\n",
        "q6. Review the [pandas documentation](https://pandas.pydata.org) and give a 3 sentence summary of what the Pandas Package is for. (3 pt) <br>\n",
        "q7.  Read through the [fastparquet documentation](https://fastparquet.readthedocs.io) and give a 2 sentence summary of what the Pandas Package is for. (2 pt)\n",
        "\n"
      ]
    },
    {
      "metadata": {
        "id": "_m-6oAriCiq2",
        "colab_type": "code",
        "colab": {}
      },
      "cell_type": "code",
      "source": [
        "#Notice how we can use 3 quotes. \n",
        "q6 = \"\"\"q6.  \n",
        "\n",
        "\n",
        "\"\"\""
      ],
      "execution_count": 0,
      "outputs": []
    },
    {
      "metadata": {
        "id": "J5v4ghRjCiq8",
        "colab_type": "code",
        "colab": {}
      },
      "cell_type": "code",
      "source": [
        "q7 = \"\"\"q7.\n",
        "Enter answer here. \n",
        "\n",
        "\n",
        "\"\"\""
      ],
      "execution_count": 0,
      "outputs": []
    },
    {
      "metadata": {
        "id": "r7Etq3CqCiq_",
        "colab_type": "code",
        "colab": {}
      },
      "cell_type": "code",
      "source": [
        "#q8 I work throug this entire homework step by step and did not copy the file from somone else. Change to True if you did. \n",
        "\n",
        "q8= \"False\""
      ],
      "execution_count": 0,
      "outputs": []
    },
    {
      "metadata": {
        "id": "KTP0e_A8CirF",
        "colab_type": "text"
      },
      "cell_type": "markdown",
      "source": [
        "### Generate Answers.txt\n",
        "This will output the questions to a text file. "
      ]
    },
    {
      "metadata": {
        "id": "fqVio9IRCirF",
        "colab_type": "code",
        "colab": {}
      },
      "cell_type": "code",
      "source": [
        "answers= [q6,q7,q8]\n",
        "with open('out/answers.txt', 'w') as outfile:   #The \"with\" incorporates an open and close of file. \n",
        "    outfile.write(\"\\n\".join(answers))\n",
        "\n"
      ],
      "execution_count": 0,
      "outputs": []
    },
    {
      "metadata": {
        "id": "m_loLauTCirH",
        "colab_type": "text"
      },
      "cell_type": "markdown",
      "source": [
        "### SUBMIT YOUR ANSWERS BY PUSHING TO THE HOMEWORK REPOSITORY. (DON'T FORGET PDF OF LAB01"
      ]
    },
    {
      "metadata": {
        "id": "cvzzHgoBCirI",
        "colab_type": "text"
      },
      "cell_type": "markdown",
      "source": [
        "\n",
        "This work is licensed under the [Creative Commons Attribution 4.0 International](https://creativecommons.org/licenses/by/4.0/) license agreement."
      ]
    },
    {
      "metadata": {
        "id": "oPzLZibTCirJ",
        "colab_type": "code",
        "colab": {}
      },
      "cell_type": "code",
      "source": [
        ""
      ],
      "execution_count": 0,
      "outputs": []
    }
  ]
}