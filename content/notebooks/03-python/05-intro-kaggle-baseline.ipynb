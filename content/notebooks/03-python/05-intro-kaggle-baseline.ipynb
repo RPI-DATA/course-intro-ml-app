{
  "nbformat": 4,
  "nbformat_minor": 0,
  "metadata": {
    "colab": {
      "name": "05-intro-kaggle-baseline.ipynb",
      "version": "0.3.2",
      "provenance": []
    },
    "kernelspec": {
      "display_name": "Python 3",
      "language": "python",
      "name": "python3"
    }
  },
  "cells": [
    {
      "metadata": {
        "_cell_guid": "881c55fd-3b61-de77-7963-190298f11b66",
        "_uuid": "a9a29c1c0ef6fdde885efe1bc461c0420d0b23c2",
        "id": "2Q5vW2j8kBYo",
        "colab_type": "text"
      },
      "cell_type": "markdown",
      "source": [
        "[![AnalyticsDojo](https://github.com/rpi-techfundamentals/spring2019-materials/blob/master/fig/final-logo.png?raw=1)](http://rpi.analyticsdojo.com)\n",
        "<center><h1>Introduction to Python - Kaggle Baseline</h1></center>\n",
        "<center><h3><a href = 'http://rpi.analyticsdojo.com'>rpi.analyticsdojo.com</a></h3></center>\n",
        "\n",
        "\n"
      ]
    },
    {
      "metadata": {
        "_cell_guid": "e4366588-27f9-a4e3-4d02-1b660e1fd226",
        "_uuid": "b465e0a196d99983470b271224eb19a158c22542",
        "id": "qPvTI2THkBY0",
        "colab_type": "text"
      },
      "cell_type": "markdown",
      "source": [
        "## Running Code using Kaggle Notebooks\n",
        "- Kaggle utilizes Docker to create a fully functional environment for hosting competitions in data science.\n",
        "- You could download/run this locally or view the [published version](https://www.kaggle.com/analyticsdojo/titanic-baseline-models-analyticsdojo-python/editnb) and `fork` it. \n",
        "- Kaggle has created an incredible resource for learning analytics.  You can view a number of *toy* examples that can be used to understand data science and also compete in real problems faced by top companies. "
      ]
    },
    {
      "metadata": {
        "id": "JclxIHa3kDbz",
        "colab_type": "code",
        "colab": {}
      },
      "cell_type": "code",
      "source": [
        "!wget https://raw.githubusercontent.com/rpi-techfundamentals/spring2019-materials/master/input/train.csv\n",
        "!wget https://raw.githubusercontent.com/rpi-techfundamentals/spring2019-materials/master/input/test.csv"
      ],
      "execution_count": 0,
      "outputs": []
    },
    {
      "metadata": {
        "_cell_guid": "193191ca-9119-56cb-1133-3c356f2300ad",
        "_uuid": "0bd4e991ff6b1c95bcb2e6fbd461fe96bde44184",
        "id": "cwreOgAokBY4",
        "colab_type": "code",
        "colab": {}
      },
      "cell_type": "code",
      "source": [
        "import numpy as np \n",
        "import pandas as pd \n",
        "\n",
        "# Input data files are available in the \"../input/\" directory.\n",
        "# Let's input them into a Pandas DataFrame\n",
        "train = pd.read_csv(\"train.csv\")\n",
        "test  = pd.read_csv(\"test.csv\")"
      ],
      "execution_count": 0,
      "outputs": []
    },
    {
      "metadata": {
        "_cell_guid": "21a68add-20c7-984a-7cb3-a21c0dd80cb0",
        "_uuid": "97b316ec26235b1b3d40da3b03d8738729f2f789",
        "id": "qtwzCHgdkBZR",
        "colab_type": "text"
      },
      "cell_type": "markdown",
      "source": [
        "## `train` and `test` set on Kaggle\n",
        "- The `train` file contains a wide variety of information that might be useful in understanding whether they survived or not. It also includes a record as to whether they survived or not.\n",
        "- The `test` file contains all of the columns of the first file except whether they survived. Our goal is to predict whether the individuals survived."
      ]
    },
    {
      "metadata": {
        "_cell_guid": "d12daf5f-88c7-2f45-e106-4052d23c0a0d",
        "_uuid": "ea993485a7be12b60e1fed967a5d863cc706f46e",
        "id": "U00xeJ3ekBZT",
        "colab_type": "code",
        "colab": {}
      },
      "cell_type": "code",
      "source": [
        "train.head()"
      ],
      "execution_count": 0,
      "outputs": []
    },
    {
      "metadata": {
        "_cell_guid": "17dca1d6-ac00-2342-bfa9-00739d8b2255",
        "_uuid": "e7a7fc52c130f5930328db317ad7807b79326e57",
        "id": "wnu9C6cVkBaN",
        "colab_type": "code",
        "colab": {}
      },
      "cell_type": "code",
      "source": [
        "test.head()"
      ],
      "execution_count": 0,
      "outputs": []
    },
    {
      "metadata": {
        "_cell_guid": "4de42a6c-db16-edd8-cdb5-46f5f47698f7",
        "_uuid": "5eb80c8a94bf857fc10b79539f747a3822859211",
        "id": "ibtO2QbNkBaV",
        "colab_type": "text"
      },
      "cell_type": "markdown",
      "source": [
        "## Baseline Models: No Survivors\n",
        "- The Titanic problem is one of classification, and often the simplest baseline of all 0/1 is an appropriate baseline.\n",
        "- Think of the baseline as the simplest model you can think of that can be used to lend intuition on how your model is working. \n",
        "- Even if you aren't familiar with the history of the tragedy, by checking out the [Wikipedia Page](https://en.wikipedia.org/wiki/RMS_Titanic) we can quickly see that the majority of people (68%) died.\n",
        "- As a result, our baseline model will be for no survivors."
      ]
    },
    {
      "metadata": {
        "_cell_guid": "bcff150d-cbff-3c84-3eea-564df3c43b7b",
        "_uuid": "f70e7017166bb499636dae55b241f5fd07fb05c7",
        "id": "aDwwowHXkBaW",
        "colab_type": "code",
        "colab": {}
      },
      "cell_type": "code",
      "source": [
        "test[\"Survived\"] = 0"
      ],
      "execution_count": 0,
      "outputs": []
    },
    {
      "metadata": {
        "_cell_guid": "6c95627c-c1eb-aa34-f4b7-32b8ea7ae61c",
        "_uuid": "9a960096c8db48fb1a9ba2cb8a7667c5c8babff6",
        "id": "30TY8bNPkBaZ",
        "colab_type": "code",
        "colab": {}
      },
      "cell_type": "code",
      "source": [
        "submission = test.loc[:,[\"PassengerId\", \"Survived\"]]"
      ],
      "execution_count": 0,
      "outputs": []
    },
    {
      "metadata": {
        "_cell_guid": "2241735d-8164-32f2-94ec-6ec45dacb145",
        "_uuid": "aa84531a4b10f05c64eef0076e0ecbd327574914",
        "id": "aSvooPP6kBaf",
        "colab_type": "code",
        "colab": {}
      },
      "cell_type": "code",
      "source": [
        "submission.head()"
      ],
      "execution_count": 0,
      "outputs": []
    },
    {
      "metadata": {
        "id": "CQOG9lOTvDJo",
        "colab_type": "text"
      },
      "cell_type": "markdown",
      "source": [
        "## Write to CSV\n",
        "The code below will write your dataframe to a CSV. "
      ]
    },
    {
      "metadata": {
        "_cell_guid": "1329809f-7aed-c67e-383c-8d71e5c7c4ac",
        "_uuid": "6bf01ea7f9df5158e25085d2dcdf0d03307b9107",
        "id": "7CCXymZ3kBaw",
        "colab_type": "code",
        "colab": {}
      },
      "cell_type": "code",
      "source": [
        "submission.to_csv('everyone_dies.csv', index=False)"
      ],
      "execution_count": 0,
      "outputs": []
    },
    {
      "metadata": {
        "id": "0u5MI-j4vTKP",
        "colab_type": "text"
      },
      "cell_type": "markdown",
      "source": [
        "## Download from Colab\n",
        "Working on colab requires you to download a file via a google specific package.  "
      ]
    },
    {
      "metadata": {
        "id": "4Qv2Q-Smu6KP",
        "colab_type": "code",
        "colab": {}
      },
      "cell_type": "code",
      "source": [
        "from google.colab import files\n",
        "files.download('everyone_dies.csv')"
      ],
      "execution_count": 0,
      "outputs": []
    },
    {
      "metadata": {
        "_cell_guid": "325683d2-2aa7-96a9-45ec-edf46c69f2da",
        "_uuid": "8634dc1075af772165a66f4447820938f1d55ab0",
        "id": "_wfJ1dLakBa2",
        "colab_type": "text"
      },
      "cell_type": "markdown",
      "source": [
        "## The First Rule of Shipwrecks\n",
        "- You may have seen it in a movie or read it in a novel, but [women and children first](https://en.wikipedia.org/wiki/Women_and_children_first) has at it's roots something that could provide our first model.\n",
        "- Now let's recode the `Survived` column based on whether was a man or a woman.  \n",
        "- We are using conditionals to *select* rows of interest (for example, where test['Sex'] == 'male') and recoding appropriate columns."
      ]
    },
    {
      "metadata": {
        "_cell_guid": "710483a5-7a49-a018-610a-c0968c44479c",
        "_uuid": "bc21aae981cedc32145a0985f7dfef36f1b397bf",
        "id": "FNr8g4YXkBa3",
        "colab_type": "code",
        "colab": {}
      },
      "cell_type": "code",
      "source": [
        "#Here we can code it as Survived, but if we do so we will overwrite our other prediction. \n",
        "#Instead, let's code it as PredGender\n",
        "\n",
        "test.loc[test['Sex'] == 'male', 'PredGender'] = 0\n",
        "test.loc[test['Sex'] == 'female', 'PredGender'] = 1\n",
        "#test.PredGender.astype(int)\n",
        "test"
      ],
      "execution_count": 0,
      "outputs": []
    },
    {
      "metadata": {
        "_cell_guid": "078e3827-8f89-59ae-ca2d-66fa36bc79eb",
        "_uuid": "2a26728c8c0da44bd2f125d4ec184abeb70a7258",
        "id": "OYlIBrQckBa6",
        "colab_type": "code",
        "colab": {}
      },
      "cell_type": "code",
      "source": [
        "submission = test.loc[:,['PassengerId', 'PredGender']]\n",
        "# But we have to change the column name.\n",
        "# Option 1: submission.columns = ['PassengerId', 'Survived']\n",
        "# Option 2: Rename command.\n",
        "submission.rename(columns={'PredGender': 'Survived'}, inplace=True)"
      ],
      "execution_count": 0,
      "outputs": []
    },
    {
      "metadata": {
        "id": "3vmcFYdFvtCQ",
        "colab_type": "text"
      },
      "cell_type": "markdown",
      "source": [
        "## Writeout and then Download your File\n",
        "Try your first submission to Kaggle!"
      ]
    },
    {
      "metadata": {
        "_cell_guid": "9f63501b-df2a-0d41-d4dd-3d0e28fea743",
        "_uuid": "c67dee59165e94245b66fe0b82907dab3b3e1889",
        "id": "MYSjnn44kBa8",
        "colab_type": "code",
        "colab": {}
      },
      "cell_type": "code",
      "source": [
        "submission.to_csv('women_survive.csv', index=False)\n"
      ],
      "execution_count": 0,
      "outputs": []
    },
    {
      "metadata": {
        "id": "ZIqAHuVTkBbG",
        "colab_type": "code",
        "colab": {}
      },
      "cell_type": "code",
      "source": [
        "from google.colab import files\n",
        "files.download('women_survive.csv')"
      ],
      "execution_count": 0,
      "outputs": []
    }
  ]
}