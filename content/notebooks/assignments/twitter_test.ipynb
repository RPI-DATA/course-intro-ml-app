{
  "nbformat": 4,
  "nbformat_minor": 0,
  "metadata": {
    "kernelspec": {
      "display_name": "Python 3",
      "language": "python",
      "name": "python3"
    },
    "language_info": {
      "codemirror_mode": {
        "name": "ipython",
        "version": 3
      },
      "file_extension": ".py",
      "mimetype": "text/x-python",
      "name": "python",
      "nbconvert_exporter": "python",
      "pygments_lexer": "ipython3",
      "version": "3.6.8"
    },
    "colab": {
      "name": "Copy of twitter_test.ipynb",
      "provenance": []
    }
  },
  "cells": [
    {
      "cell_type": "markdown",
      "metadata": {
        "id": "AvQZIHDGh3of",
        "colab_type": "text"
      },
      "source": [
        "## Twitter Test\n",
        "A number of you missed the Twitter question. The goal was to create a function as described below.\n"
      ]
    },
    {
      "cell_type": "markdown",
      "metadata": {
        "id": "YhNBYUwzh3ok",
        "colab_type": "text"
      },
      "source": [
        "## Question\n",
        "\n",
        "(t2) Now create a function `get_hashtags(tweets, hashtag)` that accepts a list of tweets and a hashtag and returns a list of *other* hashtags included in the tweets *except* `hashtag`. This means, you should not include the origional hashtag used (i.e.,  mlanalyticsdojorocks) and the function should aggregate hashtags across all tweets passed.  \n",
        "\n",
        "For example, if there is a a single tweet passed that says \"Hello world! #mlanalyticsdojorocks #learningmachinelearning\"  it would return ['#learningmachinelearning']\n",
        "\n",
        "Use your function and the `statuses` list to create `other_hashtags` as shown below: \n",
        "\n",
        "```\n",
        "other_hashtags= get_hashtags(statuses, '#mlanalyticsdojorocks')\n",
        "print(other_hashtags)\n",
        "\n",
        "```\n",
        "\n"
      ]
    },
    {
      "cell_type": "markdown",
      "metadata": {
        "id": "gwpihoqyh3om",
        "colab_type": "text"
      },
      "source": [
        "## Tests\n",
        "The following code was used to test the function. The main issue that people had was not dealing with the fact that a hashtag is passed with a # sign but they aren't actually stored that way.  Robust code should have removed the leading hash tag as shown in the calling example. "
      ]
    },
    {
      "cell_type": "code",
      "metadata": {
        "id": "ChzKjLHTh3ot",
        "colab_type": "code",
        "colab": {}
      },
      "source": [
        "#Answer\n",
        "# Add your function here. \n",
        "def get_hashtags(statuses, hashtag):\n",
        "    allhts=[]\n",
        "    hashtag=hashtag.replace('#', '')\n",
        "    for eachstatus in statuses: \n",
        "        htvals=eachstatus['entities']['hashtags']\n",
        "        for eachht in htvals:\n",
        "            #print(eachht['text'])\n",
        "            if eachht['text']!=hashtag:\n",
        "                allhts.append(eachht['text'])\n",
        "    return allhts"
      ],
      "execution_count": 0,
      "outputs": []
    },
    {
      "cell_type": "code",
      "metadata": {
        "id": "PsOLBkk5h3o2",
        "colab_type": "code",
        "colab": {}
      },
      "source": [
        "import json"
      ],
      "execution_count": 0,
      "outputs": []
    },
    {
      "cell_type": "code",
      "metadata": {
        "id": "-MzP0q1-h3o-",
        "colab_type": "code",
        "outputId": "20e7aba2-988a-409e-fbde-c2385cbc7a21",
        "colab": {
          "base_uri": "https://localhost:8080/",
          "height": 434
        }
      },
      "source": [
        "!wget https://www.dropbox.com/s/bwl4fbxdi7jpl3k/tweets.json"
      ],
      "execution_count": 34,
      "outputs": [
        {
          "output_type": "stream",
          "text": [
            "--2019-10-01 18:39:54--  https://www.dropbox.com/s/bwl4fbxdi7jpl3k/tweets.json\n",
            "Resolving www.dropbox.com (www.dropbox.com)... 162.125.1.1, 2620:100:601b:1::a27d:801\n",
            "Connecting to www.dropbox.com (www.dropbox.com)|162.125.1.1|:443... connected.\n",
            "HTTP request sent, awaiting response... 301 Moved Permanently\n",
            "Location: /s/raw/bwl4fbxdi7jpl3k/tweets.json [following]\n",
            "--2019-10-01 18:39:54--  https://www.dropbox.com/s/raw/bwl4fbxdi7jpl3k/tweets.json\n",
            "Reusing existing connection to www.dropbox.com:443.\n",
            "HTTP request sent, awaiting response... 302 Found\n",
            "Location: https://uc35311b853853dcd53ebecc7402.dl.dropboxusercontent.com/cd/0/inline/ApmeNFRRlVnzOqW1Mn_afuIRZekt721YQntF_5MAveBWh6D8-1wxMGVpnonjc8CeyiJI_crfjW1IW_ZKd4JjBZrIo1SBXU_p_5HSP4jd3rAeBjqrGdhz3coKmsjrsXujZW8/file# [following]\n",
            "--2019-10-01 18:39:54--  https://uc35311b853853dcd53ebecc7402.dl.dropboxusercontent.com/cd/0/inline/ApmeNFRRlVnzOqW1Mn_afuIRZekt721YQntF_5MAveBWh6D8-1wxMGVpnonjc8CeyiJI_crfjW1IW_ZKd4JjBZrIo1SBXU_p_5HSP4jd3rAeBjqrGdhz3coKmsjrsXujZW8/file\n",
            "Resolving uc35311b853853dcd53ebecc7402.dl.dropboxusercontent.com (uc35311b853853dcd53ebecc7402.dl.dropboxusercontent.com)... 162.125.1.6, 2620:100:6016:6::a27d:106\n",
            "Connecting to uc35311b853853dcd53ebecc7402.dl.dropboxusercontent.com (uc35311b853853dcd53ebecc7402.dl.dropboxusercontent.com)|162.125.1.6|:443... connected.\n",
            "HTTP request sent, awaiting response... 200 OK\n",
            "Length: 4363 (4.3K) [text/plain]\n",
            "Saving to: ‘tweets.json.3’\n",
            "\n",
            "tweets.json.3       100%[===================>]   4.26K  --.-KB/s    in 0s      \n",
            "\n",
            "2019-10-01 18:39:54 (769 MB/s) - ‘tweets.json.3’ saved [4363/4363]\n",
            "\n"
          ],
          "name": "stdout"
        }
      ]
    },
    {
      "cell_type": "code",
      "metadata": {
        "id": "4F49q5yvh3pD",
        "colab_type": "code",
        "colab": {}
      },
      "source": [
        "#Checks function.\n",
        "def check_get_hashtags(file,hashtag,answer):\n",
        "    with open(file) as json_file:\n",
        "        statuses = json.load(json_file)\n",
        "    other_hashtags = get_hashtags(statuses, hashtag)\n",
        "    other_hashtags = [s.replace('#', '') for s in other_hashtags]\n",
        "    other_hashtags.sort(reverse = True)\n",
        "    if other_hashtags==answer:\n",
        "        print(\"Test passed\")\n",
        "        return True\n",
        "    else:\n",
        "        print(\"Test Failed\")\n",
        "        print(\"Your function returned\", other_hashtags)\n",
        "        return False\n"
      ],
      "execution_count": 0,
      "outputs": []
    },
    {
      "cell_type": "code",
      "metadata": {
        "id": "45y2zgqGh3pH",
        "colab_type": "code",
        "outputId": "ef3e79df-1d4f-4a7e-f02b-183236dd25d1",
        "colab": {
          "base_uri": "https://localhost:8080/",
          "height": 92
        }
      },
      "source": [
        "check_get_hashtags('tweets.json', '#mlanalyticsdojorocks', ['machLearningComplex', 'MachLearning'])"
      ],
      "execution_count": 44,
      "outputs": [
        {
          "output_type": "stream",
          "text": [
            "Test passed\n"
          ],
          "name": "stdout"
        },
        {
          "output_type": "execute_result",
          "data": {
            "text/plain": [
              "True"
            ]
          },
          "metadata": {
            "tags": []
          },
          "execution_count": 44
        }
      ]
    },
    {
      "cell_type": "code",
      "metadata": {
        "id": "JgUAway6h3pL",
        "colab_type": "code",
        "outputId": "06d12919-9359-4eba-821e-c4cc35eaea2c",
        "colab": {
          "base_uri": "https://localhost:8080/",
          "height": 110
        }
      },
      "source": [
        "l1=[2, 3, 4]\n",
        "l2 = [4, 3, 2]\n",
        "\n",
        "#l1.sort()\n",
        "#l2.sort()\n",
        "if l1==l2: \n",
        "  print(\"yes\")\n",
        "else:\n",
        "  print(\"no\")\n",
        "  \n",
        "s1=set(l1)\n",
        "s2=set(l2)\n",
        "print(s1)\n",
        "print(s2)"
      ],
      "execution_count": 32,
      "outputs": [
        {
          "output_type": "stream",
          "text": [
            "no\n",
            "{2, 3, 4}\n",
            "{2, 3, 4}\n"
          ],
          "name": "stdout"
        }
      ]
    }
  ]
}