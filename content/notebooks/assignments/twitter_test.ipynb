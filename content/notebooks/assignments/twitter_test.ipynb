{
  "nbformat": 4,
  "nbformat_minor": 0,
  "metadata": {
    "kernelspec": {
      "display_name": "Python 3",
      "language": "python",
      "name": "python3"
    },
    "language_info": {
      "codemirror_mode": {
        "name": "ipython",
        "version": 3
      },
      "file_extension": ".py",
      "mimetype": "text/x-python",
      "name": "python",
      "nbconvert_exporter": "python",
      "pygments_lexer": "ipython3",
      "version": "3.6.8"
    },
    "colab": {
      "name": "Copy of twitter_test.ipynb",
      "provenance": []
    }
  },
  "cells": [
    {
      "cell_type": "markdown",
      "metadata": {
        "id": "AvQZIHDGh3of",
        "colab_type": "text"
      },
      "source": [
        "## Twitter Test\n",
        "A number of you missed the Twitter question. The goal was to create a function as described below.\n"
      ]
    },
    {
      "cell_type": "markdown",
      "metadata": {
        "id": "YhNBYUwzh3ok",
        "colab_type": "text"
      },
      "source": [
        "## Question\n",
        "\n",
        "(t2) Now create a function `get_hashtags(tweets, hashtag)` that accepts a list of tweets and a hashtag and returns a list of *other* hashtags included in the tweets *except* `hashtag`. This means, you should not include the origional hashtag used (i.e.,  mlanalyticsdojorocks) and the function should aggregate hashtags across all tweets passed.  \n",
        "\n",
        "For example, if there is a a single tweet passed that says \"Hello world! #mlanalyticsdojorocks #learningmachinelearning\"  it would return ['#learningmachinelearning']\n",
        "\n",
        "Use your function and the `statuses` list to create `other_hashtags` as shown below: \n",
        "\n",
        "```\n",
        "other_hashtags= get_hashtags(statuses, '#mlanalyticsdojorocks')\n",
        "print(other_hashtags)\n",
        "\n",
        "```\n",
        "\n"
      ]
    },
    {
      "cell_type": "markdown",
      "metadata": {
        "id": "gwpihoqyh3om",
        "colab_type": "text"
      },
      "source": [
        "## Tests\n",
        "The following code was used to test the function. The main issue that people had was not dealing with the fact that a hashtag is passed with a # sign but they aren't actually stored that way.  Robust code should have removed the leading hash tag as shown in the calling example. "
      ]
    },
    {
      "cell_type": "code",
      "metadata": {
        "id": "ChzKjLHTh3ot",
        "colab_type": "code",
        "colab": {}
      },
      "source": [
        "#Answer\n",
        "# Add your function here. This is an example of a working solution. \n",
        "def get_hashtags(statuses, hashtag):\n",
        "    allhts=[]\n",
        "    hashtag=hashtag.replace('#', '')\n",
        "    for eachstatus in statuses: \n",
        "        htvals=eachstatus['entities']['hashtags']\n",
        "        for eachht in htvals:\n",
        "            #print(eachht['text'])\n",
        "            if eachht['text']!=hashtag:\n",
        "                allhts.append(eachht['text'])\n",
        "    return allhts"
      ],
      "execution_count": 0,
      "outputs": []
    },
    {
      "cell_type": "code",
      "metadata": {
        "id": "PsOLBkk5h3o2",
        "colab_type": "code",
        "colab": {}
      },
      "source": [
        "import json"
      ],
      "execution_count": 0,
      "outputs": []
    },
    {
      "cell_type": "code",
      "metadata": {
        "id": "-MzP0q1-h3o-",
        "colab_type": "code",
        "outputId": "0ecb9a6d-46ab-439e-a10d-7a25f569657f",
        "colab": {
          "base_uri": "https://localhost:8080/",
          "height": 394
        }
      },
      "source": [
        "!wget https://www.dropbox.com/s/bwl4fbxdi7jpl3k/tweets.json"
      ],
      "execution_count": 3,
      "outputs": [
        {
          "output_type": "stream",
          "text": [
            "--2019-10-02 17:53:06--  https://www.dropbox.com/s/bwl4fbxdi7jpl3k/tweets.json\n",
            "Resolving www.dropbox.com (www.dropbox.com)... 162.125.1.1, 2620:100:6016:1::a27d:101\n",
            "Connecting to www.dropbox.com (www.dropbox.com)|162.125.1.1|:443... connected.\n",
            "HTTP request sent, awaiting response... 301 Moved Permanently\n",
            "Location: /s/raw/bwl4fbxdi7jpl3k/tweets.json [following]\n",
            "--2019-10-02 17:53:11--  https://www.dropbox.com/s/raw/bwl4fbxdi7jpl3k/tweets.json\n",
            "Reusing existing connection to www.dropbox.com:443.\n",
            "HTTP request sent, awaiting response... 302 Found\n",
            "Location: https://uca94815e142389ade409af560c9.dl.dropboxusercontent.com/cd/0/inline/AprNSYvUgfqy9HqBcQ3fin9jb02272jnieux_h3iMoYFVW_BXt0RC3W5uhOoLaEn46mJQec99Xg8aNCeb9OTyAy-2d3jny8MIAQXc3MT774fV-U6IuKGsSXXZkzqZxF4Ay8/file# [following]\n",
            "--2019-10-02 17:53:11--  https://uca94815e142389ade409af560c9.dl.dropboxusercontent.com/cd/0/inline/AprNSYvUgfqy9HqBcQ3fin9jb02272jnieux_h3iMoYFVW_BXt0RC3W5uhOoLaEn46mJQec99Xg8aNCeb9OTyAy-2d3jny8MIAQXc3MT774fV-U6IuKGsSXXZkzqZxF4Ay8/file\n",
            "Resolving uca94815e142389ade409af560c9.dl.dropboxusercontent.com (uca94815e142389ade409af560c9.dl.dropboxusercontent.com)... 162.125.8.6, 2620:100:601b:6::a27d:806\n",
            "Connecting to uca94815e142389ade409af560c9.dl.dropboxusercontent.com (uca94815e142389ade409af560c9.dl.dropboxusercontent.com)|162.125.8.6|:443... connected.\n",
            "HTTP request sent, awaiting response... 200 OK\n",
            "Length: 4363 (4.3K) [text/plain]\n",
            "Saving to: ‘tweets.json’\n",
            "\n",
            "tweets.json         100%[===================>]   4.26K  --.-KB/s    in 0s      \n",
            "\n",
            "2019-10-02 17:53:12 (166 MB/s) - ‘tweets.json’ saved [4363/4363]\n",
            "\n"
          ],
          "name": "stdout"
        }
      ]
    },
    {
      "cell_type": "code",
      "metadata": {
        "id": "4F49q5yvh3pD",
        "colab_type": "code",
        "colab": {}
      },
      "source": [
        "#Checks function.\n",
        "def check_get_hashtags(file,hashtag,answer):\n",
        "    with open(file) as json_file:\n",
        "        statuses = json.load(json_file)\n",
        "    other_hashtags = get_hashtags(statuses, hashtag)\n",
        "    other_hashtags = [s.replace('#', '') for s in other_hashtags]\n",
        "    other_hashtags.sort(reverse = True)\n",
        "    if other_hashtags==answer:\n",
        "        print(\"Test passed\")\n",
        "        return True\n",
        "    else:\n",
        "        print(\"Test Failed\")\n",
        "        print(\"Your function returned\", other_hashtags)\n",
        "        return False\n"
      ],
      "execution_count": 0,
      "outputs": []
    },
    {
      "cell_type": "code",
      "metadata": {
        "id": "45y2zgqGh3pH",
        "colab_type": "code",
        "outputId": "9f9381a8-cbb2-4ee5-ce25-b0d0fe29e915",
        "colab": {
          "base_uri": "https://localhost:8080/",
          "height": 92
        }
      },
      "source": [
        "check_get_hashtags('tweets.json', '#mlanalyticsdojorocks', ['machLearningComplex', 'MachLearning'])"
      ],
      "execution_count": 5,
      "outputs": [
        {
          "output_type": "stream",
          "text": [
            "Test passed\n"
          ],
          "name": "stdout"
        },
        {
          "output_type": "execute_result",
          "data": {
            "text/plain": [
              "True"
            ]
          },
          "metadata": {
            "tags": []
          },
          "execution_count": 5
        }
      ]
    }
  ]
}