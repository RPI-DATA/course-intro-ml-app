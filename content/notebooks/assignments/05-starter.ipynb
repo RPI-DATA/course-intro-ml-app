{
  "nbformat": 4,
  "nbformat_minor": 0,
  "metadata": {
    "kernelspec": {
      "display_name": "Python 3",
      "language": "python",
      "name": "python3"
    },
    "language_info": {
      "codemirror_mode": {
        "name": "ipython",
        "version": 3
      },
      "file_extension": ".py",
      "mimetype": "text/x-python",
      "name": "python",
      "nbconvert_exporter": "python",
      "pygments_lexer": "ipython3",
      "version": "3.6.8"
    },
    "colab": {
      "name": "05-starter.ipynb",
      "provenance": []
    }
  },
  "cells": [
    {
      "cell_type": "markdown",
      "metadata": {
        "id": "0sVgU84dbDxJ",
        "colab_type": "text"
      },
      "source": [
        "## Homework 05 - Instructions\n",
        "\n",
        "![](https://github.com/rpi-techfundamentals/hm-01-starter/blob/master/notsaved.png?raw=1)\n",
        "\n",
        "**WARNING!!!  If you see this icon on the top of your COLAB sesssion, your work is not saved automatically.**\n",
        "\n",
        "\n",
        "**When you are working on homeworks, make sure that you save often. You may find it easier to save intermident copies in Google drive. If you save your working file in Google drive all changes will be saved as you work. MAKE SURE that your final version is saved to GitHub.** \n",
        "\n",
        "Before you turn this problem in, make sure everything runs as expected. First, restart the kernel (in the menubar, select Kernel → Restart) and then run all cells (in the menubar, select Cell → Run All).  You can speak with others regarding the assignment but all work must be your own. \n",
        "\n",
        "\n",
        "### This is a 30 point assignment graded from answers to questions and automated tests that should be run at the bottom. Be sure to clearly label all of your answers and commit final tests at the end.  "
      ]
    },
    {
      "cell_type": "code",
      "metadata": {
        "id": "xsoyqoUWbDxN",
        "colab_type": "code",
        "colab": {}
      },
      "source": [
        "files = \"https://github.com/rpi-techfundamentals/hm-05-starter/raw/master/files.zip\" \n",
        "!rm -rf * && pip install git+https://github.com/data-8/Gofer-Grader && wget $files && unzip -o files.zip"
      ],
      "execution_count": 0,
      "outputs": []
    },
    {
      "cell_type": "code",
      "metadata": {
        "id": "0W1-ZeqRbDxX",
        "colab_type": "code",
        "colab": {}
      },
      "source": [
        "#Run this. It initiates autograding. \n",
        "from client.api.notebook import Notebook\n",
        "ok = Notebook('lab.ok')\n",
        "_ = ok.auth(inline=True)"
      ],
      "execution_count": 0,
      "outputs": []
    },
    {
      "cell_type": "markdown",
      "metadata": {
        "id": "3Y19n7hxbDxf",
        "colab_type": "text"
      },
      "source": [
        "### Load Data\n",
        "We have our titanic dataset that is a bit different from what we have had previously. Load the train-new.csv and test-new.csv into dataframes train and test.\n"
      ]
    },
    {
      "cell_type": "code",
      "metadata": {
        "id": "cQAhByH7bDxh",
        "colab_type": "code",
        "colab": {}
      },
      "source": [
        "# Load the data here\n"
      ],
      "execution_count": 0,
      "outputs": []
    },
    {
      "cell_type": "markdown",
      "metadata": {
        "id": "8tct7SvxbDxk",
        "colab_type": "text"
      },
      "source": [
        "## Question 1\n",
        "(1) Investigate the data a little bit. What is different from some of the titanic datasets we have used in the past? (For example, compare against the data in the Kaggle Baseline notebook). "
      ]
    },
    {
      "cell_type": "code",
      "metadata": {
        "id": "Q6NbB3webDxk",
        "colab_type": "code",
        "colab": {}
      },
      "source": [
        "man1=\"\"\"\n",
        "\n",
        "\"\"\""
      ],
      "execution_count": 0,
      "outputs": []
    },
    {
      "cell_type": "markdown",
      "metadata": {
        "id": "HvdymnRqbDxs",
        "colab_type": "text"
      },
      "source": [
        "# Generating Dummy Variables\n",
        "Before we do analysis of the titanic dataset, we have to select out our features, for the train and the test set, which we shall label `X_train`, and `X_test`.\n",
        "\n",
        "As a part of this we need to generate `n-1` dummy variables for each one of our categorical columns.  The resulting dataframes should be all numeric and have all of these columns below (in the correct order).\n",
        "\n",
        "Follow the example above to generate a new value for `X_train` and `X_test` utilizing all the data.\n",
        "```\n",
        "['Age', 'SibSp', 'Parch', 'Fare', 'family_size', 'Pclass_2', 'Pclass_3', 'Sex_male', 'Cabin_B', 'Cabin_C', 'Cabin_D', 'Cabin_E', 'Cabin_F', 'Cabin_G', 'Cabin_H', 'Embarked_Q', 'Embarked_S']\n",
        "\n",
        "```\n",
        "*Hint, try: \n",
        "`help(pd.get_dummies)`* \n",
        "\n",
        "You should also set `y` to the Survived column."
      ]
    },
    {
      "cell_type": "code",
      "metadata": {
        "id": "wRMRcW92bDxt",
        "colab_type": "code",
        "colab": {}
      },
      "source": [
        "#Answer Here \n"
      ],
      "execution_count": 0,
      "outputs": []
    },
    {
      "cell_type": "code",
      "metadata": {
        "id": "bd3uMB5jbDxw",
        "colab_type": "code",
        "colab": {}
      },
      "source": [
        "_ = ok.grade('q01')"
      ],
      "execution_count": 0,
      "outputs": []
    },
    {
      "cell_type": "markdown",
      "metadata": {
        "id": "5uYEpxPJbDxy",
        "colab_type": "text"
      },
      "source": [
        "## Split Training Set For Cross Validation\n",
        "(2.) We want to split up our training set `X` so that we can do some cross validation. Specifically, we will start to use the term validation set for the set we will use to validate our model. \n",
        "\n",
        "In doing so below, use the sklearn methods to do a train test (i.e., validation) split.  \n",
        "\n",
        "From X y dataframe, generate the following dataframes by drawing the data **randomly**  from the train dataframe 80% of the data in train and 20% of the data in test.  So that you get repeatable results, set the `random_state=100`. This will set a \"seed\" so that your random selection will be the same as mine and you will pass the internal tests. \n",
        "\n",
        "train_X, val_X, train_y, val_y\n"
      ]
    },
    {
      "cell_type": "code",
      "metadata": {
        "id": "qkM_vc03bDx0",
        "colab_type": "code",
        "colab": {}
      },
      "source": [
        "#Answer Here\n"
      ],
      "execution_count": 0,
      "outputs": []
    },
    {
      "cell_type": "code",
      "metadata": {
        "id": "Fm-IdaQBbDx2",
        "colab_type": "code",
        "colab": {}
      },
      "source": [
        "_ = ok.grade('q02')"
      ],
      "execution_count": 0,
      "outputs": []
    },
    {
      "cell_type": "markdown",
      "metadata": {
        "id": "1OfjwSA_bDx4",
        "colab_type": "text"
      },
      "source": [
        "### Perform Nearest Neighbor Classification (KNeighborsClassifier)\n",
        "(3.) Using the default options (i.e., all default hyperparameters), perform nearest neighbor classification. Calculate the accuracy measure using `metrics.accuracy_score`.\n",
        "\n",
        "Train your model using the training data and access the accuracy of both the training and validation data.\n",
        "\n",
        "*Note: You only train the model once...on the training data. You then assess the performance on both the training and validation data.*\n",
        "\n",
        "Assign the following variables:\n",
        "\n",
        "`knn0_train_y` = The KNN prediction for the `train_X` data. \n",
        "\n",
        "`knn0_val_y`   = The KNN prediction for the `val_X` data. \n",
        "\n",
        "`knn0_train_accuracy` = The accuracy for the `knn0_train_y` prediction. \n",
        "\n",
        "`knn0_val_accuracy` = The accuracy for the `knn0_val_y` prediction. \n"
      ]
    },
    {
      "cell_type": "code",
      "metadata": {
        "id": "AaM1D9X8bDx4",
        "colab_type": "code",
        "colab": {}
      },
      "source": [
        "#Answer Here \n"
      ],
      "execution_count": 0,
      "outputs": []
    },
    {
      "cell_type": "code",
      "metadata": {
        "id": "X2P2aGmlbDx6",
        "colab_type": "code",
        "colab": {}
      },
      "source": [
        "_ = ok.grade('q03')"
      ],
      "execution_count": 0,
      "outputs": []
    },
    {
      "cell_type": "markdown",
      "metadata": {
        "id": "tkJxVYRRbDx7",
        "colab_type": "text"
      },
      "source": [
        "### Confusion Matrix\n",
        "We can utilize a confusion matrix to be able to understand misclassifications a bit more. This will give us a full idea of the true positives, true negatives, false positives, and false negatives.  \n",
        "\n",
        "See the documentation [here](http://scikit-learn.org/stable/modules/generated/sklearn.metrics.confusion_matrix.html). \n",
        "\n",
        "You can utilize the syntax below to generate knn_mat1_train and knn_mat1_test.  \n",
        "```\n",
        "from sklearn.metrics import confusion_matrix\n",
        "confusion_matrix(y_true, y_pred)\n",
        "```\n",
        "**(4.)  Explain what each of the four quadrants of the confusion matrix means. **\n"
      ]
    },
    {
      "cell_type": "code",
      "metadata": {
        "id": "-DaWF4R1bDx8",
        "colab_type": "code",
        "colab": {}
      },
      "source": [
        "#Answer here\n",
        "man4= \"\"\"\n",
        "\n",
        "\"\"\""
      ],
      "execution_count": 0,
      "outputs": []
    },
    {
      "cell_type": "markdown",
      "metadata": {
        "id": "OpeH8Vn5bDx9",
        "colab_type": "text"
      },
      "source": [
        "### Create Confusion Matrix for the Training and Validation Predictions\n",
        "(5) Create a confusion matrix for each of the training and valiation predictions. \n",
        "`knn0_con_train` A confusion matrix for the training data.  \n",
        "`knn0_con_val` A confusion matrix for the validation data. "
      ]
    },
    {
      "cell_type": "code",
      "metadata": {
        "id": "6uDyUHRgbDx-",
        "colab_type": "code",
        "colab": {}
      },
      "source": [
        "#Answers "
      ],
      "execution_count": 0,
      "outputs": []
    },
    {
      "cell_type": "code",
      "metadata": {
        "id": "b9QESf1FbDyB",
        "colab_type": "code",
        "colab": {}
      },
      "source": [
        "_ = ok.grade('q05')"
      ],
      "execution_count": 0,
      "outputs": []
    },
    {
      "cell_type": "markdown",
      "metadata": {
        "id": "IZWiT21KbDyC",
        "colab_type": "text"
      },
      "source": [
        "## Hyperparameter Tuning\n",
        "\n",
        "(6) You created a single model using the default parameters.  However, we want to adjust the parameters to try and improve the model.  \n",
        "\n",
        "Examine the documentation on KNN and see some of the different parameters that you can adjust. \n",
        "\n",
        "[Scikit Learn Documentation](http://scikit-learn.org/stable/supervised_learning.html#supervised-learning).\n",
        "\n",
        "Assign the following variables:\n",
        "\n",
        "`knn1_train_y` = The KNN prediction for the `train_X` datafor your improved model. \n",
        "\n",
        "`knn1_val_y`   = The KNN prediction for the `val_X` data for your improved model. \n",
        "\n",
        "`knn1_train_accuracy` = The accuracy for the `knn1_train_y` prediction. \n",
        "\n",
        "`knn1_val_accuracy` = The accuracy for the `knn1_val_y` prediction. \n"
      ]
    },
    {
      "cell_type": "code",
      "metadata": {
        "id": "Hklt5muJbDyD",
        "colab_type": "code",
        "colab": {}
      },
      "source": [
        "#Answers"
      ],
      "execution_count": 0,
      "outputs": []
    },
    {
      "cell_type": "code",
      "metadata": {
        "id": "pr2TPzBPbDyE",
        "colab_type": "code",
        "colab": {}
      },
      "source": [
        "_ = ok.grade('q06')"
      ],
      "execution_count": 0,
      "outputs": []
    },
    {
      "cell_type": "markdown",
      "metadata": {
        "id": "8qiZ8IlkbDyF",
        "colab_type": "text"
      },
      "source": [
        "### Other Models\n",
        "\n",
        "(7.) Test Logistic regression and 1 other algorithms/models (your choice).  Provide a summary of the best performance below. \n",
        "\n",
        "Use any of the available classification models. You should show and comment code\n",
        "\n",
        "[Scikit Learn Documentation](http://scikit-learn.org/stable/supervised_learning.html#supervised-learning).\n",
        "\n",
        "*Make sure your clearly indicate the accuracy of the Logistic regression model your other model. Assess which model worked best considering all your efforts.*\n",
        "  "
      ]
    },
    {
      "cell_type": "code",
      "metadata": {
        "id": "QtzjtrQXbDyG",
        "colab_type": "code",
        "colab": {}
      },
      "source": [
        "#Answer here\n",
        "man7= \"\"\"\n",
        "\n",
        "\n",
        "\"\"\""
      ],
      "execution_count": 0,
      "outputs": []
    },
    {
      "cell_type": "code",
      "metadata": {
        "id": "pxSAKguCbDyI",
        "colab_type": "code",
        "colab": {}
      },
      "source": [
        "#This runs all tests. \n",
        "import os\n",
        "_ = [ok.grade(q[:-3]) for q in os.listdir(\"tests\") if q.startswith('q')]"
      ],
      "execution_count": 0,
      "outputs": []
    }
  ]
}