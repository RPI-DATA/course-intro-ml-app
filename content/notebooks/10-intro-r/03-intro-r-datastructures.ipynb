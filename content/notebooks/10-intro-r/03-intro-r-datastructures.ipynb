{
 "cells": [
  {
   "cell_type": "markdown",
   "metadata": {
    "slideshow": {
     "slide_type": "slide"
    }
   },
   "source": [
    "[![AnalyticsDojo](https://github.com/rpi-techfundamentals/spring2019-materials/blob/master/fig/final-logo.png?raw=1)](http://rpi.analyticsdojo.com)\n",
    "<center><h1>Introduction to R - Datastructures</h1></center>\n",
    "<center><h3><a href = \"http://rpi.analyticsdojo.com\">rpi.analyticsdojo.com</a></h3></center>\n",
    "\n"
   ]
  },
  {
   "cell_type": "markdown",
   "metadata": {
    "slideshow": {
     "slide_type": "subslide"
    }
   },
   "source": [
    "# Overview\n",
    "Common to R and Python\n",
    "- Vectors\n",
    "- Opearations on Numeric and String Variables\n",
    "- Lists\n",
    "\n",
    "\n"
   ]
  },
  {
   "cell_type": "markdown",
   "metadata": {
    "slideshow": {
     "slide_type": "subslide"
    }
   },
   "source": [
    "## Vectors in R\n",
    "- The most basic form of an R object is a vector. \n",
    "- In fact, individual (scalar) values (variables) are vectors of length one.\n",
    "- An R vector is a single set of values in a particular order of the **same type**. \n",
    "- We can concatenate values into a vector with c(): `ages<-c(18,19,18,23)`\n",
    "- Comparable Python objects include Panda Series and single dimensional numpy array. \n",
    "- While Python arrays start at 0, R arrays start at index position 1. "
   ]
  },
  {
   "cell_type": "code",
   "execution_count": 1,
   "metadata": {},
   "outputs": [
    {
     "data": {
      "text/html": [
       "<ol class=list-inline>\n",
       "\t<li>18</li>\n",
       "\t<li>19</li>\n",
       "\t<li>18</li>\n",
       "\t<li>23</li>\n",
       "</ol>\n"
      ],
      "text/latex": [
       "\\begin{enumerate*}\n",
       "\\item 18\n",
       "\\item 19\n",
       "\\item 18\n",
       "\\item 23\n",
       "\\end{enumerate*}\n"
      ],
      "text/markdown": [
       "1. 18\n",
       "2. 19\n",
       "3. 18\n",
       "4. 23\n",
       "\n",
       "\n"
      ],
      "text/plain": [
       "[1] 18 19 18 23"
      ]
     },
     "metadata": {},
     "output_type": "display_data"
    },
    {
     "data": {
      "text/html": [
       "18"
      ],
      "text/latex": [
       "18"
      ],
      "text/markdown": [
       "18"
      ],
      "text/plain": [
       "[1] 18"
      ]
     },
     "metadata": {},
     "output_type": "display_data"
    },
    {
     "data": {
      "text/html": [
       "<ol class=list-inline>\n",
       "\t<li>19</li>\n",
       "\t<li>18</li>\n",
       "\t<li>23</li>\n",
       "</ol>\n"
      ],
      "text/latex": [
       "\\begin{enumerate*}\n",
       "\\item 19\n",
       "\\item 18\n",
       "\\item 23\n",
       "\\end{enumerate*}\n"
      ],
      "text/markdown": [
       "1. 19\n",
       "2. 18\n",
       "3. 23\n",
       "\n",
       "\n"
      ],
      "text/plain": [
       "[1] 19 18 23"
      ]
     },
     "metadata": {},
     "output_type": "display_data"
    }
   ],
   "source": [
    "\n",
    "ages<-c(18,19,18,23)\n",
    "ages\n",
    "ages[1]\n",
    "ages[2:4]\n",
    "\n"
   ]
  },
  {
   "cell_type": "markdown",
   "metadata": {
    "slideshow": {
     "slide_type": "subslide"
    }
   },
   "source": [
    "## Vectors Type in R\n",
    "- Items in a vector must be of the same type. \n",
    "- *Character.* These are the clear character vectors. (Typically use quotes to add to these vectors.)\n",
    "- *Numeric.* Numbers in a set. Note there is not a different type.\n",
    "- *Boolean.* TRUE or FALSE values in a set.\n",
    "- *Factor.* A situation in which there is a select set of options. Things such as states or zip codes. These are typically things which are related to dummy variables, a topic we will discuss later.\n",
    "- Determine the data type by using the `str` command: `str(teachers)`"
   ]
  },
  {
   "cell_type": "code",
   "execution_count": 2,
   "metadata": {},
   "outputs": [
    {
     "name": "stdout",
     "output_type": "stream",
     "text": [
      " chr [1:4] \"Sally\" \"Jason\" \"Bob\" \"Susy\"\n",
      " logi [1:4] TRUE FALSE FALSE TRUE\n",
      " chr [1:4] \"Smith\" \"Johnson\" \"Johnson\" \"Smith\"\n",
      " Factor w/ 2 levels \"Johnson\",\"Smith\": 2 1 1 2\n",
      " num [1:4] 20 15 13 19\n",
      " num [1:4] 20.3 15.3 13.1 19.3\n"
     ]
    }
   ],
   "source": [
    "names<-c(\"Sally\", \"Jason\", \"Bob\", \"Susy\") #Text\n",
    "female<-c(TRUE, FALSE, FALSE, TRUE)  #While Python uses True and False, R uses TRUE and FALSE.\n",
    "teachers<-c(\"Smith\", \"Johnson\", \"Johnson\", \"Smith\")\n",
    "teachers.f<-factor(teachers)\n",
    "grades<-c(20, 15, 13, 19) #25 points possible\n",
    "gradesdec<-c(20.32, 15.32, 13.12, 19.32) #25 points possible\n",
    "\n",
    "str(names)\n",
    "str(female)\n",
    "str(teachers)  \n",
    "str(teachers.f) \n",
    "str(grades)    #Note that the grades and gradesdec are both numeric.\n",
    "str(gradesdec) #Note that the grades and gradesdec are both numeric.\n"
   ]
  },
  {
   "cell_type": "markdown",
   "metadata": {
    "slideshow": {
     "slide_type": "subslide"
    }
   },
   "source": [
    "## Strings in R\n",
    "- Lot's of different types of operations we can perform on Strings. "
   ]
  },
  {
   "cell_type": "code",
   "execution_count": 6,
   "metadata": {},
   "outputs": [
    {
     "data": {
      "text/html": [
       "5"
      ],
      "text/latex": [
       "5"
      ],
      "text/markdown": [
       "5"
      ],
      "text/plain": [
       "[1] 5"
      ]
     },
     "metadata": {},
     "output_type": "display_data"
    },
    {
     "data": {
      "text/html": [
       "<ol class=list-inline>\n",
       "\t<li>2</li>\n",
       "\t<li>5</li>\n",
       "\t<li>8</li>\n",
       "\t<li>8</li>\n",
       "\t<li>13</li>\n",
       "</ol>\n"
      ],
      "text/latex": [
       "\\begin{enumerate*}\n",
       "\\item 2\n",
       "\\item 5\n",
       "\\item 8\n",
       "\\item 8\n",
       "\\item 13\n",
       "\\end{enumerate*}\n"
      ],
      "text/markdown": [
       "1. 2\n",
       "2. 5\n",
       "3. 8\n",
       "4. 8\n",
       "5. 13\n",
       "\n",
       "\n"
      ],
      "text/plain": [
       "[1]  2  5  8  8 13"
      ]
     },
     "metadata": {},
     "output_type": "display_data"
    },
    {
     "data": {
      "text/html": [
       "'bill clinton'"
      ],
      "text/latex": [
       "'bill clinton'"
      ],
      "text/markdown": [
       "'bill clinton'"
      ],
      "text/plain": [
       "[1] \"bill clinton\""
      ]
     },
     "metadata": {},
     "output_type": "display_data"
    },
    {
     "data": {
      "text/html": [
       "'hi hallo mother\\'s father\\'s He said, \\'hi\\''"
      ],
      "text/latex": [
       "'hi hallo mother\\textbackslash{}'s father\\textbackslash{}'s He said, \\textbackslash{}'hi\\textbackslash{}''"
      ],
      "text/markdown": [
       "'hi hallo mother\\'s father\\'s He said, \\'hi\\''"
      ],
      "text/plain": [
       "[1] \"hi hallo mother's father's He said, 'hi'\""
      ]
     },
     "metadata": {},
     "output_type": "display_data"
    },
    {
     "data": {
      "text/html": [
       "<ol>\n",
       "\t<li><ol class=list-inline>\n",
       "\t<li>'This'</li>\n",
       "\t<li>'is'</li>\n",
       "\t<li>'the'</li>\n",
       "\t<li>'Analytics'</li>\n",
       "\t<li>'Dojo'</li>\n",
       "</ol>\n",
       "</li>\n",
       "</ol>\n"
      ],
      "text/latex": [
       "\\begin{enumerate}\n",
       "\\item \\begin{enumerate*}\n",
       "\\item 'This'\n",
       "\\item 'is'\n",
       "\\item 'the'\n",
       "\\item 'Analytics'\n",
       "\\item 'Dojo'\n",
       "\\end{enumerate*}\n",
       "\n",
       "\\end{enumerate}\n"
      ],
      "text/markdown": [
       "1. 1. 'This'\n",
       "2. 'is'\n",
       "3. 'the'\n",
       "4. 'Analytics'\n",
       "5. 'Dojo'\n",
       "\n",
       "\n",
       "\n",
       "\n",
       "\n"
      ],
      "text/plain": [
       "[[1]]\n",
       "[1] \"This\"      \"is\"        \"the\"       \"Analytics\" \"Dojo\"     \n"
      ]
     },
     "metadata": {},
     "output_type": "display_data"
    },
    {
     "data": {
      "text/html": [
       "<ol class=list-inline>\n",
       "\t<li>'i'</li>\n",
       "\t<li>'al'</li>\n",
       "\t<li>'ot'</li>\n",
       "\t<li>'at'</li>\n",
       "\t<li>'e '</li>\n",
       "</ol>\n"
      ],
      "text/latex": [
       "\\begin{enumerate*}\n",
       "\\item 'i'\n",
       "\\item 'al'\n",
       "\\item 'ot'\n",
       "\\item 'at'\n",
       "\\item 'e '\n",
       "\\end{enumerate*}\n"
      ],
      "text/markdown": [
       "1. 'i'\n",
       "2. 'al'\n",
       "3. 'ot'\n",
       "4. 'at'\n",
       "5. 'e '\n",
       "\n",
       "\n"
      ],
      "text/plain": [
       "[1] \"i\"  \"al\" \"ot\" \"at\" \"e \""
      ]
     },
     "metadata": {},
     "output_type": "display_data"
    },
    {
     "data": {
      "text/html": [
       "<ol class=list-inline>\n",
       "\t<li>'hZ'</li>\n",
       "\t<li>'hZZlo'</li>\n",
       "\t<li>'mZZher\\'s'</li>\n",
       "\t<li>'fZZher\\'s'</li>\n",
       "\t<li>'HZZsaid, \\'hi\\''</li>\n",
       "</ol>\n"
      ],
      "text/latex": [
       "\\begin{enumerate*}\n",
       "\\item 'hZ'\n",
       "\\item 'hZZlo'\n",
       "\\item 'mZZher\\textbackslash{}'s'\n",
       "\\item 'fZZher\\textbackslash{}'s'\n",
       "\\item 'HZZsaid, \\textbackslash{}'hi\\textbackslash{}''\n",
       "\\end{enumerate*}\n"
      ],
      "text/markdown": [
       "1. 'hZ'\n",
       "2. 'hZZlo'\n",
       "3. 'mZZher\\'s'\n",
       "4. 'fZZher\\'s'\n",
       "5. 'HZZsaid, \\'hi\\''\n",
       "\n",
       "\n"
      ],
      "text/plain": [
       "[1] \"hZ\"            \"hZZlo\"         \"mZZher's\"      \"fZZher's\"     \n",
       "[5] \"HZZsaid, 'hi'\""
      ]
     },
     "metadata": {},
     "output_type": "display_data"
    }
   ],
   "source": [
    "chars <- c('hi', 'hallo', \"mother's\", 'father\\'s', \"He said, \\'hi\\'\" )\n",
    "length(chars)\n",
    "nchar(chars)\n",
    "paste(\"bill\", \"clinton\", sep = \" \")  # paste together a set of strings\n",
    "paste(chars, collapse = ' ')  # paste together things from a vector\n",
    "\n",
    "strlist<-strsplit(\"This is the Analytics Dojo\", split = \" \") #This taks a string ant splits to a list\n",
    "strlist\n",
    "substring(chars, 2, 3) #this takes the 2nd-3rd character from the sentance above \n",
    "chars2 <- chars\n",
    "substring(chars2, 2, 3) <- \"ZZ\"  #this takes the 2nd-3rd character from the sentance above \n",
    "chars2"
   ]
  },
  {
   "cell_type": "markdown",
   "metadata": {
    "slideshow": {
     "slide_type": "subslide"
    }
   },
   "source": [
    "## Factors in R \n",
    "- A factor is a special data type in R used for categorical data. In some cases it works like magic and in others it is incredibly frustrating.\n",
    "\n"
   ]
  },
  {
   "cell_type": "code",
   "execution_count": 7,
   "metadata": {},
   "outputs": [
    {
     "data": {
      "text/html": [
       "'factor'"
      ],
      "text/latex": [
       "'factor'"
      ],
      "text/markdown": [
       "'factor'"
      ],
      "text/plain": [
       "[1] \"factor\""
      ]
     },
     "metadata": {},
     "output_type": "display_data"
    },
    {
     "data": {
      "text/html": [
       "<ol class=list-inline>\n",
       "\t<li>'Johnson'</li>\n",
       "\t<li>'Smith'</li>\n",
       "</ol>\n"
      ],
      "text/latex": [
       "\\begin{enumerate*}\n",
       "\\item 'Johnson'\n",
       "\\item 'Smith'\n",
       "\\end{enumerate*}\n"
      ],
      "text/markdown": [
       "1. 'Johnson'\n",
       "2. 'Smith'\n",
       "\n",
       "\n"
      ],
      "text/plain": [
       "[1] \"Johnson\" \"Smith\"  "
      ]
     },
     "metadata": {},
     "output_type": "display_data"
    },
    {
     "data": {
      "text/html": [
       "<dl class=dl-horizontal>\n",
       "\t<dt>Johnson</dt>\n",
       "\t\t<dd>2</dd>\n",
       "\t<dt>Smith</dt>\n",
       "\t\t<dd>2</dd>\n",
       "</dl>\n"
      ],
      "text/latex": [
       "\\begin{description*}\n",
       "\\item[Johnson] 2\n",
       "\\item[Smith] 2\n",
       "\\end{description*}\n"
      ],
      "text/markdown": [
       "Johnson\n",
       ":   2Smith\n",
       ":   2\n",
       "\n"
      ],
      "text/plain": [
       "Johnson   Smith \n",
       "      2       2 "
      ]
     },
     "metadata": {},
     "output_type": "display_data"
    }
   ],
   "source": [
    "class(teachers.f) # What order are the factors in?\n",
    "levels(teachers.f)  # note alternate way to get the variable\n",
    "summary(teachers.f) #gives the count for each level. \n"
   ]
  },
  {
   "cell_type": "markdown",
   "metadata": {
    "slideshow": {
     "slide_type": "subslide"
    }
   },
   "source": [
    "## Creating Vectors in R\n",
    "- Concatenate fields to a vector: `nums <- c(1.1, 3, -5.7)`\n",
    "- Generate random values from normal distribution with `devs <- rnorm(5)`\n",
    "- idevs <- sample(ints, 100, replace = TRUE)\n"
   ]
  },
  {
   "cell_type": "code",
   "execution_count": 8,
   "metadata": {
    "slideshow": {
     "slide_type": "-"
    }
   },
   "outputs": [
    {
     "data": {
      "text/html": [
       "<ol class=list-inline>\n",
       "\t<li>0.620478857748794</li>\n",
       "\t<li>0.355719819931768</li>\n",
       "\t<li>-0.482420730604138</li>\n",
       "\t<li>1.9607784989951</li>\n",
       "\t<li>-1.2218590305962</li>\n",
       "</ol>\n"
      ],
      "text/latex": [
       "\\begin{enumerate*}\n",
       "\\item 0.620478857748794\n",
       "\\item 0.355719819931768\n",
       "\\item -0.482420730604138\n",
       "\\item 1.9607784989951\n",
       "\\item -1.2218590305962\n",
       "\\end{enumerate*}\n"
      ],
      "text/markdown": [
       "1. 0.620478857748794\n",
       "2. 0.355719819931768\n",
       "3. -0.482420730604138\n",
       "4. 1.9607784989951\n",
       "5. -1.2218590305962\n",
       "\n",
       "\n"
      ],
      "text/plain": [
       "[1]  0.6204789  0.3557198 -0.4824207  1.9607785 -1.2218590"
      ]
     },
     "metadata": {},
     "output_type": "display_data"
    },
    {
     "data": {
      "text/html": [
       "<ol class=list-inline>\n",
       "\t<li>'hi'</li>\n",
       "\t<li>'hallo'</li>\n",
       "\t<li>'mother\\'s'</li>\n",
       "\t<li>'father\\'s'</li>\n",
       "\t<li>'She said'</li>\n",
       "\t<li>'hi'</li>\n",
       "\t<li>'He said, \\'hi\\''</li>\n",
       "</ol>\n"
      ],
      "text/latex": [
       "\\begin{enumerate*}\n",
       "\\item 'hi'\n",
       "\\item 'hallo'\n",
       "\\item 'mother\\textbackslash{}'s'\n",
       "\\item 'father\\textbackslash{}'s'\n",
       "\\item 'She said'\n",
       "\\item 'hi'\n",
       "\\item 'He said, \\textbackslash{}'hi\\textbackslash{}''\n",
       "\\end{enumerate*}\n"
      ],
      "text/markdown": [
       "1. 'hi'\n",
       "2. 'hallo'\n",
       "3. 'mother\\'s'\n",
       "4. 'father\\'s'\n",
       "5. 'She said'\n",
       "6. 'hi'\n",
       "7. 'He said, \\'hi\\''\n",
       "\n",
       "\n"
      ],
      "text/plain": [
       "[1] \"hi\"            \"hallo\"         \"mother's\"      \"father's\"     \n",
       "[5] \"She said\"      \"hi\"            \"He said, 'hi'\""
      ]
     },
     "metadata": {},
     "output_type": "display_data"
    },
    {
     "name": "stdout",
     "output_type": "stream",
     "text": [
      "hi\n",
      "hallo\n",
      "mother's\n",
      "father's\n",
      "She said\n",
      "hi\n",
      "He said, 'hi'\n"
     ]
    },
    {
     "data": {
      "text/html": [
       "<ol class=list-inline>\n",
       "\t<li>TRUE</li>\n",
       "\t<li>FALSE</li>\n",
       "\t<li>TRUE</li>\n",
       "</ol>\n"
      ],
      "text/latex": [
       "\\begin{enumerate*}\n",
       "\\item TRUE\n",
       "\\item FALSE\n",
       "\\item TRUE\n",
       "\\end{enumerate*}\n"
      ],
      "text/markdown": [
       "1. TRUE\n",
       "2. FALSE\n",
       "3. TRUE\n",
       "\n",
       "\n"
      ],
      "text/plain": [
       "[1]  TRUE FALSE  TRUE"
      ]
     },
     "metadata": {},
     "output_type": "display_data"
    }
   ],
   "source": [
    "# numeric vector\n",
    "nums <- c(1.1, 3, -5.7)\n",
    "devs <- rnorm(5)\n",
    "devs\n",
    "\n",
    "# integer vector\n",
    "ints <- c(1L, 5L, -3L) # force storage as integer not decimal number\n",
    "# \"L\" is for \"long integer\" (historical)\n",
    "\n",
    "idevs <- sample(ints, 100, replace = TRUE)\n",
    "\n",
    "# character vector\n",
    "chars <- c(\"hi\", \"hallo\", \"mother's\", \"father\\'s\", \n",
    "   \"She said\", \"hi\", \"He said, \\'hi\\'\" )\n",
    "chars\n",
    "cat(chars, sep = \"\\n\")\n",
    "\n",
    "# logical vector\n",
    "bools <- c(TRUE, FALSE, TRUE)\n",
    "bools"
   ]
  },
  {
   "cell_type": "markdown",
   "metadata": {
    "slideshow": {
     "slide_type": "subslide"
    }
   },
   "source": [
    "## Variable Type \n",
    "- In R when we write `b = 30` this means the value of `30` is assigned to the `b` object. \n",
    "- R is a [dynamically typed](https://pythonconquerstheuniverse.wordpress.com/2009/10/03/static-vs-dynamic-typing-of-programming-languages/).\n",
    "- Unlike some languages, we don\"t have to declare the type of a variable before using it. \n",
    "- Variable type can also change with the reassignment of a variable. \n",
    "- We can query the class a value using the `class` function.\n",
    "- The `str` function gives additional details for complex objects like dataframes.\n",
    "\n"
   ]
  },
  {
   "cell_type": "code",
   "execution_count": 9,
   "metadata": {},
   "outputs": [
    {
     "name": "stdout",
     "output_type": "stream",
     "text": [
      "[1] \"The value of a is \" \"1\"                 \n",
      "[1] The value of a is  1                 \n"
     ]
    },
    {
     "data": {
      "text/html": [
       "'integer'"
      ],
      "text/latex": [
       "'integer'"
      ],
      "text/markdown": [
       "'integer'"
      ],
      "text/plain": [
       "[1] \"integer\""
      ]
     },
     "metadata": {},
     "output_type": "display_data"
    },
    {
     "name": "stdout",
     "output_type": "stream",
     "text": [
      " int 1\n",
      "[1] Now the value of a is  2.5                   \n"
     ]
    },
    {
     "data": {
      "text/html": [
       "'numeric'"
      ],
      "text/latex": [
       "'numeric'"
      ],
      "text/markdown": [
       "'numeric'"
      ],
      "text/plain": [
       "[1] \"numeric\""
      ]
     },
     "metadata": {},
     "output_type": "display_data"
    },
    {
     "name": "stdout",
     "output_type": "stream",
     "text": [
      " num 2.5\n",
      "[1] Now the value of a is  hello there           \n"
     ]
    },
    {
     "data": {
      "text/html": [
       "'character'"
      ],
      "text/latex": [
       "'character'"
      ],
      "text/markdown": [
       "'character'"
      ],
      "text/plain": [
       "[1] \"character\""
      ]
     },
     "metadata": {},
     "output_type": "display_data"
    },
    {
     "name": "stdout",
     "output_type": "stream",
     "text": [
      " chr \"hello there\"\n"
     ]
    }
   ],
   "source": [
    "a <- 1L\n",
    "print (c(\"The value of a is \", a))\n",
    "print (c(\"The value of a is \", a), quote=FALSE)\n",
    "class(a)\n",
    "str(a)\n",
    "\n",
    "a <- 2.5\n",
    "print (c(\"Now the value of a is \", a),quote=FALSE)\n",
    "class(a)\n",
    "str(a)\n",
    "\n",
    "a <- \"hello there\"\n",
    "print (c(\"Now the value of a is \", a ),quote=FALSE)\n",
    "class(a)\n",
    "str(a)"
   ]
  },
  {
   "cell_type": "markdown",
   "metadata": {
    "slideshow": {
     "slide_type": "subslide"
    }
   },
   "source": [
    "## Converting Values Between Types\n",
    "\n",
    "- We can convert values between different types.\n",
    "- To convert to string use the `as.character` function.\n",
    "- To convert to numeric use the `as.integer` function.\n",
    "- To convert to an integer use the `as.integer` function.\n",
    "- To convert to a boolean use the `as.logical` function.\n"
   ]
  },
  {
   "cell_type": "code",
   "execution_count": 10,
   "metadata": {},
   "outputs": [
    {
     "data": {
      "text/html": [
       "1"
      ],
      "text/latex": [
       "1"
      ],
      "text/markdown": [
       "1"
      ],
      "text/plain": [
       "[1] 1"
      ]
     },
     "metadata": {},
     "output_type": "display_data"
    },
    {
     "data": {
      "text/html": [
       "'integer'"
      ],
      "text/latex": [
       "'integer'"
      ],
      "text/markdown": [
       "'integer'"
      ],
      "text/plain": [
       "[1] \"integer\""
      ]
     },
     "metadata": {},
     "output_type": "display_data"
    },
    {
     "name": "stdout",
     "output_type": "stream",
     "text": [
      " int 1\n"
     ]
    },
    {
     "data": {
      "text/html": [
       "'1'"
      ],
      "text/latex": [
       "'1'"
      ],
      "text/markdown": [
       "'1'"
      ],
      "text/plain": [
       "[1] \"1\""
      ]
     },
     "metadata": {},
     "output_type": "display_data"
    },
    {
     "data": {
      "text/html": [
       "'character'"
      ],
      "text/latex": [
       "'character'"
      ],
      "text/markdown": [
       "'character'"
      ],
      "text/plain": [
       "[1] \"character\""
      ]
     },
     "metadata": {},
     "output_type": "display_data"
    },
    {
     "name": "stdout",
     "output_type": "stream",
     "text": [
      " chr \"1\"\n"
     ]
    },
    {
     "data": {
      "text/html": [
       "1"
      ],
      "text/latex": [
       "1"
      ],
      "text/markdown": [
       "1"
      ],
      "text/plain": [
       "[1] 1"
      ]
     },
     "metadata": {},
     "output_type": "display_data"
    },
    {
     "data": {
      "text/html": [
       "'numeric'"
      ],
      "text/latex": [
       "'numeric'"
      ],
      "text/markdown": [
       "'numeric'"
      ],
      "text/plain": [
       "[1] \"numeric\""
      ]
     },
     "metadata": {},
     "output_type": "display_data"
    },
    {
     "name": "stdout",
     "output_type": "stream",
     "text": [
      " num 1\n"
     ]
    },
    {
     "data": {
      "text/html": [
       "TRUE"
      ],
      "text/latex": [
       "TRUE"
      ],
      "text/markdown": [
       "TRUE"
      ],
      "text/plain": [
       "[1] TRUE"
      ]
     },
     "metadata": {},
     "output_type": "display_data"
    },
    {
     "data": {
      "text/html": [
       "'logical'"
      ],
      "text/latex": [
       "'logical'"
      ],
      "text/markdown": [
       "'logical'"
      ],
      "text/plain": [
       "[1] \"logical\""
      ]
     },
     "metadata": {},
     "output_type": "display_data"
    },
    {
     "name": "stdout",
     "output_type": "stream",
     "text": [
      " logi TRUE\n"
     ]
    }
   ],
   "source": [
    "#This is a way of specifying a long integer.\n",
    "a <- 1L\n",
    "a\n",
    "class(a)\n",
    "str(a)\n",
    "a<-as.character(a)\n",
    "a\n",
    "class(a)\n",
    "str(a)\n",
    "a<-as.numeric(a)\n",
    "a\n",
    "class(a)\n",
    "str(a)\n",
    "a<-as.logical(a)\n",
    "a\n",
    "class(a)\n",
    "str(a)\n"
   ]
  },
  {
   "cell_type": "markdown",
   "metadata": {
    "slideshow": {
     "slide_type": "subslide"
    }
   },
   "source": [
    "## Quotes \n",
    "- Double Quotes are preferred in R, though both will work as long as they aren't mixed. "
   ]
  },
  {
   "cell_type": "code",
   "execution_count": 11,
   "metadata": {},
   "outputs": [
    {
     "data": {
      "text/html": [
       "'character'"
      ],
      "text/latex": [
       "'character'"
      ],
      "text/markdown": [
       "'character'"
      ],
      "text/plain": [
       "[1] \"character\""
      ]
     },
     "metadata": {},
     "output_type": "display_data"
    },
    {
     "name": "stdout",
     "output_type": "stream",
     "text": [
      " chr \"hello\"\n"
     ]
    },
    {
     "data": {
      "text/html": [
       "'character'"
      ],
      "text/latex": [
       "'character'"
      ],
      "text/markdown": [
       "'character'"
      ],
      "text/plain": [
       "[1] \"character\""
      ]
     },
     "metadata": {},
     "output_type": "display_data"
    },
    {
     "name": "stdout",
     "output_type": "stream",
     "text": [
      " chr \"hello\"\n"
     ]
    }
   ],
   "source": [
    "#Double Quotes are preferred in R, though both will work as long as they aren't mixed. \n",
    "a <- \"hello\"\n",
    "class(a)\n",
    "str(a)\n",
    "a <- 'hello'\n",
    "class(a)\n",
    "str(a)"
   ]
  },
  {
   "cell_type": "markdown",
   "metadata": {
    "slideshow": {
     "slide_type": "subslide"
    }
   },
   "source": [
    "# Null Values\n",
    "\n",
    "- Since it was designed by statisticians, R handles missing values very well relative to other languages.\n",
    "- `NA` is a missing value\n"
   ]
  },
  {
   "cell_type": "code",
   "execution_count": 12,
   "metadata": {},
   "outputs": [
    {
     "data": {
      "text/html": [
       "&lt;NA&gt;"
      ],
      "text/latex": [
       "<NA>"
      ],
      "text/markdown": [
       "&lt;NA&gt;"
      ],
      "text/plain": [
       "[1] NA"
      ]
     },
     "metadata": {},
     "output_type": "display_data"
    },
    {
     "data": {
      "text/html": [
       "<ol class=list-inline>\n",
       "\t<li>-1.33644546389391</li>\n",
       "\t<li>1.87421154996928</li>\n",
       "\t<li>&lt;NA&gt;</li>\n",
       "\t<li>-0.217346245734894</li>\n",
       "\t<li>&lt;NA&gt;</li>\n",
       "\t<li>0.435770349019708</li>\n",
       "\t<li>-1.14025525433378</li>\n",
       "\t<li>-0.48345946330215</li>\n",
       "\t<li>-0.900282592359427</li>\n",
       "\t<li>-0.61861874592141</li>\n",
       "\t<li>1.04707474251708</li>\n",
       "\t<li>-1.50789510144605</li>\n",
       "</ol>\n"
      ],
      "text/latex": [
       "\\begin{enumerate*}\n",
       "\\item -1.33644546389391\n",
       "\\item 1.87421154996928\n",
       "\\item <NA>\n",
       "\\item -0.217346245734894\n",
       "\\item <NA>\n",
       "\\item 0.435770349019708\n",
       "\\item -1.14025525433378\n",
       "\\item -0.48345946330215\n",
       "\\item -0.900282592359427\n",
       "\\item -0.61861874592141\n",
       "\\item 1.04707474251708\n",
       "\\item -1.50789510144605\n",
       "\\end{enumerate*}\n"
      ],
      "text/markdown": [
       "1. -1.33644546389391\n",
       "2. 1.87421154996928\n",
       "3. &lt;NA&gt;\n",
       "4. -0.217346245734894\n",
       "5. &lt;NA&gt;\n",
       "6. 0.435770349019708\n",
       "7. -1.14025525433378\n",
       "8. -0.48345946330215\n",
       "9. -0.900282592359427\n",
       "10. -0.61861874592141\n",
       "11. 1.04707474251708\n",
       "12. -1.50789510144605\n",
       "\n",
       "\n"
      ],
      "text/plain": [
       " [1] -1.3364455  1.8742115         NA -0.2173462         NA  0.4357703\n",
       " [7] -1.1402553 -0.4834595 -0.9002826 -0.6186187  1.0470747 -1.5078951"
      ]
     },
     "metadata": {},
     "output_type": "display_data"
    },
    {
     "data": {
      "text/html": [
       "&lt;NA&gt;"
      ],
      "text/latex": [
       "<NA>"
      ],
      "text/markdown": [
       "&lt;NA&gt;"
      ],
      "text/plain": [
       "[1] NA"
      ]
     },
     "metadata": {},
     "output_type": "display_data"
    },
    {
     "data": {
      "text/html": [
       "-2.84724622548555"
      ],
      "text/latex": [
       "-2.84724622548555"
      ],
      "text/markdown": [
       "-2.84724622548555"
      ],
      "text/plain": [
       "[1] -2.847246"
      ]
     },
     "metadata": {},
     "output_type": "display_data"
    },
    {
     "data": {
      "text/html": [
       "<ol class=list-inline>\n",
       "\t<li>FALSE</li>\n",
       "\t<li>FALSE</li>\n",
       "\t<li>TRUE</li>\n",
       "\t<li>FALSE</li>\n",
       "\t<li>TRUE</li>\n",
       "\t<li>FALSE</li>\n",
       "\t<li>FALSE</li>\n",
       "\t<li>FALSE</li>\n",
       "\t<li>FALSE</li>\n",
       "\t<li>FALSE</li>\n",
       "\t<li>FALSE</li>\n",
       "\t<li>FALSE</li>\n",
       "</ol>\n"
      ],
      "text/latex": [
       "\\begin{enumerate*}\n",
       "\\item FALSE\n",
       "\\item FALSE\n",
       "\\item TRUE\n",
       "\\item FALSE\n",
       "\\item TRUE\n",
       "\\item FALSE\n",
       "\\item FALSE\n",
       "\\item FALSE\n",
       "\\item FALSE\n",
       "\\item FALSE\n",
       "\\item FALSE\n",
       "\\item FALSE\n",
       "\\end{enumerate*}\n"
      ],
      "text/markdown": [
       "1. FALSE\n",
       "2. FALSE\n",
       "3. TRUE\n",
       "4. FALSE\n",
       "5. TRUE\n",
       "6. FALSE\n",
       "7. FALSE\n",
       "8. FALSE\n",
       "9. FALSE\n",
       "10. FALSE\n",
       "11. FALSE\n",
       "12. FALSE\n",
       "\n",
       "\n"
      ],
      "text/plain": [
       " [1] FALSE FALSE  TRUE FALSE  TRUE FALSE FALSE FALSE FALSE FALSE FALSE FALSE"
      ]
     },
     "metadata": {},
     "output_type": "display_data"
    }
   ],
   "source": [
    "#Notice nothing is printed.\n",
    "a<-NA\n",
    "a\n",
    "vec <- rnorm(12)    #This creates a vector with randomly distributed values\n",
    "vec[c(3, 5)] <- NA  #This sets values 3 and 5 as NA\n",
    "vec                 #This prints the Vector\n",
    "sum(vec)            #What is the Sum of a vector that has NA?  \n",
    "sum(vec, na.rm = TRUE)   #This Sums the vector with the NA removed. \n",
    "is.na(vec)          #This returns a vector of whether specific values are equal to NA."
   ]
  },
  {
   "cell_type": "markdown",
   "metadata": {
    "slideshow": {
     "slide_type": "subslide"
    }
   },
   "source": [
    "## Logical/Boolean Vectors\n",
    "- Here we can see that summing and averaging boolean vectors treats `TRUE=1 & FALSE=0`"
   ]
  },
  {
   "cell_type": "code",
   "execution_count": 13,
   "metadata": {},
   "outputs": [
    {
     "data": {
      "text/html": [
       "2"
      ],
      "text/latex": [
       "2"
      ],
      "text/markdown": [
       "2"
      ],
      "text/plain": [
       "[1] 2"
      ]
     },
     "metadata": {},
     "output_type": "display_data"
    },
    {
     "data": {
      "text/html": [
       "0.5"
      ],
      "text/latex": [
       "0.5"
      ],
      "text/markdown": [
       "0.5"
      ],
      "text/plain": [
       "[1] 0.5"
      ]
     },
     "metadata": {},
     "output_type": "display_data"
    },
    {
     "data": {
      "text/html": [
       "<ol class=list-inline>\n",
       "\t<li>2</li>\n",
       "\t<li>1</li>\n",
       "\t<li>1</li>\n",
       "\t<li>0</li>\n",
       "</ol>\n"
      ],
      "text/latex": [
       "\\begin{enumerate*}\n",
       "\\item 2\n",
       "\\item 1\n",
       "\\item 1\n",
       "\\item 0\n",
       "\\end{enumerate*}\n"
      ],
      "text/markdown": [
       "1. 2\n",
       "2. 1\n",
       "3. 1\n",
       "4. 0\n",
       "\n",
       "\n"
      ],
      "text/plain": [
       "[1] 2 1 1 0"
      ]
     },
     "metadata": {},
     "output_type": "display_data"
    },
    {
     "data": {
      "text/html": [
       "'integer'"
      ],
      "text/latex": [
       "'integer'"
      ],
      "text/markdown": [
       "'integer'"
      ],
      "text/plain": [
       "[1] \"integer\""
      ]
     },
     "metadata": {},
     "output_type": "display_data"
    }
   ],
   "source": [
    "answers <- c(TRUE, TRUE, FALSE, FALSE)\n",
    "update <- c(TRUE, FALSE, TRUE, FALSE)\n",
    "\n",
    "# Here we see that True coul\n",
    "sum(answers)\n",
    "mean(answers)\n",
    "total<-answers + update\n",
    "total\n",
    "class(total)"
   ]
  },
  {
   "cell_type": "markdown",
   "metadata": {
    "slideshow": {
     "slide_type": "subslide"
    }
   },
   "source": [
    "## R Calculations\n",
    "- R can act as a basic calculator."
   ]
  },
  {
   "cell_type": "code",
   "execution_count": 9,
   "metadata": {},
   "outputs": [
    {
     "data": {
      "text/html": [
       "4"
      ],
      "text/latex": [
       "4"
      ],
      "text/markdown": [
       "4"
      ],
      "text/plain": [
       "[1] 4"
      ]
     },
     "metadata": {},
     "output_type": "display_data"
    },
    {
     "data": {
      "text/html": [
       "6.28318530717959"
      ],
      "text/latex": [
       "6.28318530717959"
      ],
      "text/markdown": [
       "6.28318530717959"
      ],
      "text/plain": [
       "[1] 6.283185"
      ]
     },
     "metadata": {},
     "output_type": "display_data"
    },
    {
     "data": {
      "text/html": [
       "7.38707033358514"
      ],
      "text/latex": [
       "7.38707033358514"
      ],
      "text/markdown": [
       "7.38707033358514"
      ],
      "text/plain": [
       "[1] 7.38707"
      ]
     },
     "metadata": {},
     "output_type": "display_data"
    },
    {
     "data": {
      "text/html": [
       "81"
      ],
      "text/latex": [
       "81"
      ],
      "text/markdown": [
       "81"
      ],
      "text/plain": [
       "[1] 81"
      ]
     },
     "metadata": {},
     "output_type": "display_data"
    },
    {
     "data": {
      "text/html": [
       "16"
      ],
      "text/latex": [
       "16"
      ],
      "text/markdown": [
       "16"
      ],
      "text/plain": [
       "[1] 16"
      ]
     },
     "metadata": {},
     "output_type": "display_data"
    },
    {
     "data": {
      "text/html": [
       "2.30258509299405"
      ],
      "text/latex": [
       "2.30258509299405"
      ],
      "text/markdown": [
       "2.30258509299405"
      ],
      "text/plain": [
       "[1] 2.302585"
      ]
     },
     "metadata": {},
     "output_type": "display_data"
    },
    {
     "data": {
      "text/html": [
       "2"
      ],
      "text/latex": [
       "2"
      ],
      "text/markdown": [
       "2"
      ],
      "text/plain": [
       "[1] 2"
      ]
     },
     "metadata": {},
     "output_type": "display_data"
    },
    {
     "data": {
      "text/html": [
       "11"
      ],
      "text/latex": [
       "11"
      ],
      "text/markdown": [
       "11"
      ],
      "text/plain": [
       "[1] 11"
      ]
     },
     "metadata": {},
     "output_type": "display_data"
    },
    {
     "data": {
      "text/html": [
       "1"
      ],
      "text/latex": [
       "1"
      ],
      "text/markdown": [
       "1"
      ],
      "text/plain": [
       "[1] 1"
      ]
     },
     "metadata": {},
     "output_type": "display_data"
    },
    {
     "data": {
      "text/html": [
       "5e+12"
      ],
      "text/latex": [
       "5e+12"
      ],
      "text/markdown": [
       "5e+12"
      ],
      "text/plain": [
       "[1] 5e+12"
      ]
     },
     "metadata": {},
     "output_type": "display_data"
    },
    {
     "data": {
      "text/html": [
       "5e+12"
      ],
      "text/latex": [
       "5e+12"
      ],
      "text/markdown": [
       "5e+12"
      ],
      "text/plain": [
       "[1] 5e+12"
      ]
     },
     "metadata": {},
     "output_type": "display_data"
    }
   ],
   "source": [
    "2 + 2 # add numbers\n",
    "2 * pi # multiply by a constant\n",
    "7 + runif(1) # add a random number\n",
    "3^4 # powers\n",
    "sqrt(4^4) # functions\n",
    "log(10)\n",
    "log(100, base = 10)\n",
    "23 %/% 2 \n",
    "23 %% 2\n",
    "\n",
    "# scientific notation\n",
    "5000000000 * 1000\n",
    "5e9 * 1e3"
   ]
  },
  {
   "cell_type": "markdown",
   "metadata": {
    "slideshow": {
     "slide_type": "subslide"
    }
   },
   "source": [
    "## Operations on Vectors\n",
    "- R can be used as a basic calculator.\n",
    "- We can do calculations on vectors easily. \n",
    "- Direct operations are much faster easier than looping.\n"
   ]
  },
  {
   "cell_type": "code",
   "execution_count": 11,
   "metadata": {},
   "outputs": [],
   "source": [
    "#vals <- rnorm(10)\n",
    "#squared2vals <- vals^2\n",
    "#sum_squared2vals <- sum(chi2vals)\n",
    "#ount_squared2vals<-length(squared2vals)  \n",
    "#vals\n",
    "#squared2vals\n",
    "#sum_df1000\n",
    "#count_squared2vals\n"
   ]
  },
  {
   "cell_type": "markdown",
   "metadata": {
    "slideshow": {
     "slide_type": "subslide"
    }
   },
   "source": [
    "## R is a Functional Language\n",
    "\n",
    "- Operations are carried out with functions. Functions take objects as inputs and return objects as outputs. \n",
    "- An analysis can be considered a pipeline of function calls, with output from a function used later in a subsequent operation as input to another function.\n",
    "- Functions themselves are objects. \n",
    "- We can get help on functions with help(lm) or ?lm"
   ]
  },
  {
   "cell_type": "code",
   "execution_count": 14,
   "metadata": {},
   "outputs": [
    {
     "data": {
      "text/html": [
       "0.644546626183949"
      ],
      "text/latex": [
       "0.644546626183949"
      ],
      "text/markdown": [
       "0.644546626183949"
      ],
      "text/plain": [
       "[1] 0.6445466"
      ]
     },
     "metadata": {},
     "output_type": "display_data"
    },
    {
     "data": {
      "text/html": [
       "'function'"
      ],
      "text/latex": [
       "'function'"
      ],
      "text/markdown": [
       "'function'"
      ],
      "text/plain": [
       "[1] \"function\""
      ]
     },
     "metadata": {},
     "output_type": "display_data"
    },
    {
     "data": {
      "text/html": [
       "0.644546626183949"
      ],
      "text/latex": [
       "0.644546626183949"
      ],
      "text/markdown": [
       "0.644546626183949"
      ],
      "text/plain": [
       "[1] 0.6445466"
      ]
     },
     "metadata": {},
     "output_type": "display_data"
    },
    {
     "data": {
      "text/html": [
       "0.631539617203971"
      ],
      "text/latex": [
       "0.631539617203971"
      ],
      "text/markdown": [
       "0.631539617203971"
      ],
      "text/plain": [
       "[1] 0.6315396"
      ]
     },
     "metadata": {},
     "output_type": "display_data"
    },
    {
     "data": {
      "text/html": [
       "\n",
       "<table width=\"100%\" summary=\"page for lm {stats}\"><tr><td>lm {stats}</td><td style=\"text-align: right;\">R Documentation</td></tr></table>\n",
       "\n",
       "<h2>Fitting Linear Models</h2>\n",
       "\n",
       "<h3>Description</h3>\n",
       "\n",
       "<p><code>lm</code> is used to fit linear models.\n",
       "It can be used to carry out regression,\n",
       "single stratum analysis of variance and\n",
       "analysis of covariance (although <code>aov</code> may provide a more\n",
       "convenient interface for these).\n",
       "</p>\n",
       "\n",
       "\n",
       "<h3>Usage</h3>\n",
       "\n",
       "<pre>\n",
       "lm(formula, data, subset, weights, na.action,\n",
       "   method = \"qr\", model = TRUE, x = FALSE, y = FALSE, qr = TRUE,\n",
       "   singular.ok = TRUE, contrasts = NULL, offset, ...)\n",
       "</pre>\n",
       "\n",
       "\n",
       "<h3>Arguments</h3>\n",
       "\n",
       "<table summary=\"R argblock\">\n",
       "<tr valign=\"top\"><td><code>formula</code></td>\n",
       "<td>\n",
       "<p>an object of class <code>\"formula\"</code> (or one that\n",
       "can be coerced to that class): a symbolic description of the\n",
       "model to be fitted.  The details of model specification are given\n",
       "under &lsquo;Details&rsquo;.</p>\n",
       "</td></tr>\n",
       "<tr valign=\"top\"><td><code>data</code></td>\n",
       "<td>\n",
       "<p>an optional data frame, list or environment (or object\n",
       "coercible by <code>as.data.frame</code> to a data frame) containing\n",
       "the variables in the model.  If not found in <code>data</code>, the\n",
       "variables are taken from <code>environment(formula)</code>,\n",
       "typically the environment from which <code>lm</code> is called.</p>\n",
       "</td></tr>\n",
       "<tr valign=\"top\"><td><code>subset</code></td>\n",
       "<td>\n",
       "<p>an optional vector specifying a subset of observations\n",
       "to be used in the fitting process.</p>\n",
       "</td></tr>\n",
       "<tr valign=\"top\"><td><code>weights</code></td>\n",
       "<td>\n",
       "<p>an optional vector of weights to be used in the fitting\n",
       "process.  Should be <code>NULL</code> or a numeric vector.\n",
       "If non-NULL, weighted least squares is used with weights\n",
       "<code>weights</code> (that is, minimizing <code>sum(w*e^2)</code>); otherwise\n",
       "ordinary least squares is used.  See also &lsquo;Details&rsquo;,</p>\n",
       "</td></tr>\n",
       "<tr valign=\"top\"><td><code>na.action</code></td>\n",
       "<td>\n",
       "<p>a function which indicates what should happen\n",
       "when the data contain <code>NA</code>s.  The default is set by\n",
       "the <code>na.action</code> setting of <code>options</code>, and is\n",
       "<code>na.fail</code> if that is unset.  The &lsquo;factory-fresh&rsquo;\n",
       "default is <code>na.omit</code>.  Another possible value is\n",
       "<code>NULL</code>, no action.  Value <code>na.exclude</code> can be useful.</p>\n",
       "</td></tr>\n",
       "<tr valign=\"top\"><td><code>method</code></td>\n",
       "<td>\n",
       "<p>the method to be used; for fitting, currently only\n",
       "<code>method = \"qr\"</code> is supported; <code>method = \"model.frame\"</code> returns\n",
       "the model frame (the same as with <code>model = TRUE</code>, see below).</p>\n",
       "</td></tr>\n",
       "<tr valign=\"top\"><td><code>model, x, y, qr</code></td>\n",
       "<td>\n",
       "<p>logicals.  If <code>TRUE</code> the corresponding\n",
       "components of the fit (the model frame, the model matrix, the\n",
       "response, the QR decomposition) are returned.\n",
       "</p>\n",
       "</td></tr>\n",
       "<tr valign=\"top\"><td><code>singular.ok</code></td>\n",
       "<td>\n",
       "<p>logical. If <code>FALSE</code> (the default in S but\n",
       "not in <span style=\"font-family: Courier New, Courier; color: #666666;\"><b>R</b></span>) a singular fit is an error.</p>\n",
       "</td></tr>\n",
       "<tr valign=\"top\"><td><code>contrasts</code></td>\n",
       "<td>\n",
       "<p>an optional list. See the <code>contrasts.arg</code>\n",
       "of <code>model.matrix.default</code>.</p>\n",
       "</td></tr>\n",
       "<tr valign=\"top\"><td><code>offset</code></td>\n",
       "<td>\n",
       "<p>this can be used to specify an <em>a priori</em> known\n",
       "component to be included in the linear predictor during fitting.\n",
       "This should be <code>NULL</code> or a numeric vector of length equal to\n",
       "the number of cases.  One or more <code>offset</code> terms can be\n",
       "included in the formula instead or as well, and if more than one are\n",
       "specified their sum is used.  See <code>model.offset</code>.</p>\n",
       "</td></tr>\n",
       "<tr valign=\"top\"><td><code>...</code></td>\n",
       "<td>\n",
       "<p>additional arguments to be passed to the low level\n",
       "regression fitting functions (see below).</p>\n",
       "</td></tr>\n",
       "</table>\n",
       "\n",
       "\n",
       "<h3>Details</h3>\n",
       "\n",
       "<p>Models for <code>lm</code> are specified symbolically.  A typical model has\n",
       "the form <code>response ~ terms</code> where <code>response</code> is the (numeric)\n",
       "response vector and <code>terms</code> is a series of terms which specifies a\n",
       "linear predictor for <code>response</code>.  A terms specification of the form\n",
       "<code>first + second</code> indicates all the terms in <code>first</code> together\n",
       "with all the terms in <code>second</code> with duplicates removed.  A\n",
       "specification of the form <code>first:second</code> indicates the set of\n",
       "terms obtained by taking the interactions of all terms in <code>first</code>\n",
       "with all terms in <code>second</code>.  The specification <code>first*second</code>\n",
       "indicates the <em>cross</em> of <code>first</code> and <code>second</code>.  This is\n",
       "the same as <code>first + second + first:second</code>.\n",
       "</p>\n",
       "<p>If the formula includes an <code>offset</code>, this is evaluated and\n",
       "subtracted from the response.\n",
       "</p>\n",
       "<p>If <code>response</code> is a matrix a linear model is fitted separately by\n",
       "least-squares to each column of the matrix.\n",
       "</p>\n",
       "<p>See <code>model.matrix</code> for some further details.  The terms in\n",
       "the formula will be re-ordered so that main effects come first,\n",
       "followed by the interactions, all second-order, all third-order and so\n",
       "on: to avoid this pass a <code>terms</code> object as the formula (see\n",
       "<code>aov</code> and <code>demo(glm.vr)</code> for an example).\n",
       "</p>\n",
       "<p>A formula has an implied intercept term.  To remove this use either\n",
       "<code>y ~ x - 1</code> or <code>y ~ 0 + x</code>.  See <code>formula</code> for\n",
       "more details of allowed formulae.\n",
       "</p>\n",
       "<p>Non-<code>NULL</code> <code>weights</code> can be used to indicate that\n",
       "different observations have different variances (with the values in\n",
       "<code>weights</code> being inversely proportional to the variances); or\n",
       "equivalently, when the elements of <code>weights</code> are positive\n",
       "integers <i>w_i</i>, that each response <i>y_i</i> is the mean of\n",
       "<i>w_i</i> unit-weight observations (including the case that there\n",
       "are <i>w_i</i> observations equal to <i>y_i</i> and the data have been\n",
       "summarized). However, in the latter case, notice that within-group\n",
       "variation is not used.  Therefore, the sigma estimate and residual\n",
       "degrees of freedom may be suboptimal; in the case of replication\n",
       "weights, even wrong. Hence, standard errors and analysis of variance\n",
       "tables should be treated with care.\n",
       "</p>\n",
       "<p><code>lm</code> calls the lower level functions <code>lm.fit</code>, etc,\n",
       "see below, for the actual numerical computations.  For programming\n",
       "only, you may consider doing likewise.\n",
       "</p>\n",
       "<p>All of <code>weights</code>, <code>subset</code> and <code>offset</code> are evaluated\n",
       "in the same way as variables in <code>formula</code>, that is first in\n",
       "<code>data</code> and then in the environment of <code>formula</code>.\n",
       "</p>\n",
       "\n",
       "\n",
       "<h3>Value</h3>\n",
       "\n",
       "<p><code>lm</code> returns an object of <code>class</code> <code>\"lm\"</code> or for\n",
       "multiple responses of class <code>c(\"mlm\", \"lm\")</code>.\n",
       "</p>\n",
       "<p>The functions <code>summary</code> and <code>anova</code> are used to\n",
       "obtain and print a summary and analysis of variance table of the\n",
       "results.  The generic accessor functions <code>coefficients</code>,\n",
       "<code>effects</code>, <code>fitted.values</code> and <code>residuals</code> extract\n",
       "various useful features of the value returned by <code>lm</code>.\n",
       "</p>\n",
       "<p>An object of class <code>\"lm\"</code> is a list containing at least the\n",
       "following components:\n",
       "</p>\n",
       "<table summary=\"R valueblock\">\n",
       "<tr valign=\"top\"><td><code>coefficients</code></td>\n",
       "<td>\n",
       "<p>a named vector of coefficients</p>\n",
       "</td></tr>\n",
       "<tr valign=\"top\"><td><code>residuals</code></td>\n",
       "<td>\n",
       "<p>the residuals, that is response minus fitted values.</p>\n",
       "</td></tr>\n",
       "<tr valign=\"top\"><td><code>fitted.values</code></td>\n",
       "<td>\n",
       "<p>the fitted mean values.</p>\n",
       "</td></tr>\n",
       "<tr valign=\"top\"><td><code>rank</code></td>\n",
       "<td>\n",
       "<p>the numeric rank of the fitted linear model.</p>\n",
       "</td></tr>\n",
       "<tr valign=\"top\"><td><code>weights</code></td>\n",
       "<td>\n",
       "<p>(only for weighted fits) the specified weights.</p>\n",
       "</td></tr>\n",
       "<tr valign=\"top\"><td><code>df.residual</code></td>\n",
       "<td>\n",
       "<p>the residual degrees of freedom.</p>\n",
       "</td></tr>\n",
       "<tr valign=\"top\"><td><code>call</code></td>\n",
       "<td>\n",
       "<p>the matched call.</p>\n",
       "</td></tr>\n",
       "<tr valign=\"top\"><td><code>terms</code></td>\n",
       "<td>\n",
       "<p>the <code>terms</code> object used.</p>\n",
       "</td></tr>\n",
       "<tr valign=\"top\"><td><code>contrasts</code></td>\n",
       "<td>\n",
       "<p>(only where relevant) the contrasts used.</p>\n",
       "</td></tr>\n",
       "<tr valign=\"top\"><td><code>xlevels</code></td>\n",
       "<td>\n",
       "<p>(only where relevant) a record of the levels of the\n",
       "factors used in fitting.</p>\n",
       "</td></tr>\n",
       "<tr valign=\"top\"><td><code>offset</code></td>\n",
       "<td>\n",
       "<p>the offset used (missing if none were used).</p>\n",
       "</td></tr>\n",
       "<tr valign=\"top\"><td><code>y</code></td>\n",
       "<td>\n",
       "<p>if requested, the response used.</p>\n",
       "</td></tr>\n",
       "<tr valign=\"top\"><td><code>x</code></td>\n",
       "<td>\n",
       "<p>if requested, the model matrix used.</p>\n",
       "</td></tr>\n",
       "<tr valign=\"top\"><td><code>model</code></td>\n",
       "<td>\n",
       "<p>if requested (the default), the model frame used.</p>\n",
       "</td></tr>\n",
       "<tr valign=\"top\"><td><code>na.action</code></td>\n",
       "<td>\n",
       "<p>(where relevant) information returned by\n",
       "<code>model.frame</code> on the special handling of <code>NA</code>s.</p>\n",
       "</td></tr>\n",
       "</table>\n",
       "<p>In addition, non-null fits will have components <code>assign</code>,\n",
       "<code>effects</code> and (unless not requested) <code>qr</code> relating to the linear\n",
       "fit, for use by extractor functions such as <code>summary</code> and\n",
       "<code>effects</code>.\n",
       "</p>\n",
       "\n",
       "\n",
       "<h3>Using time series</h3>\n",
       "\n",
       "<p>Considerable care is needed when using <code>lm</code> with time series.\n",
       "</p>\n",
       "<p>Unless <code>na.action = NULL</code>, the time series attributes are\n",
       "stripped from the variables before the regression is done.  (This is\n",
       "necessary as omitting <code>NA</code>s would invalidate the time series\n",
       "attributes, and if <code>NA</code>s are omitted in the middle of the series\n",
       "the result would no longer be a regular time series.)\n",
       "</p>\n",
       "<p>Even if the time series attributes are retained, they are not used to\n",
       "line up series, so that the time shift of a lagged or differenced\n",
       "regressor would be ignored.  It is good practice to prepare a\n",
       "<code>data</code> argument by <code>ts.intersect(..., dframe = TRUE)</code>,\n",
       "then apply a suitable <code>na.action</code> to that data frame and call\n",
       "<code>lm</code> with <code>na.action = NULL</code> so that residuals and fitted\n",
       "values are time series.\n",
       "</p>\n",
       "\n",
       "\n",
       "<h3>Note</h3>\n",
       "\n",
       "<p>Offsets specified by <code>offset</code> will not be included in predictions\n",
       "by <code>predict.lm</code>, whereas those specified by an offset term\n",
       "in the formula will be.\n",
       "</p>\n",
       "\n",
       "\n",
       "<h3>Author(s)</h3>\n",
       "\n",
       "<p>The design was inspired by the S function of the same name described\n",
       "in Chambers (1992).  The implementation of model formula by Ross Ihaka\n",
       "was based on Wilkinson &amp; Rogers (1973).\n",
       "</p>\n",
       "\n",
       "\n",
       "<h3>References</h3>\n",
       "\n",
       "<p>Chambers, J. M. (1992)\n",
       "<em>Linear models.</em>\n",
       "Chapter 4 of <em>Statistical Models in S</em>\n",
       "eds J. M. Chambers and T. J. Hastie, Wadsworth &amp; Brooks/Cole.\n",
       "</p>\n",
       "<p>Wilkinson, G. N. and Rogers, C. E. (1973).\n",
       "Symbolic descriptions of factorial models for analysis of variance.\n",
       "<em>Applied Statistics</em>, <b>22</b>, 392&ndash;399.\n",
       "doi: <a href=\"http://doi.org/10.2307/2346786\">10.2307/2346786</a>.\n",
       "</p>\n",
       "\n",
       "\n",
       "<h3>See Also</h3>\n",
       "\n",
       "<p><code>summary.lm</code> for summaries and <code>anova.lm</code> for\n",
       "the ANOVA table; <code>aov</code> for a different interface.\n",
       "</p>\n",
       "<p>The generic functions <code>coef</code>, <code>effects</code>,\n",
       "<code>residuals</code>, <code>fitted</code>, <code>vcov</code>.\n",
       "</p>\n",
       "<p><code>predict.lm</code> (via <code>predict</code>) for prediction,\n",
       "including confidence and prediction intervals;\n",
       "<code>confint</code> for confidence intervals of <em>parameters</em>.\n",
       "</p>\n",
       "<p><code>lm.influence</code> for regression diagnostics, and\n",
       "<code>glm</code> for <b>generalized</b> linear models.\n",
       "</p>\n",
       "<p>The underlying low level functions,\n",
       "<code>lm.fit</code> for plain, and <code>lm.wfit</code> for weighted\n",
       "regression fitting.\n",
       "</p>\n",
       "<p>More <code>lm()</code> examples are available e.g., in\n",
       "<code>anscombe</code>, <code>attitude</code>, <code>freeny</code>,\n",
       "<code>LifeCycleSavings</code>, <code>longley</code>,\n",
       "<code>stackloss</code>, <code>swiss</code>.\n",
       "</p>\n",
       "<p><code>biglm</code> in package <a href=\"https://CRAN.R-project.org/package=biglm\"><span class=\"pkg\">biglm</span></a> for an alternative\n",
       "way to fit linear models to large datasets (especially those with many\n",
       "cases).\n",
       "</p>\n",
       "\n",
       "\n",
       "<h3>Examples</h3>\n",
       "\n",
       "<pre>\n",
       "require(graphics)\n",
       "\n",
       "## Annette Dobson (1990) \"An Introduction to Generalized Linear Models\".\n",
       "## Page 9: Plant Weight Data.\n",
       "ctl &lt;- c(4.17,5.58,5.18,6.11,4.50,4.61,5.17,4.53,5.33,5.14)\n",
       "trt &lt;- c(4.81,4.17,4.41,3.59,5.87,3.83,6.03,4.89,4.32,4.69)\n",
       "group &lt;- gl(2, 10, 20, labels = c(\"Ctl\",\"Trt\"))\n",
       "weight &lt;- c(ctl, trt)\n",
       "lm.D9 &lt;- lm(weight ~ group)\n",
       "lm.D90 &lt;- lm(weight ~ group - 1) # omitting intercept\n",
       "\n",
       "anova(lm.D9)\n",
       "summary(lm.D90)\n",
       "\n",
       "opar &lt;- par(mfrow = c(2,2), oma = c(0, 0, 1.1, 0))\n",
       "plot(lm.D9, las = 1)      # Residuals, Fitted, ...\n",
       "par(opar)\n",
       "\n",
       "### less simple examples in \"See Also\" above\n",
       "</pre>\n",
       "\n",
       "<hr /><div style=\"text-align: center;\">[Package <em>stats</em> version 3.5.1 ]</div>"
      ],
      "text/latex": [
       "\\inputencoding{utf8}\n",
       "\\HeaderA{lm}{Fitting Linear Models}{lm}\n",
       "\\keyword{regression}{lm}\n",
       "%\n",
       "\\begin{Description}\\relax\n",
       "\\code{lm} is used to fit linear models.\n",
       "It can be used to carry out regression,\n",
       "single stratum analysis of variance and\n",
       "analysis of covariance (although \\code{\\LinkA{aov}{aov}} may provide a more\n",
       "convenient interface for these).\n",
       "\\end{Description}\n",
       "%\n",
       "\\begin{Usage}\n",
       "\\begin{verbatim}\n",
       "lm(formula, data, subset, weights, na.action,\n",
       "   method = \"qr\", model = TRUE, x = FALSE, y = FALSE, qr = TRUE,\n",
       "   singular.ok = TRUE, contrasts = NULL, offset, ...)\n",
       "\\end{verbatim}\n",
       "\\end{Usage}\n",
       "%\n",
       "\\begin{Arguments}\n",
       "\\begin{ldescription}\n",
       "\\item[\\code{formula}] an object of class \\code{\"\\LinkA{formula}{formula}\"} (or one that\n",
       "can be coerced to that class): a symbolic description of the\n",
       "model to be fitted.  The details of model specification are given\n",
       "under `Details'.\n",
       "\n",
       "\\item[\\code{data}] an optional data frame, list or environment (or object\n",
       "coercible by \\code{\\LinkA{as.data.frame}{as.data.frame}} to a data frame) containing\n",
       "the variables in the model.  If not found in \\code{data}, the\n",
       "variables are taken from \\code{environment(formula)},\n",
       "typically the environment from which \\code{lm} is called.\n",
       "\n",
       "\\item[\\code{subset}] an optional vector specifying a subset of observations\n",
       "to be used in the fitting process.\n",
       "\n",
       "\\item[\\code{weights}] an optional vector of weights to be used in the fitting\n",
       "process.  Should be \\code{NULL} or a numeric vector.\n",
       "If non-NULL, weighted least squares is used with weights\n",
       "\\code{weights} (that is, minimizing \\code{sum(w*e\\textasciicircum{}2)}); otherwise\n",
       "ordinary least squares is used.  See also `Details',\n",
       "\n",
       "\\item[\\code{na.action}] a function which indicates what should happen\n",
       "when the data contain \\code{NA}s.  The default is set by\n",
       "the \\code{na.action} setting of \\code{\\LinkA{options}{options}}, and is\n",
       "\\code{\\LinkA{na.fail}{na.fail}} if that is unset.  The `factory-fresh'\n",
       "default is \\code{\\LinkA{na.omit}{na.omit}}.  Another possible value is\n",
       "\\code{NULL}, no action.  Value \\code{\\LinkA{na.exclude}{na.exclude}} can be useful.\n",
       "\n",
       "\\item[\\code{method}] the method to be used; for fitting, currently only\n",
       "\\code{method = \"qr\"} is supported; \\code{method = \"model.frame\"} returns\n",
       "the model frame (the same as with \\code{model = TRUE}, see below).\n",
       "\n",
       "\\item[\\code{model, x, y, qr}] logicals.  If \\code{TRUE} the corresponding\n",
       "components of the fit (the model frame, the model matrix, the\n",
       "response, the QR decomposition) are returned.\n",
       "\n",
       "\n",
       "\\item[\\code{singular.ok}] logical. If \\code{FALSE} (the default in S but\n",
       "not in \\R{}) a singular fit is an error.\n",
       "\n",
       "\\item[\\code{contrasts}] an optional list. See the \\code{contrasts.arg}\n",
       "of \\code{\\LinkA{model.matrix.default}{model.matrix.default}}.\n",
       "\n",
       "\\item[\\code{offset}] this can be used to specify an \\emph{a priori} known\n",
       "component to be included in the linear predictor during fitting.\n",
       "This should be \\code{NULL} or a numeric vector of length equal to\n",
       "the number of cases.  One or more \\code{\\LinkA{offset}{offset}} terms can be\n",
       "included in the formula instead or as well, and if more than one are\n",
       "specified their sum is used.  See \\code{\\LinkA{model.offset}{model.offset}}.\n",
       "\n",
       "\\item[\\code{...}] additional arguments to be passed to the low level\n",
       "regression fitting functions (see below).\n",
       "\\end{ldescription}\n",
       "\\end{Arguments}\n",
       "%\n",
       "\\begin{Details}\\relax\n",
       "Models for \\code{lm} are specified symbolically.  A typical model has\n",
       "the form \\code{response \\textasciitilde{} terms} where \\code{response} is the (numeric)\n",
       "response vector and \\code{terms} is a series of terms which specifies a\n",
       "linear predictor for \\code{response}.  A terms specification of the form\n",
       "\\code{first + second} indicates all the terms in \\code{first} together\n",
       "with all the terms in \\code{second} with duplicates removed.  A\n",
       "specification of the form \\code{first:second} indicates the set of\n",
       "terms obtained by taking the interactions of all terms in \\code{first}\n",
       "with all terms in \\code{second}.  The specification \\code{first*second}\n",
       "indicates the \\emph{cross} of \\code{first} and \\code{second}.  This is\n",
       "the same as \\code{first + second + first:second}.\n",
       "\n",
       "If the formula includes an \\code{\\LinkA{offset}{offset}}, this is evaluated and\n",
       "subtracted from the response.\n",
       "\n",
       "If \\code{response} is a matrix a linear model is fitted separately by\n",
       "least-squares to each column of the matrix.\n",
       "\n",
       "See \\code{\\LinkA{model.matrix}{model.matrix}} for some further details.  The terms in\n",
       "the formula will be re-ordered so that main effects come first,\n",
       "followed by the interactions, all second-order, all third-order and so\n",
       "on: to avoid this pass a \\code{terms} object as the formula (see\n",
       "\\code{\\LinkA{aov}{aov}} and \\code{demo(glm.vr)} for an example).\n",
       "\n",
       "A formula has an implied intercept term.  To remove this use either\n",
       "\\code{y \\textasciitilde{} x - 1} or \\code{y \\textasciitilde{} 0 + x}.  See \\code{\\LinkA{formula}{formula}} for\n",
       "more details of allowed formulae.\n",
       "\n",
       "Non-\\code{NULL} \\code{weights} can be used to indicate that\n",
       "different observations have different variances (with the values in\n",
       "\\code{weights} being inversely proportional to the variances); or\n",
       "equivalently, when the elements of \\code{weights} are positive\n",
       "integers \\eqn{w_i}{}, that each response \\eqn{y_i}{} is the mean of\n",
       "\\eqn{w_i}{} unit-weight observations (including the case that there\n",
       "are \\eqn{w_i}{} observations equal to \\eqn{y_i}{} and the data have been\n",
       "summarized). However, in the latter case, notice that within-group\n",
       "variation is not used.  Therefore, the sigma estimate and residual\n",
       "degrees of freedom may be suboptimal; in the case of replication\n",
       "weights, even wrong. Hence, standard errors and analysis of variance\n",
       "tables should be treated with care.\n",
       "\n",
       "\\code{lm} calls the lower level functions \\code{\\LinkA{lm.fit}{lm.fit}}, etc,\n",
       "see below, for the actual numerical computations.  For programming\n",
       "only, you may consider doing likewise.\n",
       "\n",
       "All of \\code{weights}, \\code{subset} and \\code{offset} are evaluated\n",
       "in the same way as variables in \\code{formula}, that is first in\n",
       "\\code{data} and then in the environment of \\code{formula}.\n",
       "\\end{Details}\n",
       "%\n",
       "\\begin{Value}\n",
       "\\code{lm} returns an object of \\code{\\LinkA{class}{class}} \\code{\"lm\"} or for\n",
       "multiple responses of class \\code{c(\"mlm\", \"lm\")}.\n",
       "\n",
       "The functions \\code{summary} and \\code{\\LinkA{anova}{anova}} are used to\n",
       "obtain and print a summary and analysis of variance table of the\n",
       "results.  The generic accessor functions \\code{coefficients},\n",
       "\\code{effects}, \\code{fitted.values} and \\code{residuals} extract\n",
       "various useful features of the value returned by \\code{lm}.\n",
       "\n",
       "An object of class \\code{\"lm\"} is a list containing at least the\n",
       "following components:\n",
       "\n",
       "\\begin{ldescription}\n",
       "\\item[\\code{coefficients}] a named vector of coefficients\n",
       "\\item[\\code{residuals}] the residuals, that is response minus fitted values.\n",
       "\\item[\\code{fitted.values}] the fitted mean values.\n",
       "\\item[\\code{rank}] the numeric rank of the fitted linear model.\n",
       "\\item[\\code{weights}] (only for weighted fits) the specified weights.\n",
       "\\item[\\code{df.residual}] the residual degrees of freedom.\n",
       "\\item[\\code{call}] the matched call.\n",
       "\\item[\\code{terms}] the \\code{\\LinkA{terms}{terms}} object used.\n",
       "\\item[\\code{contrasts}] (only where relevant) the contrasts used.\n",
       "\\item[\\code{xlevels}] (only where relevant) a record of the levels of the\n",
       "factors used in fitting.\n",
       "\\item[\\code{offset}] the offset used (missing if none were used).\n",
       "\\item[\\code{y}] if requested, the response used.\n",
       "\\item[\\code{x}] if requested, the model matrix used.\n",
       "\\item[\\code{model}] if requested (the default), the model frame used.\n",
       "\\item[\\code{na.action}] (where relevant) information returned by\n",
       "\\code{\\LinkA{model.frame}{model.frame}} on the special handling of \\code{NA}s.\n",
       "\n",
       "\\end{ldescription}\n",
       "In addition, non-null fits will have components \\code{assign},\n",
       "\\code{effects} and (unless not requested) \\code{qr} relating to the linear\n",
       "fit, for use by extractor functions such as \\code{summary} and\n",
       "\\code{\\LinkA{effects}{effects}}.\n",
       "\\end{Value}\n",
       "%\n",
       "\\begin{Section}{Using time series}\n",
       "Considerable care is needed when using \\code{lm} with time series.\n",
       "\n",
       "Unless \\code{na.action = NULL}, the time series attributes are\n",
       "stripped from the variables before the regression is done.  (This is\n",
       "necessary as omitting \\code{NA}s would invalidate the time series\n",
       "attributes, and if \\code{NA}s are omitted in the middle of the series\n",
       "the result would no longer be a regular time series.)\n",
       "\n",
       "Even if the time series attributes are retained, they are not used to\n",
       "line up series, so that the time shift of a lagged or differenced\n",
       "regressor would be ignored.  It is good practice to prepare a\n",
       "\\code{data} argument by \\code{\\LinkA{ts.intersect}{ts.intersect}(..., dframe = TRUE)},\n",
       "then apply a suitable \\code{na.action} to that data frame and call\n",
       "\\code{lm} with \\code{na.action = NULL} so that residuals and fitted\n",
       "values are time series.\n",
       "\\end{Section}\n",
       "%\n",
       "\\begin{Note}\\relax\n",
       "Offsets specified by \\code{offset} will not be included in predictions\n",
       "by \\code{\\LinkA{predict.lm}{predict.lm}}, whereas those specified by an offset term\n",
       "in the formula will be.\n",
       "\\end{Note}\n",
       "%\n",
       "\\begin{Author}\\relax\n",
       "The design was inspired by the S function of the same name described\n",
       "in Chambers (1992).  The implementation of model formula by Ross Ihaka\n",
       "was based on Wilkinson \\& Rogers (1973).\n",
       "\\end{Author}\n",
       "%\n",
       "\\begin{References}\\relax\n",
       "Chambers, J. M. (1992)\n",
       "\\emph{Linear models.}\n",
       "Chapter 4 of \\emph{Statistical Models in S}\n",
       "eds J. M. Chambers and T. J. Hastie, Wadsworth \\& Brooks/Cole.\n",
       "\n",
       "Wilkinson, G. N. and Rogers, C. E. (1973).\n",
       "Symbolic descriptions of factorial models for analysis of variance.\n",
       "\\emph{Applied Statistics}, \\bold{22}, 392--399.\n",
       "doi:\\nobreakspace{}\\Rhref{http://doi.org/10.2307/2346786}{10.2307\\slash{}2346786}.\n",
       "\\end{References}\n",
       "%\n",
       "\\begin{SeeAlso}\\relax\n",
       "\\code{\\LinkA{summary.lm}{summary.lm}} for summaries and \\code{\\LinkA{anova.lm}{anova.lm}} for\n",
       "the ANOVA table; \\code{\\LinkA{aov}{aov}} for a different interface.\n",
       "\n",
       "The generic functions \\code{\\LinkA{coef}{coef}}, \\code{\\LinkA{effects}{effects}},\n",
       "\\code{\\LinkA{residuals}{residuals}}, \\code{\\LinkA{fitted}{fitted}}, \\code{\\LinkA{vcov}{vcov}}.\n",
       "\n",
       "\\code{\\LinkA{predict.lm}{predict.lm}} (via \\code{\\LinkA{predict}{predict}}) for prediction,\n",
       "including confidence and prediction intervals;\n",
       "\\code{\\LinkA{confint}{confint}} for confidence intervals of \\emph{parameters}.\n",
       "\n",
       "\\code{\\LinkA{lm.influence}{lm.influence}} for regression diagnostics, and\n",
       "\\code{\\LinkA{glm}{glm}} for \\bold{generalized} linear models.\n",
       "\n",
       "The underlying low level functions,\n",
       "\\code{\\LinkA{lm.fit}{lm.fit}} for plain, and \\code{\\LinkA{lm.wfit}{lm.wfit}} for weighted\n",
       "regression fitting.\n",
       "\n",
       "More \\code{lm()} examples are available e.g., in\n",
       "\\code{\\LinkA{anscombe}{anscombe}}, \\code{\\LinkA{attitude}{attitude}}, \\code{\\LinkA{freeny}{freeny}},\n",
       "\\code{\\LinkA{LifeCycleSavings}{LifeCycleSavings}}, \\code{\\LinkA{longley}{longley}},\n",
       "\\code{\\LinkA{stackloss}{stackloss}}, \\code{\\LinkA{swiss}{swiss}}.\n",
       "\n",
       "\\code{biglm} in package \\Rhref{https://CRAN.R-project.org/package=biglm}{\\pkg{biglm}} for an alternative\n",
       "way to fit linear models to large datasets (especially those with many\n",
       "cases).\n",
       "\\end{SeeAlso}\n",
       "%\n",
       "\\begin{Examples}\n",
       "\\begin{ExampleCode}\n",
       "require(graphics)\n",
       "\n",
       "## Annette Dobson (1990) \"An Introduction to Generalized Linear Models\".\n",
       "## Page 9: Plant Weight Data.\n",
       "ctl <- c(4.17,5.58,5.18,6.11,4.50,4.61,5.17,4.53,5.33,5.14)\n",
       "trt <- c(4.81,4.17,4.41,3.59,5.87,3.83,6.03,4.89,4.32,4.69)\n",
       "group <- gl(2, 10, 20, labels = c(\"Ctl\",\"Trt\"))\n",
       "weight <- c(ctl, trt)\n",
       "lm.D9 <- lm(weight ~ group)\n",
       "lm.D90 <- lm(weight ~ group - 1) # omitting intercept\n",
       "\n",
       "anova(lm.D9)\n",
       "summary(lm.D90)\n",
       "\n",
       "opar <- par(mfrow = c(2,2), oma = c(0, 0, 1.1, 0))\n",
       "plot(lm.D9, las = 1)      # Residuals, Fitted, ...\n",
       "par(opar)\n",
       "\n",
       "### less simple examples in \"See Also\" above\n",
       "\\end{ExampleCode}\n",
       "\\end{Examples}"
      ],
      "text/plain": [
       "lm                    package:stats                    R Documentation\n",
       "\n",
       "_\bF_\bi_\bt_\bt_\bi_\bn_\bg _\bL_\bi_\bn_\be_\ba_\br _\bM_\bo_\bd_\be_\bl_\bs\n",
       "\n",
       "_\bD_\be_\bs_\bc_\br_\bi_\bp_\bt_\bi_\bo_\bn:\n",
       "\n",
       "     ‘lm’ is used to fit linear models.  It can be used to carry out\n",
       "     regression, single stratum analysis of variance and analysis of\n",
       "     covariance (although ‘aov’ may provide a more convenient interface\n",
       "     for these).\n",
       "\n",
       "_\bU_\bs_\ba_\bg_\be:\n",
       "\n",
       "     lm(formula, data, subset, weights, na.action,\n",
       "        method = \"qr\", model = TRUE, x = FALSE, y = FALSE, qr = TRUE,\n",
       "        singular.ok = TRUE, contrasts = NULL, offset, ...)\n",
       "     \n",
       "_\bA_\br_\bg_\bu_\bm_\be_\bn_\bt_\bs:\n",
       "\n",
       " formula: an object of class ‘\"formula\"’ (or one that can be coerced to\n",
       "          that class): a symbolic description of the model to be\n",
       "          fitted.  The details of model specification are given under\n",
       "          ‘Details’.\n",
       "\n",
       "    data: an optional data frame, list or environment (or object\n",
       "          coercible by ‘as.data.frame’ to a data frame) containing the\n",
       "          variables in the model.  If not found in ‘data’, the\n",
       "          variables are taken from ‘environment(formula)’, typically\n",
       "          the environment from which ‘lm’ is called.\n",
       "\n",
       "  subset: an optional vector specifying a subset of observations to be\n",
       "          used in the fitting process.\n",
       "\n",
       " weights: an optional vector of weights to be used in the fitting\n",
       "          process.  Should be ‘NULL’ or a numeric vector.  If non-NULL,\n",
       "          weighted least squares is used with weights ‘weights’ (that\n",
       "          is, minimizing ‘sum(w*e^2)’); otherwise ordinary least\n",
       "          squares is used.  See also ‘Details’,\n",
       "\n",
       "na.action: a function which indicates what should happen when the data\n",
       "          contain ‘NA’s.  The default is set by the ‘na.action’ setting\n",
       "          of ‘options’, and is ‘na.fail’ if that is unset.  The\n",
       "          ‘factory-fresh’ default is ‘na.omit’.  Another possible value\n",
       "          is ‘NULL’, no action.  Value ‘na.exclude’ can be useful.\n",
       "\n",
       "  method: the method to be used; for fitting, currently only ‘method =\n",
       "          \"qr\"’ is supported; ‘method = \"model.frame\"’ returns the\n",
       "          model frame (the same as with ‘model = TRUE’, see below).\n",
       "\n",
       "model, x, y, qr: logicals.  If ‘TRUE’ the corresponding components of\n",
       "          the fit (the model frame, the model matrix, the response, the\n",
       "          QR decomposition) are returned.\n",
       "\n",
       "singular.ok: logical. If ‘FALSE’ (the default in S but not in R) a\n",
       "          singular fit is an error.\n",
       "\n",
       "contrasts: an optional list. See the ‘contrasts.arg’ of\n",
       "          ‘model.matrix.default’.\n",
       "\n",
       "  offset: this can be used to specify an _a priori_ known component to\n",
       "          be included in the linear predictor during fitting.  This\n",
       "          should be ‘NULL’ or a numeric vector of length equal to the\n",
       "          number of cases.  One or more ‘offset’ terms can be included\n",
       "          in the formula instead or as well, and if more than one are\n",
       "          specified their sum is used.  See ‘model.offset’.\n",
       "\n",
       "     ...: additional arguments to be passed to the low level regression\n",
       "          fitting functions (see below).\n",
       "\n",
       "_\bD_\be_\bt_\ba_\bi_\bl_\bs:\n",
       "\n",
       "     Models for ‘lm’ are specified symbolically.  A typical model has\n",
       "     the form ‘response ~ terms’ where ‘response’ is the (numeric)\n",
       "     response vector and ‘terms’ is a series of terms which specifies a\n",
       "     linear predictor for ‘response’.  A terms specification of the\n",
       "     form ‘first + second’ indicates all the terms in ‘first’ together\n",
       "     with all the terms in ‘second’ with duplicates removed.  A\n",
       "     specification of the form ‘first:second’ indicates the set of\n",
       "     terms obtained by taking the interactions of all terms in ‘first’\n",
       "     with all terms in ‘second’.  The specification ‘first*second’\n",
       "     indicates the _cross_ of ‘first’ and ‘second’.  This is the same\n",
       "     as ‘first + second + first:second’.\n",
       "\n",
       "     If the formula includes an ‘offset’, this is evaluated and\n",
       "     subtracted from the response.\n",
       "\n",
       "     If ‘response’ is a matrix a linear model is fitted separately by\n",
       "     least-squares to each column of the matrix.\n",
       "\n",
       "     See ‘model.matrix’ for some further details.  The terms in the\n",
       "     formula will be re-ordered so that main effects come first,\n",
       "     followed by the interactions, all second-order, all third-order\n",
       "     and so on: to avoid this pass a ‘terms’ object as the formula (see\n",
       "     ‘aov’ and ‘demo(glm.vr)’ for an example).\n",
       "\n",
       "     A formula has an implied intercept term.  To remove this use\n",
       "     either ‘y ~ x - 1’ or ‘y ~ 0 + x’.  See ‘formula’ for more details\n",
       "     of allowed formulae.\n",
       "\n",
       "     Non-‘NULL’ ‘weights’ can be used to indicate that different\n",
       "     observations have different variances (with the values in\n",
       "     ‘weights’ being inversely proportional to the variances); or\n",
       "     equivalently, when the elements of ‘weights’ are positive integers\n",
       "     w_i, that each response y_i is the mean of w_i unit-weight\n",
       "     observations (including the case that there are w_i observations\n",
       "     equal to y_i and the data have been summarized). However, in the\n",
       "     latter case, notice that within-group variation is not used.\n",
       "     Therefore, the sigma estimate and residual degrees of freedom may\n",
       "     be suboptimal; in the case of replication weights, even wrong.\n",
       "     Hence, standard errors and analysis of variance tables should be\n",
       "     treated with care.\n",
       "\n",
       "     ‘lm’ calls the lower level functions ‘lm.fit’, etc, see below, for\n",
       "     the actual numerical computations.  For programming only, you may\n",
       "     consider doing likewise.\n",
       "\n",
       "     All of ‘weights’, ‘subset’ and ‘offset’ are evaluated in the same\n",
       "     way as variables in ‘formula’, that is first in ‘data’ and then in\n",
       "     the environment of ‘formula’.\n",
       "\n",
       "_\bV_\ba_\bl_\bu_\be:\n",
       "\n",
       "     ‘lm’ returns an object of ‘class’ ‘\"lm\"’ or for multiple responses\n",
       "     of class ‘c(\"mlm\", \"lm\")’.\n",
       "\n",
       "     The functions ‘summary’ and ‘anova’ are used to obtain and print a\n",
       "     summary and analysis of variance table of the results.  The\n",
       "     generic accessor functions ‘coefficients’, ‘effects’,\n",
       "     ‘fitted.values’ and ‘residuals’ extract various useful features of\n",
       "     the value returned by ‘lm’.\n",
       "\n",
       "     An object of class ‘\"lm\"’ is a list containing at least the\n",
       "     following components:\n",
       "\n",
       "coefficients: a named vector of coefficients\n",
       "\n",
       "residuals: the residuals, that is response minus fitted values.\n",
       "\n",
       "fitted.values: the fitted mean values.\n",
       "\n",
       "    rank: the numeric rank of the fitted linear model.\n",
       "\n",
       " weights: (only for weighted fits) the specified weights.\n",
       "\n",
       "df.residual: the residual degrees of freedom.\n",
       "\n",
       "    call: the matched call.\n",
       "\n",
       "   terms: the ‘terms’ object used.\n",
       "\n",
       "contrasts: (only where relevant) the contrasts used.\n",
       "\n",
       " xlevels: (only where relevant) a record of the levels of the factors\n",
       "          used in fitting.\n",
       "\n",
       "  offset: the offset used (missing if none were used).\n",
       "\n",
       "       y: if requested, the response used.\n",
       "\n",
       "       x: if requested, the model matrix used.\n",
       "\n",
       "   model: if requested (the default), the model frame used.\n",
       "\n",
       "na.action: (where relevant) information returned by ‘model.frame’ on\n",
       "          the special handling of ‘NA’s.\n",
       "     In addition, non-null fits will have components ‘assign’,\n",
       "     ‘effects’ and (unless not requested) ‘qr’ relating to the linear\n",
       "     fit, for use by extractor functions such as ‘summary’ and\n",
       "     ‘effects’.\n",
       "\n",
       "_\bU_\bs_\bi_\bn_\bg _\bt_\bi_\bm_\be _\bs_\be_\br_\bi_\be_\bs:\n",
       "\n",
       "     Considerable care is needed when using ‘lm’ with time series.\n",
       "\n",
       "     Unless ‘na.action = NULL’, the time series attributes are stripped\n",
       "     from the variables before the regression is done.  (This is\n",
       "     necessary as omitting ‘NA’s would invalidate the time series\n",
       "     attributes, and if ‘NA’s are omitted in the middle of the series\n",
       "     the result would no longer be a regular time series.)\n",
       "\n",
       "     Even if the time series attributes are retained, they are not used\n",
       "     to line up series, so that the time shift of a lagged or\n",
       "     differenced regressor would be ignored.  It is good practice to\n",
       "     prepare a ‘data’ argument by ‘ts.intersect(..., dframe = TRUE)’,\n",
       "     then apply a suitable ‘na.action’ to that data frame and call ‘lm’\n",
       "     with ‘na.action = NULL’ so that residuals and fitted values are\n",
       "     time series.\n",
       "\n",
       "_\bN_\bo_\bt_\be:\n",
       "\n",
       "     Offsets specified by ‘offset’ will not be included in predictions\n",
       "     by ‘predict.lm’, whereas those specified by an offset term in the\n",
       "     formula will be.\n",
       "\n",
       "_\bA_\bu_\bt_\bh_\bo_\br(_\bs):\n",
       "\n",
       "     The design was inspired by the S function of the same name\n",
       "     described in Chambers (1992).  The implementation of model formula\n",
       "     by Ross Ihaka was based on Wilkinson & Rogers (1973).\n",
       "\n",
       "_\bR_\be_\bf_\be_\br_\be_\bn_\bc_\be_\bs:\n",
       "\n",
       "     Chambers, J. M. (1992) _Linear models._ Chapter 4 of _Statistical\n",
       "     Models in S_ eds J. M. Chambers and T. J. Hastie, Wadsworth &\n",
       "     Brooks/Cole.\n",
       "\n",
       "     Wilkinson, G. N. and Rogers, C. E. (1973).  Symbolic descriptions\n",
       "     of factorial models for analysis of variance.  _Applied\n",
       "     Statistics_, *22*, 392-399.  doi: 10.2307/2346786 (URL:\n",
       "     http://doi.org/10.2307/2346786).\n",
       "\n",
       "_\bS_\be_\be _\bA_\bl_\bs_\bo:\n",
       "\n",
       "     ‘summary.lm’ for summaries and ‘anova.lm’ for the ANOVA table;\n",
       "     ‘aov’ for a different interface.\n",
       "\n",
       "     The generic functions ‘coef’, ‘effects’, ‘residuals’, ‘fitted’,\n",
       "     ‘vcov’.\n",
       "\n",
       "     ‘predict.lm’ (via ‘predict’) for prediction, including confidence\n",
       "     and prediction intervals; ‘confint’ for confidence intervals of\n",
       "     _parameters_.\n",
       "\n",
       "     ‘lm.influence’ for regression diagnostics, and ‘glm’ for\n",
       "     *generalized* linear models.\n",
       "\n",
       "     The underlying low level functions, ‘lm.fit’ for plain, and\n",
       "     ‘lm.wfit’ for weighted regression fitting.\n",
       "\n",
       "     More ‘lm()’ examples are available e.g., in ‘anscombe’,\n",
       "     ‘attitude’, ‘freeny’, ‘LifeCycleSavings’, ‘longley’, ‘stackloss’,\n",
       "     ‘swiss’.\n",
       "\n",
       "     ‘biglm’ in package ‘biglm’ for an alternative way to fit linear\n",
       "     models to large datasets (especially those with many cases).\n",
       "\n",
       "_\bE_\bx_\ba_\bm_\bp_\bl_\be_\bs:\n",
       "\n",
       "     require(graphics)\n",
       "     \n",
       "     ## Annette Dobson (1990) \"An Introduction to Generalized Linear Models\".\n",
       "     ## Page 9: Plant Weight Data.\n",
       "     ctl <- c(4.17,5.58,5.18,6.11,4.50,4.61,5.17,4.53,5.33,5.14)\n",
       "     trt <- c(4.81,4.17,4.41,3.59,5.87,3.83,6.03,4.89,4.32,4.69)\n",
       "     group <- gl(2, 10, 20, labels = c(\"Ctl\",\"Trt\"))\n",
       "     weight <- c(ctl, trt)\n",
       "     lm.D9 <- lm(weight ~ group)\n",
       "     lm.D90 <- lm(weight ~ group - 1) # omitting intercept\n",
       "     \n",
       "     anova(lm.D9)\n",
       "     summary(lm.D90)\n",
       "     \n",
       "     opar <- par(mfrow = c(2,2), oma = c(0, 0, 1.1, 0))\n",
       "     plot(lm.D9, las = 1)      # Residuals, Fitted, ...\n",
       "     par(opar)\n",
       "     \n",
       "     ### less simple examples in \"See Also\" above\n",
       "     "
      ]
     },
     "metadata": {},
     "output_type": "display_data"
    }
   ],
   "source": [
    "vals <- rnorm(10)\n",
    "median(vals)\n",
    "class(median)\n",
    "median(vals, na.rm = TRUE)\n",
    "mean(vals, na.rm = TRUE)\n",
    "help(lm)\n",
    "?lm\n",
    "?log\n",
    "\n"
   ]
  },
  {
   "cell_type": "markdown",
   "metadata": {
    "slideshow": {
     "slide_type": "subslide"
    }
   },
   "source": [
    "## Matrix \n",
    "- Multiple column vector\n",
    "- Matrix is useful for linear algebra\n",
    "- Matrix must be **all of the same type**\n",
    "- Could relatively easily do regression calculations using undlerlying matrix"
   ]
  },
  {
   "cell_type": "code",
   "execution_count": 12,
   "metadata": {},
   "outputs": [
    {
     "data": {
      "text/html": [
       "<table>\n",
       "<tbody>\n",
       "\t<tr><td>-0.83526885</td><td> 0.06464287</td><td> 0.39680157</td><td> 0.89122461</td></tr>\n",
       "\t<tr><td> 2.0589154</td><td>-0.4442069</td><td> 0.4423272</td><td> 0.1642597</td></tr>\n",
       "\t<tr><td> 1.330993</td><td>-2.328589</td><td>-1.856013</td><td> 2.048782</td></tr>\n",
       "</tbody>\n",
       "</table>\n"
      ],
      "text/latex": [
       "\\begin{tabular}{llll}\n",
       "\t -0.83526885 &  0.06464287 &  0.39680157 &  0.89122461\\\\\n",
       "\t  2.0589154 & -0.4442069 &  0.4423272 &  0.1642597\\\\\n",
       "\t  1.330993 & -2.328589 & -1.856013 &  2.048782\\\\\n",
       "\\end{tabular}\n"
      ],
      "text/markdown": [
       "1. -0.835268845140518\n",
       "2. 2.05891543185017\n",
       "3. 1.33099251812129\n",
       "4. 0.064642868271965\n",
       "5. -0.444206854040162\n",
       "6. -2.32858881532006\n",
       "7. 0.396801573120562\n",
       "8. 0.442327199853699\n",
       "9. -1.85601328839799\n",
       "10. 0.891224613498132\n",
       "11. 0.164259704727584\n",
       "12. 2.04878196467381\n",
       "\n",
       "\n"
      ],
      "text/plain": [
       "           [,1]        [,2]       [,3]      [,4]\n",
       "[1,] -0.8352688  0.06464287  0.3968016 0.8912246\n",
       "[2,]  2.0589154 -0.44420685  0.4423272 0.1642597\n",
       "[3,]  1.3309925 -2.32858882 -1.8560133 2.0487820"
      ]
     },
     "metadata": {},
     "output_type": "display_data"
    },
    {
     "data": {
      "text/html": [
       "<table>\n",
       "<tbody>\n",
       "\t<tr><td> 1</td><td> 4</td><td> 7</td><td>10</td></tr>\n",
       "\t<tr><td> 2</td><td> 5</td><td> 8</td><td>11</td></tr>\n",
       "\t<tr><td> 3</td><td> 6</td><td> 9</td><td>12</td></tr>\n",
       "</tbody>\n",
       "</table>\n"
      ],
      "text/latex": [
       "\\begin{tabular}{llll}\n",
       "\t  1 &  4 &  7 & 10\\\\\n",
       "\t  2 &  5 &  8 & 11\\\\\n",
       "\t  3 &  6 &  9 & 12\\\\\n",
       "\\end{tabular}\n"
      ],
      "text/markdown": [
       "1. 1\n",
       "2. 2\n",
       "3. 3\n",
       "4. 4\n",
       "5. 5\n",
       "6. 6\n",
       "7. 7\n",
       "8. 8\n",
       "9. 9\n",
       "10. 10\n",
       "11. 11\n",
       "12. 12\n",
       "\n",
       "\n"
      ],
      "text/plain": [
       "     [,1] [,2] [,3] [,4]\n",
       "[1,]    1    4    7   10\n",
       "[2,]    2    5    8   11\n",
       "[3,]    3    6    9   12"
      ]
     },
     "metadata": {},
     "output_type": "display_data"
    },
    {
     "data": {
      "text/html": [
       "<table>\n",
       "<tbody>\n",
       "\t<tr><td>1</td><td>5</td><td>9</td></tr>\n",
       "\t<tr><td> 2</td><td> 6</td><td>10</td></tr>\n",
       "\t<tr><td> 3</td><td> 7</td><td>11</td></tr>\n",
       "\t<tr><td> 4</td><td> 8</td><td>12</td></tr>\n",
       "</tbody>\n",
       "</table>\n"
      ],
      "text/latex": [
       "\\begin{tabular}{lll}\n",
       "\t 1 & 5 & 9\\\\\n",
       "\t  2 &  6 & 10\\\\\n",
       "\t  3 &  7 & 11\\\\\n",
       "\t  4 &  8 & 12\\\\\n",
       "\\end{tabular}\n"
      ],
      "text/markdown": [
       "1. 1\n",
       "2. 2\n",
       "3. 3\n",
       "4. 4\n",
       "5. 5\n",
       "6. 6\n",
       "7. 7\n",
       "8. 8\n",
       "9. 9\n",
       "10. 10\n",
       "11. 11\n",
       "12. 12\n",
       "\n",
       "\n"
      ],
      "text/plain": [
       "     [,1] [,2] [,3]\n",
       "[1,]    1    5    9\n",
       "[2,]    2    6   10\n",
       "[3,]    3    7   11\n",
       "[4,]    4    8   12"
      ]
     },
     "metadata": {},
     "output_type": "display_data"
    },
    {
     "data": {
      "text/html": [
       "<table>\n",
       "<tbody>\n",
       "\t<tr><td> 4</td><td>16</td><td>28</td></tr>\n",
       "\t<tr><td> 8</td><td>20</td><td>32</td></tr>\n",
       "\t<tr><td>12</td><td>24</td><td>36</td></tr>\n",
       "</tbody>\n",
       "</table>\n"
      ],
      "text/latex": [
       "\\begin{tabular}{lll}\n",
       "\t  4 & 16 & 28\\\\\n",
       "\t  8 & 20 & 32\\\\\n",
       "\t 12 & 24 & 36\\\\\n",
       "\\end{tabular}\n"
      ],
      "text/markdown": [
       "1. 4\n",
       "2. 8\n",
       "3. 12\n",
       "4. 16\n",
       "5. 20\n",
       "6. 24\n",
       "7. 28\n",
       "8. 32\n",
       "9. 36\n",
       "\n",
       "\n"
      ],
      "text/plain": [
       "     [,1] [,2] [,3]\n",
       "[1,]    4   16   28\n",
       "[2,]    8   20   32\n",
       "[3,]   12   24   36"
      ]
     },
     "metadata": {},
     "output_type": "display_data"
    }
   ],
   "source": [
    "#This is setup a matrix(vector, nrow,ncol)\n",
    "mat <- matrix(rnorm(12), nrow = 3, ncol = 4)\n",
    "mat\n",
    "# This is setup a matrix(vector, rows)\n",
    "A <- matrix(1:12, 3)\n",
    "B <- matrix(1:12, 4)\n",
    "C <- matrix(seq(4,36, by = 4), 3)\n",
    "A\n",
    "B\n",
    "C"
   ]
  },
  {
   "cell_type": "markdown",
   "metadata": {
    "slideshow": {
     "slide_type": "subslide"
    }
   },
   "source": [
    "## Slicing Vectors and Matrixs\n",
    "- Can use matrix[rows,columns] with specificating of row/column index, name, range. \n"
   ]
  },
  {
   "cell_type": "code",
   "execution_count": 15,
   "metadata": {},
   "outputs": [
    {
     "data": {
      "text/html": [
       "<ol class=list-inline>\n",
       "\t<li>0.235847096846066</li>\n",
       "\t<li>-1.22658917279729</li>\n",
       "\t<li>-1.18402683885278</li>\n",
       "\t<li>1.50615064907639</li>\n",
       "\t<li>-0.206182106051588</li>\n",
       "\t<li>-0.412355878955171</li>\n",
       "\t<li>-0.0799934537639763</li>\n",
       "\t<li>-1.72561819147371</li>\n",
       "\t<li>0.76499317236754</li>\n",
       "\t<li>1.25314418417645</li>\n",
       "\t<li>-1.12655889886209</li>\n",
       "\t<li>-2.45245615420083</li>\n",
       "</ol>\n"
      ],
      "text/latex": [
       "\\begin{enumerate*}\n",
       "\\item 0.235847096846066\n",
       "\\item -1.22658917279729\n",
       "\\item -1.18402683885278\n",
       "\\item 1.50615064907639\n",
       "\\item -0.206182106051588\n",
       "\\item -0.412355878955171\n",
       "\\item -0.0799934537639763\n",
       "\\item -1.72561819147371\n",
       "\\item 0.76499317236754\n",
       "\\item 1.25314418417645\n",
       "\\item -1.12655889886209\n",
       "\\item -2.45245615420083\n",
       "\\end{enumerate*}\n"
      ],
      "text/markdown": [
       "1. 0.235847096846066\n",
       "2. -1.22658917279729\n",
       "3. -1.18402683885278\n",
       "4. 1.50615064907639\n",
       "5. -0.206182106051588\n",
       "6. -0.412355878955171\n",
       "7. -0.0799934537639763\n",
       "8. -1.72561819147371\n",
       "9. 0.76499317236754\n",
       "10. 1.25314418417645\n",
       "11. -1.12655889886209\n",
       "12. -2.45245615420083\n",
       "\n",
       "\n"
      ],
      "text/plain": [
       " [1]  0.23584710 -1.22658917 -1.18402684  1.50615065 -0.20618211 -0.41235588\n",
       " [7] -0.07999345 -1.72561819  0.76499317  1.25314418 -1.12655890 -2.45245615"
      ]
     },
     "metadata": {},
     "output_type": "display_data"
    },
    {
     "data": {
      "text/html": [
       "<table>\n",
       "<tbody>\n",
       "\t<tr><th scope=row>a</th><td> 0.2358471 </td><td>-0.20618211</td><td> 0.7649932 </td></tr>\n",
       "\t<tr><th scope=row>b</th><td>-1.2265892 </td><td>-0.41235588</td><td> 1.2531442 </td></tr>\n",
       "\t<tr><th scope=row>c</th><td>-1.1840268 </td><td>-0.07999345</td><td>-1.1265589 </td></tr>\n",
       "\t<tr><th scope=row>d</th><td> 1.5061506 </td><td>-1.72561819</td><td>-2.4524562 </td></tr>\n",
       "</tbody>\n",
       "</table>\n"
      ],
      "text/latex": [
       "\\begin{tabular}{r|lll}\n",
       "\ta &  0.2358471  & -0.20618211 &  0.7649932 \\\\\n",
       "\tb & -1.2265892  & -0.41235588 &  1.2531442 \\\\\n",
       "\tc & -1.1840268  & -0.07999345 & -1.1265589 \\\\\n",
       "\td &  1.5061506  & -1.72561819 & -2.4524562 \\\\\n",
       "\\end{tabular}\n"
      ],
      "text/markdown": [
       "\n",
       "| a |  0.2358471  | -0.20618211 |  0.7649932  | \n",
       "| b | -1.2265892  | -0.41235588 |  1.2531442  | \n",
       "| c | -1.1840268  | -0.07999345 | -1.1265589  | \n",
       "| d |  1.5061506  | -1.72561819 | -2.4524562  | \n",
       "\n",
       "\n"
      ],
      "text/plain": [
       "  [,1]       [,2]        [,3]      \n",
       "a  0.2358471 -0.20618211  0.7649932\n",
       "b -1.2265892 -0.41235588  1.2531442\n",
       "c -1.1840268 -0.07999345 -1.1265589\n",
       "d  1.5061506 -1.72561819 -2.4524562"
      ]
     },
     "metadata": {},
     "output_type": "display_data"
    }
   ],
   "source": [
    "vec <- rnorm(12)\n",
    "mat <- matrix(vec, 4, 3)\n",
    "rownames(mat) <- letters[1:4] #This assigns a row name\n",
    "vec\n",
    "mat\n",
    "\n"
   ]
  },
  {
   "cell_type": "code",
   "execution_count": 16,
   "metadata": {},
   "outputs": [
    {
     "data": {
      "text/html": [
       "<ol class=list-inline>\n",
       "\t<li>-1.18402683885278</li>\n",
       "\t<li>-0.206182106051588</li>\n",
       "\t<li>-1.72561819147371</li>\n",
       "\t<li>0.76499317236754</li>\n",
       "\t<li>1.25314418417645</li>\n",
       "</ol>\n"
      ],
      "text/latex": [
       "\\begin{enumerate*}\n",
       "\\item -1.18402683885278\n",
       "\\item -0.206182106051588\n",
       "\\item -1.72561819147371\n",
       "\\item 0.76499317236754\n",
       "\\item 1.25314418417645\n",
       "\\end{enumerate*}\n"
      ],
      "text/markdown": [
       "1. -1.18402683885278\n",
       "2. -0.206182106051588\n",
       "3. -1.72561819147371\n",
       "4. 0.76499317236754\n",
       "5. 1.25314418417645\n",
       "\n",
       "\n"
      ],
      "text/plain": [
       "[1] -1.1840268 -0.2061821 -1.7256182  0.7649932  1.2531442"
      ]
     },
     "metadata": {},
     "output_type": "display_data"
    }
   ],
   "source": [
    "#Slicing Vector\n",
    "vec[c(3, 5, 8:10)] # This gives position 3, 5, and 8-10"
   ]
  },
  {
   "cell_type": "code",
   "execution_count": 17,
   "metadata": {},
   "outputs": [
    {
     "data": {
      "text/html": [
       "<table>\n",
       "<tbody>\n",
       "\t<tr><th scope=row>a</th><td>0.2358471 </td><td>-0.2061821</td><td> 0.7649932</td></tr>\n",
       "\t<tr><th scope=row>d</th><td>1.5061506 </td><td>-1.7256182</td><td>-2.4524562</td></tr>\n",
       "</tbody>\n",
       "</table>\n"
      ],
      "text/latex": [
       "\\begin{tabular}{r|lll}\n",
       "\ta & 0.2358471  & -0.2061821 &  0.7649932\\\\\n",
       "\td & 1.5061506  & -1.7256182 & -2.4524562\\\\\n",
       "\\end{tabular}\n"
      ],
      "text/markdown": [
       "\n",
       "| a | 0.2358471  | -0.2061821 |  0.7649932 | \n",
       "| d | 1.5061506  | -1.7256182 | -2.4524562 | \n",
       "\n",
       "\n"
      ],
      "text/plain": [
       "  [,1]      [,2]       [,3]      \n",
       "a 0.2358471 -0.2061821  0.7649932\n",
       "d 1.5061506 -1.7256182 -2.4524562"
      ]
     },
     "metadata": {},
     "output_type": "display_data"
    },
    {
     "data": {
      "text/html": [
       "<table>\n",
       "<tbody>\n",
       "\t<tr><th scope=row>a</th><td>0.2358471 </td><td>-0.2061821</td><td> 0.7649932</td></tr>\n",
       "\t<tr><th scope=row>d</th><td>1.5061506 </td><td>-1.7256182</td><td>-2.4524562</td></tr>\n",
       "</tbody>\n",
       "</table>\n"
      ],
      "text/latex": [
       "\\begin{tabular}{r|lll}\n",
       "\ta & 0.2358471  & -0.2061821 &  0.7649932\\\\\n",
       "\td & 1.5061506  & -1.7256182 & -2.4524562\\\\\n",
       "\\end{tabular}\n"
      ],
      "text/markdown": [
       "\n",
       "| a | 0.2358471  | -0.2061821 |  0.7649932 | \n",
       "| d | 1.5061506  | -1.7256182 | -2.4524562 | \n",
       "\n",
       "\n"
      ],
      "text/plain": [
       "  [,1]      [,2]       [,3]      \n",
       "a 0.2358471 -0.2061821  0.7649932\n",
       "d 1.5061506 -1.7256182 -2.4524562"
      ]
     },
     "metadata": {},
     "output_type": "display_data"
    },
    {
     "data": {
      "text/html": [
       "<table>\n",
       "<tbody>\n",
       "\t<tr><th scope=row>a</th><td>0.2358471 </td><td>-0.2061821</td></tr>\n",
       "\t<tr><th scope=row>d</th><td>1.5061506 </td><td>-1.7256182</td></tr>\n",
       "</tbody>\n",
       "</table>\n"
      ],
      "text/latex": [
       "\\begin{tabular}{r|ll}\n",
       "\ta & 0.2358471  & -0.2061821\\\\\n",
       "\td & 1.5061506  & -1.7256182\\\\\n",
       "\\end{tabular}\n"
      ],
      "text/markdown": [
       "\n",
       "| a | 0.2358471  | -0.2061821 | \n",
       "| d | 1.5061506  | -1.7256182 | \n",
       "\n",
       "\n"
      ],
      "text/plain": [
       "  [,1]      [,2]      \n",
       "a 0.2358471 -0.2061821\n",
       "d 1.5061506 -1.7256182"
      ]
     },
     "metadata": {},
     "output_type": "display_data"
    },
    {
     "data": {
      "text/html": [
       "<table>\n",
       "<tbody>\n",
       "\t<tr><th scope=row>a</th><td>0.2358471 </td><td> 0.7649932</td></tr>\n",
       "\t<tr><th scope=row>d</th><td>1.5061506 </td><td>-2.4524562</td></tr>\n",
       "</tbody>\n",
       "</table>\n"
      ],
      "text/latex": [
       "\\begin{tabular}{r|ll}\n",
       "\ta & 0.2358471  &  0.7649932\\\\\n",
       "\td & 1.5061506  & -2.4524562\\\\\n",
       "\\end{tabular}\n"
      ],
      "text/markdown": [
       "\n",
       "| a | 0.2358471  |  0.7649932 | \n",
       "| d | 1.5061506  | -2.4524562 | \n",
       "\n",
       "\n"
      ],
      "text/plain": [
       "  [,1]      [,2]      \n",
       "a 0.2358471  0.7649932\n",
       "d 1.5061506 -2.4524562"
      ]
     },
     "metadata": {},
     "output_type": "display_data"
    },
    {
     "data": {
      "text/html": [
       "<table>\n",
       "<tbody>\n",
       "\t<tr><th scope=row>a</th><td> 0.2358471 </td><td>-0.20618211</td></tr>\n",
       "\t<tr><th scope=row>b</th><td>-1.2265892 </td><td>-0.41235588</td></tr>\n",
       "\t<tr><th scope=row>c</th><td>-1.1840268 </td><td>-0.07999345</td></tr>\n",
       "\t<tr><th scope=row>d</th><td> 1.5061506 </td><td>-1.72561819</td></tr>\n",
       "</tbody>\n",
       "</table>\n"
      ],
      "text/latex": [
       "\\begin{tabular}{r|ll}\n",
       "\ta &  0.2358471  & -0.20618211\\\\\n",
       "\tb & -1.2265892  & -0.41235588\\\\\n",
       "\tc & -1.1840268  & -0.07999345\\\\\n",
       "\td &  1.5061506  & -1.72561819\\\\\n",
       "\\end{tabular}\n"
      ],
      "text/markdown": [
       "\n",
       "| a |  0.2358471  | -0.20618211 | \n",
       "| b | -1.2265892  | -0.41235588 | \n",
       "| c | -1.1840268  | -0.07999345 | \n",
       "| d |  1.5061506  | -1.72561819 | \n",
       "\n",
       "\n"
      ],
      "text/plain": [
       "  [,1]       [,2]       \n",
       "a  0.2358471 -0.20618211\n",
       "b -1.2265892 -0.41235588\n",
       "c -1.1840268 -0.07999345\n",
       "d  1.5061506 -1.72561819"
      ]
     },
     "metadata": {},
     "output_type": "display_data"
    }
   ],
   "source": [
    "# matrix[rows,columns]  leaving blank means all columns/rows\n",
    "mat[c('a', 'd'), ]\n",
    "mat[c(1,4), ]\n",
    "mat[c(1,4), 1:2]\n",
    "mat[c(1,4), c(1,3)] #Notice when providing a list we surround with c\n",
    "mat[, 1:2]          #When providing a range we use a colon."
   ]
  },
  {
   "cell_type": "markdown",
   "metadata": {
    "slideshow": {
     "slide_type": "subslide"
    }
   },
   "source": [
    "## Lists\n",
    "- Collections of disparate or complicated objects.\n",
    "- Can be of multiple different types. \n",
    "- Here we assign individual values with the list with `=`.\n",
    "- Slice the list with the index position or the name. "
   ]
  },
  {
   "cell_type": "code",
   "execution_count": 13,
   "metadata": {},
   "outputs": [
    {
     "data": {
      "text/html": [
       "<dl>\n",
       "\t<dt>$stuff</dt>\n",
       "\t\t<dd>3</dd>\n",
       "\t<dt>$mat</dt>\n",
       "\t\t<dd><table>\n",
       "<tbody>\n",
       "\t<tr><td>1</td><td>3</td></tr>\n",
       "\t<tr><td>2</td><td>4</td></tr>\n",
       "</tbody>\n",
       "</table>\n",
       "</dd>\n",
       "\t<dt>$vector</dt>\n",
       "\t\t<dd><ol class=list-inline>\n",
       "\t<li>1</li>\n",
       "\t<li>2</li>\n",
       "\t<li>3</li>\n",
       "\t<li>4</li>\n",
       "</ol>\n",
       "</dd>\n",
       "\t<dt>$morestuff</dt>\n",
       "\t\t<dd><ol class=list-inline>\n",
       "\t<li>'Albany'</li>\n",
       "\t<li>'New York'</li>\n",
       "\t<li>'San Francisco'</li>\n",
       "</ol>\n",
       "</dd>\n",
       "</dl>\n"
      ],
      "text/latex": [
       "\\begin{description}\n",
       "\\item[\\$stuff] 3\n",
       "\\item[\\$mat] \\begin{tabular}{ll}\n",
       "\t 1 & 3\\\\\n",
       "\t 2 & 4\\\\\n",
       "\\end{tabular}\n",
       "\n",
       "\\item[\\$vector] \\begin{enumerate*}\n",
       "\\item 1\n",
       "\\item 2\n",
       "\\item 3\n",
       "\\item 4\n",
       "\\end{enumerate*}\n",
       "\n",
       "\\item[\\$morestuff] \\begin{enumerate*}\n",
       "\\item 'Albany'\n",
       "\\item 'New York'\n",
       "\\item 'San Francisco'\n",
       "\\end{enumerate*}\n",
       "\n",
       "\\end{description}\n"
      ],
      "text/markdown": [
       "$stuff\n",
       ":   3\n",
       "$mat\n",
       ":   1. 1\n",
       "2. 2\n",
       "3. 3\n",
       "4. 4\n",
       "\n",
       "\n",
       "\n",
       "$vector\n",
       ":   1. 1\n",
       "2. 2\n",
       "3. 3\n",
       "4. 4\n",
       "\n",
       "\n",
       "\n",
       "$morestuff\n",
       ":   1. 'Albany'\n",
       "2. 'New York'\n",
       "3. 'San Francisco'\n",
       "\n",
       "\n",
       "\n",
       "\n",
       "\n"
      ],
      "text/plain": [
       "$stuff\n",
       "[1] 3\n",
       "\n",
       "$mat\n",
       "     [,1] [,2]\n",
       "[1,]    1    3\n",
       "[2,]    2    4\n",
       "\n",
       "$vector\n",
       "[1] 1 2 3 4\n",
       "\n",
       "$morestuff\n",
       "[1] \"Albany\"        \"New York\"      \"San Francisco\"\n"
      ]
     },
     "metadata": {},
     "output_type": "display_data"
    },
    {
     "data": {
      "text/html": [
       "<strong>$stuff</strong> = 3"
      ],
      "text/latex": [
       "\\textbf{\\$stuff} = 3"
      ],
      "text/markdown": [
       "**$stuff** = 3"
      ],
      "text/plain": [
       "$stuff\n",
       "[1] 3\n"
      ]
     },
     "metadata": {},
     "output_type": "display_data"
    },
    {
     "data": {
      "text/html": [
       "<strong>$mat</strong> = <table>\n",
       "<tbody>\n",
       "\t<tr><td>1</td><td>3</td></tr>\n",
       "\t<tr><td>2</td><td>4</td></tr>\n",
       "</tbody>\n",
       "</table>\n"
      ],
      "text/latex": [
       "\\textbf{\\$mat} = \\begin{tabular}{ll}\n",
       "\t 1 & 3\\\\\n",
       "\t 2 & 4\\\\\n",
       "\\end{tabular}\n"
      ],
      "text/markdown": [
       "**$mat** = 1. 1\n",
       "2. 2\n",
       "3. 3\n",
       "4. 4\n",
       "\n",
       "\n"
      ],
      "text/plain": [
       "$mat\n",
       "     [,1] [,2]\n",
       "[1,]    1    3\n",
       "[2,]    2    4\n"
      ]
     },
     "metadata": {},
     "output_type": "display_data"
    },
    {
     "data": {
      "text/html": [
       "<dl>\n",
       "\t<dt>$mat</dt>\n",
       "\t\t<dd><table>\n",
       "<tbody>\n",
       "\t<tr><td>1</td><td>3</td></tr>\n",
       "\t<tr><td>2</td><td>4</td></tr>\n",
       "</tbody>\n",
       "</table>\n",
       "</dd>\n",
       "\t<dt>$vector</dt>\n",
       "\t\t<dd><ol class=list-inline>\n",
       "\t<li>1</li>\n",
       "\t<li>2</li>\n",
       "\t<li>3</li>\n",
       "\t<li>4</li>\n",
       "</ol>\n",
       "</dd>\n",
       "</dl>\n"
      ],
      "text/latex": [
       "\\begin{description}\n",
       "\\item[\\$mat] \\begin{tabular}{ll}\n",
       "\t 1 & 3\\\\\n",
       "\t 2 & 4\\\\\n",
       "\\end{tabular}\n",
       "\n",
       "\\item[\\$vector] \\begin{enumerate*}\n",
       "\\item 1\n",
       "\\item 2\n",
       "\\item 3\n",
       "\\item 4\n",
       "\\end{enumerate*}\n",
       "\n",
       "\\end{description}\n"
      ],
      "text/markdown": [
       "$mat\n",
       ":   1. 1\n",
       "2. 2\n",
       "3. 3\n",
       "4. 4\n",
       "\n",
       "\n",
       "\n",
       "$vector\n",
       ":   1. 1\n",
       "2. 2\n",
       "3. 3\n",
       "4. 4\n",
       "\n",
       "\n",
       "\n",
       "\n",
       "\n"
      ],
      "text/plain": [
       "$mat\n",
       "     [,1] [,2]\n",
       "[1,]    1    3\n",
       "[2,]    2    4\n",
       "\n",
       "$vector\n",
       "[1] 1 2 3 4\n"
      ]
     },
     "metadata": {},
     "output_type": "display_data"
    },
    {
     "data": {
      "text/html": [
       "<dl>\n",
       "\t<dt>$stuff</dt>\n",
       "\t\t<dd>3</dd>\n",
       "\t<dt>$morestuff</dt>\n",
       "\t\t<dd><ol class=list-inline>\n",
       "\t<li>'Albany'</li>\n",
       "\t<li>'New York'</li>\n",
       "\t<li>'San Francisco'</li>\n",
       "</ol>\n",
       "</dd>\n",
       "</dl>\n"
      ],
      "text/latex": [
       "\\begin{description}\n",
       "\\item[\\$stuff] 3\n",
       "\\item[\\$morestuff] \\begin{enumerate*}\n",
       "\\item 'Albany'\n",
       "\\item 'New York'\n",
       "\\item 'San Francisco'\n",
       "\\end{enumerate*}\n",
       "\n",
       "\\end{description}\n"
      ],
      "text/markdown": [
       "$stuff\n",
       ":   3\n",
       "$morestuff\n",
       ":   1. 'Albany'\n",
       "2. 'New York'\n",
       "3. 'San Francisco'\n",
       "\n",
       "\n",
       "\n",
       "\n",
       "\n"
      ],
      "text/plain": [
       "$stuff\n",
       "[1] 3\n",
       "\n",
       "$morestuff\n",
       "[1] \"Albany\"        \"New York\"      \"San Francisco\"\n"
      ]
     },
     "metadata": {},
     "output_type": "display_data"
    }
   ],
   "source": [
    "#myList <- list(stuff = 3, mat = matrix(1:4, nrow = 2), moreStuff = c('china', 'japan'), list(5, 'bear'))\n",
    "myList<-list(stuff=3,mat = matrix(1:4, nrow = 2),vector=c(1,2,3,4),morestuff=c(\"Albany\",\"New York\", \"San Francisco\"))\n",
    "myList\n",
    "\n",
    "#\n",
    "myList['stuff']\n",
    "myList[2]\n",
    "myList[2:3]\n",
    "myList[c(1,4)]\n"
   ]
  },
  {
   "cell_type": "markdown",
   "metadata": {
    "slideshow": {
     "slide_type": "slide"
    }
   },
   "source": [
    "## CREDITS\n",
    "\n",
    "Copyright [AnalyticsDojo](http://rpi.analyticsdojo.com) 2016\n",
    "This work is licensed under the [Creative Commons Attribution 4.0 International](https://creativecommons.org/licenses/by/4.0/) license agreement.\n",
    "\n",
    "Adopted from the [Berkley R Bootcamp](https://github.com/berkeley-scf/r-bootcamp-2016).\n",
    "\n"
   ]
  },
  {
   "cell_type": "code",
   "execution_count": null,
   "metadata": {
    "collapsed": true
   },
   "outputs": [],
   "source": []
  }
 ],
 "metadata": {
  "anaconda-cloud": {},
  "celltoolbar": "Slideshow",
  "kernelspec": {
   "display_name": "R",
   "language": "R",
   "name": "ir"
  },
  "language_info": {
   "codemirror_mode": "r",
   "file_extension": ".r",
   "mimetype": "text/x-r-source",
   "name": "R",
   "pygments_lexer": "r",
   "version": "3.5.1"
  }
 },
 "nbformat": 4,
 "nbformat_minor": 2
}
