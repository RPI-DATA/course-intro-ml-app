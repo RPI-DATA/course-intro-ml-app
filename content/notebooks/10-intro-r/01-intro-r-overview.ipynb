{
 "cells": [
  {
   "cell_type": "markdown",
   "metadata": {
    "slideshow": {
     "slide_type": "slide"
    }
   },
   "source": [
    "[![AnalyticsDojo](https://github.com/rpi-techfundamentals/spring2019-materials/blob/master/fig/final-logo.png?raw=1)](http://rpi.analyticsdojo.com)\n",
    "<center><h1>Introduction to R - Overview and Packages</h1></center>\n",
    "<center><h3><a href = 'http://rpi.analyticsdojo.com'>rpi.analyticsdojo.com</a></h3></center>\n",
    "\n"
   ]
  },
  {
   "cell_type": "markdown",
   "metadata": {
    "slideshow": {
     "slide_type": "subslide"
    }
   },
   "source": [
    "# “The best thing about R is that it was developed by statisticians. The worst thing about R is that… it was developed by statisticians.”  \n",
    "##                                         - Bo Cowgill, Google"
   ]
  },
  {
   "cell_type": "markdown",
   "metadata": {
    "slideshow": {
     "slide_type": "subslide"
    }
   },
   "source": [
    "## Overview\n",
    "- Language Features and Use Cases  \n",
    "- R \n",
    "- R Studio\n",
    "- R and Packages"
   ]
  },
  {
   "cell_type": "markdown",
   "metadata": {},
   "source": [
    "## What is R?\n",
    "\n",
    "- R is an Open Source (and freely available) environment for statistical computing and graphics.\n",
    "- It is a full-featured programming language, in particular a scripting language (with similarities to Matlab and Python).\n",
    "- It can be run interactively or as a batch/background job.\n",
    "- R is being actively developed with ongoing updates/new releases.\n",
    "- R has a variety of built-in as well as community-provided packages that extend its functionality with code and data; see CRAN for the thousands of add-on packages.\n",
    "- It is freely-available and modifiable (Available for Windows, Mac OS X, and Linux)."
   ]
  },
  {
   "cell_type": "markdown",
   "metadata": {},
   "source": [
    "## Modes of Using R\n",
    "\n",
    "- From the command line in a Linux/Mac terminal window\n",
    "- Using the Windows/Mac GUIs\n",
    "- Using the RStudio GUI, an 'integrated development environment'\n",
    "- Running an R script in the background on a Linux/Mac machine (Windows?)\n",
    "- RStudio"
   ]
  },
  {
   "cell_type": "markdown",
   "metadata": {
    "slideshow": {
     "slide_type": "subslide"
    }
   },
   "source": [
    "## Why R?\n",
    "\n",
    "- R is widely used (statisticians, scientists, social scientists) and has the widest statistical functionality of any software\n",
    "- Users add functionality via packages all the time\n",
    "- R is free and available on all major platforms\n",
    "- As a scripting language, R is very powerful, flexible, and easy to use\n",
    "- As a scripting language, R allows for reproducibility and automating tasks\n",
    "- As a language, R can do essentially anything\n",
    "- Wide usage helps to improve quality and reduce bugs\n",
    "- R can interact with other software, databases, the operating system, the web, etc.\n",
    "- R is built on C and can call user-written and external C code and packages (in particular, see the *Rcpp* R package)\n"
   ]
  },
  {
   "cell_type": "markdown",
   "metadata": {},
   "source": [
    "## Why Not R?\n",
    "\n",
    "- Other software is better than R at various tasks\n",
    "    \n",
    "i.e., [Python](http://imgs.xkcd.com/comics/python.png) is very good for text manipulation, interacting with the operating system, and as a glue for tying together various applications/software in a workflow-* R can be much slower than compiled languages (but is often quite fast with good coding practices!)\n",
    "- R's packages are only as good as the person who wrote them; no explicit quality control\n",
    "- R is a sprawling and unstandardized ecosystem\n",
    "- Google has a [recommended style](https://google.github.io/styleguide/Rguide.xml) guide that should be taken into account. "
   ]
  },
  {
   "cell_type": "markdown",
   "metadata": {
    "slideshow": {
     "slide_type": "subslide"
    }
   },
   "source": [
    "## R and Jupyter\n",
    "- R commands can be executed in a Jupyter Notebook just by play at the end of a cell.\n",
    "- Blocks of cells or even the entire notebook can be executed by clicking on the *Cell* above.\n",
    "- The Kernal is responsible for interpreting the code, and the current kernal is listed on the top right of the notebook. \n",
    "- While Jupyter started as a Python project, there are now a variety of Kernals for different programming languages including R, Scala, and SAS. \n",
    "- Read more about Jupyter in the documentation [here](http://jupyter.readthedocs.io/en/latest/).\n",
    "- If a variable isn't assigned it will be provided as output. \n"
   ]
  },
  {
   "cell_type": "code",
   "execution_count": 2,
   "metadata": {},
   "outputs": [
    {
     "data": {
      "text/html": [
       "5"
      ],
      "text/latex": [
       "5"
      ],
      "text/markdown": [
       "5"
      ],
      "text/plain": [
       "[1] 5"
      ]
     },
     "metadata": {},
     "output_type": "display_data"
    }
   ],
   "source": [
    "test<-5\n",
    "test"
   ]
  },
  {
   "cell_type": "markdown",
   "metadata": {},
   "source": [
    "## R and RStudio\n",
    "- Powerful IDE for R\n",
    "- Integrated usage of git\n",
    "- Integrated GUI based package management\n",
    "- Integrated GIT\n",
    "- Solid enterprise infrastructure, owned by Microsoft\n"
   ]
  },
  {
   "cell_type": "markdown",
   "metadata": {},
   "source": [
    "### R and Conda\n",
    "- Conda can quickly and easily install R. We love conda! \n",
    "- This is a rather long install, so may do it from command line. \n",
    "`!conda install r-essentials`"
   ]
  },
  {
   "cell_type": "code",
   "execution_count": null,
   "metadata": {
    "collapsed": true
   },
   "outputs": [],
   "source": [
    "#conda install -y r-essentials"
   ]
  },
  {
   "cell_type": "markdown",
   "metadata": {},
   "source": [
    "## R as calculator"
   ]
  },
  {
   "cell_type": "code",
   "execution_count": 3,
   "metadata": {},
   "outputs": [
    {
     "data": {
      "text/html": [
       "6.28318530717959"
      ],
      "text/latex": [
       "6.28318530717959"
      ],
      "text/markdown": [
       "6.28318530717959"
      ],
      "text/plain": [
       "[1] 6.283185"
      ]
     },
     "metadata": {},
     "output_type": "display_data"
    },
    {
     "data": {
      "text/html": [
       "7.7227991654072"
      ],
      "text/latex": [
       "7.7227991654072"
      ],
      "text/markdown": [
       "7.7227991654072"
      ],
      "text/plain": [
       "[1] 7.722799"
      ]
     },
     "metadata": {},
     "output_type": "display_data"
    },
    {
     "data": {
      "text/html": [
       "81"
      ],
      "text/latex": [
       "81"
      ],
      "text/markdown": [
       "81"
      ],
      "text/plain": [
       "[1] 81"
      ]
     },
     "metadata": {},
     "output_type": "display_data"
    },
    {
     "data": {
      "text/html": [
       "16"
      ],
      "text/latex": [
       "16"
      ],
      "text/markdown": [
       "16"
      ],
      "text/plain": [
       "[1] 16"
      ]
     },
     "metadata": {},
     "output_type": "display_data"
    },
    {
     "data": {
      "text/html": [
       "2.30258509299405"
      ],
      "text/latex": [
       "2.30258509299405"
      ],
      "text/markdown": [
       "2.30258509299405"
      ],
      "text/plain": [
       "[1] 2.302585"
      ]
     },
     "metadata": {},
     "output_type": "display_data"
    },
    {
     "data": {
      "text/html": [
       "2"
      ],
      "text/latex": [
       "2"
      ],
      "text/markdown": [
       "2"
      ],
      "text/plain": [
       "[1] 2"
      ]
     },
     "metadata": {},
     "output_type": "display_data"
    },
    {
     "data": {
      "text/html": [
       "11"
      ],
      "text/latex": [
       "11"
      ],
      "text/markdown": [
       "11"
      ],
      "text/plain": [
       "[1] 11"
      ]
     },
     "metadata": {},
     "output_type": "display_data"
    },
    {
     "data": {
      "text/html": [
       "1"
      ],
      "text/latex": [
       "1"
      ],
      "text/markdown": [
       "1"
      ],
      "text/plain": [
       "[1] 1"
      ]
     },
     "metadata": {},
     "output_type": "display_data"
    }
   ],
   "source": [
    "# R as a calculator\n",
    "2 * pi # multiply by a constant\n",
    "7 + runif(1) # add a random number\n",
    "3^4 # powers\n",
    "sqrt(4^4) # functions\n",
    "log(10)\n",
    "log(100, base = 10)\n",
    "23 %/% 2 \n",
    "23 %% 2"
   ]
  },
  {
   "cell_type": "markdown",
   "metadata": {},
   "source": [
    "## Assignment of Values\n",
    "- Don't used the equal sign.  \n",
    "- Do use `<-`\n"
   ]
  },
  {
   "cell_type": "code",
   "execution_count": 4,
   "metadata": {},
   "outputs": [
    {
     "data": {
      "text/html": [
       "3"
      ],
      "text/latex": [
       "3"
      ],
      "text/markdown": [
       "3"
      ],
      "text/plain": [
       "[1] 3"
      ]
     },
     "metadata": {},
     "output_type": "display_data"
    },
    {
     "name": "stdout",
     "output_type": "stream",
     "text": [
      "[1] 3\n",
      "[1] 3 7\n"
     ]
    }
   ],
   "source": [
    "#Assignment DON\"T use =\n",
    "val <- 3\n",
    "val\n",
    "print(val)\n",
    "\n",
    "Val <- 7 # case-sensitive!\n",
    "print(c(val, Val))\n"
   ]
  },
  {
   "cell_type": "code",
   "execution_count": 5,
   "metadata": {},
   "outputs": [
    {
     "data": {
      "text/html": [
       "<ol class=list-inline>\n",
       "\t<li>1</li>\n",
       "\t<li>2</li>\n",
       "\t<li>3</li>\n",
       "\t<li>4</li>\n",
       "\t<li>5</li>\n",
       "\t<li>6</li>\n",
       "</ol>\n"
      ],
      "text/latex": [
       "\\begin{enumerate*}\n",
       "\\item 1\n",
       "\\item 2\n",
       "\\item 3\n",
       "\\item 4\n",
       "\\item 5\n",
       "\\item 6\n",
       "\\end{enumerate*}\n"
      ],
      "text/markdown": [
       "1. 1\n",
       "2. 2\n",
       "3. 3\n",
       "4. 4\n",
       "5. 5\n",
       "6. 6\n",
       "\n",
       "\n"
      ],
      "text/plain": [
       "[1] 1 2 3 4 5 6"
      ]
     },
     "metadata": {},
     "output_type": "display_data"
    },
    {
     "data": {
      "text/html": [
       "<ol class=list-inline>\n",
       "\t<li>1.1</li>\n",
       "\t<li>3.1</li>\n",
       "\t<li>5.1</li>\n",
       "\t<li>7.1</li>\n",
       "\t<li>9.1</li>\n",
       "\t<li>11.1</li>\n",
       "</ol>\n"
      ],
      "text/latex": [
       "\\begin{enumerate*}\n",
       "\\item 1.1\n",
       "\\item 3.1\n",
       "\\item 5.1\n",
       "\\item 7.1\n",
       "\\item 9.1\n",
       "\\item 11.1\n",
       "\\end{enumerate*}\n"
      ],
      "text/markdown": [
       "1. 1.1\n",
       "2. 3.1\n",
       "3. 5.1\n",
       "4. 7.1\n",
       "5. 9.1\n",
       "6. 11.1\n",
       "\n",
       "\n"
      ],
      "text/plain": [
       "[1]  1.1  3.1  5.1  7.1  9.1 11.1"
      ]
     },
     "metadata": {},
     "output_type": "display_data"
    },
    {
     "data": {
      "text/html": [
       "6"
      ],
      "text/latex": [
       "6"
      ],
      "text/markdown": [
       "6"
      ],
      "text/plain": [
       "[1] 6"
      ]
     },
     "metadata": {},
     "output_type": "display_data"
    },
    {
     "data": {
      "text/html": [
       "<ol class=list-inline>\n",
       "\t<li>4</li>\n",
       "\t<li>4</li>\n",
       "\t<li>4</li>\n",
       "\t<li>4</li>\n",
       "\t<li>4</li>\n",
       "\t<li>4</li>\n",
       "</ol>\n"
      ],
      "text/latex": [
       "\\begin{enumerate*}\n",
       "\\item 4\n",
       "\\item 4\n",
       "\\item 4\n",
       "\\item 4\n",
       "\\item 4\n",
       "\\item 4\n",
       "\\end{enumerate*}\n"
      ],
      "text/markdown": [
       "1. 4\n",
       "2. 4\n",
       "3. 4\n",
       "4. 4\n",
       "5. 4\n",
       "6. 4\n",
       "\n",
       "\n"
      ],
      "text/plain": [
       "[1] 4 4 4 4 4 4"
      ]
     },
     "metadata": {},
     "output_type": "display_data"
    },
    {
     "data": {
      "text/html": [
       "<ol class=list-inline>\n",
       "\t<li>'espm'</li>\n",
       "\t<li>'pmb'</li>\n",
       "\t<li>'stats'</li>\n",
       "</ol>\n"
      ],
      "text/latex": [
       "\\begin{enumerate*}\n",
       "\\item 'espm'\n",
       "\\item 'pmb'\n",
       "\\item 'stats'\n",
       "\\end{enumerate*}\n"
      ],
      "text/markdown": [
       "1. 'espm'\n",
       "2. 'pmb'\n",
       "3. 'stats'\n",
       "\n",
       "\n"
      ],
      "text/plain": [
       "[1] \"espm\"  \"pmb\"   \"stats\""
      ]
     },
     "metadata": {},
     "output_type": "display_data"
    }
   ],
   "source": [
    "# This will gnerate numbers from 1 to 6. \n",
    "mySeq <- 1:6\n",
    "mySeq\n",
    "\n",
    "#Notice how this worrks like arrange in Python.\n",
    "myOtherSeq <- seq(1.1, 11.1, by = 2)\n",
    "myOtherSeq\n",
    "length(myOtherSeq)\n",
    "\n",
    "fours <- rep(4, 6)\n",
    "fours\n",
    "\n",
    "# This is a comment: here is an example of non-numeric data\n",
    "depts <- c('espm', 'pmb', 'stats')\n",
    "depts\n"
   ]
  },
  {
   "cell_type": "markdown",
   "metadata": {
    "slideshow": {
     "slide_type": "subslide"
    }
   },
   "source": [
    "## R and Packages (R's killer app)\n",
    "- There are a tremendous number of packages available which extend the core capabilities of the R language.\n",
    "-  \"Currently, the CRAN package repository features 9233 available packages.\" (from https://cran.r-project.org/web/packages/)\n",
    "- [Packages on CRAN](https://cran.r-project.org/web/packages/). Also see the [CRAN Task Views](https://cran.r-project.org/web/views/). \n",
    "- Packages may be source or compiled binary files.\n",
    "- Installing source packages which contain C/C++/Fortran code requires that compilers and related tools be installed. \n",
    "- Binary packages are platform-specific (Windows/Mac). This can cause problems in a large class and is a great reason to work in a standardized environment like the cloud or on Docker/VM.\n",
    "- If you want to sound like an R expert, make sure to call them *packages* and not *libraries*. A *library* is the location in the directory structure where the packages are installed/stored.\n"
   ]
  },
  {
   "cell_type": "markdown",
   "metadata": {},
   "source": [
    "## Using R packages\n",
    "1. Install the package on your machine\n",
    "2. Load the package"
   ]
  },
  {
   "cell_type": "markdown",
   "metadata": {
    "slideshow": {
     "slide_type": "subslide"
    }
   },
   "source": [
    "## Installing Packages in RStudio \n",
    "- Only needs to be done one time on machine. \n",
    "- To install a package, in RStudio, just do `Packages->Install Packages`.\n",
    "- Option to specify the source repository: `install.packages('chron', repos='http://cran.us.r-project.org')`\n",
    "- Option to install multiple packages: `install.packages(c(\"pkg1\", \"pkg2\"))`\n",
    "- You can install dependencies with: `install.packages(\"chron\", dependencies = TRUE)`\n",
    "- If binary files aren't available for your OS, install from source: `install.packages(path_to_file, repos = NULL, type=\"source\")`\n",
    "- R installs are not done from the terminal (no `!`).\n",
    "    "
   ]
  },
  {
   "cell_type": "markdown",
   "metadata": {},
   "source": [
    "## Install Packages with Conda\n",
    "This will only work from the Anaconda Prompt or terminal. \n",
    "\n",
    "`!conda install -y -c r r-yaml`"
   ]
  },
  {
   "cell_type": "markdown",
   "metadata": {
    "slideshow": {
     "slide_type": "subslide"
    }
   },
   "source": [
    "## Loading Packages \n",
    "- R packages must be imported before using. \n",
    "- Packages only have to be imported once in a notebook (not in every cell). \n",
    "- The `library(chron)` would import the chron package, provided it has beeen installed. \n",
    "- See all packages loaded with `search()`\n",
    "- search()    # see packages currently loaded"
   ]
  },
  {
   "cell_type": "code",
   "execution_count": 5,
   "metadata": {},
   "outputs": [
    {
     "data": {
      "text/html": [
       "<ol class=list-inline>\n",
       "\t<li>'.GlobalEnv'</li>\n",
       "\t<li>'jupyter:irkernel'</li>\n",
       "\t<li>'jupyter:irkernel'</li>\n",
       "\t<li>'package:stats'</li>\n",
       "\t<li>'package:graphics'</li>\n",
       "\t<li>'package:grDevices'</li>\n",
       "\t<li>'package:utils'</li>\n",
       "\t<li>'package:datasets'</li>\n",
       "\t<li>'package:methods'</li>\n",
       "\t<li>'Autoloads'</li>\n",
       "\t<li>'package:base'</li>\n",
       "</ol>\n"
      ],
      "text/latex": [
       "\\begin{enumerate*}\n",
       "\\item '.GlobalEnv'\n",
       "\\item 'jupyter:irkernel'\n",
       "\\item 'jupyter:irkernel'\n",
       "\\item 'package:stats'\n",
       "\\item 'package:graphics'\n",
       "\\item 'package:grDevices'\n",
       "\\item 'package:utils'\n",
       "\\item 'package:datasets'\n",
       "\\item 'package:methods'\n",
       "\\item 'Autoloads'\n",
       "\\item 'package:base'\n",
       "\\end{enumerate*}\n"
      ],
      "text/markdown": [
       "1. '.GlobalEnv'\n",
       "2. 'jupyter:irkernel'\n",
       "3. 'jupyter:irkernel'\n",
       "4. 'package:stats'\n",
       "5. 'package:graphics'\n",
       "6. 'package:grDevices'\n",
       "7. 'package:utils'\n",
       "8. 'package:datasets'\n",
       "9. 'package:methods'\n",
       "10. 'Autoloads'\n",
       "11. 'package:base'\n",
       "\n",
       "\n"
      ],
      "text/plain": [
       " [1] \".GlobalEnv\"        \"jupyter:irkernel\"  \"jupyter:irkernel\" \n",
       " [4] \"package:stats\"     \"package:graphics\"  \"package:grDevices\"\n",
       " [7] \"package:utils\"     \"package:datasets\"  \"package:methods\"  \n",
       "[10] \"Autoloads\"         \"package:base\"     "
      ]
     },
     "metadata": {},
     "output_type": "display_data"
    },
    {
     "data": {
      "text/html": [
       "<ol class=list-inline>\n",
       "\t<li>'.GlobalEnv'</li>\n",
       "\t<li>'package:yaml'</li>\n",
       "\t<li>'jupyter:irkernel'</li>\n",
       "\t<li>'jupyter:irkernel'</li>\n",
       "\t<li>'package:stats'</li>\n",
       "\t<li>'package:graphics'</li>\n",
       "\t<li>'package:grDevices'</li>\n",
       "\t<li>'package:utils'</li>\n",
       "\t<li>'package:datasets'</li>\n",
       "\t<li>'package:methods'</li>\n",
       "\t<li>'Autoloads'</li>\n",
       "\t<li>'package:base'</li>\n",
       "</ol>\n"
      ],
      "text/latex": [
       "\\begin{enumerate*}\n",
       "\\item '.GlobalEnv'\n",
       "\\item 'package:yaml'\n",
       "\\item 'jupyter:irkernel'\n",
       "\\item 'jupyter:irkernel'\n",
       "\\item 'package:stats'\n",
       "\\item 'package:graphics'\n",
       "\\item 'package:grDevices'\n",
       "\\item 'package:utils'\n",
       "\\item 'package:datasets'\n",
       "\\item 'package:methods'\n",
       "\\item 'Autoloads'\n",
       "\\item 'package:base'\n",
       "\\end{enumerate*}\n"
      ],
      "text/markdown": [
       "1. '.GlobalEnv'\n",
       "2. 'package:yaml'\n",
       "3. 'jupyter:irkernel'\n",
       "4. 'jupyter:irkernel'\n",
       "5. 'package:stats'\n",
       "6. 'package:graphics'\n",
       "7. 'package:grDevices'\n",
       "8. 'package:utils'\n",
       "9. 'package:datasets'\n",
       "10. 'package:methods'\n",
       "11. 'Autoloads'\n",
       "12. 'package:base'\n",
       "\n",
       "\n"
      ],
      "text/plain": [
       " [1] \".GlobalEnv\"        \"package:yaml\"      \"jupyter:irkernel\" \n",
       " [4] \"jupyter:irkernel\"  \"package:stats\"     \"package:graphics\" \n",
       " [7] \"package:grDevices\" \"package:utils\"     \"package:datasets\" \n",
       "[10] \"package:methods\"   \"Autoloads\"         \"package:base\"     "
      ]
     },
     "metadata": {},
     "output_type": "display_data"
    }
   ],
   "source": [
    "search() # see packages currently loaded\n",
    "library(\"yaml\") # Load the package chron\n",
    "search()    # see packages currently loaded\n"
   ]
  },
  {
   "cell_type": "markdown",
   "metadata": {
    "slideshow": {
     "slide_type": "slide"
    }
   },
   "source": [
    "## CREDITS\n",
    "\n",
    "\n",
    "Copyright [AnalyticsDojo](http://rpi.analyticsdojo.com) 2016.\n",
    "This work is licensed under the [Creative Commons Attribution 4.0 International](https://creativecommons.org/licenses/by/4.0/) license agreement.\n",
    "This work is adopted from the Berkley R Bootcamp.  "
   ]
  }
 ],
 "metadata": {
  "anaconda-cloud": {
   "attach-environment": true,
   "environment": "py3k",
   "summary": "Introduction and Overview of Pything",
   "url": "https://anaconda.org/analyticsdojo/intro-python-overview"
  },
  "celltoolbar": "Slideshow",
  "kernelspec": {
   "display_name": "R",
   "language": "R",
   "name": "ir"
  },
  "language_info": {
   "codemirror_mode": "r",
   "file_extension": ".r",
   "mimetype": "text/x-r-source",
   "name": "R",
   "pygments_lexer": "r",
   "version": "3.5.1"
  }
 },
 "nbformat": 4,
 "nbformat_minor": 2
}
