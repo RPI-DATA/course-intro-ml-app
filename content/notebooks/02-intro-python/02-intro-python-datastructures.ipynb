{
 "cells": [
  {
   "cell_type": "markdown",
   "metadata": {
    "slideshow": {
     "slide_type": "slide"
    }
   },
   "source": [
    "[![AnalyticsDojo](https://github.com/rpi-techfundamentals/spring2019-materials/blob/master/fig/final-logo.png?raw=1)](http://rpi.analyticsdojo.com)\n",
    "<center><h1>Introduction to Python - Datastructures</h1></center>\n",
    "<center><h3><a href = 'http://rpi.analyticsdojo.com'>rpi.analyticsdojo.com</a></h3></center>\n",
    "\n"
   ]
  },
  {
   "cell_type": "markdown",
   "metadata": {
    "slideshow": {
     "slide_type": "subslide"
    }
   },
   "source": [
    "# Overview\n",
    "Common to R and Python\n",
    "- Variables\n",
    "- Opearations on Numeric and String Variables\n",
    "- Lists\n",
    "\n",
    "Python Only\n",
    "- Dictionaries\n",
    "- Sets\n",
    "\n"
   ]
  },
  {
   "cell_type": "markdown",
   "metadata": {
    "slideshow": {
     "slide_type": "subslide"
    }
   },
   "source": [
    "## Variables\n",
    "- Single value\n",
    "- Strings, Integer, Floats and boolean are the most common types of variables.\n",
    "- Remember, under the covers they are all objects.\n",
    "- Multiple variables can be output with the `print()` statement. \n",
    "- `\\t` can be used to add a tab while `\\n` can input a new line."
   ]
  },
  {
   "cell_type": "code",
   "execution_count": 3,
   "metadata": {
    "slideshow": {
     "slide_type": "-"
    }
   },
   "outputs": [
    {
     "name": "stdout",
     "output_type": "stream",
     "text": [
      "1: #pythonrules 30 True\n",
      "2: String: #pythonrules Integer: 30 Boolean: True\n",
      "3: String: #pythonrules \tInteger: 30 \tBoolean: True\n",
      "4a: String: #pythonrules \n",
      "4b: Integer: 30 \n",
      "4c: Boolean: True\n",
      "#pythonrules30\n"
     ]
    }
   ],
   "source": [
    "a = '#pythonrules' # string\n",
    "b = 30              # integer\n",
    "c = True            # boolean\n",
    "\n",
    "#This prints (1) only the variables, (2) with labels, (3) including tabs, and (4) with new lines.\n",
    "print('1:', a,  b, c)\n",
    "print('2:','String:', a, 'Integer:', b, 'Boolean:', c)\n",
    "print('3:','String:', a, '\\tInteger:', b, '\\tBoolean:', c)\n",
    "print('4a:','String:', a, '\\n4b: Integer:', b, '\\n4c: Boolean:', c)\n",
    "print(a+str(b))"
   ]
  },
  {
   "cell_type": "markdown",
   "metadata": {
    "slideshow": {
     "slide_type": "subslide"
    }
   },
   "source": [
    "## Variable Type (continued)\n",
    "- In Python when we write `b = 30` this means the value of `30` is assigned to the `b` object. \n",
    "- Python is a [dynamically typed](https://pythonconquerstheuniverse.wordpress.com/2009/10/03/static-vs-dynamic-typing-of-programming-languages/).\n",
    "- Unlike some languages, we don't have to declare the type of a variable before using it. \n",
    "- Variable type can also change with the reassignment of a variable. \n",
    "\n"
   ]
  },
  {
   "cell_type": "code",
   "execution_count": 4,
   "metadata": {},
   "outputs": [
    {
     "name": "stdout",
     "output_type": "stream",
     "text": [
      "The value of a is  1 and type  <class 'int'>\n",
      "Now the value of a is  2.5 and type  <class 'float'>\n",
      "Now the value of a is  hello there and of type  <class 'str'>\n"
     ]
    }
   ],
   "source": [
    "a = 1\n",
    "print ('The value of a is ', a,  'and type ', type(a) )\n",
    "\n",
    "a = 2.5\n",
    "print ('Now the value of a is ', a,  'and type ', type(a) )\n",
    "\n",
    "a = 'hello there'\n",
    "print ('Now the value of a is ', a,  'and of type ', type(a) )"
   ]
  },
  {
   "cell_type": "markdown",
   "metadata": {
    "slideshow": {
     "slide_type": "subslide"
    }
   },
   "source": [
    "## Variable Type (continued)\n",
    "\n",
    "- _Variables_ themselves do not have a fixed type.\n",
    "- It is only the values that they refer to that have an associated _type_.\n",
    "- This means that the type referred to by a variable can change as more statements are interpreted.\n",
    "- If we combine types incorrectly we get an error. "
   ]
  },
  {
   "cell_type": "code",
   "execution_count": 7,
   "metadata": {
    "slideshow": {
     "slide_type": "-"
    }
   },
   "outputs": [
    {
     "data": {
      "text/plain": [
       "'string variable5'"
      ]
     },
     "execution_count": 7,
     "metadata": {},
     "output_type": "execute_result"
    }
   ],
   "source": [
    "#We can't add 5 to a \n",
    "b = 'string variable'\n",
    "c=b+5\n",
    "c"
   ]
  },
  {
   "cell_type": "markdown",
   "metadata": {
    "slideshow": {
     "slide_type": "subslide"
    }
   },
   "source": [
    "# The `type` Function\n",
    "\n",
    "- We can query the type of a value using the `type` function.\n",
    "- Variables can be reassigned to a different type. \n",
    "- There are integer, floating point, and complex number [numeric types](https://docs.python.org/3/library/stdtypes.html#numeric-types-int-float-complex).\n",
    "- Boolean is a special type of integer."
   ]
  },
  {
   "cell_type": "code",
   "execution_count": 8,
   "metadata": {},
   "outputs": [
    {
     "data": {
      "text/plain": [
       "int"
      ]
     },
     "execution_count": 8,
     "metadata": {},
     "output_type": "execute_result"
    }
   ],
   "source": [
    "a = 1\n",
    "type(a)"
   ]
  },
  {
   "cell_type": "code",
   "execution_count": 9,
   "metadata": {},
   "outputs": [
    {
     "data": {
      "text/plain": [
       "str"
      ]
     },
     "execution_count": 9,
     "metadata": {},
     "output_type": "execute_result"
    }
   ],
   "source": [
    "a = 'hello'\n",
    "type(a)"
   ]
  },
  {
   "cell_type": "code",
   "execution_count": 10,
   "metadata": {},
   "outputs": [
    {
     "data": {
      "text/plain": [
       "float"
      ]
     },
     "execution_count": 10,
     "metadata": {},
     "output_type": "execute_result"
    }
   ],
   "source": [
    "a=2.5\n",
    "type(a)"
   ]
  },
  {
   "cell_type": "code",
   "execution_count": 11,
   "metadata": {},
   "outputs": [
    {
     "data": {
      "text/plain": [
       "bool"
      ]
     },
     "execution_count": 11,
     "metadata": {},
     "output_type": "execute_result"
    }
   ],
   "source": [
    "a=True\n",
    "type(a)"
   ]
  },
  {
   "cell_type": "markdown",
   "metadata": {
    "slideshow": {
     "slide_type": "subslide"
    }
   },
   "source": [
    "# Converting Values Between Types\n",
    "\n",
    "- We can convert values between different types.\n",
    "- To convert to string use the `str()` function.\n",
    "- To convert to floating-point use the `float()` function.\n",
    "- To convert to an integer use the `int()` function.\n",
    "- To convert to a boolean use the `bool()` function.\n"
   ]
  },
  {
   "cell_type": "code",
   "execution_count": 12,
   "metadata": {},
   "outputs": [
    {
     "name": "stdout",
     "output_type": "stream",
     "text": [
      "1 <class 'int'>\n",
      "1 <class 'str'>\n",
      "1.0 <class 'float'>\n",
      "1 <class 'int'>\n"
     ]
    }
   ],
   "source": [
    "a = 1\n",
    "print(a, type(a))\n",
    "\n",
    "a = str(a)\n",
    "print (a, type(a))\n",
    "\n",
    "a = float(a)\n",
    "print (a, type(a))\n",
    "\n",
    "a = int(a)\n",
    "print (a, type(a))"
   ]
  },
  {
   "cell_type": "markdown",
   "metadata": {
    "slideshow": {
     "slide_type": "subslide"
    }
   },
   "source": [
    "# Converting Values Between Types (Continued)\n",
    "- To convert to a boolean use the `bool()` function.\n",
    "- `bool` can work with a String type that is `True` or `False`\n",
    "- `bool` can work with an integer type that is `1` for `True` or `0` for `False`"
   ]
  },
  {
   "cell_type": "code",
   "execution_count": 13,
   "metadata": {},
   "outputs": [
    {
     "name": "stdout",
     "output_type": "stream",
     "text": [
      "True <class 'str'>\n",
      "True <class 'bool'>\n",
      "True <class 'bool'>\n",
      "False <class 'bool'>\n"
     ]
    }
   ],
   "source": [
    "b = 'True'\n",
    "print (b, type(b))\n",
    "\n",
    "b = bool(b)\n",
    "print (b, type(b))\n",
    "\n",
    "c = 1\n",
    "c= bool(c)\n",
    "print (c, type(c))\n",
    "\n",
    "d = 0\n",
    "d= bool(d)\n",
    "print (d, type(d))"
   ]
  },
  {
   "cell_type": "markdown",
   "metadata": {
    "slideshow": {
     "slide_type": "subslide"
    }
   },
   "source": [
    "# Null Values\n",
    "\n",
    "- Sometimes we represent \"no data\" or \"not applicable\".  \n",
    "- In Python we use the special value `None`.\n",
    "- This corresponds to `NA` in R of `Null` in Java/SQL.\n",
    "- When we print the value `None` is printed. \n",
    "- If we enter the variable, no result is printed out.\n"
   ]
  },
  {
   "cell_type": "code",
   "execution_count": 14,
   "metadata": {},
   "outputs": [
    {
     "name": "stdout",
     "output_type": "stream",
     "text": [
      "None\n"
     ]
    }
   ],
   "source": [
    "a = None\n",
    "print(a)\n"
   ]
  },
  {
   "cell_type": "code",
   "execution_count": 15,
   "metadata": {},
   "outputs": [],
   "source": [
    "#Notice nothing is printed.\n",
    "a"
   ]
  },
  {
   "cell_type": "markdown",
   "metadata": {
    "slideshow": {
     "slide_type": "subslide"
    }
   },
   "source": [
    "## Operations on Numeric Variables\n",
    "- Python can be used as a basic calculator.\n",
    "- Check out this associated [tutorial](https://docs.python.org/3/tutorial/introduction.html#using-python-as-a-calculator)."
   ]
  },
  {
   "cell_type": "code",
   "execution_count": 16,
   "metadata": {},
   "outputs": [
    {
     "name": "stdout",
     "output_type": "stream",
     "text": [
      "Addition: 58\n",
      "Multiplication: 265\n",
      "Subtraction: 48\n",
      "Division 10.6\n",
      "Floor Division (discards the fractional part) 10\n",
      "Floor Division (returns the remainder) 3\n",
      "Exponents: 25\n"
     ]
    }
   ],
   "source": [
    "print('Addition:', 53 + 5)\n",
    "print('Multiplication:', 53 * 5)\n",
    "print('Subtraction:', 53 - 5)\n",
    "print('Division', 53 / 5 )\n",
    "print('Floor Division (discards the fractional part)', 53 // 5 )\n",
    "print('Floor Division (returns the remainder)', 53 % 5 )\n",
    "print('Exponents:', 5 ** 2 )"
   ]
  },
  {
   "cell_type": "markdown",
   "metadata": {
    "slideshow": {
     "slide_type": "subslide"
    }
   },
   "source": [
    "## Operations on String Variables\n",
    "- Just as we can do numeric operations, we can also do operations on strings.\n",
    "- Concatentate Strings \n",
    "- A *backslash* is used as an escape variable.\n",
    "- More info on this [tutorial](https://docs.python.org/3/tutorial/introduction.html#using-python-as-a-calculator)."
   ]
  },
  {
   "cell_type": "code",
   "execution_count": 18,
   "metadata": {},
   "outputs": [
    {
     "name": "stdout",
     "output_type": "stream",
     "text": [
      "Concatenation: StartEnd\n",
      "Tab: Start\tEnd\n",
      "Newline: Start\n",
      "End\n",
      "Apostrophe: can't\n",
      "Apostrophe: can't\n",
      "Continue line: This is the first line. This is the second line, but we have included a line continuation character: \\\n",
      "\n",
      "This is the second line, but we have included a line continuation character: \n",
      "#Note that to print the continueline character we have to list 2 \n",
      "#Note that to print the continueline character we have to list 2\n",
      "\n",
      "\n",
      "\n"
     ]
    }
   ],
   "source": [
    "a='Start'\n",
    "b='End'\n",
    "tab='\\t'\n",
    "newline='\\n'\n",
    "c='can\\'t'  #Note that we have to use the Escape character '\\' to inclue a apostrophe '  in the key.\n",
    "cb=\"can't\"\n",
    "continueline = 'This is the first line. \\\n",
    "This is the second line, but we have included a line continuation character: \\\\'\n",
    "#Note that to print the continueline character we have to list 2 (\\\\)\n",
    "#Note that to print the continueline character we have to list 2 (\\\\)\n",
    "\n",
    "contin2= \"\"\"\n",
    "This is the second line, but we have included a line continuation character: \n",
    "#Note that to print the continueline character we have to list 2 \n",
    "#Note that to print the continueline character we have to list 2\n",
    "\n",
    "\n",
    "\"\"\"\n",
    "\n",
    "\n",
    "\n",
    "print('Concatenation:', a+b )\n",
    "print('Tab:', a+tab+b )\n",
    "print('Newline:', a+newline+b )\n",
    "print('Apostrophe:', c )\n",
    "print('Apostrophe:', cb )\n",
    "print('Continue line:', continueline )\n",
    "print(contin2)"
   ]
  },
  {
   "cell_type": "markdown",
   "metadata": {
    "slideshow": {
     "slide_type": "subslide"
    }
   },
   "source": [
    "# Calling Functions on Variables\n",
    "\n",
    "- We can call functions in a conventional way using round brackets\n",
    "- Python has a wide variety of [built in functions](https://docs.python.org/3/library/functions.html),"
   ]
  },
  {
   "cell_type": "code",
   "execution_count": null,
   "metadata": {},
   "outputs": [],
   "source": [
    "a=abs(-98.45)\n",
    "print('abs() takes the absolute value:', a )\n",
    "a=round(a)\n",
    "print('round() rounds to nearest integer:', a )\n",
    "character=chr(a)\n",
    "print('chr(98) returns the string representing a character whose Unicode code point is associated with the integer:',character) "
   ]
  },
  {
   "cell_type": "markdown",
   "metadata": {
    "slideshow": {
     "slide_type": "subslide"
    }
   },
   "source": [
    "## Exercise - Operations on Variables\n",
    "\n",
    "1. What happens when you multiply a number times a boolean? What is the resulting type? \n",
    "2. What happens when you try to multiply an integer value times a null?\n",
    "3. Take 5 to the power of 4. \n",
    "\n"
   ]
  },
  {
   "cell_type": "markdown",
   "metadata": {
    "slideshow": {
     "slide_type": "subslide"
    }
   },
   "source": [
    "## Lists\n",
    "- Lists can be used to contain a sequence of values of any type. \n",
    "- You can do operations on lists.\n",
    "- The list values start at 0 and that the first value of a list can be printed using `a[0]`\n",
    "- Lists can be *sliced* or *indexed* using the start and end value `a[start:end]`\n",
    "- Lists are *mutable datastructures*, meaning that they can be changed (added to)."
   ]
  },
  {
   "cell_type": "code",
   "execution_count": 20,
   "metadata": {},
   "outputs": [
    {
     "name": "stdout",
     "output_type": "stream",
     "text": [
      "Print the entire array: [1, 2, 'three', 'four', 5.0]\n",
      "Print the first value: 1\n",
      "Print the first three value: [1, 2, 'three']\n",
      "Print from second value till end  of list: ['three', 'four', 5.0]\n",
      "Print the last value of a list: 5.0\n",
      "Print up till the 2nd to last value: [1, 2, 'three']\n"
     ]
    },
    {
     "data": {
      "text/plain": [
       "list"
      ]
     },
     "execution_count": 20,
     "metadata": {},
     "output_type": "execute_result"
    }
   ],
   "source": [
    "#Set the value of the list\n",
    "a = [1, 2, 'three', 'four', 5.0]\n",
    "\n",
    "print('Print the entire array:', a)\n",
    "print('Print the first value:', a[0])\n",
    "print('Print the first three value:', a[0:3])\n",
    "print('Print from second value till end  of list:', a[2:])\n",
    "print('Print the last value of a list:', a[-1])\n",
    "print('Print up till the 2nd to last value:', a[:-2]) \n",
    "type(a)"
   ]
  },
  {
   "cell_type": "markdown",
   "metadata": {
    "slideshow": {
     "slide_type": "subslide"
    }
   },
   "source": [
    "## Lists\n",
    "- Lists can be nested, where there are lists of lists.\n",
    "- The elements of a nested list is specified after the first list when slicing `c[0][0]`"
   ]
  },
  {
   "cell_type": "code",
   "execution_count": 21,
   "metadata": {},
   "outputs": [
    {
     "name": "stdout",
     "output_type": "stream",
     "text": [
      "This is a list with 2 lists in it: [[1, 2, 'three', 'four', 5.0], [6, 'seven', 8, 'nine']]\n",
      "This is the first list: [1, 2, 'three', 'four', 5.0]\n",
      "This is the first element of the second list: 6\n"
     ]
    }
   ],
   "source": [
    "a = [1, 2, 'three', 'four', 5.0]\n",
    "b = [6, 'seven', 8, 'nine']\n",
    "c = [a, b]\n",
    "\n",
    "print('This is a list with 2 lists in it:', c)\n",
    "print('This is the first list:', c[0])\n",
    "print('This is the first element of the second list:', c[1][0])"
   ]
  },
  {
   "cell_type": "markdown",
   "metadata": {
    "slideshow": {
     "slide_type": "subslide"
    }
   },
   "source": [
    "## Lists\n",
    "- Lists can added to with the `append` method or your can directly assign location in list.\n",
    "- You can identify the length of a list with `len(a)`\n",
    "- [More fuctions on lists](https://docs.python.org/3/tutorial/datastructures.html) include `pop()` `insert()` etc.\n",
    "- If you set a `lista = listb` this list will not be a copy but instead be the same list, where if you modify one it will modify both.\n",
    "- To create a copy of a list, you can use `lista=listb[:]`"
   ]
  },
  {
   "cell_type": "code",
   "execution_count": 22,
   "metadata": {},
   "outputs": [
    {
     "name": "stdout",
     "output_type": "stream",
     "text": [
      "We added 10 to b: [6, 'seven', 8, 'nine', 10]\n",
      "the length of b is now: 5\n",
      "We added 11 to b: [6, 'seven', 8, 'nine', 10, 'Eleven', 12]\n"
     ]
    }
   ],
   "source": [
    "b = [6, 'seven', 8, 'nine']\n",
    "b.append(10)\n",
    "print('We added 10 to b:', b)\n",
    "print('the length of b is now:', len(b))\n",
    "\n",
    "b[len(b):] = ['Eleven',12]\n",
    "print('We added 11 to b:', b)\n",
    "\n"
   ]
  },
  {
   "cell_type": "markdown",
   "metadata": {
    "slideshow": {
     "slide_type": "subslide"
    }
   },
   "source": [
    "## List\n",
    "\n",
    "- If you set a lista = listb this list will not be a copy but instead be the same list, where if you modify one it will modify both.\n",
    "- To create a copy of a list, you can use `lista=listb[:]` or `lista=listb.copy()`"
   ]
  },
  {
   "cell_type": "code",
   "execution_count": 23,
   "metadata": {},
   "outputs": [
    {
     "name": "stdout",
     "output_type": "stream",
     "text": [
      "[1, 2, 3] [1, 2, 3]\n",
      "[1, 2, 3] [1, 2, 3, 4]\n",
      "[1, 2, 3] [1, 2, 3, 4]\n"
     ]
    }
   ],
   "source": [
    "listb=[1,2,3,4]\n",
    "listb1=[1,2,3,4]\n",
    "listb2=[1,2,3,4]\n",
    "#This assigns one variable to another, linking them\n",
    "lista=listb\n",
    "#This creates a copy\n",
    "lista1=listb1[:]\n",
    "lista2=listb2.copy() # This does the same thing.\n",
    "#This deletes the third item in the array.\n",
    "lista.pop(3)\n",
    "lista1.pop(3)\n",
    "lista2.pop(3)\n",
    "#Notice how when we pop lista, listb is also impacted.\n",
    "print(lista, listb)\n",
    "#Notice how when we use a copy, listb1 is not impacted. \n",
    "print(lista1, listb1)\n",
    "print(lista2, listb2)"
   ]
  },
  {
   "cell_type": "markdown",
   "metadata": {
    "slideshow": {
     "slide_type": "subslide"
    }
   },
   "source": [
    "## Exercise-Lists\n",
    "Hint: [This list of functions on lists is useful.](https://docs.python.org/3/tutorial/datastructures.html)\n",
    "\n",
    "1. Create a list `elists1` with the following values (1,2,3,4,5).\n",
    "2. Create a new list `elists2` by first creating a copy of `elist1` and then reversing the order.\n",
    "3. Create a new list `elists3` by first creating a copy of `elist1` and then adding 7 8 9 to the end. *(Hint: Search for a different function if appending doesn't work.)*\n",
    "4. Create a new list `elists4` by first creating a copy of `elist3` and then insert 6 between 5 and 7. \n",
    "\n",
    "\n"
   ]
  },
  {
   "cell_type": "markdown",
   "metadata": {
    "slideshow": {
     "slide_type": "subslide"
    }
   },
   "source": [
    "# Sets\n",
    "\n",
    "- Lists can contain duplicate values.\n",
    "- A set, in contrast, contains no duplicates.\n",
    "- Sets can be created from lists using the `set()` function.\n",
    "- Alternatively we can write a set literal using the `{` and `}` brackets.\n",
    "\n",
    "\n"
   ]
  },
  {
   "cell_type": "code",
   "execution_count": 24,
   "metadata": {},
   "outputs": [
    {
     "name": "stdout",
     "output_type": "stream",
     "text": [
      "{1, 2, 3, 4} <class 'set'>\n"
     ]
    }
   ],
   "source": [
    "#This creates a set from a list. \n",
    "X = set([1, 2, 3, 3, 4])\n",
    "\n",
    "print(X, type(X))"
   ]
  },
  {
   "cell_type": "code",
   "execution_count": 28,
   "metadata": {},
   "outputs": [
    {
     "name": "stdout",
     "output_type": "stream",
     "text": [
      "{1, 2, 3, 4} <class 'set'>\n"
     ]
    }
   ],
   "source": [
    "X = {1, 2, 3, 4, 4}\n",
    "print(X, type(X))"
   ]
  },
  {
   "cell_type": "markdown",
   "metadata": {
    "slideshow": {
     "slide_type": "subslide"
    }
   },
   "source": [
    "# Sets are Mutable\n",
    "\n",
    "- Sets are mutable like lists (meaning we can change them)\n",
    "- Duplicates are automatically removed"
   ]
  },
  {
   "cell_type": "code",
   "execution_count": 29,
   "metadata": {},
   "outputs": [
    {
     "name": "stdout",
     "output_type": "stream",
     "text": [
      "{0, 1, 2, 3, 4, 5}\n",
      "{0, 1, 2, 3, 4, 5}\n"
     ]
    }
   ],
   "source": [
    "X = {1, 2, 3, 4}\n",
    "X.add(0)\n",
    "X.add(5)\n",
    "print(X)\n",
    "X.add(5)\n",
    "print(X)"
   ]
  },
  {
   "cell_type": "markdown",
   "metadata": {
    "slideshow": {
     "slide_type": "subslide"
    }
   },
   "source": [
    "# Sets are Unordered\n",
    "\n",
    "- Sets do not have an order.\n",
    "- Therefore we cannot index or slice them.\n",
    "\n"
   ]
  },
  {
   "cell_type": "code",
   "execution_count": 30,
   "metadata": {},
   "outputs": [
    {
     "ename": "TypeError",
     "evalue": "'set' object does not support indexing",
     "output_type": "error",
     "traceback": [
      "\u001b[0;31m---------------------------------------------------------------------------\u001b[0m",
      "\u001b[0;31mTypeError\u001b[0m                                 Traceback (most recent call last)",
      "\u001b[0;32m<ipython-input-30-19c40ecbd036>\u001b[0m in \u001b[0;36m<module>\u001b[0;34m()\u001b[0m\n\u001b[0;32m----> 1\u001b[0;31m \u001b[0mX\u001b[0m\u001b[0;34m[\u001b[0m\u001b[0;36m0\u001b[0m\u001b[0;34m]\u001b[0m\u001b[0;34m\u001b[0m\u001b[0m\n\u001b[0m",
      "\u001b[0;31mTypeError\u001b[0m: 'set' object does not support indexing"
     ]
    }
   ],
   "source": [
    "X[0]"
   ]
  },
  {
   "cell_type": "markdown",
   "metadata": {
    "slideshow": {
     "slide_type": "subslide"
    }
   },
   "source": [
    "## Operations on Sets\n",
    "\n",
    "- Union: $X \\cup Y$ combines two sets\n"
   ]
  },
  {
   "cell_type": "code",
   "execution_count": 31,
   "metadata": {},
   "outputs": [
    {
     "data": {
      "text/plain": [
       "{1, 2, 3, 4, 5, 6}"
      ]
     },
     "execution_count": 31,
     "metadata": {},
     "output_type": "execute_result"
    }
   ],
   "source": [
    "X = {1, 2, 3, 4}\n",
    "Y = {4, 5, 6}\n",
    "X.union(Y)"
   ]
  },
  {
   "cell_type": "markdown",
   "metadata": {
    "slideshow": {
     "slide_type": "subslide"
    }
   },
   "source": [
    "## Operations on Sets\n",
    "- Intersection: $X \\cap Y$:"
   ]
  },
  {
   "cell_type": "code",
   "execution_count": 32,
   "metadata": {},
   "outputs": [
    {
     "data": {
      "text/plain": [
       "{3, 4}"
      ]
     },
     "execution_count": 32,
     "metadata": {},
     "output_type": "execute_result"
    }
   ],
   "source": [
    "X = {1, 2, 3, 4}\n",
    "Y = {3, 4, 5}\n",
    "X.intersection(Y)"
   ]
  },
  {
   "cell_type": "markdown",
   "metadata": {
    "slideshow": {
     "slide_type": "subslide"
    }
   },
   "source": [
    "## Operations on Sets\n",
    "- Difference $X - Y$:\n"
   ]
  },
  {
   "cell_type": "code",
   "execution_count": 33,
   "metadata": {},
   "outputs": [
    {
     "data": {
      "text/plain": [
       "{1, 2}"
      ]
     },
     "execution_count": 33,
     "metadata": {},
     "output_type": "execute_result"
    }
   ],
   "source": [
    "X = {1, 2, 3, 4}\n",
    "Y = {3, 4, 5}\n",
    "X - Y"
   ]
  },
  {
   "cell_type": "markdown",
   "metadata": {
    "slideshow": {
     "slide_type": "subslide"
    }
   },
   "source": [
    "## Dictionaries\n",
    "- You can think of dictionaries as arrays that help you assocaite a `key` with a `value`.\n",
    "- Dictionaries can be specified with `{key: value, key: value}`\n",
    "- Dictionaries can be specified with dict([('key', value), ('key', value)])\n",
    "- Key's and values can be either string or numeric. \n",
    "- Dictionaries are mutable, (can be changed) `adict['g'] = 41`"
   ]
  },
  {
   "cell_type": "code",
   "execution_count": 34,
   "metadata": {},
   "outputs": [
    {
     "name": "stdout",
     "output_type": "stream",
     "text": [
      "{'c': 2, 'b': 1, 'a': 0} {1: 'a', 2: 'b', 3: 'c'} \n",
      " <class 'dict'> <class 'dict'> \n",
      " 1 b\n"
     ]
    }
   ],
   "source": [
    "adict1 = {'a' : 0, 'b' : 1, 'c' : 2}\n",
    "adict2 = dict([(1, 'a'), (2, 'b'), (3, 'c')])\n",
    "print(adict1,adict2, '\\n', type(adict1),type(adict2), '\\n',adict1['b'],adict2[2])"
   ]
  },
  {
   "cell_type": "code",
   "execution_count": 36,
   "metadata": {},
   "outputs": [],
   "source": [
    "adict2['g']=1234"
   ]
  },
  {
   "cell_type": "code",
   "execution_count": 37,
   "metadata": {},
   "outputs": [
    {
     "data": {
      "text/plain": [
       "1234"
      ]
     },
     "execution_count": 37,
     "metadata": {},
     "output_type": "execute_result"
    }
   ],
   "source": [
    "adict2['g']"
   ]
  },
  {
   "cell_type": "markdown",
   "metadata": {
    "slideshow": {
     "slide_type": "subslide"
    }
   },
   "source": [
    "## Exercise-Sets/Dictionary\n",
    "\n",
    "1. Create a set `eset1` with the following values (1,2,3,4,5).\n",
    "2. Create a new set `eset2` the following values (1,3,6).\n",
    "3. Create a new set `eset3` that is `eset1-eset2`.\n",
    "4. Create a new set `eset4` that is the union of `eset1+eset2`.\n",
    "5. Create a new set `eset5` that includes values that are in both `eset1` and `eset2` (intersection).\n",
    "6. Create a new dict `edict1` with the following keys and associated values: st1=45; st2=32; st3=40; st4=31.\n",
    "7. Create a new variable edict2 from edict 1 where the key is st3.\n",
    " \n",
    "\n",
    "\n"
   ]
  },
  {
   "cell_type": "markdown",
   "metadata": {
    "slideshow": {
     "slide_type": "slide"
    }
   },
   "source": [
    "## CREDITS\n",
    "\n",
    "\n",
    "Copyright [AnalyticsDojo](http://rpi.analyticsdojo.com) 2016\n",
    "This work is licensed under the [Creative Commons Attribution 4.0 International](https://creativecommons.org/licenses/by/4.0/) license agreement.\n",
    "\n",
    "This work has been adopted from the [origional version](https://github.com/phelps-sg/python-bigdata):\n",
    "Copyright [Steve Phelps](http://sphelps.net) 2014\n",
    "\n"
   ]
  }
 ],
 "metadata": {
  "anaconda-cloud": {},
  "celltoolbar": "Slideshow",
  "kernelspec": {
   "display_name": "Python 3",
   "language": "python",
   "name": "python3"
  },
  "language_info": {
   "codemirror_mode": {
    "name": "ipython",
    "version": 3
   },
   "file_extension": ".py",
   "mimetype": "text/x-python",
   "name": "python",
   "nbconvert_exporter": "python",
   "pygments_lexer": "ipython3",
   "version": "3.6.3"
  }
 },
 "nbformat": 4,
 "nbformat_minor": 2
}
