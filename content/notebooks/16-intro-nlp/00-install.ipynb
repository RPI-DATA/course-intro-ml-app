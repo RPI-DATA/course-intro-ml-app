{
 "cells": [
  {
   "cell_type": "code",
   "execution_count": 1,
   "metadata": {},
   "outputs": [
    {
     "name": "stdout",
     "output_type": "stream",
     "text": [
      "Solving environment: done\n",
      "\n",
      "## Package Plan ##\n",
      "\n",
      "  environment location: /anaconda3/envs/carme\n",
      "\n",
      "  added / updated specs: \n",
      "    - beautifulsoup4\n",
      "    - gensim\n",
      "    - nltk\n",
      "\n",
      "\n",
      "The following packages will be downloaded:\n",
      "\n",
      "    package                    |            build\n",
      "    ---------------------------|-----------------\n",
      "    boto-2.48.0                |   py36hdbc59ac_1         1.5 MB  anaconda\n",
      "    docutils-0.14              |   py36hbfde631_0         689 KB  anaconda\n",
      "    ca-certificates-2018.03.07 |                0         124 KB  anaconda\n",
      "    ------------------------------------------------------------\n",
      "                                           Total:         2.3 MB\n",
      "\n",
      "The following NEW packages will be INSTALLED:\n",
      "\n",
      "    beautifulsoup4:  4.6.0-py36h72d3c9f_1  anaconda   \n",
      "    boto:            2.48.0-py36hdbc59ac_1 anaconda   \n",
      "    boto3:           1.6.18-py36_0         anaconda   \n",
      "    botocore:        1.9.18-py36_0         anaconda   \n",
      "    bz2file:         0.98-py36_0           anaconda   \n",
      "    docutils:        0.14-py36hbfde631_0   anaconda   \n",
      "    gensim:          3.4.0-py36h917ab60_0  anaconda   \n",
      "    jmespath:        0.9.3-py36h767a2d6_0  anaconda   \n",
      "    nltk:            3.2.5-py36h1190bce_0  anaconda   \n",
      "    s3transfer:      0.1.13-py36_0         anaconda   \n",
      "    smart_open:      1.5.7-py36_0          anaconda   \n",
      "\n",
      "The following packages will be UPDATED:\n",
      "\n",
      "    ca-certificates: 2018.1.18-0           conda-forge --> 2018.03.07-0      anaconda\n",
      "    certifi:         2018.1.18-py36_0      conda-forge --> 2018.1.18-py36_0  anaconda\n",
      "    openssl:         1.0.2n-0              conda-forge --> 1.0.2o-h26aff7b_0 anaconda\n",
      "\n",
      "\n",
      "Downloading and Extracting Packages\n",
      "boto 2.48.0: ########################################################### | 100% \n",
      "docutils 0.14: ######################################################### | 100% \n",
      "ca-certificates 2018.03.07: ############################################ | 100% \n",
      "Preparing transaction: done\n",
      "Verifying transaction: done\n",
      "Executing transaction: done\n"
     ]
    }
   ],
   "source": [
    "!conda install -y -c anaconda beautifulsoup4 nltk gensim"
   ]
  },
  {
   "cell_type": "code",
   "execution_count": null,
   "metadata": {},
   "outputs": [],
   "source": []
  }
 ],
 "metadata": {
  "kernelspec": {
   "display_name": "Python 3",
   "language": "python",
   "name": "python3"
  },
  "language_info": {
   "codemirror_mode": {
    "name": "ipython",
    "version": 3
   },
   "file_extension": ".py",
   "mimetype": "text/x-python",
   "name": "python",
   "nbconvert_exporter": "python",
   "pygments_lexer": "ipython3",
   "version": "3.6.5"
  }
 },
 "nbformat": 4,
 "nbformat_minor": 2
}
