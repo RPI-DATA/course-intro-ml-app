{
 "cells": [
  {
   "cell_type": "markdown",
   "metadata": {},
   "source": [
    "[![AnalyticsDojo](https://github.com/rpi-techfundamentals/spring2019-materials/blob/master/fig/final-logo.png?raw=1)](http://rpi.analyticsdojo.com)\n",
    "<center><h1> Sentiment Analysis</h1></center>\n",
    "<center><h3><a href = 'http://rpi.analyticsdojo.com'>rpi.analyticsdojo.com</a></h3></center>"
   ]
  },
  {
   "cell_type": "markdown",
   "metadata": {},
   "source": [
    "### Sentiment Analysis\n",
    "- The [pricing](https://azure.microsoft.com/en-us/pricing/details/cognitive-services/text-analytics/).\n",
    "- Helpful [example](https://www.johanahlen.info/en/2017/04/text-analytics-and-sentiment-analysis-with-microsoft-cognitive-services/).\n",
    "- [Microsoft quickstart documentation](https://docs.microsoft.com/en-us/azure/cognitive-services/text-analytics/quickstarts/python)\n"
   ]
  },
  {
   "cell_type": "code",
   "execution_count": 2,
   "metadata": {},
   "outputs": [],
   "source": [
    "#This imports some required packages.\n",
    "#import utils #Often I'll develop functions in a notebook then move to utils. \n",
    "import pandas as pd\n",
    "import urllib.request\n",
    "import json\n",
    "import pprint"
   ]
  },
  {
   "cell_type": "markdown",
   "metadata": {},
   "source": [
    "### Keys are Needed for the API. \n",
    "You will find the appropriate key on the slack channel. \n"
   ]
  },
  {
   "cell_type": "code",
   "execution_count": 7,
   "metadata": {},
   "outputs": [],
   "source": [
    "#I typically store my config values. \n",
    "azure_text_endpoint= 'https://eastus.api.cognitive.microsoft.com/text/analytics/v2.0'\n",
    "azure_text_key1= 'key posted on slack'\n"
   ]
  },
  {
   "cell_type": "code",
   "execution_count": 8,
   "metadata": {},
   "outputs": [],
   "source": [
    "def azure_request(command, endpoint, key, postdata):\n",
    "    #Set URI\n",
    "    uri=endpoint+\"/\"+command\n",
    "    #Set header\n",
    "    headers = {}\n",
    "    headers['Ocp-Apim-Subscription-Key'] = key\n",
    "    headers['Content-Type'] = 'application/json'\n",
    "    headers['Accept'] = 'application/json'\n",
    "    #Make request\n",
    "    request = urllib.request.Request(uri, postdata, headers)\n",
    "    response = urllib.request.urlopen(request)\n",
    "    return json.loads(response.read().decode('utf-8'))\n",
    "\n",
    "def df_to_postdata(df):\n",
    "    return json.dumps({'documents': json.loads(df.to_json(orient='records')) }).encode('utf-8')\n"
   ]
  },
  {
   "cell_type": "code",
   "execution_count": 9,
   "metadata": {},
   "outputs": [
    {
     "name": "stdout",
     "output_type": "stream",
     "text": [
      "(b'{\"documents\": [{\"id\": \"1\", \"language\": \"en\", \"text\": \"I really enjoy the new'\n",
      " b' XBox One S. It has a clean look, it has 4K/HDR resolution and it is afforda'\n",
      " b'ble.\"}, {\"id\": \"2\", \"language\": \"es\", \"text\": \"Este ha sido un dia terrible,'\n",
      " b' llegu\\\\u00e9 tarde al trabajo debido a un accidente automobilistico.\"}]}')\n"
     ]
    }
   ],
   "source": [
    "#First lets test with sample data from the examples. \n",
    "#https://docs.microsoft.com/en-us/azure/cognitive-services/text-analytics/quickstarts/python\n",
    "test_data = json.dumps({ 'documents': [\n",
    "    { 'id': '1', 'language': 'en', 'text': 'I really enjoy the new XBox One S. It has a clean look, it has 4K/HDR resolution and it is affordable.' },\n",
    "    { 'id': '2', 'language': 'es', 'text': 'Este ha sido un dia terrible, llegué tarde al trabajo debido a un accidente automobilistico.' }\n",
    "]}).encode('utf-8')\n",
    "pprint.pprint(test_data)"
   ]
  },
  {
   "cell_type": "code",
   "execution_count": 10,
   "metadata": {},
   "outputs": [
    {
     "data": {
      "text/plain": [
       "{'documents': [{'id': '1', 'score': 0.9619677066802979},\n",
       "  {'id': '2', 'score': 0.024017512798309326}],\n",
       " 'errors': []}"
      ]
     },
     "execution_count": 10,
     "metadata": {},
     "output_type": "execute_result"
    }
   ],
   "source": [
    "test_result=azure_request('sentiment', azure_text_endpoint, azure_text_key1, test_data)\n",
    "test_result"
   ]
  }
 ],
 "metadata": {
  "kernelspec": {
   "display_name": "Python 3",
   "language": "python",
   "name": "python3"
  },
  "language_info": {
   "codemirror_mode": {
    "name": "ipython",
    "version": 3
   },
   "file_extension": ".py",
   "mimetype": "text/x-python",
   "name": "python",
   "nbconvert_exporter": "python",
   "pygments_lexer": "ipython3",
   "version": "3.6.3"
  }
 },
 "nbformat": 4,
 "nbformat_minor": 2
}
