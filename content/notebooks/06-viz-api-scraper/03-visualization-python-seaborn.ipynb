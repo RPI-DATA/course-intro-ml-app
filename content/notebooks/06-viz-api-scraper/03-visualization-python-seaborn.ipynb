{
  "nbformat": 4,
  "nbformat_minor": 0,
  "metadata": {
    "anaconda-cloud": {},
    "celltoolbar": "Slideshow",
    "kernelspec": {
      "display_name": "Python 3",
      "language": "python",
      "name": "python3"
    },
    "language_info": {
      "codemirror_mode": {
        "name": "ipython",
        "version": 3
      },
      "file_extension": ".py",
      "mimetype": "text/x-python",
      "name": "python",
      "nbconvert_exporter": "python",
      "pygments_lexer": "ipython3",
      "version": "3.6.3"
    },
    "colab": {
      "name": "03-visualization-python-seaborn.ipynb",
      "provenance": []
    }
  },
  "cells": [
    {
      "cell_type": "markdown",
      "metadata": {
        "id": "blReGD3N5YIv",
        "colab_type": "text"
      },
      "source": [
        "[![AnalyticsDojo](https://github.com/rpi-techfundamentals/spring2019-materials/blob/master/fig/final-logo.png?raw=1)](http://rpi.analyticsdojo.com)\n",
        "<center><h1>Introduction to Seaborn - Python</h1></center>\n",
        "<center><h3><a href = 'http://rpi.analyticsdojo.com'>rpi.analyticsdojo.com</a></h3></center>"
      ]
    },
    {
      "cell_type": "markdown",
      "metadata": {
        "id": "z99cdZG55YI8",
        "colab_type": "text"
      },
      "source": [
        "### Overview\n",
        "- Look at distributions\n",
        "- Seaborn is an alternate data visualization package. \n",
        "- This has been adopted from the Seaborn Documentation.Read more at https://stanford.edu/~mwaskom/software/seaborn/api.html"
      ]
    },
    {
      "cell_type": "code",
      "metadata": {
        "id": "MpCUsQcr5YJF",
        "colab_type": "code",
        "colab": {}
      },
      "source": [
        "#This uses the same mechanisms. \n",
        "%matplotlib inline"
      ],
      "execution_count": 0,
      "outputs": []
    },
    {
      "cell_type": "code",
      "metadata": {
        "id": "pBhF4r755YJa",
        "colab_type": "code",
        "colab": {}
      },
      "source": [
        "import numpy as np\n",
        "import pandas as pd\n",
        "from scipy import stats, integrate\n",
        "import matplotlib.pyplot as plt\n",
        "import seaborn as sns\n",
        "sns.set(color_codes=True)"
      ],
      "execution_count": 0,
      "outputs": []
    },
    {
      "cell_type": "markdown",
      "metadata": {
        "id": "91wFdpLe5YJm",
        "colab_type": "text"
      },
      "source": [
        "## Distribution Plots\n",
        "- Histogram with KDE\n",
        "- Histogram with Rugplot\n"
      ]
    },
    {
      "cell_type": "code",
      "metadata": {
        "id": "6G456TtG5YJn",
        "colab_type": "code",
        "colab": {}
      },
      "source": [
        "import seaborn as sns, numpy as np\n",
        "sns.set(); np.random.seed(0)\n",
        "x = np.random.randn(100)\n",
        "x"
      ],
      "execution_count": 0,
      "outputs": []
    },
    {
      "cell_type": "markdown",
      "metadata": {
        "id": "Cmzw8Lqt5YJw",
        "colab_type": "text"
      },
      "source": [
        "### Distribution Plot (distplot) \n",
        "- Any compbination of hist, rug, kde\n",
        "- Note it also has in it a KDE plot included\n",
        "- Can manually set the number of bins\n",
        "- See documentation [here](https://seaborn.pydata.org/generated/seaborn.distplot.html#seaborn.distplot) "
      ]
    },
    {
      "cell_type": "code",
      "metadata": {
        "id": "tLeYJqAI5YJx",
        "colab_type": "code",
        "colab": {}
      },
      "source": [
        "#Histogram\n",
        "# https://seaborn.pydata.org/generated/seaborn.distplot.html#seaborn.distplot\n",
        "ax = sns.distplot(x)\n",
        "\n"
      ],
      "execution_count": 0,
      "outputs": []
    },
    {
      "cell_type": "code",
      "metadata": {
        "id": "t5UuIEdS5YJ4",
        "colab_type": "code",
        "colab": {}
      },
      "source": [
        "#Adjust number of bins for more fine grained view\n",
        "ax = sns.distplot(x, bins = 20)"
      ],
      "execution_count": 0,
      "outputs": []
    },
    {
      "cell_type": "code",
      "metadata": {
        "id": "AwJuiYon5YJ-",
        "colab_type": "code",
        "colab": {}
      },
      "source": [
        "#Include rug and kde (no histogram)\n",
        "sns.distplot(x, hist=False, rug=True);"
      ],
      "execution_count": 0,
      "outputs": []
    },
    {
      "cell_type": "code",
      "metadata": {
        "id": "IWwm65OF5YKB",
        "colab_type": "code",
        "colab": {}
      },
      "source": [
        "#Kernel Density\n",
        "#https://seaborn.pydata.org/generated/seaborn.rugplot.html#seaborn.rugplot\n",
        "ax = sns.distplot(x, bins=10, kde=True, rug=True)"
      ],
      "execution_count": 0,
      "outputs": []
    },
    {
      "cell_type": "markdown",
      "metadata": {
        "id": "t2UMGhkL5YKH",
        "colab_type": "text"
      },
      "source": [
        "### Box Plots \n",
        "- Break data into quartiles. \n",
        "- Can show distribution/ranges of different categories.\n"
      ]
    },
    {
      "cell_type": "markdown",
      "metadata": {
        "id": "yzjnwxx-5YKI",
        "colab_type": "text"
      },
      "source": [
        "<a title=\"Jhguch at en.wikipedia [CC BY-SA 2.5 (https://creativecommons.org/licenses/by-sa/2.5)], from Wikimedia Commons\" href=\"https://commons.wikimedia.org/wiki/File%3ABoxplot_vs_PDF.svg\"><img width=\"512\" alt=\"Boxplot vs PDF\" src=\"https://upload.wikimedia.org/wikipedia/commons/thumb/1/1a/Boxplot_vs_PDF.svg/512px-Boxplot_vs_PDF.svg.png\"/></a>\n",
        "\n",
        "Jhguch at en.wikipedia [CC BY-SA 2.5 (https://creativecommons.org/licenses/by-sa/2.5)], from Wikimedia Commons"
      ]
    },
    {
      "cell_type": "code",
      "metadata": {
        "id": "4hrpO5655YKJ",
        "colab_type": "code",
        "colab": {}
      },
      "source": [
        "sns.set_style(\"whitegrid\")\n",
        "#This is data on tips (a real dataset) and our familiar iris dataset\n",
        "tips = sns.load_dataset(\"tips\")\n",
        "iris = sns.load_dataset(\"iris\")\n",
        "titanic = sns.load_dataset(\"titanic\")\n",
        "#Tips is a pandas dataframe\n",
        "tips.head()"
      ],
      "execution_count": 0,
      "outputs": []
    },
    {
      "cell_type": "code",
      "metadata": {
        "id": "bPDgT3u85YKM",
        "colab_type": "code",
        "colab": {}
      },
      "source": [
        "ax = sns.boxplot(x=tips[\"total_bill\"])"
      ],
      "execution_count": 0,
      "outputs": []
    },
    {
      "cell_type": "code",
      "metadata": {
        "id": "NkoK25Ok5YKQ",
        "colab_type": "code",
        "colab": {}
      },
      "source": [
        "# Notice we can see the few ouliers on right side\n",
        "ax = sns.distplot(tips[\"total_bill\"],  kde=True, rug=True)"
      ],
      "execution_count": 0,
      "outputs": []
    },
    {
      "cell_type": "markdown",
      "metadata": {
        "id": "o56vfWPK5YKV",
        "colab_type": "text"
      },
      "source": [
        "# Relationship Plots\n",
        "- Pairplots to show all \n",
        "- Regplot for 2 continuous variables\n",
        "- Scatterplot for two continuous variables\n",
        "- Swarmplot or BoxPlot for continuous and categorical\n"
      ]
    },
    {
      "cell_type": "code",
      "metadata": {
        "id": "ScO2tbk-5YKX",
        "colab_type": "code",
        "colab": {}
      },
      "source": [
        "#Notice how this works for continuous, not great for categorical\n",
        "h = sns.pairplot(tips, hue=\"time\")"
      ],
      "execution_count": 0,
      "outputs": []
    },
    {
      "cell_type": "code",
      "metadata": {
        "id": "FWdJJjKu5YKb",
        "colab_type": "code",
        "colab": {}
      },
      "source": [
        "g = sns.pairplot(iris, hue=\"species\")"
      ],
      "execution_count": 0,
      "outputs": []
    },
    {
      "cell_type": "code",
      "metadata": {
        "id": "7AWv3uJ05YKe",
        "colab_type": "code",
        "colab": {}
      },
      "source": [
        "# Show relationship between 2 continuous variables with regression line. \n",
        "sns.regplot(x=\"total_bill\", y=\"tip\", data=tips);"
      ],
      "execution_count": 0,
      "outputs": []
    },
    {
      "cell_type": "code",
      "metadata": {
        "id": "DHMjlVAf5YKg",
        "colab_type": "code",
        "colab": {}
      },
      "source": [
        "# Break down \n",
        "sns.boxplot(x=\"day\", y=\"total_bill\", hue=\"time\", data=tips);"
      ],
      "execution_count": 0,
      "outputs": []
    },
    {
      "cell_type": "code",
      "metadata": {
        "id": "BJ1nn6HK5YKk",
        "colab_type": "code",
        "colab": {}
      },
      "source": [
        "#Uses an algorithm to prevent overlap\n",
        "sns.swarmplot(x=\"day\", y=\"total_bill\", hue= \"time\",data=tips);"
      ],
      "execution_count": 0,
      "outputs": []
    },
    {
      "cell_type": "code",
      "metadata": {
        "id": "3phCJaSA5YKn",
        "colab_type": "code",
        "colab": {}
      },
      "source": [
        "#Uses an algorithm to prevent overlap\n",
        "sns.violinplot(x=\"day\", y=\"total_bill\", hue= \"time\",data=tips);"
      ],
      "execution_count": 0,
      "outputs": []
    },
    {
      "cell_type": "code",
      "metadata": {
        "id": "_wGYZt7X5YKq",
        "colab_type": "code",
        "colab": {}
      },
      "source": [
        "#Stacking Graphs Is Easy\n",
        "sns.violinplot(x=\"day\", y=\"total_bill\", data=tips, inner=None)\n",
        "sns.swarmplot(x=\"day\", y=\"total_bill\", data=tips, color=\"w\", alpha=.5);"
      ],
      "execution_count": 0,
      "outputs": []
    },
    {
      "cell_type": "markdown",
      "metadata": {
        "id": "7iaQ6S_-5YKt",
        "colab_type": "text"
      },
      "source": [
        "# Visualizing Summary Data\n",
        "- Barplots will show the "
      ]
    },
    {
      "cell_type": "code",
      "metadata": {
        "id": "W1COJDDY5YKu",
        "colab_type": "code",
        "colab": {}
      },
      "source": [
        "#This \n",
        "sns.barplot(x=\"sex\", y=\"tip\", data=tips);\n",
        "tips"
      ],
      "execution_count": 0,
      "outputs": []
    },
    {
      "cell_type": "code",
      "metadata": {
        "id": "XybnKrJz5YKx",
        "colab_type": "code",
        "colab": {}
      },
      "source": [
        "tips"
      ],
      "execution_count": 0,
      "outputs": []
    },
    {
      "cell_type": "code",
      "metadata": {
        "id": "1SuTDm5Q5YK0",
        "colab_type": "code",
        "colab": {}
      },
      "source": [
        ""
      ],
      "execution_count": 0,
      "outputs": []
    },
    {
      "cell_type": "code",
      "metadata": {
        "id": "1vuuSV4u5YLR",
        "colab_type": "code",
        "colab": {}
      },
      "source": [
        "#Notice the selection of palette and how we can swap the axis.\n",
        "sns.barplot(x=\"tip\", y=\"day\", data=tips,  palette=\"Greens_d\");\n"
      ],
      "execution_count": 0,
      "outputs": []
    },
    {
      "cell_type": "code",
      "metadata": {
        "id": "AUN6ZJTe5YLU",
        "colab_type": "code",
        "colab": {}
      },
      "source": [
        "#Notice the selection of palette and how we can swap the axis.\n",
        "sns.barplot(x=\"total_bill\", y=\"day\", data=tips,  palette=\"Reds_d\");\n",
        "\n"
      ],
      "execution_count": 0,
      "outputs": []
    },
    {
      "cell_type": "code",
      "metadata": {
        "id": "e_XRlWhV5YLW",
        "colab_type": "code",
        "colab": {}
      },
      "source": [
        "#Saturday is the bigger night\n",
        "sns.countplot(x=\"day\", data=tips);"
      ],
      "execution_count": 0,
      "outputs": []
    },
    {
      "cell_type": "markdown",
      "metadata": {
        "id": "0h2PsOg85pcP",
        "colab_type": "text"
      },
      "source": [
        "## Saving Plots\n",
        "It is often useful to save plots as image files. If you save a plot as an object, then get a figure (`get_figure()`) from that plot, you can then save the figure using the `savefig()` method.\n"
      ]
    },
    {
      "cell_type": "code",
      "metadata": {
        "id": "Vgc1_XZm5oHB",
        "colab_type": "code",
        "colab": {}
      },
      "source": [
        "sns_plot_save=sns.countplot(x=\"day\", data=tips);\n",
        "fig = sns_plot_save.get_figure()\n",
        "fig.savefig('testsave.png')"
      ],
      "execution_count": 0,
      "outputs": []
    },
    {
      "cell_type": "code",
      "metadata": {
        "id": "IUiBIWuv5m2W",
        "colab_type": "code",
        "colab": {}
      },
      "source": [
        "#Verify that you can see the file.\n",
        "!ls"
      ],
      "execution_count": 0,
      "outputs": []
    }
  ]
}