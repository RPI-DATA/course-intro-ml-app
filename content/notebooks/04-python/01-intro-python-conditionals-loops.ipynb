{
 "cells": [
  {
   "cell_type": "markdown",
   "metadata": {
    "slideshow": {
     "slide_type": "slide"
    }
   },
   "source": [
    "[![AnalyticsDojo](https://github.com/rpi-techfundamentals/spring2019-materials/blob/master/fig/final-logo.png?raw=1)](http://rpi.analyticsdojo.com)\n",
    "<center><h1>Introduction to Python - Conditional Statements and Loops</h1></center>\n",
    "<center><h3><a href = 'http://rpi.analyticsdojo.com'>rpi.analyticsdojo.com</a></h3></center>\n"
   ]
  },
  {
   "cell_type": "markdown",
   "metadata": {
    "slideshow": {
     "slide_type": "subslide"
    }
   },
   "source": [
    "## Overview\n",
    "- (Need to know) Indentation in Python\n",
    "- What are conditional statements? Why do we need them?\n",
    "- If statements in Python\n",
    "- Why, Why not Loops?\n",
    "- Loops in Python\n",
    "- Exercises"
   ]
  },
  {
   "cell_type": "markdown",
   "metadata": {
    "slideshow": {
     "slide_type": "subslide"
    }
   },
   "source": [
    "# [Tabs vs Spaces](https://www.youtube.com/watch?v=SsoOG6ZeyUI)\n",
    "(Worth Watching)"
   ]
  },
  {
   "cell_type": "markdown",
   "metadata": {
    "slideshow": {
     "slide_type": "subslide"
    }
   },
   "source": [
    "## Indentation in Python\n",
    "- Indentation has a very specific role in Python and is **important!**\n",
    "- It is used as alternative to parenthesis, and getting it wrong will cause errors. \n",
    "- Python 3 allows 4 spaces or tabs, but not both. [But in working in Jupyter seems to work fine.]\n",
    "- In Python, spaces are preferred according to the [PEP 8 style guide](https://www.python.org/dev/peps/pep-0008/).\n",
    "\n"
   ]
  },
  {
   "cell_type": "markdown",
   "metadata": {
    "slideshow": {
     "slide_type": "subslide"
    }
   },
   "source": [
    "# What are conditional statements? Why do we need them?"
   ]
  },
  {
   "cell_type": "markdown",
   "metadata": {
    "slideshow": {
     "slide_type": "subslide"
    }
   },
   "source": [
    "## `if` Statements\n",
    "- Enables logical branching and recoding of data.\n",
    "- BUT, `if statements` can result in long code branches, repeated code.\n",
    "- Best to keep if statements short.\n",
    "- Keep in mind the [Zen of Python](https://www.python.org/dev/peps/pep-0020/) when writing if statements.  "
   ]
  },
  {
   "cell_type": "markdown",
   "metadata": {
    "slideshow": {
     "slide_type": "subslide"
    }
   },
   "source": [
    "## Conditional Statements and Indentation\n",
    "- The syntax for control structures in Python use _colons_ and _indentation_.\n",
    "- Beware that indentation affects flow.\n",
    "- `if` statemenet enable logic. \n",
    "- `elif` give additional conditions.\n",
    "- `else` gives what to do if other conditions are not met."
   ]
  },
  {
   "cell_type": "code",
   "execution_count": 1,
   "metadata": {},
   "outputs": [
    {
     "name": "stdout",
     "output_type": "stream",
     "text": [
      "x is strictly positive\n",
      "3\n",
      "Finished. 3 5\n"
     ]
    },
    {
     "data": {
      "text/plain": [
       "3"
      ]
     },
     "execution_count": 1,
     "metadata": {},
     "output_type": "execute_result"
    }
   ],
   "source": [
    "y = 5\n",
    "x = 3\n",
    "if x > 0:\n",
    "    print ('x is strictly positive')\n",
    "    print (x)    \n",
    "print ('Finished.', x, y)\n",
    "x"
   ]
  },
  {
   "cell_type": "code",
   "execution_count": 2,
   "metadata": {},
   "outputs": [
    {
     "name": "stdout",
     "output_type": "stream",
     "text": [
      "x is greater than 0\n",
      "& y is equal 0\n",
      "x:  1\n",
      "Finished.\n"
     ]
    }
   ],
   "source": [
    "x = 1\n",
    "y = 0\n",
    "if x > 0:\n",
    "    print ('x is greater than 0')\n",
    "    if y > 0:\n",
    "        print ('& y is also greater than 0')\n",
    "    elif y<0:\n",
    "        print ('& y is  0')\n",
    "    else:\n",
    "        print ('& y is equal 0')\n",
    "print (\"x: \",x)\n",
    "print ('Finished.')"
   ]
  },
  {
   "cell_type": "code",
   "execution_count": 10,
   "metadata": {},
   "outputs": [
    {
     "data": {
      "text/plain": [
       "True"
      ]
     },
     "execution_count": 10,
     "metadata": {},
     "output_type": "execute_result"
    }
   ],
   "source": [
    "x > 0"
   ]
  },
  {
   "cell_type": "code",
   "execution_count": 11,
   "metadata": {},
   "outputs": [
    {
     "data": {
      "text/plain": [
       "True"
      ]
     },
     "execution_count": 11,
     "metadata": {},
     "output_type": "execute_result"
    }
   ],
   "source": [
    "x != 5 or "
   ]
  },
  {
   "cell_type": "code",
   "execution_count": 15,
   "metadata": {},
   "outputs": [
    {
     "data": {
      "text/plain": [
       "5"
      ]
     },
     "execution_count": 15,
     "metadata": {},
     "output_type": "execute_result"
    }
   ],
   "source": [
    "x=5\n",
    "x"
   ]
  },
  {
   "cell_type": "markdown",
   "metadata": {
    "slideshow": {
     "slide_type": "subslide"
    }
   },
   "source": [
    "## Python Logit and Conditions\n",
    "- Less than\t<\n",
    "- Greater than\t\t>\n",
    "- Less than or equal\t≤\t<=\n",
    "- Greater than or equal >=\n",
    "- Equals\t==\n",
    "- Not equal\t!=\n",
    "- `and` can be used to put multiple logical expressions together.\n",
    "- `or` can be used to put multiple logical expressions together."
   ]
  },
  {
   "cell_type": "code",
   "execution_count": 19,
   "metadata": {},
   "outputs": [
    {
     "name": "stdout",
     "output_type": "stream",
     "text": [
      "y is greater than 0\n"
     ]
    }
   ],
   "source": [
    "x = -1\n",
    "y = 1\n",
    "if x >= 0 and y >= 0:\n",
    "    print ('x and y are greater than 0 or 0')\n",
    "elif  x >= 0 or y >= 0:\n",
    "    if x > 0:\n",
    "        print ('x is greater than 0')\n",
    "    else:\n",
    "        print ('y is greater than 0')\n",
    "else:\n",
    "    print ('neither x nor y greater than 0')\n"
   ]
  },
  {
   "cell_type": "markdown",
   "metadata": {
    "slideshow": {
     "slide_type": "subslide"
    }
   },
   "source": [
    "## Python Conditionals (Alt Syntax) \n",
    "- Clean syntax doesn't get complex branching \n",
    "- Python ternary conditional operator `(falseValue, trueValue)[<logicalTest>]`\n",
    "- Lambda Functions as if statement."
   ]
  },
  {
   "cell_type": "code",
   "execution_count": 21,
   "metadata": {},
   "outputs": [
    {
     "name": "stdout",
     "output_type": "stream",
     "text": [
      "0\n"
     ]
    }
   ],
   "source": [
    "x=0\n",
    "z = 5 if x > 0 else 0\n",
    "print(z)"
   ]
  },
  {
   "cell_type": "code",
   "execution_count": 22,
   "metadata": {},
   "outputs": [
    {
     "name": "stdout",
     "output_type": "stream",
     "text": [
      "5\n"
     ]
    }
   ],
   "source": [
    "# This is a form of if statement called ternary conditional operator \n",
    "x=1\n",
    "#The first value is the value if the conditional is false\n",
    "z=(0, 5)[x>0]\n",
    "print(z)"
   ]
  },
  {
   "cell_type": "markdown",
   "metadata": {
    "slideshow": {
     "slide_type": "subslide"
    }
   },
   "source": [
    "# Why, Why Not Loops?"
   ]
  },
  {
   "cell_type": "markdown",
   "metadata": {
    "slideshow": {
     "slide_type": "subslide"
    }
   },
   "source": [
    "## Why, Why Not Loops?\n",
    "- Iterate over arrays or lists easily. `for` or `while` loops can be nested.\n",
    "- BUT, in many cases for loops don't scale well and are slower than alternate methods involving functions. \n",
    "- BUT, don't worry about prematurely optimizing code.\n",
    "- Often if you are doing a loop, there is a function that is faster.  You might not care for small data applications.\n",
    "- Keep in mind the [Zen of Python](https://www.python.org/dev/peps/pep-0020/#id3) when writing `for` statements."
   ]
  },
  {
   "cell_type": "code",
   "execution_count": 23,
   "metadata": {},
   "outputs": [
    {
     "name": "stdout",
     "output_type": "stream",
     "text": [
      "1\n",
      "3\n",
      "6\n",
      "England\n",
      "Spain\n",
      "India\n"
     ]
    }
   ],
   "source": [
    "#Here we are iterating on lists.\n",
    "sum=0\n",
    "for ad in [1, 2, 3]: \n",
    "    sum+=ad    #This is short hand for sum = sum+ad\n",
    "    print(sum) \n",
    "    \n",
    "for country in ['England', 'Spain', 'India']:\n",
    "    print(country)"
   ]
  },
  {
   "cell_type": "code",
   "execution_count": 24,
   "metadata": {},
   "outputs": [
    {
     "name": "stdout",
     "output_type": "stream",
     "text": [
      "0 a\n",
      "0 b\n",
      "0 c\n",
      "1 a\n",
      "1 b\n",
      "1 c\n",
      "2 a\n",
      "2 b\n",
      "2 c\n"
     ]
    }
   ],
   "source": [
    "x=[0,1,2]\n",
    "y=['a','b','c']\n",
    "#Nested for loops\n",
    "for a in x:\n",
    "    for b in y:\n",
    "        print(a,b)\n"
   ]
  },
  {
   "cell_type": "markdown",
   "metadata": {
    "slideshow": {
     "slide_type": "subslide"
    }
   },
   "source": [
    "## The `for` Loop\n",
    "- Can accept a `range(start, stop, step)` or `range(stop)` object\n",
    "- Can break out of it with a `break` command"
   ]
  },
  {
   "cell_type": "code",
   "execution_count": 21,
   "metadata": {},
   "outputs": [
    {
     "data": {
      "text/plain": [
       "range(0, 5)"
      ]
     },
     "execution_count": 21,
     "metadata": {},
     "output_type": "execute_result"
    }
   ],
   "source": [
    "z=range(5)\n",
    "z"
   ]
  },
  {
   "cell_type": "code",
   "execution_count": 25,
   "metadata": {},
   "outputs": [
    {
     "name": "stdout",
     "output_type": "stream",
     "text": [
      "range(0, 5) <class 'range'>\n",
      "Printing ten\n",
      "Printing ten\n",
      "Printing ten\n",
      "Printing ten\n",
      "Printing ten\n",
      "Print five more\n",
      "Print five more\n",
      "Print five more\n",
      "Print five more\n",
      "Print five more\n",
      "i: 5 is the value\n",
      "i:5  is the value\n",
      "i: 7 is the value\n",
      "i:7  is the value\n",
      "i: 9 is the value\n",
      "i:9  is the value\n",
      "i: 11 is the value\n",
      "i:11  is the value\n",
      "i: 13 is the value\n",
      "i:13  is the value\n",
      "i: 15 is the value\n",
      "i:15  is the value\n",
      "i: 17 is the value\n",
      "i:17  is the value\n",
      "i: 19 is the value\n",
      "i:19  is the value\n"
     ]
    }
   ],
   "source": [
    "#Range is a built in function that can be passed to a for loop\n",
    "#https://docs.python.org/3/library/functions.html#func-range\n",
    "#Range accepts a number and a (start/stop/step) like the arrange command.\n",
    "z=range(5)\n",
    "print(z, type(z))\n",
    "#Range\n",
    "for i in z:\n",
    "    print('Printing ten')\n",
    "for i in range(5):\n",
    "    print('Print five more')\n",
    "for i in range(5,20,2):\n",
    "    print('i: %d is the value' % (i)) \n",
    "    print(f'i:{i}  is the value' ) #This is an alternate way of embedding values in text."
   ]
  },
  {
   "cell_type": "code",
   "execution_count": 26,
   "metadata": {},
   "outputs": [
    {
     "name": "stdout",
     "output_type": "stream",
     "text": [
      "x: 0\n",
      "x: 1\n",
      "x: 2\n"
     ]
    }
   ],
   "source": [
    "#Sometimes you need to break out of a loop\n",
    "for x in range(3):\n",
    "    print('x:',x)\n",
    "    if x == 2:\n",
    "        break\n"
   ]
  },
  {
   "cell_type": "markdown",
   "metadata": {},
   "source": [
    "### List, Set, and Dict Comprehension (Fancy for Loops)\n",
    "- Python has a special way of compressing list building to a single line. \n",
    "- Set Comprehension is very similar, but with the `{` bracket.\n",
    "- Can incorporate conditionals. \n",
    "- S\n"
   ]
  },
  {
   "cell_type": "code",
   "execution_count": 26,
   "metadata": {},
   "outputs": [
    {
     "data": {
      "text/plain": [
       "[0, 1, 4, 9, 16, 25, 36, 49, 64, 81]"
      ]
     },
     "execution_count": 26,
     "metadata": {},
     "output_type": "execute_result"
    }
   ],
   "source": [
    "#This is the long way of building lists.\n",
    "L = []\n",
    "for n in range(10):\n",
    "    L.append(n ** 2)\n",
    "L"
   ]
  },
  {
   "cell_type": "code",
   "execution_count": 22,
   "metadata": {},
   "outputs": [
    {
     "data": {
      "text/plain": [
       "[0, 1, 4, 9, 16, 25, 36, 49, 64, 81]"
      ]
     },
     "execution_count": 22,
     "metadata": {},
     "output_type": "execute_result"
    }
   ],
   "source": [
    "#With list comprehension.  \n",
    "L=[n ** 2 for n in range(10)]\n",
    "L"
   ]
  },
  {
   "cell_type": "code",
   "execution_count": 28,
   "metadata": {},
   "outputs": [
    {
     "data": {
      "text/plain": [
       "[0, 3, 6, 9, 12, 15, 18]"
      ]
     },
     "execution_count": 28,
     "metadata": {},
     "output_type": "execute_result"
    }
   ],
   "source": [
    "#Any actions are on left side, any conditionals on right side \n",
    "[i for i in range(20) if i % 3 == 0]"
   ]
  },
  {
   "cell_type": "markdown",
   "metadata": {},
   "source": [
    "### Multiple Interators\n",
    "- Iterating on multiple values"
   ]
  },
  {
   "cell_type": "code",
   "execution_count": 29,
   "metadata": {},
   "outputs": [
    {
     "data": {
      "text/plain": [
       "[(0, 0), (0, 1), (0, 2), (1, 0), (1, 1), (1, 2)]"
      ]
     },
     "execution_count": 29,
     "metadata": {},
     "output_type": "execute_result"
    }
   ],
   "source": [
    "[(i, j) for i in range(2) for j in range(3)]"
   ]
  },
  {
   "cell_type": "markdown",
   "metadata": {},
   "source": [
    "### Set Comprehension\n",
    "- Remember sets must have unique values."
   ]
  },
  {
   "cell_type": "code",
   "execution_count": 30,
   "metadata": {},
   "outputs": [
    {
     "data": {
      "text/plain": [
       "{0, 1, 4, 9, 16, 25}"
      ]
     },
     "execution_count": 30,
     "metadata": {},
     "output_type": "execute_result"
    }
   ],
   "source": [
    "#We can change it to a setby just changing the brackets.\n",
    "{n**2 for n in range(6)}"
   ]
  },
  {
   "cell_type": "markdown",
   "metadata": {},
   "source": [
    "### Dict Comprehension\n",
    "- Remember sets must have unique values."
   ]
  },
  {
   "cell_type": "code",
   "execution_count": 30,
   "metadata": {},
   "outputs": [
    {
     "data": {
      "text/plain": [
       "{0: 0, 1: 1, 2: 4, 3: 9, 4: 16, 5: 25}"
      ]
     },
     "execution_count": 30,
     "metadata": {},
     "output_type": "execute_result"
    }
   ],
   "source": [
    "#We can change it to a dictionary by just changing the brackets and adding a colon.\n",
    "{n:n**2 for n in range(6)}"
   ]
  },
  {
   "cell_type": "markdown",
   "metadata": {
    "slideshow": {
     "slide_type": "subslide"
    }
   },
   "source": [
    "## While Loops\n",
    "- Performs a loop while a conditional is True.\n",
    "- Doesn't auto-increment.\n"
   ]
  },
  {
   "cell_type": "code",
   "execution_count": 31,
   "metadata": {},
   "outputs": [
    {
     "name": "stdout",
     "output_type": "stream",
     "text": [
      "Printing x= 1 sum= 0\n",
      "Printing x= 2 sum= 10\n",
      "Printing x= 3 sum= 20\n",
      "Printing x= 4 sum= 30\n",
      "Printing x= 5 sum= 40\n",
      "Printing x= 6 sum= 50\n",
      "Printing x= 7 sum= 60\n",
      "Printing x= 8 sum= 70\n",
      "Printing x= 9 sum= 80\n"
     ]
    }
   ],
   "source": [
    "# While loop is a very interesting \n",
    "x = 1\n",
    "sum=0\n",
    "while x<10:\n",
    "    print (\"Printing x= %d sum= %d\" % (x, sum)) #Note this alternate way of specufiy\n",
    "    x += 1\n",
    "    sum+=10"
   ]
  },
  {
   "cell_type": "markdown",
   "metadata": {},
   "source": [
    "## Recoding Variables/Creating Features with `for/if`\n",
    "- Often we want to recode data applying some type of conditional statement to each value of a series, list, or column of a data frame.\n",
    "- [Regular Expressions](https://docs.python.org/3/howto/regex.html) can be useful in recoding "
   ]
  },
  {
   "cell_type": "code",
   "execution_count": 32,
   "metadata": {},
   "outputs": [
    {
     "name": "stdout",
     "output_type": "stream",
     "text": [
      "['Survived', 'Survived', 'Survived', 'Died', 'Died', 'Died']\n"
     ]
    }
   ],
   "source": [
    "#Titanic Preview Women and Children first\n",
    "\n",
    "gender=['Female', 'Female','Female', 'Male', 'Male', 'Male' ]\n",
    "age=[75, 45, 15, 1, 45, 4 ]\n",
    "name = ['Ms. Sally White', 'Mrs. Susan King', 'Amanda Russ', 'Rev. John Smith' ]\n",
    "survived=[]\n",
    "for i in range(len(gender)):\n",
    "#This is encoding a simple model that women survived.  \n",
    "    if gender[i]=='Female':\n",
    "        survived.append('Survived')\n",
    "    else:\n",
    "        survived.append('Died')      \n",
    "print(survived)\n",
    "        \n",
    "#BUT, we won't typically be using this type of recoding, so we aren't going to do a lot of exercises on it.     "
   ]
  },
  {
   "cell_type": "markdown",
   "metadata": {},
   "source": [
    "Copyright [AnalyticsDojo](http://rpi.analyticsdojo.com) 2016.\n",
    "This work is licensed under the [Creative Commons Attribution 4.0 International](https://creativecommons.org/licenses/by/4.0/) license agreement.\n",
    "Adopted from [materials](https://github.com/phelps-sg/python-bigdata) Copyright [Steve Phelps](http://sphelps.net) 2014"
   ]
  }
 ],
 "metadata": {
  "celltoolbar": "Slideshow",
  "kernelspec": {
   "display_name": "Python 3",
   "language": "python",
   "name": "python3"
  },
  "language_info": {
   "codemirror_mode": {
    "name": "ipython",
    "version": 3
   },
   "file_extension": ".py",
   "mimetype": "text/x-python",
   "name": "python",
   "nbconvert_exporter": "python",
   "pygments_lexer": "ipython3",
   "version": "3.7.4"
  }
 },
 "nbformat": 4,
 "nbformat_minor": 4
}
