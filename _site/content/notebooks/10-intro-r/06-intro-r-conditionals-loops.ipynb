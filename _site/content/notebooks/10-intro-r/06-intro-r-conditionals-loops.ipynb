{
 "cells": [
  {
   "cell_type": "markdown",
   "metadata": {
    "slideshow": {
     "slide_type": "slide"
    }
   },
   "source": [
    "[![AnalyticsDojo](https://github.com/rpi-techfundamentals/spring2019-materials/blob/master/fig/final-logo.png?raw=1)](http://rpi.analyticsdojo.com)\n",
    "<center><h1>Introduction to R - Conditional Statements and Loops </h1></center>\n",
    "<center><h3><a href = 'http://rpi.analyticsdojo.com'>rpi.analyticsdojo.com</a></h3></center>"
   ]
  },
  {
   "cell_type": "markdown",
   "metadata": {
    "slideshow": {
     "slide_type": "subslide"
    }
   },
   "source": [
    "## Overview\n",
    "- What are conditional statements? Why do we need them?\n",
    "- If statements in R\n",
    "- Why, Why not Loops?\n",
    "- Loops in R"
   ]
  },
  {
   "cell_type": "markdown",
   "metadata": {
    "slideshow": {
     "slide_type": "subslide"
    }
   },
   "source": [
    "# What are conditional statements? Why do we need them?"
   ]
  },
  {
   "cell_type": "markdown",
   "metadata": {
    "slideshow": {
     "slide_type": "subslide"
    }
   },
   "source": [
    "## `if` Statements\n",
    "- Enables logical branching and recoding of data.\n",
    "- BUT, `if statements` can result in long code branches, repeated code.\n",
    "- Best to keep if statements short."
   ]
  },
  {
   "cell_type": "markdown",
   "metadata": {
    "slideshow": {
     "slide_type": "subslide"
    }
   },
   "source": [
    "## Conditional Statements\n",
    "- `if` statemenet enable logic. \n",
    "- `else` gives what to do if other conditions are not met.\n",
    "- The else if function is achieved through nesting a if statement within an else function. "
   ]
  },
  {
   "cell_type": "code",
   "execution_count": 1,
   "metadata": {},
   "outputs": [
    {
     "name": "stdout",
     "output_type": "stream",
     "text": [
      "[1] 2 6 8 6\n"
     ]
    }
   ],
   "source": [
    "#How long did the homework take? \n",
    "#Imagine this is the hours for each assignment. \n",
    "hours<- c(1,3,4,3)\n",
    "#This is the experience of the individual, which can be high, medium, or low.\n",
    "experience<-'low'\n",
    "#experience<- 'high'\n",
    "\n",
    "#toy = 'old'\n",
    "if(experience=='high'){\n",
    "exp.hours <- hours/2       \n",
    "} else {\n",
    "  if(experience=='low'){\n",
    "     exp.hours <- hours * 2    \n",
    "  } else {\n",
    "    exp.hours <- hours      \n",
    "  }\n",
    "}\n",
    "#Notice how this adjusted \n",
    "print(exp.hours)\n"
   ]
  },
  {
   "cell_type": "markdown",
   "metadata": {
    "slideshow": {
     "slide_type": "subslide"
    }
   },
   "source": [
    "## R Logit and Conditions\n",
    "- `<`     less than\n",
    "- `<=`    less than or equal to\n",
    "- `>`     greater than\n",
    "- `>=`    greater than or equal to\n",
    "- `==`    exactly equal to\n",
    "- `!=`    not equal to\n",
    "- `!x`    This corresponsds to *not x.* \n",
    "- `x & y`  This cooresponds to `and`. *(This does and element by element comparson.)*\n",
    "- `x | y`  This cooresponds to `or`. *(This does and element by element comparson.)*"
   ]
  },
  {
   "cell_type": "code",
   "execution_count": 3,
   "metadata": {},
   "outputs": [
    {
     "name": "stdout",
     "output_type": "stream",
     "text": [
      "[1] \"X is False\"\n"
     ]
    }
   ],
   "source": [
    "#simple\n",
    "x<-FALSE\n",
    "y<-FALSE\n",
    "if (!x){\n",
    "print(\"X is False\")\n",
    "}else{\n",
    "print(\"X is True\")\n",
    "}\n",
    "\n",
    "\n"
   ]
  },
  {
   "cell_type": "code",
   "execution_count": 4,
   "metadata": {},
   "outputs": [
    {
     "name": "stdout",
     "output_type": "stream",
     "text": [
      "[1] \"Either X or Y is True\"\n"
     ]
    }
   ],
   "source": [
    "x<-TRUE\n",
    "y<-TRUE\n",
    "if((x==TRUE)|(y==TRUE)){\n",
    "print(\"Either X or Y is True\")\n",
    "}"
   ]
  },
  {
   "cell_type": "code",
   "execution_count": 3,
   "metadata": {},
   "outputs": [
    {
     "name": "stdout",
     "output_type": "stream",
     "text": [
      "[1] \"X and Y are both True\"\n"
     ]
    }
   ],
   "source": [
    "if((x==TRUE)&(y==TRUE)){\n",
    "print(\"X and Y are both True\")\n",
    "}"
   ]
  },
  {
   "cell_type": "markdown",
   "metadata": {
    "slideshow": {
     "slide_type": "subslide"
    }
   },
   "source": [
    "## Conditionals and `ifelse`\n",
    "- `ifelse(*conditional*, True, False)` can be used to recode variables. \n",
    "- `ifelse` can be nested.\n",
    "- Use the cut function as an alternative for more than 3 categroies. \n",
    "- This can be really useful when "
   ]
  },
  {
   "cell_type": "code",
   "execution_count": 4,
   "metadata": {},
   "outputs": [
    {
     "data": {
      "text/html": [
       "<ol class=list-inline>\n",
       "\t<li>'child'</li>\n",
       "\t<li>'child'</li>\n",
       "\t<li>'adult'</li>\n",
       "\t<li>'adult'</li>\n",
       "</ol>\n"
      ],
      "text/latex": [
       "\\begin{enumerate*}\n",
       "\\item 'child'\n",
       "\\item 'child'\n",
       "\\item 'adult'\n",
       "\\item 'adult'\n",
       "\\end{enumerate*}\n"
      ],
      "text/markdown": [
       "1. 'child'\n",
       "2. 'child'\n",
       "3. 'adult'\n",
       "4. 'adult'\n",
       "\n",
       "\n"
      ],
      "text/plain": [
       "[1] \"child\" \"child\" \"adult\" \"adult\""
      ]
     },
     "metadata": {},
     "output_type": "display_data"
    }
   ],
   "source": [
    "# create 2 age categories \n",
    "age<-c(18,15, 25,30)\n",
    "agecat <- ifelse(age > 18, c(\"adult\"), c(\"child\"))\n",
    "agecat"
   ]
  },
  {
   "cell_type": "code",
   "execution_count": 5,
   "metadata": {},
   "outputs": [
    {
     "data": {
      "text/html": [
       "<table>\n",
       "<thead><tr><th scope=col>sepal_length</th><th scope=col>agecat2</th><th scope=col>agecat3</th><th scope=col>agecat3altcut</th></tr></thead>\n",
       "<tbody>\n",
       "\t<tr><td>5.1   </td><td>short </td><td>medium</td><td>medium</td></tr>\n",
       "\t<tr><td>4.9   </td><td>short </td><td>short </td><td>short </td></tr>\n",
       "\t<tr><td>4.7   </td><td>short </td><td>short </td><td>short </td></tr>\n",
       "\t<tr><td>4.6   </td><td>short </td><td>short </td><td>short </td></tr>\n",
       "\t<tr><td>5.0   </td><td>short </td><td>medium</td><td>medium</td></tr>\n",
       "\t<tr><td>5.4   </td><td>short </td><td>medium</td><td>medium</td></tr>\n",
       "\t<tr><td>4.6   </td><td>short </td><td>short </td><td>short </td></tr>\n",
       "\t<tr><td>5.0   </td><td>short </td><td>medium</td><td>medium</td></tr>\n",
       "\t<tr><td>4.4   </td><td>short </td><td>short </td><td>short </td></tr>\n",
       "\t<tr><td>4.9   </td><td>short </td><td>short </td><td>short </td></tr>\n",
       "\t<tr><td>5.4   </td><td>short </td><td>medium</td><td>medium</td></tr>\n",
       "\t<tr><td>4.8   </td><td>short </td><td>short </td><td>short </td></tr>\n",
       "\t<tr><td>4.8   </td><td>short </td><td>short </td><td>short </td></tr>\n",
       "\t<tr><td>4.3   </td><td>short </td><td>short </td><td>short </td></tr>\n",
       "\t<tr><td>5.8   </td><td>short </td><td>medium</td><td>medium</td></tr>\n",
       "\t<tr><td>5.7   </td><td>short </td><td>medium</td><td>medium</td></tr>\n",
       "\t<tr><td>5.4   </td><td>short </td><td>medium</td><td>medium</td></tr>\n",
       "\t<tr><td>5.1   </td><td>short </td><td>medium</td><td>medium</td></tr>\n",
       "\t<tr><td>5.7   </td><td>short </td><td>medium</td><td>medium</td></tr>\n",
       "\t<tr><td>5.1   </td><td>short </td><td>medium</td><td>medium</td></tr>\n",
       "\t<tr><td>5.4   </td><td>short </td><td>medium</td><td>medium</td></tr>\n",
       "\t<tr><td>5.1   </td><td>short </td><td>medium</td><td>medium</td></tr>\n",
       "\t<tr><td>4.6   </td><td>short </td><td>short </td><td>short </td></tr>\n",
       "\t<tr><td>5.1   </td><td>short </td><td>medium</td><td>medium</td></tr>\n",
       "\t<tr><td>4.8   </td><td>short </td><td>short </td><td>short </td></tr>\n",
       "\t<tr><td>5.0   </td><td>short </td><td>medium</td><td>medium</td></tr>\n",
       "\t<tr><td>5.0   </td><td>short </td><td>medium</td><td>medium</td></tr>\n",
       "\t<tr><td>5.2   </td><td>short </td><td>medium</td><td>medium</td></tr>\n",
       "\t<tr><td>5.2   </td><td>short </td><td>medium</td><td>medium</td></tr>\n",
       "\t<tr><td>4.7   </td><td>short </td><td>short </td><td>short </td></tr>\n",
       "\t<tr><td>⋮</td><td>⋮</td><td>⋮</td><td>⋮</td></tr>\n",
       "\t<tr><td>6.9   </td><td>long  </td><td>long  </td><td>long  </td></tr>\n",
       "\t<tr><td>5.6   </td><td>short </td><td>medium</td><td>medium</td></tr>\n",
       "\t<tr><td>7.7   </td><td>long  </td><td>long  </td><td>long  </td></tr>\n",
       "\t<tr><td>6.3   </td><td>long  </td><td>medium</td><td>medium</td></tr>\n",
       "\t<tr><td>6.7   </td><td>long  </td><td>long  </td><td>long  </td></tr>\n",
       "\t<tr><td>7.2   </td><td>long  </td><td>long  </td><td>long  </td></tr>\n",
       "\t<tr><td>6.2   </td><td>long  </td><td>medium</td><td>medium</td></tr>\n",
       "\t<tr><td>6.1   </td><td>long  </td><td>medium</td><td>medium</td></tr>\n",
       "\t<tr><td>6.4   </td><td>long  </td><td>medium</td><td>medium</td></tr>\n",
       "\t<tr><td>7.2   </td><td>long  </td><td>long  </td><td>long  </td></tr>\n",
       "\t<tr><td>7.4   </td><td>long  </td><td>long  </td><td>long  </td></tr>\n",
       "\t<tr><td>7.9   </td><td>long  </td><td>long  </td><td>long  </td></tr>\n",
       "\t<tr><td>6.4   </td><td>long  </td><td>medium</td><td>medium</td></tr>\n",
       "\t<tr><td>6.3   </td><td>long  </td><td>medium</td><td>medium</td></tr>\n",
       "\t<tr><td>6.1   </td><td>long  </td><td>medium</td><td>medium</td></tr>\n",
       "\t<tr><td>7.7   </td><td>long  </td><td>long  </td><td>long  </td></tr>\n",
       "\t<tr><td>6.3   </td><td>long  </td><td>medium</td><td>medium</td></tr>\n",
       "\t<tr><td>6.4   </td><td>long  </td><td>medium</td><td>medium</td></tr>\n",
       "\t<tr><td>6.0   </td><td>long  </td><td>medium</td><td>medium</td></tr>\n",
       "\t<tr><td>6.9   </td><td>long  </td><td>long  </td><td>long  </td></tr>\n",
       "\t<tr><td>6.7   </td><td>long  </td><td>long  </td><td>long  </td></tr>\n",
       "\t<tr><td>6.9   </td><td>long  </td><td>long  </td><td>long  </td></tr>\n",
       "\t<tr><td>5.8   </td><td>short </td><td>medium</td><td>medium</td></tr>\n",
       "\t<tr><td>6.8   </td><td>long  </td><td>long  </td><td>long  </td></tr>\n",
       "\t<tr><td>6.7   </td><td>long  </td><td>long  </td><td>long  </td></tr>\n",
       "\t<tr><td>6.7   </td><td>long  </td><td>long  </td><td>long  </td></tr>\n",
       "\t<tr><td>6.3   </td><td>long  </td><td>medium</td><td>medium</td></tr>\n",
       "\t<tr><td>6.5   </td><td>long  </td><td>medium</td><td>medium</td></tr>\n",
       "\t<tr><td>6.2   </td><td>long  </td><td>medium</td><td>medium</td></tr>\n",
       "\t<tr><td>5.9   </td><td>long  </td><td>medium</td><td>medium</td></tr>\n",
       "</tbody>\n",
       "</table>\n"
      ],
      "text/latex": [
       "\\begin{tabular}{r|llll}\n",
       " sepal\\_length & agecat2 & agecat3 & agecat3altcut\\\\\n",
       "\\hline\n",
       "\t 5.1    & short  & medium & medium\\\\\n",
       "\t 4.9    & short  & short  & short \\\\\n",
       "\t 4.7    & short  & short  & short \\\\\n",
       "\t 4.6    & short  & short  & short \\\\\n",
       "\t 5.0    & short  & medium & medium\\\\\n",
       "\t 5.4    & short  & medium & medium\\\\\n",
       "\t 4.6    & short  & short  & short \\\\\n",
       "\t 5.0    & short  & medium & medium\\\\\n",
       "\t 4.4    & short  & short  & short \\\\\n",
       "\t 4.9    & short  & short  & short \\\\\n",
       "\t 5.4    & short  & medium & medium\\\\\n",
       "\t 4.8    & short  & short  & short \\\\\n",
       "\t 4.8    & short  & short  & short \\\\\n",
       "\t 4.3    & short  & short  & short \\\\\n",
       "\t 5.8    & short  & medium & medium\\\\\n",
       "\t 5.7    & short  & medium & medium\\\\\n",
       "\t 5.4    & short  & medium & medium\\\\\n",
       "\t 5.1    & short  & medium & medium\\\\\n",
       "\t 5.7    & short  & medium & medium\\\\\n",
       "\t 5.1    & short  & medium & medium\\\\\n",
       "\t 5.4    & short  & medium & medium\\\\\n",
       "\t 5.1    & short  & medium & medium\\\\\n",
       "\t 4.6    & short  & short  & short \\\\\n",
       "\t 5.1    & short  & medium & medium\\\\\n",
       "\t 4.8    & short  & short  & short \\\\\n",
       "\t 5.0    & short  & medium & medium\\\\\n",
       "\t 5.0    & short  & medium & medium\\\\\n",
       "\t 5.2    & short  & medium & medium\\\\\n",
       "\t 5.2    & short  & medium & medium\\\\\n",
       "\t 4.7    & short  & short  & short \\\\\n",
       "\t ⋮ & ⋮ & ⋮ & ⋮\\\\\n",
       "\t 6.9    & long   & long   & long  \\\\\n",
       "\t 5.6    & short  & medium & medium\\\\\n",
       "\t 7.7    & long   & long   & long  \\\\\n",
       "\t 6.3    & long   & medium & medium\\\\\n",
       "\t 6.7    & long   & long   & long  \\\\\n",
       "\t 7.2    & long   & long   & long  \\\\\n",
       "\t 6.2    & long   & medium & medium\\\\\n",
       "\t 6.1    & long   & medium & medium\\\\\n",
       "\t 6.4    & long   & medium & medium\\\\\n",
       "\t 7.2    & long   & long   & long  \\\\\n",
       "\t 7.4    & long   & long   & long  \\\\\n",
       "\t 7.9    & long   & long   & long  \\\\\n",
       "\t 6.4    & long   & medium & medium\\\\\n",
       "\t 6.3    & long   & medium & medium\\\\\n",
       "\t 6.1    & long   & medium & medium\\\\\n",
       "\t 7.7    & long   & long   & long  \\\\\n",
       "\t 6.3    & long   & medium & medium\\\\\n",
       "\t 6.4    & long   & medium & medium\\\\\n",
       "\t 6.0    & long   & medium & medium\\\\\n",
       "\t 6.9    & long   & long   & long  \\\\\n",
       "\t 6.7    & long   & long   & long  \\\\\n",
       "\t 6.9    & long   & long   & long  \\\\\n",
       "\t 5.8    & short  & medium & medium\\\\\n",
       "\t 6.8    & long   & long   & long  \\\\\n",
       "\t 6.7    & long   & long   & long  \\\\\n",
       "\t 6.7    & long   & long   & long  \\\\\n",
       "\t 6.3    & long   & medium & medium\\\\\n",
       "\t 6.5    & long   & medium & medium\\\\\n",
       "\t 6.2    & long   & medium & medium\\\\\n",
       "\t 5.9    & long   & medium & medium\\\\\n",
       "\\end{tabular}\n"
      ],
      "text/markdown": [
       "\n",
       "sepal_length | agecat2 | agecat3 | agecat3altcut | \n",
       "|---|---|---|---|---|---|---|---|---|---|---|---|---|---|---|---|---|---|---|---|---|---|---|---|---|---|---|---|---|---|---|---|---|---|---|---|---|---|---|---|---|---|---|---|---|---|---|---|---|---|---|---|---|---|---|---|---|---|---|---|---|\n",
       "| 5.1    | short  | medium | medium | \n",
       "| 4.9    | short  | short  | short  | \n",
       "| 4.7    | short  | short  | short  | \n",
       "| 4.6    | short  | short  | short  | \n",
       "| 5.0    | short  | medium | medium | \n",
       "| 5.4    | short  | medium | medium | \n",
       "| 4.6    | short  | short  | short  | \n",
       "| 5.0    | short  | medium | medium | \n",
       "| 4.4    | short  | short  | short  | \n",
       "| 4.9    | short  | short  | short  | \n",
       "| 5.4    | short  | medium | medium | \n",
       "| 4.8    | short  | short  | short  | \n",
       "| 4.8    | short  | short  | short  | \n",
       "| 4.3    | short  | short  | short  | \n",
       "| 5.8    | short  | medium | medium | \n",
       "| 5.7    | short  | medium | medium | \n",
       "| 5.4    | short  | medium | medium | \n",
       "| 5.1    | short  | medium | medium | \n",
       "| 5.7    | short  | medium | medium | \n",
       "| 5.1    | short  | medium | medium | \n",
       "| 5.4    | short  | medium | medium | \n",
       "| 5.1    | short  | medium | medium | \n",
       "| 4.6    | short  | short  | short  | \n",
       "| 5.1    | short  | medium | medium | \n",
       "| 4.8    | short  | short  | short  | \n",
       "| 5.0    | short  | medium | medium | \n",
       "| 5.0    | short  | medium | medium | \n",
       "| 5.2    | short  | medium | medium | \n",
       "| 5.2    | short  | medium | medium | \n",
       "| 4.7    | short  | short  | short  | \n",
       "| ⋮ | ⋮ | ⋮ | ⋮ | \n",
       "| 6.9    | long   | long   | long   | \n",
       "| 5.6    | short  | medium | medium | \n",
       "| 7.7    | long   | long   | long   | \n",
       "| 6.3    | long   | medium | medium | \n",
       "| 6.7    | long   | long   | long   | \n",
       "| 7.2    | long   | long   | long   | \n",
       "| 6.2    | long   | medium | medium | \n",
       "| 6.1    | long   | medium | medium | \n",
       "| 6.4    | long   | medium | medium | \n",
       "| 7.2    | long   | long   | long   | \n",
       "| 7.4    | long   | long   | long   | \n",
       "| 7.9    | long   | long   | long   | \n",
       "| 6.4    | long   | medium | medium | \n",
       "| 6.3    | long   | medium | medium | \n",
       "| 6.1    | long   | medium | medium | \n",
       "| 7.7    | long   | long   | long   | \n",
       "| 6.3    | long   | medium | medium | \n",
       "| 6.4    | long   | medium | medium | \n",
       "| 6.0    | long   | medium | medium | \n",
       "| 6.9    | long   | long   | long   | \n",
       "| 6.7    | long   | long   | long   | \n",
       "| 6.9    | long   | long   | long   | \n",
       "| 5.8    | short  | medium | medium | \n",
       "| 6.8    | long   | long   | long   | \n",
       "| 6.7    | long   | long   | long   | \n",
       "| 6.7    | long   | long   | long   | \n",
       "| 6.3    | long   | medium | medium | \n",
       "| 6.5    | long   | medium | medium | \n",
       "| 6.2    | long   | medium | medium | \n",
       "| 5.9    | long   | medium | medium | \n",
       "\n",
       "\n"
      ],
      "text/plain": [
       "    sepal_length agecat2 agecat3 agecat3altcut\n",
       "1   5.1          short   medium  medium       \n",
       "2   4.9          short   short   short        \n",
       "3   4.7          short   short   short        \n",
       "4   4.6          short   short   short        \n",
       "5   5.0          short   medium  medium       \n",
       "6   5.4          short   medium  medium       \n",
       "7   4.6          short   short   short        \n",
       "8   5.0          short   medium  medium       \n",
       "9   4.4          short   short   short        \n",
       "10  4.9          short   short   short        \n",
       "11  5.4          short   medium  medium       \n",
       "12  4.8          short   short   short        \n",
       "13  4.8          short   short   short        \n",
       "14  4.3          short   short   short        \n",
       "15  5.8          short   medium  medium       \n",
       "16  5.7          short   medium  medium       \n",
       "17  5.4          short   medium  medium       \n",
       "18  5.1          short   medium  medium       \n",
       "19  5.7          short   medium  medium       \n",
       "20  5.1          short   medium  medium       \n",
       "21  5.4          short   medium  medium       \n",
       "22  5.1          short   medium  medium       \n",
       "23  4.6          short   short   short        \n",
       "24  5.1          short   medium  medium       \n",
       "25  4.8          short   short   short        \n",
       "26  5.0          short   medium  medium       \n",
       "27  5.0          short   medium  medium       \n",
       "28  5.2          short   medium  medium       \n",
       "29  5.2          short   medium  medium       \n",
       "30  4.7          short   short   short        \n",
       "⋮   ⋮            ⋮       ⋮       ⋮            \n",
       "121 6.9          long    long    long         \n",
       "122 5.6          short   medium  medium       \n",
       "123 7.7          long    long    long         \n",
       "124 6.3          long    medium  medium       \n",
       "125 6.7          long    long    long         \n",
       "126 7.2          long    long    long         \n",
       "127 6.2          long    medium  medium       \n",
       "128 6.1          long    medium  medium       \n",
       "129 6.4          long    medium  medium       \n",
       "130 7.2          long    long    long         \n",
       "131 7.4          long    long    long         \n",
       "132 7.9          long    long    long         \n",
       "133 6.4          long    medium  medium       \n",
       "134 6.3          long    medium  medium       \n",
       "135 6.1          long    medium  medium       \n",
       "136 7.7          long    long    long         \n",
       "137 6.3          long    medium  medium       \n",
       "138 6.4          long    medium  medium       \n",
       "139 6.0          long    medium  medium       \n",
       "140 6.9          long    long    long         \n",
       "141 6.7          long    long    long         \n",
       "142 6.9          long    long    long         \n",
       "143 5.8          short   medium  medium       \n",
       "144 6.8          long    long    long         \n",
       "145 6.7          long    long    long         \n",
       "146 6.7          long    long    long         \n",
       "147 6.3          long    medium  medium       \n",
       "148 6.5          long    medium  medium       \n",
       "149 6.2          long    medium  medium       \n",
       "150 5.9          long    medium  medium       "
      ]
     },
     "metadata": {},
     "output_type": "display_data"
    }
   ],
   "source": [
    "df=read.csv(file=\"../../input/iris.csv\", header=TRUE,sep=\",\")\n",
    "\n",
    "#Let's say we want to categorize sepalLenth as short/long or short/medium/long.\n",
    "sl.med<-median(df$sepal_length)\n",
    "sl.sd<-sd(df$sepal_length)\n",
    "sl.max<-max(df$sepal_length)\n",
    "\n",
    "df$agecat2 <- ifelse(df$sepal_length > sl.med, c(\"long\"), c(\"short\"))\n",
    "df$agecat3 <- ifelse(df$sepal_length > (sl.med+sl.sd), c(\"long\"), \n",
    "        ifelse(df$sepal_length < (sl.med-sl.sd), c(\"short\"), c(\"medium\")))\n",
    "\n",
    "\n",
    "#This sets the different cuts for the categories. \n",
    "cuts<-c(0,sl.med-sl.sd,sl.med+sl.sd,sl.max)\n",
    "cutlabels<-c(\"short\", \"medium\", \"long\") \n",
    "\n",
    "df$agecat3altcut<-cut(df$sepal_length, breaks=cuts, labels=cutlabels)\n",
    "df[,c(1,6,7,8)]"
   ]
  },
  {
   "cell_type": "markdown",
   "metadata": {
    "slideshow": {
     "slide_type": "subslide"
    }
   },
   "source": [
    "# Why, Why Not Loops?"
   ]
  },
  {
   "cell_type": "markdown",
   "metadata": {
    "slideshow": {
     "slide_type": "subslide"
    }
   },
   "source": [
    "## Why, Why Not Loops?\n",
    "- Iterate over arrays or lists easily. \n",
    "- BUT, in many cases for loops don't scale well and are slower than alternate methods involving functions. \n",
    "- BUT, don't worry about prematurely optimizing code.\n",
    "- Often if you are doing a loop, there is a function that is faster.  You might not care for small data applications.\n",
    "- Here is a basic example of `For`/`While` loop."
   ]
  },
  {
   "cell_type": "code",
   "execution_count": 5,
   "metadata": {},
   "outputs": [
    {
     "name": "stdout",
     "output_type": "stream",
     "text": [
      "[1] 1\n",
      "[1] 2\n",
      "[1] 3\n",
      "[1] 4\n",
      "[1] 5\n",
      "[1] 6\n",
      "[1] 7\n",
      "[1] 8\n",
      "[1] 36\n",
      "[1] 1\n",
      "[1] 2\n",
      "[1] 3\n",
      "[1] 4\n",
      "[1] 5\n",
      "[1] 6\n",
      "[1] 7\n",
      "[1] 8\n"
     ]
    }
   ],
   "source": [
    "sum<-0\n",
    "avgs <- numeric (8)\n",
    "for (i in 1:8){\n",
    "    print (i)\n",
    "    sum<-sum+i  \n",
    "}\n",
    "print(sum)\n",
    "for (i in 1:8) print (i)\n"
   ]
  },
  {
   "cell_type": "code",
   "execution_count": 7,
   "metadata": {},
   "outputs": [
    {
     "name": "stdout",
     "output_type": "stream",
     "text": [
      "[1] 1\n",
      "[1] 2\n",
      "[1] 3\n",
      "[1] 4\n",
      "[1] 5\n",
      "[1] 6\n",
      "[1] 7\n",
      "[1] 8\n"
     ]
    }
   ],
   "source": [
    "for (i in 1:8) print (i)"
   ]
  },
  {
   "cell_type": "markdown",
   "metadata": {},
   "source": [
    "## While Loop\n",
    "- Performs a loop while a conditional is TRUE.\n",
    "- Doesn't auto-increment."
   ]
  },
  {
   "cell_type": "code",
   "execution_count": 7,
   "metadata": {},
   "outputs": [
    {
     "name": "stdout",
     "output_type": "stream",
     "text": [
      "[1] 1\n",
      "[1] 2\n",
      "[1] 3\n",
      "[1] 4\n",
      "[1] 5\n",
      "[1] 6\n",
      "[1] 7\n",
      "[1] 8\n",
      "[1] 36\n"
     ]
    }
   ],
   "source": [
    "#This produces the same.\n",
    "i<-1\n",
    "sum<-0\n",
    "x<-TRUE\n",
    "while (x) {\n",
    "  print (i)\n",
    "  sum<-sum+i\n",
    "  i<-i+1\n",
    "  if (i>8){x<-FALSE}\n",
    "}  \n",
    "print(sum)"
   ]
  },
  {
   "cell_type": "markdown",
   "metadata": {},
   "source": [
    "## For Loops can be Nested"
   ]
  },
  {
   "cell_type": "code",
   "execution_count": 8,
   "metadata": {},
   "outputs": [
    {
     "name": "stdout",
     "output_type": "stream",
     "text": [
      "[1] 0 a\n",
      "[1] 0 b\n",
      "[1] 0 c\n",
      "[1] 1 a\n",
      "[1] 1 b\n",
      "[1] 1 c\n",
      "[1] 2 a\n",
      "[1] 2 b\n",
      "[1] 2 c\n"
     ]
    }
   ],
   "source": [
    "#Nexting Example,\n",
    "x=c(0,1,2)\n",
    "y=c(\"a\",\"b\",\"c\")\n",
    "#Nested for loops\n",
    "for (a in x){\n",
    "    for (b in y){\n",
    "        print(c(a,b), quote = FALSE)\n",
    "}}"
   ]
  },
  {
   "cell_type": "markdown",
   "metadata": {},
   "source": [
    "Copyright [AnalyticsDojo](http://rpi.analyticsdojo.com) 2016.\n",
    "This work is licensed under the [Creative Commons Attribution 4.0 International](https://creativecommons.org/licenses/by/4.0/) license agreement.\n"
   ]
  },
  {
   "cell_type": "code",
   "execution_count": null,
   "metadata": {
    "collapsed": true
   },
   "outputs": [],
   "source": []
  }
 ],
 "metadata": {
  "anaconda-cloud": {},
  "celltoolbar": "Slideshow",
  "kernelspec": {
   "display_name": "R",
   "language": "R",
   "name": "ir"
  },
  "language_info": {
   "codemirror_mode": "r",
   "file_extension": ".r",
   "mimetype": "text/x-r-source",
   "name": "R",
   "pygments_lexer": "r",
   "version": "3.5.1"
  }
 },
 "nbformat": 4,
 "nbformat_minor": 2
}
