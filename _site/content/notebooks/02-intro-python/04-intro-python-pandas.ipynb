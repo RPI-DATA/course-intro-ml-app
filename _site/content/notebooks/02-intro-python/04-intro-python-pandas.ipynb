{
  "nbformat": 4,
  "nbformat_minor": 0,
  "metadata": {
    "colab": {
      "name": "04-intro-python-pandas.ipynb",
      "version": "0.3.2",
      "provenance": []
    },
    "kernelspec": {
      "display_name": "Python 3",
      "language": "python",
      "name": "python3"
    }
  },
  "cells": [
    {
      "metadata": {
        "slideshow": {
          "slide_type": "slide"
        },
        "id": "HHvqvbiUBFcW",
        "colab_type": "text"
      },
      "cell_type": "markdown",
      "source": [
        "[![AnalyticsDojo](https://github.com/rpi-techfundamentals/spring2019-materials/blob/master/fig/final-logo.png?raw=1)](http://rpi.analyticsdojo.com)\n",
        "<center><h1>Introduction to Python - Introduction to Pandas</h1></center>\n",
        "<center><h3><a href = 'http://rpi.analyticsdojo.com'>rpi.analyticsdojo.com</a></h3></center>\n",
        "\n"
      ]
    },
    {
      "metadata": {
        "slideshow": {
          "slide_type": "skip"
        },
        "id": "tnxCBcL6BFcZ",
        "colab_type": "text"
      },
      "cell_type": "markdown",
      "source": [
        "#### Large sections of this were adopted from Analyzing structured data with Pandas by [Steve Phelps](http://sphelps.net). \n"
      ]
    },
    {
      "metadata": {
        "slideshow": {
          "slide_type": "subslide"
        },
        "id": "Wjg1PgSoBFcb",
        "colab_type": "text"
      },
      "cell_type": "markdown",
      "source": [
        "## Introduction to Pandas\n",
        "- Pandas Overview\n",
        "- Series Objects\n",
        "- DataFrame Objects\n",
        "- Slicing and Filtering\n",
        "- Examples: Financial Data\n",
        "- Examples: Iris\n"
      ]
    },
    {
      "metadata": {
        "slideshow": {
          "slide_type": "subslide"
        },
        "id": "H3TiWxENBFcc",
        "colab_type": "text"
      },
      "cell_type": "markdown",
      "source": [
        "## Pandas Overview\n",
        "- Pandas is object-oriented.\n",
        "\n",
        "- We create data frames by constructing instances of different classes.\n",
        "\n",
        "- The two most important classes are:\n",
        "\n",
        "    - `DataFrame`\n",
        "    - `Series`\n",
        "    \n",
        "- Pandas follows the Java convention of starting the name of classes with an upper-case letter, whereas instances are all lower-case.\n",
        "- The pandas module is usually imported with the alias `pd`.\n"
      ]
    },
    {
      "metadata": {
        "id": "MiuYwjIEBFcd",
        "colab_type": "code",
        "colab": {}
      },
      "cell_type": "code",
      "source": [
        "import pandas as pd"
      ],
      "execution_count": 0,
      "outputs": []
    },
    {
      "metadata": {
        "slideshow": {
          "slide_type": "subslide"
        },
        "id": "FNACR7n_BFcg",
        "colab_type": "text"
      },
      "cell_type": "markdown",
      "source": [
        "# Pandas (like the rest of Python) is object-oriented\n",
        "\n",
        "- Pandas is object-oriented.\n",
        "\n",
        "- We create data frames by constructing instances of different classes.\n",
        "\n",
        "- The two most important classes are:\n",
        "\n",
        "    - `DataFrame`\n",
        "    - `Series`\n",
        "    \n",
        "- Pandas follows the Java convention of starting the name of classes with an upper-case letter, whereas instances are all lower-case.\n"
      ]
    },
    {
      "metadata": {
        "slideshow": {
          "slide_type": "subslide"
        },
        "id": "nzM85sVHBFci",
        "colab_type": "text"
      },
      "cell_type": "markdown",
      "source": [
        "## Pandas Series\n",
        "- One-dimensional array \n",
        "- Series can be like array, with standard integer index starting at 0\n",
        "- Series can be dictionary like, with defined index \n"
      ]
    },
    {
      "metadata": {
        "id": "K3M6AIo9BFcj",
        "colab_type": "code",
        "colab": {}
      },
      "cell_type": "code",
      "source": [
        "data = [1,2,3,4,5] #This creates a list\n",
        "my_series = pd.Series(data) #array-like pandas series, index created automatically\n",
        "my_series2 = pd.Series(data, index=['a', 'b', 'c', 'd', 'e'])  #dict like, index specified\n",
        "print(my_series, '\\n', my_series2)"
      ],
      "execution_count": 0,
      "outputs": []
    },
    {
      "metadata": {
        "id": "nh6lfrAABFcs",
        "colab_type": "code",
        "colab": {}
      },
      "cell_type": "code",
      "source": [
        "my_series2['a']"
      ],
      "execution_count": 0,
      "outputs": []
    },
    {
      "metadata": {
        "slideshow": {
          "slide_type": "subslide"
        },
        "id": "RlE5uhIuBFcw",
        "colab_type": "text"
      },
      "cell_type": "markdown",
      "source": [
        "# Plotting a Series\n",
        "\n",
        "- We can plot a series by invoking the `plot()` method on an instance of a `Series` object.\n",
        "\n",
        "- The x-axis will autimatically be labelled with the series index.\n",
        "\n",
        "- This is the first time we are invoking a `magic` command. Read more about them [here](http://ipython.readthedocs.io/en/stable/interactive/magics.html). "
      ]
    },
    {
      "metadata": {
        "slideshow": {
          "slide_type": "-"
        },
        "id": "apwO8wwWBFcy",
        "colab_type": "code",
        "colab": {}
      },
      "cell_type": "code",
      "source": [
        "%matplotlib inline\n",
        "my_series.plot()"
      ],
      "execution_count": 0,
      "outputs": []
    },
    {
      "metadata": {
        "slideshow": {
          "slide_type": "subslide"
        },
        "id": "k1BcddtrBFc2",
        "colab_type": "text"
      },
      "cell_type": "markdown",
      "source": [
        "# Creating a Series from a `dict`\n",
        "\n"
      ]
    },
    {
      "metadata": {
        "id": "xqWkRWqbBFc3",
        "colab_type": "code",
        "colab": {}
      },
      "cell_type": "code",
      "source": [
        "d = {'a' : 0., 'b' : 1., 'c' : 2.}\n",
        "my_series = pd.Series(d)\n",
        "my_series"
      ],
      "execution_count": 0,
      "outputs": []
    },
    {
      "metadata": {
        "slideshow": {
          "slide_type": "subslide"
        },
        "id": "M47gZgKbBFdB",
        "colab_type": "text"
      },
      "cell_type": "markdown",
      "source": [
        "# Indexing/Slicing a Series with `[]` or . notation\n",
        "\n",
        "- Series can be accessed using the same syntax as arrays and dicts.\n",
        "- We use the labels in the index to access each element.\n",
        "- We can also use the label like an attribute `my_series.b`\n",
        "- We can specify a range with `my_series[['b', 'c']]`\n",
        "\n"
      ]
    },
    {
      "metadata": {
        "id": "nzwAHIUqBFdE",
        "colab_type": "code",
        "colab": {}
      },
      "cell_type": "code",
      "source": [
        "#Notice the different ways that the parts of the series are specified. \n",
        "print( my_series['b'],'\\n', my_series.b, '\\n', my_series[['b', 'c']])"
      ],
      "execution_count": 0,
      "outputs": []
    },
    {
      "metadata": {
        "slideshow": {
          "slide_type": "subslide"
        },
        "id": "tF1UGIUSBFdK",
        "colab_type": "text"
      },
      "cell_type": "markdown",
      "source": [
        "## Functions on Series\n",
        "\n",
        "- We can perform calculations using the entire series similar to numpy.\n",
        "- Methods are called from within `np.Series`, for example np.Series.add\n",
        "- See a variety of series functions [here](http://pandas.pydata.org/pandas-docs/stable/generated/pandas.Series.html) \n",
        "\n"
      ]
    },
    {
      "metadata": {
        "id": "7qusoSnOBFdY",
        "colab_type": "code",
        "colab": {}
      },
      "cell_type": "code",
      "source": [
        "#These are just a variety of examples of operations on series.\n",
        "\n",
        "\n",
        "starter = {'a' : 0., 'b' : 1., 'c' : 2.}\n",
        "\n",
        "a = pd.Series(starter)\n",
        "print('Print the entire array a: \\n', a)\n",
        "\n",
        "b1=10*a\n",
        "print('Mulitiply by 10 directly:\\n', b1)\n",
        "\n",
        "b2=a.multiply(10)\n",
        "print('Mulitiply by 10 using the function:\\n', b2)\n",
        "\n",
        "c1=a+b1\n",
        "print('Add a and b together directly:\\n', c1)\n",
        "\n",
        "c2=pd.Series.add(a,b1) #Note we are calling the method of the series class. Numpy used us np.add\n",
        "print('Add a and b together with a function:\\n', c2)\n",
        "\n",
        "\n",
        "suma=pd.Series.sum(a) #Note we are calling the method of the series class. Numpy used us np.add\n",
        "print('sum all of a:\\n', suma)\n",
        "\n",
        "\n",
        "f=a**2  #This squares the value. \n",
        "print('square a:\\n', f)\n",
        "x = pd.Series({'a' : 0., 'b' : 1., 'c' : 2.})\n",
        "y = pd.Series({'a' : 3., 'b' : 4., 'c' : 5.})\n",
        "z = x+y\n",
        "print('Add 2 series together:\\n', z)"
      ],
      "execution_count": 0,
      "outputs": []
    },
    {
      "metadata": {
        "slideshow": {
          "slide_type": "subslide"
        },
        "id": "BK3TVsVjBFdf",
        "colab_type": "text"
      },
      "cell_type": "markdown",
      "source": [
        "## Time Series\n",
        "- Time series models link specific times with rows."
      ]
    },
    {
      "metadata": {
        "id": "iahF0ryNBFdg",
        "colab_type": "code",
        "colab": {}
      },
      "cell_type": "code",
      "source": [
        "dates = pd.date_range('1/1/2000', periods=5)\n",
        "dates"
      ],
      "execution_count": 0,
      "outputs": []
    },
    {
      "metadata": {
        "id": "bdPUVm4TBFdn",
        "colab_type": "code",
        "colab": {}
      },
      "cell_type": "code",
      "source": [
        "time_series = pd.Series(data, index=dates)\n",
        "time_series"
      ],
      "execution_count": 0,
      "outputs": []
    },
    {
      "metadata": {
        "slideshow": {
          "slide_type": "subslide"
        },
        "id": "tXqGnrh6BFds",
        "colab_type": "text"
      },
      "cell_type": "markdown",
      "source": [
        "## Plot Time Series\n",
        "- With a data and a value, the plot command can be used to provide quick visibility in the form of a line graph."
      ]
    },
    {
      "metadata": {
        "slideshow": {
          "slide_type": "subslide"
        },
        "id": "348aDr6qBFdt",
        "colab_type": "code",
        "colab": {}
      },
      "cell_type": "code",
      "source": [
        "ax = time_series.plot()"
      ],
      "execution_count": 0,
      "outputs": []
    },
    {
      "metadata": {
        "id": "v4UDVHZhBFd0",
        "colab_type": "code",
        "colab": {}
      },
      "cell_type": "code",
      "source": [
        "type(time_series)"
      ],
      "execution_count": 0,
      "outputs": []
    },
    {
      "metadata": {
        "id": "c3jqj5o4BFd3",
        "colab_type": "code",
        "colab": {}
      },
      "cell_type": "code",
      "source": [
        "time_series"
      ],
      "execution_count": 0,
      "outputs": []
    },
    {
      "metadata": {
        "slideshow": {
          "slide_type": "subslide"
        },
        "id": "YrSqW9P7BFd9",
        "colab_type": "text"
      },
      "cell_type": "markdown",
      "source": [
        "## DataFrames\n",
        "\n",
        "- The `pandas` module provides a powerful data-structure called a data frame.\n",
        "\n",
        "- It is similar, but not identical to:\n",
        "    - a table in a relational database,\n",
        "    - an Excel spreadsheet,\n",
        "    - a dataframe in R.\n",
        "\n",
        "- A data frame has multiple columns, each of which can hold a *different* type of value.\n",
        "\n",
        "- Like a series, it has an index which provides a label for each and every row. \n",
        "\n",
        "\n",
        "    "
      ]
    },
    {
      "metadata": {
        "slideshow": {
          "slide_type": "subslide"
        },
        "id": "tikR3gtoBFd_",
        "colab_type": "text"
      },
      "cell_type": "markdown",
      "source": [
        "## Creating a DataFrame from Outside Data\n",
        "- Data frames can be read and written to/from:\n",
        "    - database queries, database tables\n",
        "    - CSV files\n",
        "    - json files\n",
        "    - etc.\n",
        "    \n",
        "- Beware that data frames are memory resident;\n",
        "    - If you read a large amount of data your PC might crash\n",
        "    - With big data, typically you would read a subset or summary of the data via e.g. a select statement."
      ]
    },
    {
      "metadata": {
        "slideshow": {
          "slide_type": "subslide"
        },
        "id": "3rqLB1zHBFd_",
        "colab_type": "text"
      },
      "cell_type": "markdown",
      "source": [
        "## Creating a DataFrame from Python Data Structures\n",
        "\n",
        "- Data frames can be constructed from other data structures in memory:\n",
        "    - dict of arrays,\n",
        "    - dict of lists,\n",
        "    - dict of dict\n",
        "    - dict of Series\n",
        "    - 2-dimensional array\n",
        "    - a single Series\n",
        "    - another DataFrame"
      ]
    },
    {
      "metadata": {
        "slideshow": {
          "slide_type": "subslide"
        },
        "id": "mf_GORndBFeA",
        "colab_type": "text"
      },
      "cell_type": "markdown",
      "source": [
        "\n",
        "## Example: Creating a DataFrame from Multiple Series\n",
        "- Pandas codes missing values as `NaN` rather than `None`\n",
        "- Series should have matching keys for each matching row.\n"
      ]
    },
    {
      "metadata": {
        "id": "VkbAJxNKBFeB",
        "colab_type": "code",
        "colab": {}
      },
      "cell_type": "code",
      "source": [
        "d = {\n",
        "        'x' : \n",
        "            pd.Series([1., 2., 3.], index=['a', 'b', 'c']),\n",
        "        'y' : \n",
        "            pd.Series([4.,  6., 7.], index=['a',  'c', 'd']),\n",
        "        'z' :\n",
        "            pd.Series([0.2, 0.3, 0.4], index=[ 'b', 'c', 'd'])\n",
        "}\n",
        "\n",
        "df = pd.DataFrame(d)\n",
        "print (df)"
      ],
      "execution_count": 0,
      "outputs": []
    },
    {
      "metadata": {
        "id": "wZqxppWeBFeE",
        "colab_type": "code",
        "colab": {}
      },
      "cell_type": "code",
      "source": [
        "type(d)"
      ],
      "execution_count": 0,
      "outputs": []
    },
    {
      "metadata": {
        "slideshow": {
          "slide_type": "subslide"
        },
        "id": "--eNteEXBFeH",
        "colab_type": "text"
      },
      "cell_type": "markdown",
      "source": [
        "# Plotting DataFrames\n",
        "\n",
        "- When plotting a data frame, each column is plotted as its own series on the same graph.\n",
        "\n",
        "- The column names are used to label each series.\n",
        "\n",
        "- The row names (index) is used to label the x-axis."
      ]
    },
    {
      "metadata": {
        "slideshow": {
          "slide_type": "-"
        },
        "id": "tt2e7La-BFeI",
        "colab_type": "code",
        "colab": {}
      },
      "cell_type": "code",
      "source": [
        "ax = df.plot()"
      ],
      "execution_count": 0,
      "outputs": []
    },
    {
      "metadata": {
        "id": "_FDEil7sBFeN",
        "colab_type": "code",
        "colab": {}
      },
      "cell_type": "code",
      "source": [
        "df\n"
      ],
      "execution_count": 0,
      "outputs": []
    },
    {
      "metadata": {
        "slideshow": {
          "slide_type": "subslide"
        },
        "id": "OxirZeZABFeQ",
        "colab_type": "text"
      },
      "cell_type": "markdown",
      "source": [
        "## Functions and DataFrames\n",
        "\n",
        "- We can do calculations and functions with dataframes just like series.\n",
        "- Functions will typically return a dataframe or a series, depending. \n",
        "- To make a copy, don't set two dataframes equal us the `copy` method:  `df2= df.copy()` "
      ]
    },
    {
      "metadata": {
        "id": "hzqlv_HKBFeT",
        "colab_type": "code",
        "colab": {}
      },
      "cell_type": "code",
      "source": [
        "#Info\n",
        "nulls=df.isnull()\n",
        "print(nulls, \"\\n\", type(nulls))\n",
        "\n",
        "nullsum=nulls.sum()\n",
        "\n",
        "print(\"\\nNull sum for each column \\n\", nullsum, \"\\n\", type(nullsum))\n",
        "\n",
        "print(\"\\nWe can slice these results to get the answer for x \\n\", nullsum.x)\n",
        "type(nullsum.x)"
      ],
      "execution_count": 0,
      "outputs": []
    },
    {
      "metadata": {
        "id": "1nGVzwYGBFeW",
        "colab_type": "code",
        "colab": {}
      },
      "cell_type": "code",
      "source": [
        "df2= df.copy()\n",
        "print(df, '\\n', df2)"
      ],
      "execution_count": 0,
      "outputs": []
    },
    {
      "metadata": {
        "id": "rbwh7ZD5BFeZ",
        "colab_type": "code",
        "colab": {}
      },
      "cell_type": "code",
      "source": [
        "df2=df ** 2 #This squares all values. \n",
        "print(df2)"
      ],
      "execution_count": 0,
      "outputs": []
    },
    {
      "metadata": {
        "slideshow": {
          "slide_type": "subslide"
        },
        "id": "6EyOcuLbBFed",
        "colab_type": "text"
      },
      "cell_type": "markdown",
      "source": [
        "## Summary statistics\n",
        "- To quickly obtain summary statistics on numerical values use the `describe` method.\n",
        "- You will get a warning if there are missing values.\n",
        "- The result is itself a DataFrame, that we can slice `dfstats.y['mean']`."
      ]
    },
    {
      "metadata": {
        "slideshow": {
          "slide_type": "-"
        },
        "id": "_N4e6MOwBFef",
        "colab_type": "code",
        "colab": {}
      },
      "cell_type": "code",
      "source": [
        "dfstats=df.describe()\n",
        "dfstats\n",
        "#type(dfstats)\n",
        "\n",
        "#END HERE....."
      ],
      "execution_count": 0,
      "outputs": []
    },
    {
      "metadata": {
        "slideshow": {
          "slide_type": "subslide"
        },
        "id": "4q-T7-wsBFej",
        "colab_type": "code",
        "colab": {}
      },
      "cell_type": "code",
      "source": [
        "xmean = dfstats.x['mean'] #This is the X mean\n",
        "ystd = dfstats['y']['std'] #This is the Y standardard deviation\n",
        "print(xmean,'\\n',ystd)"
      ],
      "execution_count": 0,
      "outputs": []
    },
    {
      "metadata": {
        "id": "01KDFLniBFem",
        "colab_type": "text"
      },
      "cell_type": "markdown",
      "source": [
        "### Data Types\n",
        "- Each will have an inferred data type. "
      ]
    },
    {
      "metadata": {
        "id": "XcXEas8BBFen",
        "colab_type": "code",
        "colab": {}
      },
      "cell_type": "code",
      "source": [
        "print(df.dtypes)"
      ],
      "execution_count": 0,
      "outputs": []
    },
    {
      "metadata": {
        "slideshow": {
          "slide_type": "subslide"
        },
        "id": "q3dSG4nDBFer",
        "colab_type": "text"
      },
      "cell_type": "markdown",
      "source": [
        "# Accessing the Row and Column Labels\n",
        "\n",
        "- The row labels (index) can be accessed through `df.index`.\n",
        "- The column labels can be accessed through `df.columns`.\n"
      ]
    },
    {
      "metadata": {
        "id": "L0wteuGEBFes",
        "colab_type": "code",
        "colab": {}
      },
      "cell_type": "code",
      "source": [
        "df.index\n"
      ],
      "execution_count": 0,
      "outputs": []
    },
    {
      "metadata": {
        "id": "VlM8DU_ZBFex",
        "colab_type": "code",
        "colab": {}
      },
      "cell_type": "code",
      "source": [
        "df.columns"
      ],
      "execution_count": 0,
      "outputs": []
    },
    {
      "metadata": {
        "id": "9gzPCOO-BFe0",
        "colab_type": "code",
        "colab": {}
      },
      "cell_type": "code",
      "source": [
        "print(df.describe())"
      ],
      "execution_count": 0,
      "outputs": []
    },
    {
      "metadata": {
        "slideshow": {
          "slide_type": "subslide"
        },
        "id": "qsj5qgZDBFe8",
        "colab_type": "text"
      },
      "cell_type": "markdown",
      "source": [
        "## Loading Files with Pandas\n",
        "- We used Pandas in an earlier notebook to load the iris data file.  \n",
        "- Whenver you have a dataset with a variety of fields of various types, loading it into Pandas is a good strategy.\n",
        "- You can load data from Azure, from a local file, or from a url.  \n",
        "\n",
        "\n",
        "\n",
        "\n",
        "\n"
      ]
    },
    {
      "metadata": {
        "id": "O61BLd5RBXS8",
        "colab_type": "code",
        "colab": {}
      },
      "cell_type": "code",
      "source": [
        "!wget https://raw.githubusercontent.com/rpi-techfundamentals/spring2019-materials/master/input/iris.csv"
      ],
      "execution_count": 0,
      "outputs": []
    },
    {
      "metadata": {
        "slideshow": {
          "slide_type": "subslide"
        },
        "id": "dAgKWb1FBFe_",
        "colab_type": "code",
        "colab": {}
      },
      "cell_type": "code",
      "source": [
        "# Pulling from a local file\n",
        "frame2 = pd.read_csv('iris.csv')\n",
        "frame2"
      ],
      "execution_count": 0,
      "outputs": []
    },
    {
      "metadata": {
        "slideshow": {
          "slide_type": "subslide"
        },
        "id": "QLbQQzidBFfC",
        "colab_type": "text"
      },
      "cell_type": "markdown",
      "source": [
        "##  Large Dataframes - Head and Tail\n",
        "\n",
        "- Many times you just want a sampling of the available data\n",
        "- The `head()` command can view the start of a data frame.\n",
        "- The `tail()` command can be used to show the end of a data frame. "
      ]
    },
    {
      "metadata": {
        "id": "pL-GwDeMBFfG",
        "colab_type": "code",
        "colab": {}
      },
      "cell_type": "code",
      "source": [
        "frame2.head()"
      ],
      "execution_count": 0,
      "outputs": []
    },
    {
      "metadata": {
        "slideshow": {
          "slide_type": "subslide"
        },
        "id": "6E6BNSb6BFfJ",
        "colab_type": "code",
        "colab": {}
      },
      "cell_type": "code",
      "source": [
        "frame2.tail()"
      ],
      "execution_count": 0,
      "outputs": []
    },
    {
      "metadata": {
        "slideshow": {
          "slide_type": "subslide"
        },
        "id": "zglB84d_BFfN",
        "colab_type": "code",
        "colab": {}
      },
      "cell_type": "code",
      "source": [
        "# Pulling from a url.  Notice that this is the raw version of the file.\n",
        "frame3 = pd.read_csv(\"https://raw.githubusercontent.com/rpi-techfundamentals/spring2019-materials/master/input/iris.csv\")\n",
        "frame3.head()\n"
      ],
      "execution_count": 0,
      "outputs": []
    },
    {
      "metadata": {
        "slideshow": {
          "slide_type": "subslide"
        },
        "id": "yDX01_UxBFfS",
        "colab_type": "text"
      },
      "cell_type": "markdown",
      "source": [
        "## Indexing/Slicing Rows of DataFrames\n",
        "- Simple ways of selecting all rows and colu (`df[:]`)\n",
        "- Rows can be accessed via a key or a integer corresponding to the row number. \n",
        "- Omitting a value generally means *all values* before or after an item.\n",
        "- When we retrieve a single or mulitiple rows, the result is a Dataframe.\n",
        "- Several ways, either directly, with `iloc`, or with `loc`. (See Examples).\n",
        "- Read more [here](http://pandas.pydata.org/pandas-docs/stable/indexing.html)\n",
        "\n"
      ]
    },
    {
      "metadata": {
        "id": "k3xlzSrvBFfS",
        "colab_type": "code",
        "colab": {}
      },
      "cell_type": "code",
      "source": [
        "#This is going to create some sample data that we can work with for our analysis. \n",
        "\n",
        "import pandas as pd\n",
        "import numpy as np\n",
        " \n",
        "#Create a dataframe from a random numpy array \n",
        "#http://docs.scipy.org/doc/numpy/reference/generated/numpy.random.randn.html\n",
        "df = pd.DataFrame((20+np.random.randn(10, 4)*5),  columns=['a', 'b', 'c', 'd'] )\n",
        "print (df)\n",
        "df2 = pd.DataFrame((20+np.random.randn(10, 4)*5),  columns=['e', 'f', 'g', 'h'] )\n",
        "print (df2)\n",
        "\n"
      ],
      "execution_count": 0,
      "outputs": []
    },
    {
      "metadata": {
        "slideshow": {
          "slide_type": "subslide"
        },
        "id": "kQetmMuOBFfV",
        "colab_type": "text"
      },
      "cell_type": "markdown",
      "source": [
        "## Indexing/Slicing Columns of DataFrames\n",
        "- Simple ways of selecting colum(s) `frame[[colname(s)]]`. \n",
        "- Columns can have one (`df['x']`) or multiple (`df[['x', 'y']]`) columns.\n",
        "- When specifying one column, one can use simplified dot notation `df.x`.\n",
        "- When we include multiple columns the slice that result is a DataFrame.\n",
        "- When we retrieve a single column, the result is a Series.\n",
        "- When we retrieve mulitiple column, the result is a Dataframe.\n"
      ]
    },
    {
      "metadata": {
        "id": "OoLwXZs_BFfX",
        "colab_type": "code",
        "colab": {}
      },
      "cell_type": "code",
      "source": [
        "#Here we can see that there is a similar structure to R, with selecting the desired columns by passing a list.\n",
        "\n",
        "print (df[['c', 'd']]) #All rows, column c, d\n",
        "print (df[[ 'c', 'd']]) #All rows, column c, d\n",
        "print (df.iloc[:,[0,2,3]]) #All rows, column a,c,d\n",
        "print (df.iloc[:,0:2])     #All rows, column a-b\n",
        "print (df.iloc[:,[0,2,3]])     #All rows, column 0,2,3\n",
        "print (df.loc[:,'a':'b']) #All rows, column a-b\n",
        "print (df.loc[:,['a','c','d']]) #All rows, columns a, c, d\n",
        "\n"
      ],
      "execution_count": 0,
      "outputs": []
    },
    {
      "metadata": {
        "slideshow": {
          "slide_type": "subslide"
        },
        "id": "V8Fb4qVMBFfZ",
        "colab_type": "text"
      },
      "cell_type": "markdown",
      "source": [
        "## Dropping Columns from Dataframes\n",
        "- Done using the `drop` syntax. \n",
        "- [Drop Documentation](http://pandas.pydata.org/pandas-docs/stable/generated/pandas.DataFrame.drop.html)"
      ]
    },
    {
      "metadata": {
        "slideshow": {
          "slide_type": "-"
        },
        "id": "0C3ERb5QBFfb",
        "colab_type": "code",
        "colab": {}
      },
      "cell_type": "code",
      "source": [
        "#Here, we can remove columns specifically from a dataframe using the drop method.\n",
        "df2 = pd.DataFrame((20+np.random.randn(10, 4)*5),  columns=['e', 'f', 'g', 'h'] )\n",
        "print (df2)\n",
        "df2.drop(['e','f'], inplace=True, axis=1)\n",
        "print (df2)"
      ],
      "execution_count": 0,
      "outputs": []
    },
    {
      "metadata": {
        "slideshow": {
          "slide_type": "subslide"
        },
        "id": "y0mO7JvlBFfg",
        "colab_type": "text"
      },
      "cell_type": "markdown",
      "source": [
        "## Selecting Rows\n",
        "- Similarly, we also might want to select out rows, and we can utilize the same syntax.\n",
        "- [iloc](https://pandas.pydata.org/pandas-docs/stable/generated/pandas.DataFrame.iloc.html)"
      ]
    },
    {
      "metadata": {
        "id": "m0XJZ-2bBFfh",
        "colab_type": "code",
        "colab": {}
      },
      "cell_type": "code",
      "source": [
        "\n",
        "## Selecting rows\n",
        "print (df[0:3])     #Select rows 1-3\n",
        "print (df.iloc[0:3,:])     #Select rows 1-3\n",
        "print (df.iloc[0:3,])      #Select rows 1-3\n",
        "print (df.iloc[0:3])       #Select rows 1-3\n",
        "print (df.iloc[[1,2,4]])   #Select rows 1, 2, and 4\n"
      ],
      "execution_count": 0,
      "outputs": []
    },
    {
      "metadata": {
        "slideshow": {
          "slide_type": "subslide"
        },
        "id": "fMfJUu7hBFfm",
        "colab_type": "text"
      },
      "cell_type": "markdown",
      "source": [
        "## Intro to Filters (Logical indexing)\n",
        "- Filters are the selection of rows based on criteria.\n",
        "- We can select based on specific criteria.\n",
        "- These criteria can be connected together.\n",
        "- Most of the time we won't specfically assign selection critia to a list. "
      ]
    },
    {
      "metadata": {
        "id": "Sk4UWcIsBFfp",
        "colab_type": "code",
        "colab": {}
      },
      "cell_type": "code",
      "source": [
        "# At the foundation of the filter is a boolean array based on some type of condition. \n",
        "print(df)\n",
        "df['a'] >= 20"
      ],
      "execution_count": 0,
      "outputs": []
    },
    {
      "metadata": {
        "slideshow": {
          "slide_type": "subslide"
        },
        "id": "wLe6_62tBFfw",
        "colab_type": "code",
        "colab": {}
      },
      "cell_type": "code",
      "source": [
        "#notice how the logical statement is inside the dataframe specification.  This creates an intermediate boolean array. \n",
        "df[df['a'] >= 20]"
      ],
      "execution_count": 0,
      "outputs": []
    },
    {
      "metadata": {
        "slideshow": {
          "slide_type": "subslide"
        },
        "id": "pELyQj8tBFf3",
        "colab_type": "code",
        "colab": {}
      },
      "cell_type": "code",
      "source": [
        "#This is an alternate method where we first set the boolean array. \n",
        "included=df['a'] >= 20\n",
        "df[included]\n"
      ],
      "execution_count": 0,
      "outputs": []
    },
    {
      "metadata": {
        "id": "Z1MhwdsSBFf7",
        "colab_type": "code",
        "colab": {}
      },
      "cell_type": "code",
      "source": [
        "#We can now generate a vector based on a critera and then use this for selection\n",
        "select = df['a']>=20\n",
        "print (select,type(select))\n",
        "print (df.loc[select,'a']) #Notice by including only one variable we are selecting rows and all columns.\n",
        "\n",
        "select2 = (df['a']>20) & (df['c'] < 30)  #More complex criteria\n",
        "print (select2)\n",
        "print (df.loc[select2,['a','c']])\n",
        "\n"
      ],
      "execution_count": 0,
      "outputs": []
    },
    {
      "metadata": {
        "id": "Dz4UeVRnBFf_",
        "colab_type": "code",
        "colab": {}
      },
      "cell_type": "code",
      "source": [
        "#Here we are creating a new variable based on the value of another variable.\n",
        "df['aboveavg']=0  # We first set the default to 0. \n",
        "df.loc[df['a']>=20,'aboveavg']=1 #We then change all rows where a is >=20 to 1.\n",
        "print(df['aboveavg'])"
      ],
      "execution_count": 0,
      "outputs": []
    },
    {
      "metadata": {
        "slideshow": {
          "slide_type": "subslide"
        },
        "id": "BZl06rEeBFgB",
        "colab_type": "text"
      },
      "cell_type": "markdown",
      "source": [
        "## Joining Dataframes\n",
        "- Often you need to combine dataframe, \n",
        "- either matching columns for the smae rows (column  bind)\n",
        "- Add rows for the same columns (row bind)"
      ]
    },
    {
      "metadata": {
        "slideshow": {
          "slide_type": "subslide"
        },
        "id": "q1pw2jaTBFgC",
        "colab_type": "text"
      },
      "cell_type": "markdown",
      "source": [
        "## Stacking Dataframes Vertically\n",
        "- Adds rows vertially with the `concat` function\n",
        "- The index is not automatically reset\n",
        "- In R referred to as a row bind."
      ]
    },
    {
      "metadata": {
        "id": "kr1KXy9XBFgD",
        "colab_type": "code",
        "colab": {}
      },
      "cell_type": "code",
      "source": [
        "#This first generates 2 dataframes. \n",
        "df = pd.DataFrame((20+np.random.randn(10, 4)*5),  columns=['a', 'b', 'c', 'd'] )\n",
        "df2 = pd.DataFrame((20+np.random.randn(10, 4)*5),  columns=['a', 'b', 'c', 'd'] )\n",
        "\n",
        "#This will stack the 2 dataframes vertically on top of one another\n",
        "dfbyrow=pd.concat([df, df2])  #This is equivalent to a rowbind in R. \n",
        "print (dfbyrow)"
      ],
      "execution_count": 0,
      "outputs": []
    },
    {
      "metadata": {
        "id": "ch5RiwEJBFgF",
        "colab_type": "code",
        "colab": {}
      },
      "cell_type": "code",
      "source": [
        "# View how the index here from df has been reset and incremented while in the earlier example the index was kept. \n",
        "\n",
        "addition = df.append(df2)\n",
        "print(addition )\n",
        "addition2 = df.append(df, ignore_index=True)\n",
        "print(addition2 )\n"
      ],
      "execution_count": 0,
      "outputs": []
    },
    {
      "metadata": {
        "slideshow": {
          "slide_type": "subslide"
        },
        "id": "bX-8Wpt0BFgJ",
        "colab_type": "text"
      },
      "cell_type": "markdown",
      "source": [
        "## Inner/Outer Joins Dataframes\n",
        "- Adds rows vertially with the `concat` function\n",
        "- In R referred to as a column bind.\n",
        "- Can do the equivalent of an inner and outer join."
      ]
    },
    {
      "metadata": {
        "id": "NtSYSiG_BFgJ",
        "colab_type": "code",
        "colab": {}
      },
      "cell_type": "code",
      "source": [
        "#Merging additional columns also uses the concat function \n",
        "#This is equavalent to an inner join in SQL.\n",
        "df = pd.DataFrame((20+np.random.randn(10, 4)*5),  columns=['a', 'b', 'c', 'd'] )\n",
        "df4 = pd.DataFrame((20+np.random.randn(10, 4)*5),  columns=['e', 'f', 'g', 'h'] )\n",
        "\n",
        "\n",
        "dfbycolumns = pd.concat([df, df4], axis=1, join='inner')\n",
        "dfbycolumns"
      ],
      "execution_count": 0,
      "outputs": []
    },
    {
      "metadata": {
        "id": "aqIR1WQ8BFgL",
        "colab_type": "code",
        "colab": {}
      },
      "cell_type": "code",
      "source": [
        "#Here we are generating a small dataframe to be used in merging so you can see the differences in specifying inner & outer, \n",
        "shortdf=df[0:5]\n",
        "dfbycolumns = pd.concat([df, shortdf], axis=1, join='inner')\n",
        "dfbycolumns"
      ],
      "execution_count": 0,
      "outputs": []
    },
    {
      "metadata": {
        "id": "qlDpQ-5nBFgO",
        "colab_type": "code",
        "colab": {}
      },
      "cell_type": "code",
      "source": [
        "#Here, the outer does the equivalent of a left outer join for this dataset. \n",
        "shortdf=df[0:5]\n",
        "dfbycolumns = pd.concat([df, shortdf], axis=1, join='outer')\n",
        "dfbycolumns"
      ],
      "execution_count": 0,
      "outputs": []
    },
    {
      "metadata": {
        "id": "BWrjyMowBFgQ",
        "colab_type": "text"
      },
      "cell_type": "markdown",
      "source": [
        "Copyright [AnalyticsDojo](http://rpi.analyticsdojo.com) 2016.\n",
        "This work is licensed under the [Creative Commons Attribution 4.0 International](https://creativecommons.org/licenses/by/4.0/) license agreement."
      ]
    },
    {
      "metadata": {
        "slideshow": {
          "slide_type": "slide"
        },
        "id": "BUNhNQ75BFgR",
        "colab_type": "text"
      },
      "cell_type": "markdown",
      "source": [
        "## CREDITS\n",
        "\n",
        "#### Large sections of this were adopted from Analysing structured data with Pandas by [Steve Phelps](http://sphelps.net).  Thanks Steve!\n",
        "\n",
        "\n",
        "Copyright [AnalyticsDojo](http://rpi.analyticsdojo.com) 2016\n",
        "This work is licensed under the [Creative Commons Attribution 4.0 International](https://creativecommons.org/licenses/by/4.0/) license agreement.\n",
        "\n"
      ]
    }
  ]
}