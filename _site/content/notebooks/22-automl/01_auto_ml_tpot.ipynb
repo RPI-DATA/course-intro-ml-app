{
  "nbformat": 4,
  "nbformat_minor": 0,
  "metadata": {
    "colab": {
      "name": "auto_ml_tpot.ipynb",
      "version": "0.3.2",
      "provenance": [],
      "collapsed_sections": []
    },
    "kernelspec": {
      "name": "python3",
      "display_name": "Python 3"
    }
  },
  "cells": [
    {
      "metadata": {
        "id": "NwMuduTDiZP_",
        "colab_type": "text"
      },
      "cell_type": "markdown",
      "source": [
        "<center>[![AnalyticsDojo](https://raw.githubusercontent.com/rpi-techfundamentals/fall2018-materials/master/fig/final-logo.png)](http://rpi.analyticsdojo.com)\n",
        "<h1>Ludwig</h1></center>\n",
        "<center><h3><a href = 'http://rpi.analyticsdojo.com'>AutoML with TPOT</a></h3></center>"
      ]
    },
    {
      "metadata": {
        "id": "8H0ktRvDimAU",
        "colab_type": "text"
      },
      "cell_type": "markdown",
      "source": [
        "Adopted from: https://towardsdatascience.com/automated-machine-learning-on-the-cloud-in-python-47cf568859f"
      ]
    },
    {
      "metadata": {
        "id": "rbiKVIwfHxxS",
        "colab_type": "text"
      },
      "cell_type": "markdown",
      "source": [
        "# Introduction: Automated Machine Learning\n",
        "\n",
        "In this notebook, we will see how to use [TPOT](https://epistasislab.github.io/tpot/api/), a Python library developed for automatic machine learning feature preprocessing, model selection, and hyperparameter tuning. Using [genetic programming](http://geneticprogramming.com/tutorial/), TPOT tries to find the best machine learning pipeline for a dataset by evaluating thousands of possibilites. \n",
        "\n",
        "The machine learning pipeline in this context consists of:\n",
        "\n",
        "1. Feature Preprocessing\n",
        "  * Imputing missing values and scaling values\n",
        "  * Constructing new features such as polynomial transformations\n",
        "2. Feature selection\n",
        "  * Dimensionality reduction, for example using PCA and other techniques\n",
        "3. Model Selection\n",
        "  * Evaluting a number of machine learning models\n",
        "4. Hyperparameter tuning\n",
        "  * Finding the optimal settings of the model for the particular problem\n",
        "\n",
        "TPOT is one of a class of methods known as [auto-ml (short for automated machine learning)](https://www.kdnuggets.com/2017/01/current-state-automated-machine-learning.html) which aim to simplify the work of the data scientist by automatically finding the optimal (or near-optimal) feature preprocessing steps and model for the problem. Machine learning is  typically a very time-consuming and knowledge-intensive part of a data science problem. Auto-ml is not designed to replace the data scientist, but rather free her to work on more important aspects of the complete problem, such as acquiring data and interpreting the model results. In effect, TPOT, and auto-ml in general, will in effect be a \"data science assistant\" that will be another tool among many used by data scientists. Machine learning is only one part of the data science process, and it still takes a human to weave the different aspects of a problem together into a complete working product.\n",
        "\n",
        "Other entries in the field of auto - ml include:\n",
        "\n",
        "* [Auto-sklearn](https://automl.github.io/auto-sklearn/stable/)\n",
        "* [H20](http://docs.h2o.ai/h2o/latest-stable/h2o-docs/welcome.html)\n",
        "* [Google Cloud AutoML](https://cloud.google.com/automl/)\n",
        "\n",
        "\n",
        "With that background, let's see how automated machine learning, the future of data science, works!"
      ]
    },
    {
      "metadata": {
        "id": "eXV0OhoZylj8",
        "colab_type": "text"
      },
      "cell_type": "markdown",
      "source": [
        "First, because we are working in Google Colab, we need to make sure to install `TPOT`. We can do that using a system command (which in Jupyter is proceeded by `!`)."
      ]
    },
    {
      "metadata": {
        "id": "UX2YHrGwOuUN",
        "colab_type": "code",
        "outputId": "84270bc5-5f8a-4f90-92da-191e28a3bb2c",
        "colab": {
          "base_uri": "https://localhost:8080/",
          "height": 593
        }
      },
      "cell_type": "code",
      "source": [
        "# Install tpot on the server\n",
        "!pip install tpot"
      ],
      "execution_count": 0,
      "outputs": [
        {
          "output_type": "stream",
          "text": [
            "Collecting tpot\n",
            "\u001b[?25l  Downloading https://files.pythonhosted.org/packages/36/6f/9a400b0a7d32d13b1b9a565de481d10163c8b39d1bdf63ae0219922a24fb/TPOT-0.10.0-py3-none-any.whl (73kB)\n",
            "\u001b[K    100% |████████████████████████████████| 81kB 5.1MB/s \n",
            "\u001b[?25hCollecting stopit>=1.1.1 (from tpot)\n",
            "  Downloading https://files.pythonhosted.org/packages/35/58/e8bb0b0fb05baf07bbac1450c447d753da65f9701f551dca79823ce15d50/stopit-1.1.2.tar.gz\n",
            "Collecting update-checker>=0.16 (from tpot)\n",
            "  Downloading https://files.pythonhosted.org/packages/17/c9/ab11855af164d03be0ff4fddd4c46a5bd44799a9ecc1770e01a669c21168/update_checker-0.16-py2.py3-none-any.whl\n",
            "Requirement already satisfied: pandas>=0.20.2 in /usr/local/lib/python3.6/dist-packages (from tpot) (0.23.4)\n",
            "Requirement already satisfied: scikit-learn>=0.18.1 in /usr/local/lib/python3.6/dist-packages (from tpot) (0.20.3)\n",
            "Requirement already satisfied: tqdm>=4.26.0 in /usr/local/lib/python3.6/dist-packages (from tpot) (4.28.1)\n",
            "Requirement already satisfied: scipy>=0.19.0 in /usr/local/lib/python3.6/dist-packages (from tpot) (1.2.1)\n",
            "Collecting deap>=1.0 (from tpot)\n",
            "\u001b[?25l  Downloading https://files.pythonhosted.org/packages/af/29/e7f2ecbe02997b16a768baed076f5fc4781d7057cd5d9adf7c94027845ba/deap-1.2.2.tar.gz (936kB)\n",
            "\u001b[K    100% |████████████████████████████████| 942kB 18.9MB/s \n",
            "\u001b[?25hRequirement already satisfied: numpy>=1.12.1 in /usr/local/lib/python3.6/dist-packages (from tpot) (1.16.2)\n",
            "Requirement already satisfied: requests>=2.3.0 in /usr/local/lib/python3.6/dist-packages (from update-checker>=0.16->tpot) (2.18.4)\n",
            "Requirement already satisfied: pytz>=2011k in /usr/local/lib/python3.6/dist-packages (from pandas>=0.20.2->tpot) (2018.9)\n",
            "Requirement already satisfied: python-dateutil>=2.5.0 in /usr/local/lib/python3.6/dist-packages (from pandas>=0.20.2->tpot) (2.5.3)\n",
            "Requirement already satisfied: urllib3<1.23,>=1.21.1 in /usr/local/lib/python3.6/dist-packages (from requests>=2.3.0->update-checker>=0.16->tpot) (1.22)\n",
            "Requirement already satisfied: idna<2.7,>=2.5 in /usr/local/lib/python3.6/dist-packages (from requests>=2.3.0->update-checker>=0.16->tpot) (2.6)\n",
            "Requirement already satisfied: chardet<3.1.0,>=3.0.2 in /usr/local/lib/python3.6/dist-packages (from requests>=2.3.0->update-checker>=0.16->tpot) (3.0.4)\n",
            "Requirement already satisfied: certifi>=2017.4.17 in /usr/local/lib/python3.6/dist-packages (from requests>=2.3.0->update-checker>=0.16->tpot) (2019.3.9)\n",
            "Requirement already satisfied: six>=1.5 in /usr/local/lib/python3.6/dist-packages (from python-dateutil>=2.5.0->pandas>=0.20.2->tpot) (1.11.0)\n",
            "Building wheels for collected packages: stopit, deap\n",
            "  Building wheel for stopit (setup.py) ... \u001b[?25ldone\n",
            "\u001b[?25h  Stored in directory: /root/.cache/pip/wheels/3c/85/2b/2580190404636bfc63e8de3dff629c03bb795021e1983a6cc7\n",
            "  Building wheel for deap (setup.py) ... \u001b[?25ldone\n",
            "\u001b[?25h  Stored in directory: /root/.cache/pip/wheels/22/ea/bf/dc7c8a2262025a0ab5da9ef02282c198be88902791ca0c6658\n",
            "Successfully built stopit deap\n",
            "Installing collected packages: stopit, update-checker, deap, tpot\n",
            "Successfully installed deap-1.2.2 stopit-1.1.2 tpot-0.10.0 update-checker-0.16\n"
          ],
          "name": "stdout"
        }
      ]
    },
    {
      "metadata": {
        "id": "uhBlHuGpO2n6",
        "colab_type": "code",
        "colab": {
          "base_uri": "https://localhost:8080/",
          "height": 338
        },
        "outputId": "4c7cd3ca-b611-49fd-94dc-6c928be7cafb"
      },
      "cell_type": "code",
      "source": [
        "# pandas and numpy for data manipulation\n",
        "import pandas as pd\n",
        "import numpy as np\n",
        "\n",
        "# Import the tpot regressor\n",
        "from tpot import TPOTRegressor"
      ],
      "execution_count": 1,
      "outputs": [
        {
          "output_type": "error",
          "ename": "ModuleNotFoundError",
          "evalue": "ignored",
          "traceback": [
            "\u001b[0;31m---------------------------------------------------------------------------\u001b[0m",
            "\u001b[0;31mModuleNotFoundError\u001b[0m                       Traceback (most recent call last)",
            "\u001b[0;32m<ipython-input-1-aa36b760643a>\u001b[0m in \u001b[0;36m<module>\u001b[0;34m()\u001b[0m\n\u001b[1;32m      3\u001b[0m \u001b[0;34m\u001b[0m\u001b[0m\n\u001b[1;32m      4\u001b[0m \u001b[0;31m# Import the tpot regressor\u001b[0m\u001b[0;34m\u001b[0m\u001b[0;34m\u001b[0m\u001b[0;34m\u001b[0m\u001b[0m\n\u001b[0;32m----> 5\u001b[0;31m \u001b[0;32mfrom\u001b[0m \u001b[0mtpot\u001b[0m \u001b[0;32mimport\u001b[0m \u001b[0mTPOTRegressor\u001b[0m\u001b[0;34m\u001b[0m\u001b[0;34m\u001b[0m\u001b[0m\n\u001b[0m",
            "\u001b[0;31mModuleNotFoundError\u001b[0m: No module named 'tpot'",
            "",
            "\u001b[0;31m---------------------------------------------------------------------------\u001b[0;32m\nNOTE: If your import is failing due to a missing package, you can\nmanually install dependencies using either !pip or !apt.\n\nTo view examples of installing some common dependencies, click the\n\"Open Examples\" button below.\n\u001b[0;31m---------------------------------------------------------------------------\u001b[0m\n"
          ]
        }
      ]
    },
    {
      "metadata": {
        "id": "rBJofhDZzuG3",
        "colab_type": "text"
      },
      "cell_type": "markdown",
      "source": [
        "# Problem Description\n",
        "\n",
        "The task is a supervised regression problem: given [New York City energy data](http://www.nyc.gov/html/gbee/html/plan/ll84_scores.shtml), we want to build a model that can predict the Energy Star Score of a building. In a series of articles ([part one](https://towardsdatascience.com/a-complete-machine-learning-walk-through-in-python-part-one-c62152f39420), [part two](https://towardsdatascience.com/a-complete-machine-learning-project-walk-through-in-python-part-two-300f1f8147e2), [part three](https://towardsdatascience.com/a-complete-machine-learning-walk-through-in-python-part-three-388834e8804b), [code on GitHub](https://github.com/WillKoehrsen/machine-learning-project-walkthrough)), we built a complete machine learning solution for this problem. Using manual feature engineering, dimensionality reduction, model selection, and hyperparameter tuning, we were able to build a model that achieved a mean absolute error of 9.06 points (on a scale of 1-100) on the test set. "
      ]
    },
    {
      "metadata": {
        "id": "dMni42UjIs75",
        "colab_type": "text"
      },
      "cell_type": "markdown",
      "source": [
        "## Dataset\n",
        "\n",
        "The features contain a number of continuous numeric variables (such as energy use and area of the building) as well as two one-hot encoded categorical variables (borough and building type). There are a total of 82 features. \n",
        "\n",
        "All of the missing values have been encoded as `np.nan`, and TPOT will automatically perform missing value imputation. It also automatically scales the variables so we do not have to worry about normalizing the range of each feature. TPOT does both feature engineering and feature selection, so we will not transform any of the variables or remove extraneous features we think may be extraneous. \n",
        "\n",
        "We will read into the data from GitHub and take a brief look.\n"
      ]
    },
    {
      "metadata": {
        "id": "4O5zosPFO4U5",
        "colab_type": "code",
        "outputId": "b13543f6-19b5-4328-e963-6ed54fc3a83f",
        "colab": {
          "base_uri": "https://localhost:8080/",
          "height": 72
        }
      },
      "cell_type": "code",
      "source": [
        "# Read in features from GitHub\n",
        "train_features = pd.read_csv('https://raw.githubusercontent.com/WillKoehrsen/machine-learning-project-walkthrough/master/data/X_train.csv')\n",
        "test_features = pd.read_csv('https://raw.githubusercontent.com/WillKoehrsen/machine-learning-project-walkthrough/master/data/X_test.csv')\n",
        "\n",
        "# Read in labels from GitHub\n",
        "train_labels = pd.read_csv('https://raw.githubusercontent.com/WillKoehrsen/machine-learning-project-walkthrough/master/data/Y_train.csv')\n",
        "test_labels = pd.read_csv('https://raw.githubusercontent.com/WillKoehrsen/machine-learning-project-walkthrough/master/data/Y_test.csv')\n",
        "\n",
        "print('Training features shape: ', train_features.shape)\n",
        "print('Testing features shape:  ', test_features.shape)"
      ],
      "execution_count": 0,
      "outputs": [
        {
          "output_type": "stream",
          "text": [
            "Training features shape:  (6622, 82)\n",
            "Testing features shape:   (2839, 82)\n"
          ],
          "name": "stdout"
        }
      ]
    },
    {
      "metadata": {
        "id": "Lrr9diIv1izQ",
        "colab_type": "code",
        "outputId": "eab72970-7599-48a1-eb50-d7838818225c",
        "colab": {
          "base_uri": "https://localhost:8080/",
          "height": 356
        }
      },
      "cell_type": "code",
      "source": [
        "train_features.head()"
      ],
      "execution_count": 0,
      "outputs": [
        {
          "output_type": "execute_result",
          "data": {
            "text/html": [
              "<div>\n",
              "<style scoped>\n",
              "    .dataframe tbody tr th:only-of-type {\n",
              "        vertical-align: middle;\n",
              "    }\n",
              "\n",
              "    .dataframe tbody tr th {\n",
              "        vertical-align: top;\n",
              "    }\n",
              "\n",
              "    .dataframe thead th {\n",
              "        text-align: right;\n",
              "    }\n",
              "</style>\n",
              "<table border=\"1\" class=\"dataframe\">\n",
              "  <thead>\n",
              "    <tr style=\"text-align: right;\">\n",
              "      <th></th>\n",
              "      <th>Order</th>\n",
              "      <th>Property Id</th>\n",
              "      <th>DOF Gross Floor Area</th>\n",
              "      <th>Largest Property Use Type - Gross Floor Area (ft²)</th>\n",
              "      <th>Year Built</th>\n",
              "      <th>Number of Buildings - Self-reported</th>\n",
              "      <th>Occupancy</th>\n",
              "      <th>Site EUI (kBtu/ft²)</th>\n",
              "      <th>Weather Normalized Site EUI (kBtu/ft²)</th>\n",
              "      <th>Weather Normalized Site Electricity Intensity (kWh/ft²)</th>\n",
              "      <th>...</th>\n",
              "      <th>Largest Property Use Type_Restaurant</th>\n",
              "      <th>Largest Property Use Type_Retail Store</th>\n",
              "      <th>Largest Property Use Type_Self-Storage Facility</th>\n",
              "      <th>Largest Property Use Type_Senior Care Community</th>\n",
              "      <th>Largest Property Use Type_Social/Meeting Hall</th>\n",
              "      <th>Largest Property Use Type_Strip Mall</th>\n",
              "      <th>Largest Property Use Type_Supermarket/Grocery Store</th>\n",
              "      <th>Largest Property Use Type_Urgent Care/Clinic/Other Outpatient</th>\n",
              "      <th>Largest Property Use Type_Wholesale Club/Supercenter</th>\n",
              "      <th>Largest Property Use Type_Worship Facility</th>\n",
              "    </tr>\n",
              "  </thead>\n",
              "  <tbody>\n",
              "    <tr>\n",
              "      <th>0</th>\n",
              "      <td>13276</td>\n",
              "      <td>5849784</td>\n",
              "      <td>90300.0</td>\n",
              "      <td>77300.0</td>\n",
              "      <td>1950</td>\n",
              "      <td>1</td>\n",
              "      <td>100</td>\n",
              "      <td>126.0</td>\n",
              "      <td>136.8</td>\n",
              "      <td>5.2</td>\n",
              "      <td>...</td>\n",
              "      <td>0</td>\n",
              "      <td>0</td>\n",
              "      <td>0</td>\n",
              "      <td>0</td>\n",
              "      <td>0</td>\n",
              "      <td>0</td>\n",
              "      <td>0</td>\n",
              "      <td>0</td>\n",
              "      <td>0</td>\n",
              "      <td>0</td>\n",
              "    </tr>\n",
              "    <tr>\n",
              "      <th>1</th>\n",
              "      <td>7377</td>\n",
              "      <td>4398442</td>\n",
              "      <td>52000.0</td>\n",
              "      <td>52000.0</td>\n",
              "      <td>1926</td>\n",
              "      <td>1</td>\n",
              "      <td>100</td>\n",
              "      <td>95.4</td>\n",
              "      <td>102.0</td>\n",
              "      <td>4.7</td>\n",
              "      <td>...</td>\n",
              "      <td>0</td>\n",
              "      <td>0</td>\n",
              "      <td>0</td>\n",
              "      <td>0</td>\n",
              "      <td>0</td>\n",
              "      <td>0</td>\n",
              "      <td>0</td>\n",
              "      <td>0</td>\n",
              "      <td>0</td>\n",
              "      <td>0</td>\n",
              "    </tr>\n",
              "    <tr>\n",
              "      <th>2</th>\n",
              "      <td>9479</td>\n",
              "      <td>4665374</td>\n",
              "      <td>104700.0</td>\n",
              "      <td>105000.0</td>\n",
              "      <td>1954</td>\n",
              "      <td>1</td>\n",
              "      <td>100</td>\n",
              "      <td>40.4</td>\n",
              "      <td>40.0</td>\n",
              "      <td>3.8</td>\n",
              "      <td>...</td>\n",
              "      <td>0</td>\n",
              "      <td>0</td>\n",
              "      <td>0</td>\n",
              "      <td>0</td>\n",
              "      <td>0</td>\n",
              "      <td>0</td>\n",
              "      <td>0</td>\n",
              "      <td>0</td>\n",
              "      <td>0</td>\n",
              "      <td>0</td>\n",
              "    </tr>\n",
              "    <tr>\n",
              "      <th>3</th>\n",
              "      <td>14774</td>\n",
              "      <td>3393340</td>\n",
              "      <td>129333.0</td>\n",
              "      <td>129333.0</td>\n",
              "      <td>1992</td>\n",
              "      <td>1</td>\n",
              "      <td>100</td>\n",
              "      <td>157.1</td>\n",
              "      <td>163.1</td>\n",
              "      <td>16.9</td>\n",
              "      <td>...</td>\n",
              "      <td>0</td>\n",
              "      <td>0</td>\n",
              "      <td>0</td>\n",
              "      <td>1</td>\n",
              "      <td>0</td>\n",
              "      <td>0</td>\n",
              "      <td>0</td>\n",
              "      <td>0</td>\n",
              "      <td>0</td>\n",
              "      <td>0</td>\n",
              "    </tr>\n",
              "    <tr>\n",
              "      <th>4</th>\n",
              "      <td>3286</td>\n",
              "      <td>2704325</td>\n",
              "      <td>109896.0</td>\n",
              "      <td>116041.0</td>\n",
              "      <td>1927</td>\n",
              "      <td>1</td>\n",
              "      <td>100</td>\n",
              "      <td>62.3</td>\n",
              "      <td>68.2</td>\n",
              "      <td>3.5</td>\n",
              "      <td>...</td>\n",
              "      <td>0</td>\n",
              "      <td>0</td>\n",
              "      <td>0</td>\n",
              "      <td>0</td>\n",
              "      <td>0</td>\n",
              "      <td>0</td>\n",
              "      <td>0</td>\n",
              "      <td>0</td>\n",
              "      <td>0</td>\n",
              "      <td>0</td>\n",
              "    </tr>\n",
              "  </tbody>\n",
              "</table>\n",
              "<p>5 rows × 82 columns</p>\n",
              "</div>"
            ],
            "text/plain": [
              "   Order  Property Id  DOF Gross Floor Area  \\\n",
              "0  13276      5849784               90300.0   \n",
              "1   7377      4398442               52000.0   \n",
              "2   9479      4665374              104700.0   \n",
              "3  14774      3393340              129333.0   \n",
              "4   3286      2704325              109896.0   \n",
              "\n",
              "   Largest Property Use Type - Gross Floor Area (ft²)  Year Built  \\\n",
              "0                                            77300.0         1950   \n",
              "1                                            52000.0         1926   \n",
              "2                                           105000.0         1954   \n",
              "3                                           129333.0         1992   \n",
              "4                                           116041.0         1927   \n",
              "\n",
              "   Number of Buildings - Self-reported  Occupancy  Site EUI (kBtu/ft²)  \\\n",
              "0                                    1        100                126.0   \n",
              "1                                    1        100                 95.4   \n",
              "2                                    1        100                 40.4   \n",
              "3                                    1        100                157.1   \n",
              "4                                    1        100                 62.3   \n",
              "\n",
              "   Weather Normalized Site EUI (kBtu/ft²)  \\\n",
              "0                                   136.8   \n",
              "1                                   102.0   \n",
              "2                                    40.0   \n",
              "3                                   163.1   \n",
              "4                                    68.2   \n",
              "\n",
              "   Weather Normalized Site Electricity Intensity (kWh/ft²)  \\\n",
              "0                                                5.2         \n",
              "1                                                4.7         \n",
              "2                                                3.8         \n",
              "3                                               16.9         \n",
              "4                                                3.5         \n",
              "\n",
              "                      ...                      \\\n",
              "0                     ...                       \n",
              "1                     ...                       \n",
              "2                     ...                       \n",
              "3                     ...                       \n",
              "4                     ...                       \n",
              "\n",
              "   Largest Property Use Type_Restaurant  \\\n",
              "0                                     0   \n",
              "1                                     0   \n",
              "2                                     0   \n",
              "3                                     0   \n",
              "4                                     0   \n",
              "\n",
              "   Largest Property Use Type_Retail Store  \\\n",
              "0                                       0   \n",
              "1                                       0   \n",
              "2                                       0   \n",
              "3                                       0   \n",
              "4                                       0   \n",
              "\n",
              "   Largest Property Use Type_Self-Storage Facility  \\\n",
              "0                                                0   \n",
              "1                                                0   \n",
              "2                                                0   \n",
              "3                                                0   \n",
              "4                                                0   \n",
              "\n",
              "   Largest Property Use Type_Senior Care Community  \\\n",
              "0                                                0   \n",
              "1                                                0   \n",
              "2                                                0   \n",
              "3                                                1   \n",
              "4                                                0   \n",
              "\n",
              "   Largest Property Use Type_Social/Meeting Hall  \\\n",
              "0                                              0   \n",
              "1                                              0   \n",
              "2                                              0   \n",
              "3                                              0   \n",
              "4                                              0   \n",
              "\n",
              "   Largest Property Use Type_Strip Mall  \\\n",
              "0                                     0   \n",
              "1                                     0   \n",
              "2                                     0   \n",
              "3                                     0   \n",
              "4                                     0   \n",
              "\n",
              "   Largest Property Use Type_Supermarket/Grocery Store  \\\n",
              "0                                                  0     \n",
              "1                                                  0     \n",
              "2                                                  0     \n",
              "3                                                  0     \n",
              "4                                                  0     \n",
              "\n",
              "   Largest Property Use Type_Urgent Care/Clinic/Other Outpatient  \\\n",
              "0                                                  0               \n",
              "1                                                  0               \n",
              "2                                                  0               \n",
              "3                                                  0               \n",
              "4                                                  0               \n",
              "\n",
              "   Largest Property Use Type_Wholesale Club/Supercenter  \\\n",
              "0                                                  0      \n",
              "1                                                  0      \n",
              "2                                                  0      \n",
              "3                                                  0      \n",
              "4                                                  0      \n",
              "\n",
              "   Largest Property Use Type_Worship Facility  \n",
              "0                                           0  \n",
              "1                                           0  \n",
              "2                                           0  \n",
              "3                                           0  \n",
              "4                                           0  \n",
              "\n",
              "[5 rows x 82 columns]"
            ]
          },
          "metadata": {
            "tags": []
          },
          "execution_count": 4
        }
      ]
    },
    {
      "metadata": {
        "id": "Lhbd6f_bKKgb",
        "colab_type": "text"
      },
      "cell_type": "markdown",
      "source": [
        "In the code below, we convert to `numpy` arrays. This is not strictly necessary, but the labels should be converted to a one-dimensional vector (using `reshape` in the code below) or Scikit-Learn will show a warning message. "
      ]
    },
    {
      "metadata": {
        "id": "Txom0ypdPE4f",
        "colab_type": "code",
        "colab": {}
      },
      "cell_type": "code",
      "source": [
        "# Convert to numpy arrays\n",
        "training_features = np.array(train_features)\n",
        "testing_features = np.array(test_features)\n",
        "\n",
        "# Sklearn wants the labels as one-dimensional vectors\n",
        "training_targets = np.array(train_labels).reshape((-1,))\n",
        "testing_targets = np.array(test_labels).reshape((-1,))"
      ],
      "execution_count": 0,
      "outputs": []
    },
    {
      "metadata": {
        "id": "OLUqRxbnLp6h",
        "colab_type": "text"
      },
      "cell_type": "markdown",
      "source": [
        "After the minimal data preparation, we can create the TPOT optimizer. The syntax for [TPOT optimizers](https://epistasislab.github.io/tpot/using/#tpot-with-code) is designed to be as close to that for Scikit-Learn models as possible. \n",
        "\n",
        "The [default parameters for TPOT optimizers](https://epistasislab.github.io/tpot/api/) will test 100 populations of pipelines, each with 100 generations for a total of 10,000 pipelines. Using 10-fold cross validation, this represents 100,000 training runs. Even using Google Colab, this takes quite a while! To avoid running out of time on the Colab server (we get 12 hours of continuous run-time) we will set a maximum of 8 hours (480 minutes) for evaluation.  [TPOT is designed to be run for days](https://epistasislab.github.io/tpot/using/) to thoroughly evaluate many pipelines, but the results can be quite good even from a few hours of training. \n",
        "\n",
        "We set the following parameters in the call to the optimizer (feel free to change these and see how they affect the results):\n",
        "\n",
        "* `scoring = neg_mean_absolute_error`: Our selected regression performance metric\n",
        "* `max_time_mins = 480`: Limit evaluation to 8 hours\n",
        "* `n_jobs = -1`: Use all available cores on the machine\n",
        "* `verbosity = 2`: Show a limited amount of information while training\n",
        "* `cv = 5`: Use 5-fold cross validation (default is 10)\n",
        "\n",
        "After we create the optimizer, we `fit` it to the training data as with any Scikit-Learn machine learning model. This starts the optimization process which will continue for 8 hours. During training, we can see a limited amount of information (change the `verbosity` to see more or less)."
      ]
    },
    {
      "metadata": {
        "id": "g268joSvPGMl",
        "colab_type": "code",
        "colab": {}
      },
      "cell_type": "code",
      "source": [
        "# Create a tpot object with a few parameters\n",
        "tpot = TPOTRegressor(scoring = 'neg_mean_absolute_error', \n",
        "                    max_time_mins = 480, \n",
        "                    n_jobs = -1,\n",
        "                    verbosity = 2,\n",
        "                    cv = 5)"
      ],
      "execution_count": 0,
      "outputs": []
    },
    {
      "metadata": {
        "id": "17SbSKs-Qg2-",
        "colab_type": "code",
        "outputId": "82284432-2d32-44b9-dc72-599d8ab1a203",
        "colab": {
          "base_uri": "https://localhost:8080/",
          "height": 112
        }
      },
      "cell_type": "code",
      "source": [
        "# Fit the tpot model on the training data\n",
        "tpot.fit(training_features, training_targets)"
      ],
      "execution_count": 0,
      "outputs": [
        {
          "output_type": "stream",
          "text": [
            "Imputing missing values in feature set\n"
          ],
          "name": "stdout"
        },
        {
          "output_type": "stream",
          "text": [
            "/usr/local/lib/python3.6/dist-packages/sklearn/utils/deprecation.py:58: DeprecationWarning: Class Imputer is deprecated; Imputer was deprecated in version 0.20 and will be removed in 0.22. Import impute.SimpleImputer from sklearn instead.\n",
            "  warnings.warn(msg, category=DeprecationWarning)\n"
          ],
          "name": "stderr"
        },
        {
          "output_type": "display_data",
          "data": {
            "application/vnd.jupyter.widget-view+json": {
              "model_id": "c74dab0135534529a15c306e6cc5c2f8",
              "version_minor": 0,
              "version_major": 2
            },
            "text/plain": [
              "HBox(children=(IntProgress(value=0, description='Optimization Progress', style=ProgressStyle(description_width…"
            ]
          },
          "metadata": {
            "tags": []
          }
        },
        {
          "output_type": "stream",
          "text": [
            "\rGeneration 1 - Current best internal CV score: -8.850387930887832\n"
          ],
          "name": "stdout"
        }
      ]
    },
    {
      "metadata": {
        "id": "I_Er00uxNa_n",
        "colab_type": "text"
      },
      "cell_type": "markdown",
      "source": [
        "Due to the time limit, we can see our model only was able to get through 15 generations. With 100 populations, this represents 1500 different individual pipelines that were evaluated, quit a few more than we would be able to try by hand! \n",
        "\n",
        "Once the model has finished training, we can see the optimal pipeline by printing the `fitted_pipeline`. This represents the complete pipeline with the best performance metric (in this case the highest `neg_mean_absolute_error`) from cross validation."
      ]
    },
    {
      "metadata": {
        "id": "1P1r23sqQkbW",
        "colab_type": "code",
        "colab": {}
      },
      "cell_type": "code",
      "source": [
        "# Show the final model\n",
        "print(tpot.fitted_pipeline_)"
      ],
      "execution_count": 0,
      "outputs": []
    },
    {
      "metadata": {
        "id": "2jwXtE8s4l6w",
        "colab_type": "text"
      },
      "cell_type": "markdown",
      "source": [
        "The TPOT optimization process is stochastic, meaning that [each run will produce different results](https://epistasislab.github.io/tpot/using/). If you run this notebook again, don't worry if you see a different final pipeline!  "
      ]
    },
    {
      "metadata": {
        "id": "qkSD9-wGNt4R",
        "colab_type": "text"
      },
      "cell_type": "markdown",
      "source": [
        "To save the pipeline for future use, we can export it to a Python script. "
      ]
    },
    {
      "metadata": {
        "id": "2c9_uFYYGwB8",
        "colab_type": "code",
        "colab": {}
      },
      "cell_type": "code",
      "source": [
        "# Export the pipeline as a python script file\n",
        "tpot.export('tpot_exported_pipeline.py')"
      ],
      "execution_count": 0,
      "outputs": []
    },
    {
      "metadata": {
        "id": "vdeqtsImN1WT",
        "colab_type": "text"
      },
      "cell_type": "markdown",
      "source": [
        "Since we are in a Google Colab notebook, this will save it on the server where our notebook is running and the file  will only persist while we are connected. To download the pipeline onto a local machine from Google's servers, we have to use the file helper functions (from `gooogle.colab`) to download it. \n",
        "\n",
        "The file can be [accessed on GitHub](https://github.com/WillKoehrsen/machine-learning-project-walkthrough/blob/master/auto_ml/tpot_exported_pipeline.py)."
      ]
    },
    {
      "metadata": {
        "id": "1V8P4r4-HgtR",
        "colab_type": "code",
        "colab": {}
      },
      "cell_type": "code",
      "source": [
        "# Import file management\n",
        "from google.colab import file\n",
        "\n",
        "# Download the pipeline for local use\n",
        "files.download('tpot_exported_pipeline.py')"
      ],
      "execution_count": 0,
      "outputs": []
    },
    {
      "metadata": {
        "id": "E-y6Qfl58_A_",
        "colab_type": "text"
      },
      "cell_type": "markdown",
      "source": [
        "If we want to look at all of the evaluated pipelines, we can see the `.evaluated_individuals_` attribute of the fitted optimizer. Be careful about running this as it will print out all 1500 pipelines that were tested!"
      ]
    },
    {
      "metadata": {
        "id": "2fkGLxUT9KjK",
        "colab_type": "code",
        "colab": {}
      },
      "cell_type": "code",
      "source": [
        "# To examine all fitted models\n",
        "# tpot.evaluated_individuals_"
      ],
      "execution_count": 0,
      "outputs": []
    },
    {
      "metadata": {
        "id": "OQPhr6O5N_7h",
        "colab_type": "text"
      },
      "cell_type": "markdown",
      "source": [
        "Finally, let's test the entire fitted pipeline on the test dataset. After evaluating all the pipelines, TPOT saves the best one and trains it on all the training data, so we can evaluate the best one using the optimizer `.score` method. This will display the negative mean squared error, our regression metric."
      ]
    },
    {
      "metadata": {
        "id": "QAkaMFukQswd",
        "colab_type": "code",
        "colab": {}
      },
      "cell_type": "code",
      "source": [
        "# Evaluate the final model\n",
        "print(tpot.score(testing_features, testing_targets))"
      ],
      "execution_count": 0,
      "outputs": []
    },
    {
      "metadata": {
        "id": "d0O7CqrTjf8V",
        "colab_type": "text"
      },
      "cell_type": "markdown",
      "source": [
        "In the series of articles where we solved this problem by hand, we built a `GradientBoostedRegressor` model that achieved 9.1 mean absolute error on the test set. Automated machine learning has significantly improved on that score with a drastic reduction in the amount of development time. This \"data science assistant\" feels like the future of data science! \n",
        "\n",
        "Here is the actual implementation of the final pipeline which I copy and pasted from the downloaded Python file. We can train and test it just to make sure that this score is correct! "
      ]
    },
    {
      "metadata": {
        "id": "XVM3v_s66A1b",
        "colab_type": "code",
        "colab": {}
      },
      "cell_type": "code",
      "source": [
        "# Imports that the final pipeline needs\n",
        "from sklearn.ensemble import GradientBoostingRegressor\n",
        "from sklearn.linear_model import LassoLarsCV\n",
        "from sklearn.model_selection import train_test_split\n",
        "from sklearn.pipeline import make_pipeline, make_union\n",
        "from sklearn.preprocessing import Imputer\n",
        "from tpot.builtins import StackingEstimator\n",
        "\n",
        "# Preprocessing steps\n",
        "imputer = Imputer(strategy=\"median\")\n",
        "imputer.fit(training_features)\n",
        "training_features = imputer.transform(training_features)\n",
        "testing_features = imputer.transform(testing_features)\n",
        "\n",
        "# Final pipeline from TPOT\n",
        "exported_pipeline = make_pipeline(\n",
        "    StackingEstimator(estimator=LassoLarsCV(normalize=True)),\n",
        "    GradientBoostingRegressor(alpha=0.95, learning_rate=0.1, loss=\"lad\", \n",
        "                              max_depth=7, max_features=0.75, \n",
        "                              min_samples_leaf=3, min_samples_split=18, \n",
        "                              n_estimators=100, subsample=0.60)\n",
        ")"
      ],
      "execution_count": 0,
      "outputs": []
    },
    {
      "metadata": {
        "id": "zR_UtoCY7LWr",
        "colab_type": "code",
        "colab": {}
      },
      "cell_type": "code",
      "source": [
        "# Fit on the training data\n",
        "exported_pipeline.fit(training_features, training_targets)"
      ],
      "execution_count": 0,
      "outputs": []
    },
    {
      "metadata": {
        "id": "Mfge49CA72wc",
        "colab_type": "text"
      },
      "cell_type": "markdown",
      "source": [
        "After creating the optimized pipeline and training it, we can evaluate it on the testing set. As the models were not created with a `random_state`, we expect slightly different performance than the original results, but it should be fairly close."
      ]
    },
    {
      "metadata": {
        "id": "WaA26pr87M_A",
        "colab_type": "code",
        "colab": {}
      },
      "cell_type": "code",
      "source": [
        "# Make predictions on the testing data\n",
        "predictions = exported_pipeline.predict(testing_features)\n",
        "\n",
        "print('Mean Absolute Error = %0.4f' % np.mean(abs(predictions - testing_targets)))"
      ],
      "execution_count": 0,
      "outputs": []
    },
    {
      "metadata": {
        "id": "Mlab54GV8JTa",
        "colab_type": "text"
      },
      "cell_type": "markdown",
      "source": [
        "Sure enough, the mean absolute error is close to that from the optimizer `.score` method and considerably better than our manual pipeline building efforts. \n",
        "\n",
        "From here, we can use the optimization results and try to further fine-tune the pipeline, or we can move on to important phases of the data science workflow. If we use this as the final model, we could spend time trying to intrepret the model (perhaps using [LIME: Local Interpretable Model-Agnostic Explainations](https://www.oreilly.com/learning/introduction-to-local-interpretable-model-agnostic-explanations-lime)) or reporting our results. "
      ]
    },
    {
      "metadata": {
        "id": "tsJ3rNXl9QLg",
        "colab_type": "text"
      },
      "cell_type": "markdown",
      "source": [
        "# Conclusions\n",
        "\n",
        "We saw how to use TPOT, an auto-ml Python library for automatically designing a machine learning pipeline. This tool will evaluate thousands of feature construction, feature selection, model selection, and hyperparameter tuning configurations in order to simplify the job of the data scientist. As machine learning is just one part of the data science workflow, auto-ml will not replace the data scientist, but allow her to spend time on more important aspects of the process. Automated machine learning is still in its early stages, but it appears to be a promising method for optimizing the often tedious and frustrating task of finding the best machine learning pipeline. \n",
        "\n",
        "While being an early adopter does not always pay off, in this case, TPOT is mature enough to have a simple-to-use interface, but also new enough that you will be ahead of the curve if you are familiar with its use. With that in mind, find a problem and get out there are try to solve it! If you are looking for a place to start, [Kaggle](https://www.kaggle.com/) (The Self-Proclaimed Home of Data Science) has many datasets and problems that are well-suited for application of auto-ml. "
      ]
    },
    {
      "metadata": {
        "id": "hvGlKNHMXZOv",
        "colab_type": "code",
        "colab": {}
      },
      "cell_type": "code",
      "source": [
        ""
      ],
      "execution_count": 0,
      "outputs": []
    }
  ]
}