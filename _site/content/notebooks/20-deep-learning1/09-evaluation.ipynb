{
  "nbformat": 4,
  "nbformat_minor": 0,
  "metadata": {
    "colab": {
      "name": "evaluation.ipynb",
      "provenance": [],
      "collapsed_sections": []
    },
    "kernelspec": {
      "name": "python3",
      "display_name": "Python 3"
    }
  },
  "cells": [
    {
      "cell_type": "markdown",
      "metadata": {
        "id": "6D6hhu22R6bj",
        "colab_type": "text"
      },
      "source": [
        "## Evaluation of Classifiers\n",
        "Let's assume we have 2 different images, and the output for the second to last layer is the following.  The job of the final layer is to \"squish\" whatever comes out of the neural network. We are going to look at the differences between a sigmoid and a softmax.\n",
        "\n",
        "\n",
        "```\n",
        "          img1    img2\n",
        "cat\t      0.02    -1.42\n",
        "dog\t     -2.49    -3.93\n",
        "plane\t   -1.75    -3.19\n",
        "fish\t    2.07     0.63\n",
        "building\t1.25    -0.19\n",
        "```"
      ]
    },
    {
      "cell_type": "code",
      "metadata": {
        "id": "JvyFGldfaFak",
        "colab_type": "code",
        "colab": {}
      },
      "source": [
        "#Let's import some values\n",
        "import torch\n",
        "import torch.nn.functional as F\n",
        "import torch.nn as nn"
      ],
      "execution_count": 0,
      "outputs": []
    },
    {
      "cell_type": "code",
      "metadata": {
        "id": "UV32uQ7X_g0F",
        "colab_type": "code",
        "colab": {
          "base_uri": "https://localhost:8080/",
          "height": 72
        },
        "outputId": "e5235371-069f-4864-f652-439a0e8cf13b"
      },
      "source": [
        "#Let's put the data into a tensor\n",
        "predictions = torch.tensor([[0.02, -2.49, -1.75, 2.07, 1.25],\n",
        "                           [-1.42, -3.93, -3.19, 0.63, -0.19]])\n",
        "predictions"
      ],
      "execution_count": 2,
      "outputs": [
        {
          "output_type": "execute_result",
          "data": {
            "text/plain": [
              "tensor([[ 0.0200, -2.4900, -1.7500,  2.0700,  1.2500],\n",
              "        [-1.4200, -3.9300, -3.1900,  0.6300, -0.1900]])"
            ]
          },
          "metadata": {
            "tags": []
          },
          "execution_count": 2
        }
      ]
    },
    {
      "cell_type": "markdown",
      "metadata": {
        "id": "Spdo2oXw2k6H",
        "colab_type": "text"
      },
      "source": [
        "## Softmax\n",
        "A softmax assumes that here that classes are exclusive and probabilities add to 1. \n",
        "\n",
        "$softmax(x)_i = \\frac{exp(x_i)}{\\sum_{j}^{ }exp(x_j))}$\n",
        "\n",
        "*Check out the excel notebook and you should see that you get the same values. Note that even though the inputs for the softmax are different, they yield the same probability estimates for each class.*"
      ]
    },
    {
      "cell_type": "code",
      "metadata": {
        "id": "TPNMRPO5SUa1",
        "colab_type": "code",
        "colab": {
          "base_uri": "https://localhost:8080/",
          "height": 72
        },
        "outputId": "d56bf324-5d06-4dc0-9b95-9f5cc0404ce7"
      },
      "source": [
        "\n",
        "#Here we have to create the softmax layer and then pass the layers to it. \n",
        "my_softmax_layer = nn.Softmax(dim=1) #here we have to create the softmax layer and then \n",
        "softmax=my_softmax_layer(predictions)\n",
        "softmax\n"
      ],
      "execution_count": 3,
      "outputs": [
        {
          "output_type": "execute_result",
          "data": {
            "text/plain": [
              "tensor([[0.0804, 0.0065, 0.0137, 0.6244, 0.2750],\n",
              "        [0.0804, 0.0065, 0.0137, 0.6244, 0.2750]])"
            ]
          },
          "metadata": {
            "tags": []
          },
          "execution_count": 3
        }
      ]
    },
    {
      "cell_type": "markdown",
      "metadata": {
        "id": "RFYW56f8Sdj9",
        "colab_type": "text"
      },
      "source": [
        "## Sigmoid \n",
        "This is used for binary classification as a final layer.  For each of the potential classes, the prediction is weighted to a 0/1 without considering the other classes.  This would be appropriate for the case where there could be multiple classes (for example a cat and a dog) in the image.\n",
        "\n",
        "$S(x)={\\frac {1}{1+e^{-x}}}={\\frac {e^{x}}{e^{x}+1}}$\n",
        "\n",
        "*Check out the excel spreadsheet.*\n"
      ]
    },
    {
      "cell_type": "code",
      "metadata": {
        "id": "w2Y7HCl-SYzs",
        "colab_type": "code",
        "colab": {
          "base_uri": "https://localhost:8080/",
          "height": 72
        },
        "outputId": "99fe6ad8-8d73-400c-8d6a-e0094d02fde2"
      },
      "source": [
        "sigmoid=torch.sigmoid(predictions)\n",
        "sigmoid"
      ],
      "execution_count": 4,
      "outputs": [
        {
          "output_type": "execute_result",
          "data": {
            "text/plain": [
              "tensor([[0.5050, 0.0766, 0.1480, 0.8880, 0.7773],\n",
              "        [0.1947, 0.0193, 0.0395, 0.6525, 0.4526]])"
            ]
          },
          "metadata": {
            "tags": []
          },
          "execution_count": 4
        }
      ]
    },
    {
      "cell_type": "markdown",
      "metadata": {
        "id": "s9_Ex3ZtYlGD",
        "colab_type": "text"
      },
      "source": [
        "## Evaluating the Results\n",
        "Note that for the 2 examples, the resulting probabilities were the same.  \n",
        "\n",
        "However, note that the negative values for the final layer predictions suggest that maybe there are multiple items in image one and maybe just a fish in image 2.\n",
        "\n",
        "*MEAN SQUARED ERROR (MSE)*\n",
        "\n",
        "${MSE} ={\\frac {1}{n}}\\sum _{i=1}^{n}(Y_{i}-{\\hat {Y_{i}}})^{2}$"
      ]
    },
    {
      "cell_type": "code",
      "metadata": {
        "colab_type": "code",
        "outputId": "f45a43d3-2e32-418e-d800-f37d5adb3e6e",
        "id": "PttmBqk1Or6Z",
        "colab": {
          "base_uri": "https://localhost:8080/",
          "height": 55
        }
      },
      "source": [
        "predictions = torch.tensor([[0.02, -2.49, -1.75, 2.07, 1.25],\n",
        "                           [-1.42, -3.93, -3.19, 0.63, -0.19]], requires_grad=True)\n",
        "truth = torch.tensor([[0.0, 0.0, 0.0, 0.0, 1.0],\n",
        "                      [0.0, 0.0, 0.0, 1.0, 0.0]], requires_grad=False)\n",
        "\n",
        "mse_loss=F.mse_loss(torch.sigmoid(predictions), truth )\n",
        "print( \"mse\", mse_loss)\n"
      ],
      "execution_count": 52,
      "outputs": [
        {
          "output_type": "stream",
          "text": [
            "mse tensor(0.1486, grad_fn=<MseLossBackward>)\n"
          ],
          "name": "stdout"
        }
      ]
    },
    {
      "cell_type": "markdown",
      "metadata": {
        "id": "Sn0Ve1dR5AHq",
        "colab_type": "text"
      },
      "source": [
        "## Exercise\n",
        "\n",
        "  \n",
        "1. Evaluate the loss function (MSE) for the softmax output.\n",
        "\n",
        "2. Change the truth as well as the predictions above and notice the impact on the loss."
      ]
    },
    {
      "cell_type": "markdown",
      "metadata": {
        "id": "JeIizUdHVIj_",
        "colab_type": "text"
      },
      "source": [
        "This exercise was adopted from the Fast.ai example. "
      ]
    }
  ]
}