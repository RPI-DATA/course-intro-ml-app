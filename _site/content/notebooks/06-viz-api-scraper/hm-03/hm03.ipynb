{
 "cells": [
  {
   "cell_type": "markdown",
   "metadata": {
    "colab_type": "text",
    "id": "hc6fjth1-lpQ"
   },
   "source": [
    "## Introduction to Python Exercises\n",
    "\n",
    "Before you turn this problem in, make sure everything runs as expected. First, restart the kernel (in the menubar, select Kernel → Restart) and then run all cells (in the menubar, select Cell → Run All).  You can speak with others regarding the assignment but all work must be your own. \n",
    "\n",
    "\n",
    "### This is a 30 point assignment graded from answers to questions and automated tests that should be run at the bottom. Be sure to clearly label all of your answers and commit final tests at the end. If you attempt to fake passing the tests you will receive a 0 on the assignment and it will be considered an ethical violation. (Note, not all questions have tests).\n"
   ]
  },
  {
   "cell_type": "code",
   "execution_count": null,
   "metadata": {
    "colab": {},
    "colab_type": "code",
    "id": "fENowDq5_K-m"
   },
   "outputs": [],
   "source": [
    "!wget https://raw.githubusercontent.com/rpi-techfundamentals/spring2019-materials/master/input/train.csv\n",
    "!wget https://raw.githubusercontent.com/rpi-techfundamentals/spring2019-materials/master/input/test.csv"
   ]
  },
  {
   "cell_type": "code",
   "execution_count": null,
   "metadata": {
    "colab": {},
    "colab_type": "code",
    "id": "iOueORxF-lpX"
   },
   "outputs": [],
   "source": [
    "NAME = \"Jason Kuruzovich\"\n",
    "COLLABORATORS = \"Alyssa Hacker\"  #You can speak with others regarding the assignment, but all typed work must be your own."
   ]
  },
  {
   "cell_type": "markdown",
   "metadata": {
    "colab_type": "text",
    "id": "PXedH3AJ-lpq"
   },
   "source": [
    " \n",
    "**If you attempt to fake passing the tests you will receive a 0 on the assignment and it will be considered an ethical violation.**"
   ]
  },
  {
   "cell_type": "markdown",
   "metadata": {
    "colab_type": "text",
    "id": "dSu8HEAs-lps"
   },
   "source": [
    "## Exercises - For and If.\n",
    "\n",
    "(1). Write a for loop which create a list called `fivetoten` of all numbers from 5 to 10 (inclusive).\n"
   ]
  },
  {
   "cell_type": "code",
   "execution_count": null,
   "metadata": {
    "colab": {},
    "colab_type": "code",
    "id": "XuI00KhV-lp4"
   },
   "outputs": [],
   "source": [
    "#Answer question 1 here.\n"
   ]
  },
  {
   "cell_type": "markdown",
   "metadata": {
    "colab_type": "text",
    "id": "nogvFTbz-lqA"
   },
   "source": [
    "(2). Write a program which uses a for loop and if statements to create a list called `divby7` of all numbers from 1-50 that are divisible by 7.\n",
    "Hint: 14 is divisible by 7 if 14%7==0."
   ]
  },
  {
   "cell_type": "code",
   "execution_count": null,
   "metadata": {
    "colab": {},
    "colab_type": "code",
    "id": "I3VBdcAf-lqC"
   },
   "outputs": [],
   "source": [
    "#Answer question 2 here."
   ]
  },
  {
   "cell_type": "markdown",
   "metadata": {
    "colab_type": "text",
    "id": "lqulfo1l-lqJ"
   },
   "source": [
    "(3). Write a program which uses a for loop and if statements create a list `divby7not5` of all numbers which are divisible by 7 but are not a multiple of 5, between 10000 and 10100 (both included). \n"
   ]
  },
  {
   "cell_type": "code",
   "execution_count": null,
   "metadata": {
    "colab": {},
    "colab_type": "code",
    "id": "_rSXzGUV-lqO"
   },
   "outputs": [],
   "source": [
    "#Answer question 3 here."
   ]
  },
  {
   "cell_type": "markdown",
   "metadata": {
    "colab_type": "text",
    "id": "HRN3txjW-lqU"
   },
   "source": [
    "## Exercises - Functions\n",
    "\n",
    "(4). Create a function `divby2` that accepts a list and returns all values from that list that are divisible by 2.  For example, passing the list  `numbers = [3, 12, 91, 33, 21, 34, 54, 34, 34, 54]` should return a list. Generate a new list `divby2` that includes only numbers that are divisible by 2. "
   ]
  },
  {
   "cell_type": "code",
   "execution_count": null,
   "metadata": {
    "colab": {},
    "colab_type": "code",
    "id": "gZeDI2wH-lqV"
   },
   "outputs": [],
   "source": [
    "#Define your function for question (4) here. "
   ]
  },
  {
   "cell_type": "code",
   "execution_count": null,
   "metadata": {
    "colab": {},
    "colab_type": "code",
    "id": "rt5lc55H-lqZ"
   },
   "outputs": [],
   "source": [
    "#Execute this code to assign divby2 to the correct values. \n",
    "numbers = [3, 12, 91, 33, 21, 34, 54, 34, 34, 54]\n",
    "divby2=divby2(numbers)\n",
    "print(divby2)\n",
    "\n"
   ]
  },
  {
   "cell_type": "markdown",
   "metadata": {
    "colab_type": "text",
    "id": "kXoMlPTB-lqd"
   },
   "source": [
    "(5) Create an external module for your `divby2` function called `myutilities.py`.  Import myutilities as mu, such that that following runs.\n",
    "\n"
   ]
  },
  {
   "cell_type": "code",
   "execution_count": null,
   "metadata": {
    "colab": {},
    "colab_type": "code",
    "id": "YN7sxt0Z-lqe"
   },
   "outputs": [],
   "source": [
    "#After importing this should work. \n",
    "#Add code to re-import the module using the example in class\n",
    "import myutilities as mu\n",
    "divby2mod=mu.divby2(numbers)"
   ]
  },
  {
   "cell_type": "markdown",
   "metadata": {
    "colab_type": "text",
    "id": "TNI-F4CO-lqh"
   },
   "source": [
    "## Exercises-Titanic\n",
    "\n",
    "The following exercises will use the titanic data from Kaggle.  I've included it in the input folder just like Kaggle. "
   ]
  },
  {
   "cell_type": "code",
   "execution_count": null,
   "metadata": {
    "colab": {},
    "colab_type": "code",
    "id": "Z1dsydH4-lqm"
   },
   "outputs": [],
   "source": [
    "import numpy as np \n",
    "import pandas as pd \n",
    "\n",
    "# Input data files are available in the \"../input/\" directory.\n",
    "# Let's input them into a Pandas DataFrame\n",
    "train = pd.read_csv(\"train.csv\")\n",
    "test  = pd.read_csv(\"test.csv\")"
   ]
  },
  {
   "cell_type": "markdown",
   "metadata": {
    "colab_type": "text",
    "id": "8DEb-9OX-lqq"
   },
   "source": [
    "\n",
    "\n",
    "(6). While we can submit our answer to Kaggle to see how it will perform, we can also utilize our test data to assess accuracy. Accuracy is the percentage of predictions made correctly-i.e., the percentage of people in which our prediction regarding their survival. <br>Create columns in the training dataset `PredEveryoneDies` and `PredGender` with the same predictions which were included in the example notebook (06-intro-kaggle-baseline in the materials repository).   \n",
    "  \n",
    "\n"
   ]
  },
  {
   "cell_type": "code",
   "execution_count": null,
   "metadata": {
    "colab": {},
    "colab_type": "code",
    "id": "ESoEk1p8-lqr"
   },
   "outputs": [],
   "source": [
    "#Answer"
   ]
  },
  {
   "cell_type": "markdown",
   "metadata": {
    "colab_type": "text",
    "id": "Rw4zW0B7-lqv"
   },
   "source": [
    "### YOU CAN DO THIS!\n",
    "- For the next question we have to combine a few bits of data. For the first time we will be connecting multiple operations.   \n",
    "- First, you should find out the mathematical definition for accuracy. OK, here is a [link](https://en.wikipedia.org/wiki/Accuracy_and_precision#In_binary_classification). \n",
    "- Next, consider how you would program accuracy? \n",
    "- Next, try it with some sample data where you know the answer. I've created that below.\n",
    "- Next, hand calculate the accuracy for the sample data.\n",
    "- Next, programatically find the accuracy for the sample data.  How might you do this using the tools that you have?  (a) create a new column where for the Training set `Survived==PredEveryoneDies` it equals 1 if true and 0 if false. (b) Sum the number of 1s and (c)  divide by the total number of records in the training set.  \n",
    "- Finally, turn your calculations of accuracy into a function so you can reuse it in the next step. "
   ]
  },
  {
   "cell_type": "code",
   "execution_count": null,
   "metadata": {
    "colab": {},
    "colab_type": "code",
    "id": "h2VDd17Y-lqw"
   },
   "outputs": [],
   "source": [
    "import pandas as pd\n",
    "example_data = [{'predicted': 1, 'actual': 1},\n",
    "         {'predicted': 1,  'actual': 0},\n",
    "         {'predicted': 0,  'actual': 1},\n",
    "         {'predicted': 0,  'actual': 0}]\n",
    "#What should \n",
    "df = pd.DataFrame(example_data)\n",
    "df"
   ]
  },
  {
   "cell_type": "markdown",
   "metadata": {
    "colab_type": "text",
    "id": "MOtqlqoJ-lq0"
   },
   "source": [
    "(7) Use your function to create varaibles `AccEveryoneDies` and `AccGender`.  `AccEveryoneDies` should be the accuracy of the EveryoneDies model in the Train dataset. Similarly, `AccGender` is the a accuracy of the Gender (women survive) model in the Train dataset. \n",
    "\n",
    "\n"
   ]
  },
  {
   "cell_type": "code",
   "execution_count": null,
   "metadata": {
    "colab": {},
    "colab_type": "code",
    "id": "UrqAy5RB-lq2"
   },
   "outputs": [],
   "source": [
    "#Answer question 7 here."
   ]
  },
  {
   "cell_type": "markdown",
   "metadata": {
    "colab_type": "text",
    "id": "fKYI_-Id-lq6"
   },
   "source": [
    "(8). Create a `generate_submission` function that accepts a DataFrame, a target column, and a filename and writes out the submission file with just the `passengerID` and the `Survived` columns, where the survived column is equal to the target column. It should then return a DataFrame with the `passengerID` and the `Survived` columns.\n",
    "\n",
    "Executeing the following:\n",
    "`submitdie = generate_submission(train, 'PredEveryoneDies', 'submiteveryonedies.csv')`\n",
    "\n",
    "Should return a dataframe with just `passengerID` and the `Survived` column.  \n",
    "\n",
    "Create a prediction file for the \"PredEveryoneDies\" model using the test dataset and upload it to Kaggle.  Put that screenshot in this repository of what happens. Sometimes Kaggle won't give you a score if the exact same file has been submitted by someone else.  Don't worry about that. \n",
    "\n",
    "The syntax for including a markdown picture is shown below. \n",
    "\n",
    "```\n",
    "![](myscreenshot.png)\n",
    "```\n",
    "\n",
    "You will have to change the cell type to a markdown cell below.  You can see more [here](https://www.youtube.com/watch?v=xlD8FIM5biA).\n",
    "\n",
    "\n"
   ]
  },
  {
   "cell_type": "code",
   "execution_count": null,
   "metadata": {
    "colab": {},
    "colab_type": "code",
    "id": "hs-0a1E9-lq7"
   },
   "outputs": [],
   "source": [
    "def generate_submission...\n",
    "...\n",
    "\n",
    "submitdie = generate_submission(test, 'PredEveryoneDies', 'submiteveryonedies.csv')"
   ]
  },
  {
   "cell_type": "markdown",
   "metadata": {
    "colab_type": "text",
    "id": "iQWlxo-9-lq-"
   },
   "source": [
    "#Change this to a markdown cell and insert your picture of you\n",
    "#Kaggle upload here.  Use this code: \n",
    "\n",
    "\n",
    "`![](myscreenshot.png)`\n",
    "\n",
    "\n"
   ]
  },
  {
   "cell_type": "markdown",
   "metadata": {
    "colab_type": "text",
    "id": "cjwBHxwK-lrA"
   },
   "source": [
    "\n",
    "(9). In our initial calculation of the `PredGender` column, we made our prediction based on whether the individual was male or female.  In accordance to the [women and children first](https://en.wikipedia.org/wiki/Women_and_children_first) protocol, we hypothesize that our model could be improved by including whether the individual was a child in addition to gender. We also have a question, what age to use to determine \"child\"? (People weren't likely to check for IDs.)  We will check 2 ages...<13 and <18 (somewhat arbitrary but have to start somewhere) and see which yields a better accuracy. <br>\n",
    "\n",
    "*After* coding survival based on gender, update your recommendation to prediction in the training dataset survival based on *age.* In other words, your model should predict that a male child would survive. If you first code for age and then code by gender, the prediction will be off. <br> \n",
    "\n",
    "Specifically:\n",
    "\n",
    "`train['PredGenderAge13']` should be the prediction incorporating both Gender and whether Age < 13 (i.e., <13 survived while >=13 died)  <br>\n",
    "`train['PredGenderAge18']` should be the prediction incorporating both Gender and whether Age < 18 (i.e., <18 survived while >=18 died).\n"
   ]
  },
  {
   "cell_type": "code",
   "execution_count": null,
   "metadata": {
    "colab": {},
    "colab_type": "code",
    "id": "bqyTi7Yf-lrB"
   },
   "outputs": [],
   "source": [
    "#Complete requirements for #9 here."
   ]
  },
  {
   "cell_type": "markdown",
   "metadata": {
    "colab_type": "text",
    "id": "KuCdZbwE-lrD"
   },
   "source": [
    "(10). Calculate the accuracy for your new predictions.  Use `PredGenderAge13` in the training set to calculate `AccGenderAge13` (you can use your function again!) and `PredGenderAge18` to calcuate `AccGenderAge18`. "
   ]
  },
  {
   "cell_type": "code",
   "execution_count": null,
   "metadata": {
    "colab": {},
    "colab_type": "code",
    "id": "gT0qPJ5F-lrE"
   },
   "outputs": [],
   "source": [
    "#complete #10 here."
   ]
  },
  {
   "cell_type": "markdown",
   "metadata": {
    "colab_type": "text",
    "id": "WQpWqVPH-lrI"
   },
   "source": [
    "(11). You should find that the `AccGenderAge13` is better (has a higher accuracy) than `AccGenderAge18`. Create a new column `child` in the `test` and `train` DataFrames that is 1 if `Age < 13` and `0` otherwise. This is a feature. We will talk more about features next time."
   ]
  },
  {
   "cell_type": "code",
   "execution_count": null,
   "metadata": {
    "colab": {},
    "colab_type": "code",
    "id": "UzvKfRZK-lrJ"
   },
   "outputs": [],
   "source": [
    "#complete #11 here."
   ]
  },
  {
   "cell_type": "markdown",
   "metadata": {
    "colab_type": "text",
    "id": "EHFmnqtf-lrO"
   },
   "source": [
    "(12). Create a prediction file for the \"women and children first\" model in using the test dataset and upload it to Kaggle. Go through the process of uploading it to Kaggle. Put that screenshot in this repository of what happens. Sometimes Kaggle won't give you a score if the exact same file has been submitted by someone else.  Don't worry about that.  The syntax for including a markdown picture is shown below.  \n",
    "\n",
    "```\n",
    "![](myscreenshot.png)\n",
    "```\n",
    "\n",
    "You will have to change the cell type to a markdown cell below.  "
   ]
  },
  {
   "cell_type": "code",
   "execution_count": null,
   "metadata": {
    "colab": {},
    "colab_type": "code",
    "id": "ba5uzsex-lrQ"
   },
   "outputs": [],
   "source": [
    "#Change this to a markdown cell and insert your picture of you\n",
    "#Kaggle upload here."
   ]
  },
  {
   "cell_type": "markdown",
   "metadata": {
    "colab_type": "text",
    "id": "jzaJ8yem-lrW"
   },
   "source": [
    "### (13) How would you compare the final \"women and children\" first model with the initial baseline mode (\"everyone died)\" ?  \n",
    "Include change in accruacy and how you would interpret this intial analysis.  "
   ]
  },
  {
   "cell_type": "code",
   "execution_count": null,
   "metadata": {
    "colab": {},
    "colab_type": "code",
    "id": "CX8U1GHM-lra"
   },
   "outputs": [],
   "source": [
    "#complete #13 here."
   ]
  },
  {
   "cell_type": "markdown",
   "metadata": {
    "colab_type": "text",
    "id": "VDXU2h3q-lre"
   },
   "source": [
    "## Final Tests\n",
    "- These final tests will confirm you did exercises correctly. \n",
    "- First you need to install the ipython_unittest package \n",
    "- Then you load the extensions.\n",
    "- Then you run the tests.  \n",
    "- Try to work through the exercises, inspecting your own results.  Then confirm with the tests."
   ]
  },
  {
   "cell_type": "code",
   "execution_count": 1,
   "metadata": {
    "colab": {
     "base_uri": "https://localhost:8080/",
     "height": 146
    },
    "colab_type": "code",
    "executionInfo": {
     "elapsed": 8004,
     "status": "ok",
     "timestamp": 1548905870576,
     "user": {
      "displayName": "",
      "photoUrl": "",
      "userId": ""
     },
     "user_tz": 300
    },
    "id": "R_rMCAwI-lrg",
    "outputId": "bcc128ea-ff7a-4aaa-b702-9cc92b81428c"
   },
   "outputs": [
    {
     "name": "stdout",
     "output_type": "stream",
     "text": [
      "Collecting ipython_unittest\n",
      "  Downloading https://files.pythonhosted.org/packages/e3/e9/7a220f285177d3842bb19abd5e13a7604362ac77dba72de40bf0e8650067/ipython_unittest-0.3.1-py2.py3-none-any.whl\n",
      "Installing collected packages: ipython-unittest\n",
      "Successfully installed ipython-unittest-0.3.1\n"
     ]
    }
   ],
   "source": [
    "!pip install ipython_unittest "
   ]
  },
  {
   "cell_type": "code",
   "execution_count": null,
   "metadata": {
    "colab": {},
    "colab_type": "code",
    "id": "T7CJAmMI-lrj"
   },
   "outputs": [],
   "source": [
    "%load_ext ipython_unittest\n",
    "#This runs tests against your b array.  If you complete the assingment correctly, you will pass the tests."
   ]
  },
  {
   "cell_type": "markdown",
   "metadata": {
    "colab_type": "text",
    "id": "TUpZo9Da-lrn"
   },
   "source": [
    "### Run the cells below before submission. "
   ]
  },
  {
   "cell_type": "code",
   "execution_count": 3,
   "metadata": {
    "colab": {
     "base_uri": "https://localhost:8080/",
     "height": 1921
    },
    "colab_type": "code",
    "executionInfo": {
     "elapsed": 303,
     "status": "ok",
     "timestamp": 1548905876640,
     "user": {
      "displayName": "",
      "photoUrl": "",
      "userId": ""
     },
     "user_tz": 300
    },
    "id": "0TQPRONu-lrp",
    "outputId": "dcf41a3b-6481-4a1d-ccfc-36965752208c"
   },
   "outputs": [
    {
     "data": {
      "application/unittest.status+json": {
       "color": "yellow",
       "message": "",
       "previous": 0
      },
      "text/plain": []
     },
     "metadata": {
      "tags": []
     },
     "output_type": "display_data"
    },
    {
     "data": {
      "application/unittest.status+json": {
       "color": "salmon",
       "message": "EEEEEEEEEEEEEEE\n======================================================================\nERROR: test_forif (__main__.TestExercise3)\n----------------------------------------------------------------------\nTraceback (most recent call last):\n  File \"Cell Tests\", line 7, in test_forif\nNameError: name 'divby7not5' is not defined\n\n======================================================================\nERROR: test_forif1 (__main__.TestExercise3)\n----------------------------------------------------------------------\nTraceback (most recent call last):\n  File \"Cell Tests\", line 3, in test_forif1\nNameError: name 'fivetoten' is not defined\n\n======================================================================\nERROR: test_forif2 (__main__.TestExercise3)\n----------------------------------------------------------------------\nTraceback (most recent call last):\n  File \"Cell Tests\", line 5, in test_forif2\nNameError: name 'divby7' is not defined\n\n======================================================================\nERROR: test_functions (__main__.TestExercise3)\n----------------------------------------------------------------------\nTraceback (most recent call last):\n  File \"Cell Tests\", line 11, in test_functions\nNameError: name 'divby2mod' is not defined\n\n======================================================================\nERROR: test_titanic1 (__main__.TestExercise3)\n----------------------------------------------------------------------\nTraceback (most recent call last):\n  File \"Cell Tests\", line 13, in test_titanic1\nNameError: name 'AccEveryoneDies' is not defined\n\n======================================================================\nERROR: test_titanic10 (__main__.TestExercise3)\n----------------------------------------------------------------------\nTraceback (most recent call last):\n  File \"Cell Tests\", line 31, in test_titanic10\nNameError: name 'train' is not defined\n\n======================================================================\nERROR: test_titanic11 (__main__.TestExercise3)\n----------------------------------------------------------------------\nTraceback (most recent call last):\n  File \"Cell Tests\", line 33, in test_titanic11\nNameError: name 'test' is not defined\n\n======================================================================\nERROR: test_titanic2 (__main__.TestExercise3)\n----------------------------------------------------------------------\nTraceback (most recent call last):\n  File \"Cell Tests\", line 15, in test_titanic2\nNameError: name 'AccGender' is not defined\n\n======================================================================\nERROR: test_titanic3 (__main__.TestExercise3)\n----------------------------------------------------------------------\nTraceback (most recent call last):\n  File \"Cell Tests\", line 17, in test_titanic3\nNameError: name 'train' is not defined\n\n======================================================================\nERROR: test_titanic4 (__main__.TestExercise3)\n----------------------------------------------------------------------\nTraceback (most recent call last):\n  File \"Cell Tests\", line 19, in test_titanic4\nNameError: name 'train' is not defined\n\n======================================================================\nERROR: test_titanic5 (__main__.TestExercise3)\n----------------------------------------------------------------------\nTraceback (most recent call last):\n  File \"Cell Tests\", line 21, in test_titanic5\nNameError: name 'pd' is not defined\n\n======================================================================\nERROR: test_titanic6 (__main__.TestExercise3)\n----------------------------------------------------------------------\nTraceback (most recent call last):\n  File \"Cell Tests\", line 23, in test_titanic6\nNameError: name 'train' is not defined\n\n======================================================================\nERROR: test_titanic7 (__main__.TestExercise3)\n----------------------------------------------------------------------\nTraceback (most recent call last):\n  File \"Cell Tests\", line 25, in test_titanic7\nNameError: name 'train' is not defined\n\n======================================================================\nERROR: test_titanic8 (__main__.TestExercise3)\n----------------------------------------------------------------------\nTraceback (most recent call last):\n  File \"Cell Tests\", line 27, in test_titanic8\nNameError: name 'AccGenderAge13' is not defined\n\n======================================================================\nERROR: test_titanic9 (__main__.TestExercise3)\n----------------------------------------------------------------------\nTraceback (most recent call last):\n  File \"Cell Tests\", line 29, in test_titanic9\nNameError: name 'AccGenderAge18' is not defined\n\n----------------------------------------------------------------------\nRan 15 tests in 0.003s\n\nFAILED (errors=15)\n",
       "previous": 0
      },
      "text/plain": [
       "Fail"
      ]
     },
     "metadata": {
      "tags": []
     },
     "output_type": "display_data"
    },
    {
     "name": "stdout",
     "output_type": "stream",
     "text": [
      "EEEEEEEEEEEEEEE\n",
      "======================================================================\n",
      "ERROR: test_forif (__main__.TestExercise3)\n",
      "----------------------------------------------------------------------\n",
      "Traceback (most recent call last):\n",
      "  File \"Cell Tests\", line 7, in test_forif\n",
      "NameError: name 'divby7not5' is not defined\n",
      "\n",
      "======================================================================\n",
      "ERROR: test_forif1 (__main__.TestExercise3)\n",
      "----------------------------------------------------------------------\n",
      "Traceback (most recent call last):\n",
      "  File \"Cell Tests\", line 3, in test_forif1\n",
      "NameError: name 'fivetoten' is not defined\n",
      "\n",
      "======================================================================\n",
      "ERROR: test_forif2 (__main__.TestExercise3)\n",
      "----------------------------------------------------------------------\n",
      "Traceback (most recent call last):\n",
      "  File \"Cell Tests\", line 5, in test_forif2\n",
      "NameError: name 'divby7' is not defined\n",
      "\n",
      "======================================================================\n",
      "ERROR: test_functions (__main__.TestExercise3)\n",
      "----------------------------------------------------------------------\n",
      "Traceback (most recent call last):\n",
      "  File \"Cell Tests\", line 11, in test_functions\n",
      "NameError: name 'divby2mod' is not defined\n",
      "\n",
      "======================================================================\n",
      "ERROR: test_titanic1 (__main__.TestExercise3)\n",
      "----------------------------------------------------------------------\n",
      "Traceback (most recent call last):\n",
      "  File \"Cell Tests\", line 13, in test_titanic1\n",
      "NameError: name 'AccEveryoneDies' is not defined\n",
      "\n",
      "======================================================================\n",
      "ERROR: test_titanic10 (__main__.TestExercise3)\n",
      "----------------------------------------------------------------------\n",
      "Traceback (most recent call last):\n",
      "  File \"Cell Tests\", line 31, in test_titanic10\n",
      "NameError: name 'train' is not defined\n",
      "\n",
      "======================================================================\n",
      "ERROR: test_titanic11 (__main__.TestExercise3)\n",
      "----------------------------------------------------------------------\n",
      "Traceback (most recent call last):\n",
      "  File \"Cell Tests\", line 33, in test_titanic11\n",
      "NameError: name 'test' is not defined\n",
      "\n",
      "======================================================================\n",
      "ERROR: test_titanic2 (__main__.TestExercise3)\n",
      "----------------------------------------------------------------------\n",
      "Traceback (most recent call last):\n",
      "  File \"Cell Tests\", line 15, in test_titanic2\n",
      "NameError: name 'AccGender' is not defined\n",
      "\n",
      "======================================================================\n",
      "ERROR: test_titanic3 (__main__.TestExercise3)\n",
      "----------------------------------------------------------------------\n",
      "Traceback (most recent call last):\n",
      "  File \"Cell Tests\", line 17, in test_titanic3\n",
      "NameError: name 'train' is not defined\n",
      "\n",
      "======================================================================\n",
      "ERROR: test_titanic4 (__main__.TestExercise3)\n",
      "----------------------------------------------------------------------\n",
      "Traceback (most recent call last):\n",
      "  File \"Cell Tests\", line 19, in test_titanic4\n",
      "NameError: name 'train' is not defined\n",
      "\n",
      "======================================================================\n",
      "ERROR: test_titanic5 (__main__.TestExercise3)\n",
      "----------------------------------------------------------------------\n",
      "Traceback (most recent call last):\n",
      "  File \"Cell Tests\", line 21, in test_titanic5\n",
      "NameError: name 'pd' is not defined\n",
      "\n",
      "======================================================================\n",
      "ERROR: test_titanic6 (__main__.TestExercise3)\n",
      "----------------------------------------------------------------------\n",
      "Traceback (most recent call last):\n",
      "  File \"Cell Tests\", line 23, in test_titanic6\n",
      "NameError: name 'train' is not defined\n",
      "\n",
      "======================================================================\n",
      "ERROR: test_titanic7 (__main__.TestExercise3)\n",
      "----------------------------------------------------------------------\n",
      "Traceback (most recent call last):\n",
      "  File \"Cell Tests\", line 25, in test_titanic7\n",
      "NameError: name 'train' is not defined\n",
      "\n",
      "======================================================================\n",
      "ERROR: test_titanic8 (__main__.TestExercise3)\n",
      "----------------------------------------------------------------------\n",
      "Traceback (most recent call last):\n",
      "  File \"Cell Tests\", line 27, in test_titanic8\n",
      "NameError: name 'AccGenderAge13' is not defined\n",
      "\n",
      "======================================================================\n",
      "ERROR: test_titanic9 (__main__.TestExercise3)\n",
      "----------------------------------------------------------------------\n",
      "Traceback (most recent call last):\n",
      "  File \"Cell Tests\", line 29, in test_titanic9\n",
      "NameError: name 'AccGenderAge18' is not defined\n",
      "\n",
      "----------------------------------------------------------------------\n",
      "Ran 15 tests in 0.003s\n",
      "\n",
      "FAILED (errors=15)\n"
     ]
    },
    {
     "data": {
      "text/plain": [
       "<unittest.runner.TextTestResult run=15 errors=15 failures=0>"
      ]
     },
     "execution_count": 3,
     "metadata": {
      "tags": []
     },
     "output_type": "execute_result"
    }
   ],
   "source": [
    "%%unittest_main\n",
    "class TestExercise3(unittest.TestCase):\n",
    "    def test_forif1(self):\n",
    "        self.assertTrue(fivetoten == [5,6,7,8,9,10])\n",
    "    def test_forif2(self):\n",
    "        self.assertTrue(divby7 == [7,14,21,28,35,42,49])\n",
    "    def test_forif(self):\n",
    "        self.assertTrue(divby7not5 == [10003, 10017, 10024, 10031, 10038, 10052, 10059, 10066, 10073, 10087, 10094])\n",
    "    def test_functions(self):\n",
    "        self.assertTrue(divby2 == [12, 34, 54, 34, 34, 54])\n",
    "    def test_functions(self):\n",
    "        self.assertTrue(divby2mod == [12, 34, 54, 34, 34, 54])\n",
    "    def test_titanic1(self):\n",
    "        self.assertAlmostEqual(AccEveryoneDies, 61.6161616162)\n",
    "    def test_titanic2(self):\n",
    "        self.assertAlmostEqual(AccGender, 78.6756453423)\n",
    "    def test_titanic3(self):\n",
    "        self.assertAlmostEqual(train['PredEveryoneDies'].mean(), 0.0)\n",
    "    def test_titanic4(self):\n",
    "        self.assertAlmostEqual(train['PredGender'].mean(), 0.35241301908)\n",
    "    def test_titanic5(self):\n",
    "        self.assertTrue(['PassengerId', 'Survived']==list(pd.read_csv('submiteveryonedies.csv').columns.values))\n",
    "    def test_titanic6(self):\n",
    "        self.assertAlmostEqual(train['PredGenderAge13'].mean(), 0.393939393939)\n",
    "    def test_titanic7(self):\n",
    "        self.assertAlmostEqual(train['PredGenderAge18'].mean(), 0.417508417508)\n",
    "    def test_titanic8(self):\n",
    "        self.assertAlmostEqual(AccGenderAge13, 79.2368125701)\n",
    "    def test_titanic9(self):\n",
    "        self.assertAlmostEqual(AccGenderAge18, 77.3288439955)\n",
    "    def test_titanic10(self):\n",
    "        self.assertTrue(train['child'].sum()==69)\n",
    "    def test_titanic11(self):\n",
    "        self.assertTrue(test['child'].sum()==25)"
   ]
  },
  {
   "cell_type": "code",
   "execution_count": null,
   "metadata": {
    "colab": {},
    "colab_type": "code",
    "id": "pVp0Q4v8-lrr"
   },
   "outputs": [],
   "source": [
    "#This is a collection of all of the tests from the exercises above. "
   ]
  }
 ],
 "metadata": {
  "colab": {
   "name": "Copy of hm03.ipynb",
   "provenance": [
    {
     "file_id": "https://github.com/rpi-techfundamentals/spring2019-materials/blob/master/04-viz-api-scraper/hm-03/hm03.ipynb",
     "timestamp": 1548905964911
    }
   ],
   "version": "0.3.2"
  },
  "kernelspec": {
   "display_name": "Python 3",
   "language": "python",
   "name": "python3"
  },
  "language_info": {
   "codemirror_mode": {
    "name": "ipython",
    "version": 3
   },
   "file_extension": ".py",
   "mimetype": "text/x-python",
   "name": "python",
   "nbconvert_exporter": "python",
   "pygments_lexer": "ipython3",
   "version": "3.6.3"
  }
 },
 "nbformat": 4,
 "nbformat_minor": 2
}
