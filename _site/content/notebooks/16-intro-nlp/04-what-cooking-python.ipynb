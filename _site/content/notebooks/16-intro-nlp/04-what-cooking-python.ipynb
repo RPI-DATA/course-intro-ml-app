{
  "nbformat": 4,
  "nbformat_minor": 0,
  "metadata": {
    "colab": {
      "name": "04_what_cooking_python.ipynb",
      "provenance": []
    },
    "kernelspec": {
      "display_name": "Python 3",
      "language": "python",
      "name": "python3"
    }
  },
  "cells": [
    {
      "cell_type": "markdown",
      "metadata": {
        "id": "DrAOddDUllII",
        "colab_type": "text"
      },
      "source": [
        "[![AnalyticsDojo](https://github.com/rpi-techfundamentals/spring2019-materials/blob/master/fig/final-logo.png?raw=1)](http://rpi.analyticsdojo.com)\n",
        "<center><h1> What's Cooking  in Python</h1></center>\n",
        "<center><h3><a href = 'http://rpi.analyticsdojo.com'>rpi.analyticsdojo.com</a></h3></center>"
      ]
    },
    {
      "cell_type": "markdown",
      "metadata": {
        "id": "bHLqWxDAk3ix",
        "colab_type": "text"
      },
      "source": [
        "\n",
        "This was adopted from. \n",
        "https://www.kaggle.com/manuelatadvice/whats-cooking/noname/code"
      ]
    },
    {
      "cell_type": "code",
      "metadata": {
        "id": "a6h3zUT8k3jI",
        "colab_type": "code",
        "colab": {}
      },
      "source": [
        "#This imports a bunch of packages.  \n",
        "import pandas as pd\n",
        "import matplotlib.pyplot as plt\n",
        "import nltk\n",
        "from nltk.stem import WordNetLemmatizer\n",
        "from collections import Counter\n",
        "import json\n",
        "from nltk.stem import WordNetLemmatizer\n",
        "import re\n",
        "from sklearn.feature_extraction.text import TfidfVectorizer\n",
        "from sklearn.linear_model import LogisticRegression\n",
        "#from sklearn import grid_search\n",
        "\n"
      ],
      "execution_count": 0,
      "outputs": []
    },
    {
      "cell_type": "code",
      "metadata": {
        "id": "AC79CRkSk3jR",
        "colab_type": "code",
        "colab": {}
      },
      "source": [
        "\n",
        "#If you import the codes locally, this seems to cause some issues.  \n",
        "import json\n",
        "from urllib.request import urlopen\n",
        "\n",
        "urltrain= 'https://raw.githubusercontent.com/RPI-Analytics/MGMT6963-2015/master/data/whatscooking/whatscookingtrain.json'\n",
        "urltest = 'https://raw.githubusercontent.com/RPI-Analytics/MGMT6963-2015/master/data/whatscooking/whatscookingtest.json'\n",
        "\n",
        "\n",
        "train = pd.read_json(urlopen(urltrain))\n",
        "test = pd.read_json(urlopen(urltest))"
      ],
      "execution_count": 0,
      "outputs": []
    },
    {
      "cell_type": "code",
      "metadata": {
        "id": "lwaAOau8k3jX",
        "colab_type": "code",
        "outputId": "288125bc-ed6c-469c-8664-1d4b0de92e1d",
        "colab": {
          "base_uri": "https://localhost:8080/",
          "height": 419
        }
      },
      "source": [
        "#First we want to see the most popular cuisine for the naive model. \n",
        "train.groupby('cuisine').size()"
      ],
      "execution_count": 3,
      "outputs": [
        {
          "output_type": "execute_result",
          "data": {
            "text/plain": [
              "cuisine\n",
              "brazilian        467\n",
              "british          804\n",
              "cajun_creole    1546\n",
              "chinese         2673\n",
              "filipino         755\n",
              "french          2646\n",
              "greek           1175\n",
              "indian          3003\n",
              "irish            667\n",
              "italian         7838\n",
              "jamaican         526\n",
              "japanese        1423\n",
              "korean           830\n",
              "mexican         6438\n",
              "moroccan         821\n",
              "russian          489\n",
              "southern_us     4320\n",
              "spanish          989\n",
              "thai            1539\n",
              "vietnamese       825\n",
              "dtype: int64"
            ]
          },
          "metadata": {
            "tags": []
          },
          "execution_count": 3
        }
      ]
    },
    {
      "cell_type": "code",
      "metadata": {
        "id": "x4ucmrg3k3jb",
        "colab_type": "code",
        "colab": {}
      },
      "source": [
        "#Here we write the most popular selection.  This is the baseline by which we will judge other models. \n",
        "test['cuisine']='italian'"
      ],
      "execution_count": 0,
      "outputs": []
    },
    {
      "cell_type": "code",
      "metadata": {
        "id": "RucCI43Bk3jg",
        "colab_type": "code",
        "colab": {}
      },
      "source": [
        "#THis is a much more simple version that selects out the columns ID and cuisinte\n",
        "submission=test[['id' ,  'cuisine' ]]\n",
        "#This is a more complex method I showed that gives same.\n",
        "#submission=pd.DataFrame(test.ix[:,['id' ,  'cuisine' ]])"
      ],
      "execution_count": 0,
      "outputs": []
    },
    {
      "cell_type": "code",
      "metadata": {
        "id": "Hj0oEB8Ck3j6",
        "colab_type": "code",
        "colab": {}
      },
      "source": [
        "#This outputs the file.\n",
        "submission.to_csv(\"1_cookingSubmission.csv\",index=False)\n",
        "from google.colab import files\n",
        "files.download('1_cookingSubmission.csv')\n"
      ],
      "execution_count": 0,
      "outputs": []
    },
    {
      "cell_type": "code",
      "metadata": {
        "id": "qUZFgGBGk3kC",
        "colab_type": "code",
        "outputId": "f999fa6f-e38c-4824-c176-9eb6dc4ad955",
        "colab": {
          "base_uri": "https://localhost:8080/",
          "height": 90
        }
      },
      "source": [
        "#So it seems there is some data we need to use the NLTK leemmatizer.  \n",
        "stemmer = WordNetLemmatizer()\n",
        "nltk.download('wordnet')\n",
        "\n",
        " "
      ],
      "execution_count": 7,
      "outputs": [
        {
          "output_type": "stream",
          "text": [
            "[nltk_data] Downloading package wordnet to /root/nltk_data...\n",
            "[nltk_data]   Unzipping corpora/wordnet.zip.\n"
          ],
          "name": "stdout"
        },
        {
          "output_type": "execute_result",
          "data": {
            "text/plain": [
              "True"
            ]
          },
          "metadata": {
            "tags": []
          },
          "execution_count": 7
        }
      ]
    },
    {
      "cell_type": "code",
      "metadata": {
        "id": "zM2L1iHCk3kF",
        "colab_type": "code",
        "outputId": "dfecf51e-f25f-494a-926a-2ee59b76db73",
        "colab": {
          "base_uri": "https://localhost:8080/",
          "height": 444
        }
      },
      "source": [
        "train"
      ],
      "execution_count": 8,
      "outputs": [
        {
          "output_type": "execute_result",
          "data": {
            "text/html": [
              "<div>\n",
              "<style scoped>\n",
              "    .dataframe tbody tr th:only-of-type {\n",
              "        vertical-align: middle;\n",
              "    }\n",
              "\n",
              "    .dataframe tbody tr th {\n",
              "        vertical-align: top;\n",
              "    }\n",
              "\n",
              "    .dataframe thead th {\n",
              "        text-align: right;\n",
              "    }\n",
              "</style>\n",
              "<table border=\"1\" class=\"dataframe\">\n",
              "  <thead>\n",
              "    <tr style=\"text-align: right;\">\n",
              "      <th></th>\n",
              "      <th>id</th>\n",
              "      <th>cuisine</th>\n",
              "      <th>ingredients</th>\n",
              "    </tr>\n",
              "  </thead>\n",
              "  <tbody>\n",
              "    <tr>\n",
              "      <th>0</th>\n",
              "      <td>10259</td>\n",
              "      <td>greek</td>\n",
              "      <td>[romaine lettuce, black olives, grape tomatoes...</td>\n",
              "    </tr>\n",
              "    <tr>\n",
              "      <th>1</th>\n",
              "      <td>25693</td>\n",
              "      <td>southern_us</td>\n",
              "      <td>[plain flour, ground pepper, salt, tomatoes, g...</td>\n",
              "    </tr>\n",
              "    <tr>\n",
              "      <th>2</th>\n",
              "      <td>20130</td>\n",
              "      <td>filipino</td>\n",
              "      <td>[eggs, pepper, salt, mayonaise, cooking oil, g...</td>\n",
              "    </tr>\n",
              "    <tr>\n",
              "      <th>3</th>\n",
              "      <td>22213</td>\n",
              "      <td>indian</td>\n",
              "      <td>[water, vegetable oil, wheat, salt]</td>\n",
              "    </tr>\n",
              "    <tr>\n",
              "      <th>4</th>\n",
              "      <td>13162</td>\n",
              "      <td>indian</td>\n",
              "      <td>[black pepper, shallots, cornflour, cayenne pe...</td>\n",
              "    </tr>\n",
              "    <tr>\n",
              "      <th>...</th>\n",
              "      <td>...</td>\n",
              "      <td>...</td>\n",
              "      <td>...</td>\n",
              "    </tr>\n",
              "    <tr>\n",
              "      <th>39769</th>\n",
              "      <td>29109</td>\n",
              "      <td>irish</td>\n",
              "      <td>[light brown sugar, granulated sugar, butter, ...</td>\n",
              "    </tr>\n",
              "    <tr>\n",
              "      <th>39770</th>\n",
              "      <td>11462</td>\n",
              "      <td>italian</td>\n",
              "      <td>[KRAFT Zesty Italian Dressing, purple onion, b...</td>\n",
              "    </tr>\n",
              "    <tr>\n",
              "      <th>39771</th>\n",
              "      <td>2238</td>\n",
              "      <td>irish</td>\n",
              "      <td>[eggs, citrus fruit, raisins, sourdough starte...</td>\n",
              "    </tr>\n",
              "    <tr>\n",
              "      <th>39772</th>\n",
              "      <td>41882</td>\n",
              "      <td>chinese</td>\n",
              "      <td>[boneless chicken skinless thigh, minced garli...</td>\n",
              "    </tr>\n",
              "    <tr>\n",
              "      <th>39773</th>\n",
              "      <td>2362</td>\n",
              "      <td>mexican</td>\n",
              "      <td>[green chile, jalapeno chilies, onions, ground...</td>\n",
              "    </tr>\n",
              "  </tbody>\n",
              "</table>\n",
              "<p>39774 rows × 3 columns</p>\n",
              "</div>"
            ],
            "text/plain": [
              "          id      cuisine                                        ingredients\n",
              "0      10259        greek  [romaine lettuce, black olives, grape tomatoes...\n",
              "1      25693  southern_us  [plain flour, ground pepper, salt, tomatoes, g...\n",
              "2      20130     filipino  [eggs, pepper, salt, mayonaise, cooking oil, g...\n",
              "3      22213       indian                [water, vegetable oil, wheat, salt]\n",
              "4      13162       indian  [black pepper, shallots, cornflour, cayenne pe...\n",
              "...      ...          ...                                                ...\n",
              "39769  29109        irish  [light brown sugar, granulated sugar, butter, ...\n",
              "39770  11462      italian  [KRAFT Zesty Italian Dressing, purple onion, b...\n",
              "39771   2238        irish  [eggs, citrus fruit, raisins, sourdough starte...\n",
              "39772  41882      chinese  [boneless chicken skinless thigh, minced garli...\n",
              "39773   2362      mexican  [green chile, jalapeno chilies, onions, ground...\n",
              "\n",
              "[39774 rows x 3 columns]"
            ]
          },
          "metadata": {
            "tags": []
          },
          "execution_count": 8
        }
      ]
    },
    {
      "cell_type": "code",
      "metadata": {
        "id": "YTmpDPXOk3kL",
        "colab_type": "code",
        "colab": {}
      },
      "source": [
        "#We see this in a Python Solution. \n",
        "train['ingredients_clean_string1'] = [','.join(z).strip() for z in train['ingredients']] \n",
        "\n",
        "#We also know that we can do something similar though a Lambda function. \n",
        "strip = lambda x: ' , '.join(x).strip() \n",
        "#Finally, we call the function for name\n",
        "train['ingredients_clean_string2'] = train['ingredients'].map(strip)\n",
        "\n",
        "#Now that we used the lambda function, we can reuse this for the test dataset. \n",
        "test['ingredients_clean_string1'] = test['ingredients'].map(strip)\n",
        " \n"
      ],
      "execution_count": 0,
      "outputs": []
    },
    {
      "cell_type": "code",
      "metadata": {
        "id": "l0ijWbr4k3kR",
        "colab_type": "code",
        "colab": {}
      },
      "source": [
        "#We see this in one of the solutions.  We can reconstruct it in a way that makes it abit easier to follow, but I found when doing that it took forever.  \n",
        "\n",
        "#To interpret this, read from right to left. \n",
        "train['ingredients_string1'] = [' '.join([WordNetLemmatizer().lemmatize(re.sub('[^A-Za-z]', ' ', line)) for line in lists]).strip() for lists in train['ingredients']]       \n",
        "test['ingredients_string1'] = [' '.join([WordNetLemmatizer().lemmatize(re.sub('[^A-Za-z]', ' ', line)) for line in lists]).strip() for lists in test['ingredients']]       \n",
        "\n",
        "\n"
      ],
      "execution_count": 0,
      "outputs": []
    },
    {
      "cell_type": "code",
      "metadata": {
        "id": "QVs8QVzgk3kV",
        "colab_type": "code",
        "outputId": "8a3939f9-4fed-4856-91e8-01123bb97190",
        "colab": {
          "base_uri": "https://localhost:8080/",
          "height": 246
        }
      },
      "source": [
        "train['ingredients_string1']"
      ],
      "execution_count": 11,
      "outputs": [
        {
          "output_type": "execute_result",
          "data": {
            "text/plain": [
              "0        romaine lettuce black olives grape tomatoes ga...\n",
              "1        plain flour ground pepper salt tomato ground b...\n",
              "2        egg pepper salt mayonaise cooking oil green ch...\n",
              "3                           water vegetable oil wheat salt\n",
              "4        black pepper shallot cornflour cayenne pepper ...\n",
              "                               ...                        \n",
              "39769    light brown sugar granulated sugar butter warm...\n",
              "39770    KRAFT Zesty Italian Dressing purple onion broc...\n",
              "39771    egg citrus fruit raisin sourdough starter flou...\n",
              "39772    boneless chicken skinless thigh minced garlic ...\n",
              "39773    green chile jalapeno chilies onion ground blac...\n",
              "Name: ingredients_string1, Length: 39774, dtype: object"
            ]
          },
          "metadata": {
            "tags": []
          },
          "execution_count": 11
        }
      ]
    },
    {
      "cell_type": "code",
      "metadata": {
        "id": "_yr_buImk3kY",
        "colab_type": "code",
        "outputId": "14cedf0d-e3c4-4b7a-dee2-07c0ddfcfc48",
        "colab": {
          "base_uri": "https://localhost:8080/",
          "height": 246
        }
      },
      "source": [
        "ingredients = train['ingredients'].apply(lambda x:','.join(x))\n",
        "ingredients"
      ],
      "execution_count": 12,
      "outputs": [
        {
          "output_type": "execute_result",
          "data": {
            "text/plain": [
              "0        romaine lettuce,black olives,grape tomatoes,ga...\n",
              "1        plain flour,ground pepper,salt,tomatoes,ground...\n",
              "2        eggs,pepper,salt,mayonaise,cooking oil,green c...\n",
              "3                           water,vegetable oil,wheat,salt\n",
              "4        black pepper,shallots,cornflour,cayenne pepper...\n",
              "                               ...                        \n",
              "39769    light brown sugar,granulated sugar,butter,warm...\n",
              "39770    KRAFT Zesty Italian Dressing,purple onion,broc...\n",
              "39771    eggs,citrus fruit,raisins,sourdough starter,fl...\n",
              "39772    boneless chicken skinless thigh,minced garlic,...\n",
              "39773    green chile,jalapeno chilies,onions,ground bla...\n",
              "Name: ingredients, Length: 39774, dtype: object"
            ]
          },
          "metadata": {
            "tags": []
          },
          "execution_count": 12
        }
      ]
    },
    {
      "cell_type": "code",
      "metadata": {
        "id": "ZbkK3RRNk3kb",
        "colab_type": "code",
        "outputId": "5a9684ec-760f-42ea-ea45-c64fd34c2e92",
        "colab": {
          "base_uri": "https://localhost:8080/",
          "height": 246
        }
      },
      "source": [
        "#Now we will create a corpus.\n",
        "corpustr = train['ingredients_string1']\n",
        "corpusts = test['ingredients_string1']\n",
        "corpustr"
      ],
      "execution_count": 13,
      "outputs": [
        {
          "output_type": "execute_result",
          "data": {
            "text/plain": [
              "0        romaine lettuce black olives grape tomatoes ga...\n",
              "1        plain flour ground pepper salt tomato ground b...\n",
              "2        egg pepper salt mayonaise cooking oil green ch...\n",
              "3                           water vegetable oil wheat salt\n",
              "4        black pepper shallot cornflour cayenne pepper ...\n",
              "                               ...                        \n",
              "39769    light brown sugar granulated sugar butter warm...\n",
              "39770    KRAFT Zesty Italian Dressing purple onion broc...\n",
              "39771    egg citrus fruit raisin sourdough starter flou...\n",
              "39772    boneless chicken skinless thigh minced garlic ...\n",
              "39773    green chile jalapeno chilies onion ground blac...\n",
              "Name: ingredients_string1, Length: 39774, dtype: object"
            ]
          },
          "metadata": {
            "tags": []
          },
          "execution_count": 13
        }
      ]
    },
    {
      "cell_type": "code",
      "metadata": {
        "id": "PsUChFQpk3kd",
        "colab_type": "code",
        "colab": {}
      },
      "source": [
        "#http://scikit-learn.org/stable/modules/generated/sklearn.feature_extraction.text.TfidfVectorizer.html\n",
        "#You could develop an understanding based on each.  \n",
        "vectorizertr = TfidfVectorizer(stop_words='english',\n",
        "                             ngram_range = ( 1 , 1 ),analyzer=\"word\", \n",
        "                             max_df = .57 , binary=False , token_pattern=r'\\w+' , sublinear_tf=False)\n",
        "vectorizerts = TfidfVectorizer(stop_words='english')"
      ],
      "execution_count": 0,
      "outputs": []
    },
    {
      "cell_type": "code",
      "metadata": {
        "id": "AVmoY41xk3kf",
        "colab_type": "code",
        "colab": {}
      },
      "source": [
        "#Note that this doesn't work with the #todense option.  \n",
        "tfidftr=vectorizertr.fit_transform(corpustr)\n",
        "predictors_tr = tfidftr"
      ],
      "execution_count": 0,
      "outputs": []
    },
    {
      "cell_type": "code",
      "metadata": {
        "id": "htsUTjQDk3kn",
        "colab_type": "code",
        "colab": {}
      },
      "source": [
        "#Note that this doesn't work with the #todense option.  This creates a matrix of predictors from the corpus. \n",
        "tfidfts=vectorizertr.transform(corpusts)\n",
        "predictors_ts= tfidfts"
      ],
      "execution_count": 0,
      "outputs": []
    },
    {
      "cell_type": "code",
      "metadata": {
        "id": "PGnihLhhk3kq",
        "colab_type": "code",
        "colab": {}
      },
      "source": [
        "#This is target variable.  \n",
        "targets_tr = train['cuisine']\n"
      ],
      "execution_count": 0,
      "outputs": []
    },
    {
      "cell_type": "markdown",
      "metadata": {
        "id": "8xeavXTck3kt",
        "colab_type": "text"
      },
      "source": [
        "## Logistic Regression and Regularization.\n",
        "\n",
        "- Regularlization can help us with the large matrix by adding a penalty for each parameter. \n",
        "- Finding out how much regularization via grid search (search across hyperparameters.)\n",
        "\n",
        "http://scikit-learn.org/stable/modules/generated/sklearn.linear_model.LogisticRegression.html\n",
        "\n",
        "```C : float, default: 1.0\n",
        "Inverse of regularization strength; must be a positive float. Like in support vector machines, smaller values specify stronger regularization.```"
      ]
    },
    {
      "cell_type": "code",
      "metadata": {
        "id": "PwkR9LUzk3kv",
        "colab_type": "code",
        "colab": {}
      },
      "source": [
        "#Logistic Regression. \n",
        "parameters = {'C':[1, 10]}\n",
        "#clf = LinearSVC()\n",
        "clf = LogisticRegression()\n",
        "\n"
      ],
      "execution_count": 0,
      "outputs": []
    },
    {
      "cell_type": "code",
      "metadata": {
        "id": "stABtjwWk3kz",
        "colab_type": "code",
        "outputId": "d0796c9f-e60c-4e33-c9e9-6924ca490640",
        "colab": {
          "base_uri": "https://localhost:8080/",
          "height": 72
        }
      },
      "source": [
        "predictors_tr"
      ],
      "execution_count": 19,
      "outputs": [
        {
          "output_type": "execute_result",
          "data": {
            "text/plain": [
              "<39774x2963 sparse matrix of type '<class 'numpy.float64'>'\n",
              "\twith 727921 stored elements in Compressed Sparse Row format>"
            ]
          },
          "metadata": {
            "tags": []
          },
          "execution_count": 19
        }
      ]
    },
    {
      "cell_type": "code",
      "metadata": {
        "id": "pWnl6CHSk3k1",
        "colab_type": "code",
        "outputId": "7a03fb5f-7e08-431b-fcea-bcc6fda91141",
        "colab": {
          "base_uri": "https://localhost:8080/",
          "height": 142
        }
      },
      "source": [
        "from sklearn.model_selection import GridSearchCV\n",
        "#This uses that associated paramters to search a grid space. \n",
        "classifier = GridSearchCV(clf, parameters)\n",
        "classifier=classifier.fit(predictors_tr,targets_tr)\n",
        "\n"
      ],
      "execution_count": 20,
      "outputs": [
        {
          "output_type": "stream",
          "text": [
            "/usr/local/lib/python3.6/dist-packages/sklearn/model_selection/_split.py:1978: FutureWarning: The default value of cv will change from 3 to 5 in version 0.22. Specify it explicitly to silence this warning.\n",
            "  warnings.warn(CV_WARNING, FutureWarning)\n",
            "/usr/local/lib/python3.6/dist-packages/sklearn/linear_model/logistic.py:432: FutureWarning: Default solver will be changed to 'lbfgs' in 0.22. Specify a solver to silence this warning.\n",
            "  FutureWarning)\n",
            "/usr/local/lib/python3.6/dist-packages/sklearn/linear_model/logistic.py:469: FutureWarning: Default multi_class will be changed to 'auto' in 0.22. Specify the multi_class option to silence this warning.\n",
            "  \"this warning.\", FutureWarning)\n"
          ],
          "name": "stderr"
        }
      ]
    },
    {
      "cell_type": "code",
      "metadata": {
        "id": "I9RB6g4pk3k4",
        "colab_type": "code",
        "colab": {}
      },
      "source": [
        "#This predicts the outcome for the test set. \n",
        "predictions=classifier.predict(predictors_ts)"
      ],
      "execution_count": 0,
      "outputs": []
    },
    {
      "cell_type": "code",
      "metadata": {
        "id": "0uzbXDlfk3k7",
        "colab_type": "code",
        "colab": {}
      },
      "source": [
        "#This adds it to the resulting dataframe. \n",
        "test['cuisine'] = predictions"
      ],
      "execution_count": 0,
      "outputs": []
    },
    {
      "cell_type": "code",
      "metadata": {
        "id": "rqX0MFoMk3k9",
        "colab_type": "code",
        "colab": {}
      },
      "source": [
        "#This creates the submision dataframe\n",
        "submission2=test[['id' ,  'cuisine' ]]"
      ],
      "execution_count": 0,
      "outputs": []
    },
    {
      "cell_type": "code",
      "metadata": {
        "id": "vVnXoKSnk3lA",
        "colab_type": "code",
        "colab": {}
      },
      "source": [
        "#This outputs the file.\n",
        "submission2.to_csv(\"2_logisticSubmission.csv\",index=False)\n",
        "from google.colab import files\n",
        "files.download('2_logisticSubmission.csv')"
      ],
      "execution_count": 0,
      "outputs": []
    },
    {
      "cell_type": "code",
      "metadata": {
        "id": "tOptCne4k3lC",
        "colab_type": "code",
        "colab": {}
      },
      "source": [
        "from sklearn.ensemble import RandomForestClassifier \n",
        "\n"
      ],
      "execution_count": 0,
      "outputs": []
    },
    {
      "cell_type": "code",
      "metadata": {
        "id": "71u-HUpKk3lE",
        "colab_type": "code",
        "colab": {}
      },
      "source": [
        "# Create the random forest object which will include all the parameters\n",
        "# for the fit\n",
        "forest = RandomForestClassifier(n_estimators = 10)\n",
        "\n"
      ],
      "execution_count": 0,
      "outputs": []
    },
    {
      "cell_type": "code",
      "metadata": {
        "id": "weUnxDbRk3lH",
        "colab_type": "code",
        "colab": {}
      },
      "source": [
        "# Fit the training data to the Survived labels and create the decision trees\n",
        "forest = forest.fit(predictors_tr,targets_tr)\n",
        "\n"
      ],
      "execution_count": 0,
      "outputs": []
    },
    {
      "cell_type": "code",
      "metadata": {
        "id": "07jNdblQk3lK",
        "colab_type": "code",
        "colab": {}
      },
      "source": [
        "# Take the same decision trees and run it on the test data\n",
        "predictions = forest.predict(predictors_ts)"
      ],
      "execution_count": 0,
      "outputs": []
    },
    {
      "cell_type": "code",
      "metadata": {
        "id": "1nTY0nLbk3lM",
        "colab_type": "code",
        "colab": {}
      },
      "source": [
        "#This adds it to the resulting dataframe. \n",
        "test['cuisine'] = predictions"
      ],
      "execution_count": 0,
      "outputs": []
    },
    {
      "cell_type": "code",
      "metadata": {
        "id": "dw9hDsk7k3lO",
        "colab_type": "code",
        "colab": {}
      },
      "source": [
        "#This creates the submision dataframe\n",
        "submission3=test[['id' ,  'cuisine' ]]\n",
        "submission3.to_csv(\"3_random_submission.csv\",index=False)"
      ],
      "execution_count": 0,
      "outputs": []
    },
    {
      "cell_type": "code",
      "metadata": {
        "id": "m_55LnY0jk79",
        "colab_type": "code",
        "colab": {}
      },
      "source": [
        "from google.colab import files\n",
        "files.download('3_random_submission.csv')"
      ],
      "execution_count": 0,
      "outputs": []
    },
    {
      "cell_type": "code",
      "metadata": {
        "id": "xa4njwC-k3lQ",
        "colab_type": "code",
        "outputId": "114e41d6-fea3-47ec-c1d9-64a276efcb53",
        "colab": {
          "base_uri": "https://localhost:8080/",
          "height": 998
        }
      },
      "source": [
        "ingredients = train['ingredients'].apply(lambda x:','.join(x))\n",
        "ingredients\n",
        "train"
      ],
      "execution_count": 31,
      "outputs": [
        {
          "output_type": "execute_result",
          "data": {
            "text/html": [
              "<div>\n",
              "<style scoped>\n",
              "    .dataframe tbody tr th:only-of-type {\n",
              "        vertical-align: middle;\n",
              "    }\n",
              "\n",
              "    .dataframe tbody tr th {\n",
              "        vertical-align: top;\n",
              "    }\n",
              "\n",
              "    .dataframe thead th {\n",
              "        text-align: right;\n",
              "    }\n",
              "</style>\n",
              "<table border=\"1\" class=\"dataframe\">\n",
              "  <thead>\n",
              "    <tr style=\"text-align: right;\">\n",
              "      <th></th>\n",
              "      <th>id</th>\n",
              "      <th>cuisine</th>\n",
              "      <th>ingredients</th>\n",
              "      <th>ingredients_clean_string1</th>\n",
              "      <th>ingredients_clean_string2</th>\n",
              "      <th>ingredients_string1</th>\n",
              "    </tr>\n",
              "  </thead>\n",
              "  <tbody>\n",
              "    <tr>\n",
              "      <th>0</th>\n",
              "      <td>10259</td>\n",
              "      <td>greek</td>\n",
              "      <td>[romaine lettuce, black olives, grape tomatoes...</td>\n",
              "      <td>romaine lettuce,black olives,grape tomatoes,ga...</td>\n",
              "      <td>romaine lettuce , black olives , grape tomatoe...</td>\n",
              "      <td>romaine lettuce black olives grape tomatoes ga...</td>\n",
              "    </tr>\n",
              "    <tr>\n",
              "      <th>1</th>\n",
              "      <td>25693</td>\n",
              "      <td>southern_us</td>\n",
              "      <td>[plain flour, ground pepper, salt, tomatoes, g...</td>\n",
              "      <td>plain flour,ground pepper,salt,tomatoes,ground...</td>\n",
              "      <td>plain flour , ground pepper , salt , tomatoes ...</td>\n",
              "      <td>plain flour ground pepper salt tomato ground b...</td>\n",
              "    </tr>\n",
              "    <tr>\n",
              "      <th>2</th>\n",
              "      <td>20130</td>\n",
              "      <td>filipino</td>\n",
              "      <td>[eggs, pepper, salt, mayonaise, cooking oil, g...</td>\n",
              "      <td>eggs,pepper,salt,mayonaise,cooking oil,green c...</td>\n",
              "      <td>eggs , pepper , salt , mayonaise , cooking oil...</td>\n",
              "      <td>egg pepper salt mayonaise cooking oil green ch...</td>\n",
              "    </tr>\n",
              "    <tr>\n",
              "      <th>3</th>\n",
              "      <td>22213</td>\n",
              "      <td>indian</td>\n",
              "      <td>[water, vegetable oil, wheat, salt]</td>\n",
              "      <td>water,vegetable oil,wheat,salt</td>\n",
              "      <td>water , vegetable oil , wheat , salt</td>\n",
              "      <td>water vegetable oil wheat salt</td>\n",
              "    </tr>\n",
              "    <tr>\n",
              "      <th>4</th>\n",
              "      <td>13162</td>\n",
              "      <td>indian</td>\n",
              "      <td>[black pepper, shallots, cornflour, cayenne pe...</td>\n",
              "      <td>black pepper,shallots,cornflour,cayenne pepper...</td>\n",
              "      <td>black pepper , shallots , cornflour , cayenne ...</td>\n",
              "      <td>black pepper shallot cornflour cayenne pepper ...</td>\n",
              "    </tr>\n",
              "    <tr>\n",
              "      <th>...</th>\n",
              "      <td>...</td>\n",
              "      <td>...</td>\n",
              "      <td>...</td>\n",
              "      <td>...</td>\n",
              "      <td>...</td>\n",
              "      <td>...</td>\n",
              "    </tr>\n",
              "    <tr>\n",
              "      <th>39769</th>\n",
              "      <td>29109</td>\n",
              "      <td>irish</td>\n",
              "      <td>[light brown sugar, granulated sugar, butter, ...</td>\n",
              "      <td>light brown sugar,granulated sugar,butter,warm...</td>\n",
              "      <td>light brown sugar , granulated sugar , butter ...</td>\n",
              "      <td>light brown sugar granulated sugar butter warm...</td>\n",
              "    </tr>\n",
              "    <tr>\n",
              "      <th>39770</th>\n",
              "      <td>11462</td>\n",
              "      <td>italian</td>\n",
              "      <td>[KRAFT Zesty Italian Dressing, purple onion, b...</td>\n",
              "      <td>KRAFT Zesty Italian Dressing,purple onion,broc...</td>\n",
              "      <td>KRAFT Zesty Italian Dressing , purple onion , ...</td>\n",
              "      <td>KRAFT Zesty Italian Dressing purple onion broc...</td>\n",
              "    </tr>\n",
              "    <tr>\n",
              "      <th>39771</th>\n",
              "      <td>2238</td>\n",
              "      <td>irish</td>\n",
              "      <td>[eggs, citrus fruit, raisins, sourdough starte...</td>\n",
              "      <td>eggs,citrus fruit,raisins,sourdough starter,fl...</td>\n",
              "      <td>eggs , citrus fruit , raisins , sourdough star...</td>\n",
              "      <td>egg citrus fruit raisin sourdough starter flou...</td>\n",
              "    </tr>\n",
              "    <tr>\n",
              "      <th>39772</th>\n",
              "      <td>41882</td>\n",
              "      <td>chinese</td>\n",
              "      <td>[boneless chicken skinless thigh, minced garli...</td>\n",
              "      <td>boneless chicken skinless thigh,minced garlic,...</td>\n",
              "      <td>boneless chicken skinless thigh , minced garli...</td>\n",
              "      <td>boneless chicken skinless thigh minced garlic ...</td>\n",
              "    </tr>\n",
              "    <tr>\n",
              "      <th>39773</th>\n",
              "      <td>2362</td>\n",
              "      <td>mexican</td>\n",
              "      <td>[green chile, jalapeno chilies, onions, ground...</td>\n",
              "      <td>green chile,jalapeno chilies,onions,ground bla...</td>\n",
              "      <td>green chile , jalapeno chilies , onions , grou...</td>\n",
              "      <td>green chile jalapeno chilies onion ground blac...</td>\n",
              "    </tr>\n",
              "  </tbody>\n",
              "</table>\n",
              "<p>39774 rows × 6 columns</p>\n",
              "</div>"
            ],
            "text/plain": [
              "          id  ...                                ingredients_string1\n",
              "0      10259  ...  romaine lettuce black olives grape tomatoes ga...\n",
              "1      25693  ...  plain flour ground pepper salt tomato ground b...\n",
              "2      20130  ...  egg pepper salt mayonaise cooking oil green ch...\n",
              "3      22213  ...                     water vegetable oil wheat salt\n",
              "4      13162  ...  black pepper shallot cornflour cayenne pepper ...\n",
              "...      ...  ...                                                ...\n",
              "39769  29109  ...  light brown sugar granulated sugar butter warm...\n",
              "39770  11462  ...  KRAFT Zesty Italian Dressing purple onion broc...\n",
              "39771   2238  ...  egg citrus fruit raisin sourdough starter flou...\n",
              "39772  41882  ...  boneless chicken skinless thigh minced garlic ...\n",
              "39773   2362  ...  green chile jalapeno chilies onion ground blac...\n",
              "\n",
              "[39774 rows x 6 columns]"
            ]
          },
          "metadata": {
            "tags": []
          },
          "execution_count": 31
        }
      ]
    },
    {
      "cell_type": "code",
      "metadata": {
        "id": "19YqsjWtk3lw",
        "colab_type": "code",
        "colab": {}
      },
      "source": [
        ""
      ],
      "execution_count": 0,
      "outputs": []
    }
  ]
}