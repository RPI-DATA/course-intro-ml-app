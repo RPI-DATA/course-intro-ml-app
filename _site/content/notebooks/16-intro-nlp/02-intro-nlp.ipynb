{
  "nbformat": 4,
  "nbformat_minor": 0,
  "metadata": {
    "colab": {
      "name": "Lecture20.ipynb",
      "provenance": [],
      "collapsed_sections": []
    },
    "kernelspec": {
      "name": "python3",
      "display_name": "Python 3"
    }
  },
  "cells": [
    {
      "cell_type": "markdown",
      "metadata": {
        "id": "CS3hWIuJEe9-",
        "colab_type": "text"
      },
      "source": [
        "## Introduction to Natural Language Processing\n",
        "\n",
        "In this workbook, at a high-level we will learn about text tokenization; text normalization such as lowercasing, stemming; part-of-speech tagging; Named entity recognition; Sentiment analysis; Topic modeling; Word embeddings\n",
        "\n",
        "\n",
        "\n"
      ]
    },
    {
      "cell_type": "code",
      "metadata": {
        "id": "TkXwl0p1G6Gl",
        "colab_type": "code",
        "outputId": "4176369a-1df4-428b-855d-cd758dedf8b6",
        "colab": {
          "base_uri": "https://localhost:8080/",
          "height": 170
        }
      },
      "source": [
        "####PLEASE EXECUTE THESE COMMANDS BEFORE PROCEEDING####\n",
        "\n",
        "import nltk\n",
        "nltk.download('punkt')\n",
        "nltk.download('averaged_perceptron_tagger')\n",
        "nltk.download('stopwords')"
      ],
      "execution_count": 0,
      "outputs": [
        {
          "output_type": "stream",
          "text": [
            "[nltk_data] Downloading package punkt to /root/nltk_data...\n",
            "[nltk_data]   Package punkt is already up-to-date!\n",
            "[nltk_data] Downloading package averaged_perceptron_tagger to\n",
            "[nltk_data]     /root/nltk_data...\n",
            "[nltk_data]   Package averaged_perceptron_tagger is already up-to-\n",
            "[nltk_data]       date!\n",
            "[nltk_data] Downloading package stopwords to /root/nltk_data...\n",
            "[nltk_data]   Unzipping corpora/stopwords.zip.\n"
          ],
          "name": "stdout"
        },
        {
          "output_type": "execute_result",
          "data": {
            "text/plain": [
              "True"
            ]
          },
          "metadata": {
            "tags": []
          },
          "execution_count": 39
        }
      ]
    },
    {
      "cell_type": "code",
      "metadata": {
        "id": "L_pNvP0lDAZR",
        "colab_type": "code",
        "outputId": "c27e5da9-707b-4506-f299-66cd78ebb54e",
        "colab": {
          "base_uri": "https://localhost:8080/",
          "height": 68
        }
      },
      "source": [
        "#Tokenization -- Text into word tokens; Paragraphs into sentences;\n",
        "from nltk.tokenize import sent_tokenize \n",
        "  \n",
        "text = \"Hello everyone. Welcome to Intro to Machine Learning Applications. We are now learning important basics of NLP.\"\n",
        "sent_tokenize(text) \n",
        "\n"
      ],
      "execution_count": 0,
      "outputs": [
        {
          "output_type": "execute_result",
          "data": {
            "text/plain": [
              "['Hello everyone.',\n",
              " 'Welcome to Intro to Machine Learning Applications.',\n",
              " 'We are now learning important basics of NLP.']"
            ]
          },
          "metadata": {
            "tags": []
          },
          "execution_count": 2
        }
      ]
    },
    {
      "cell_type": "code",
      "metadata": {
        "id": "pqkXKzNOG_CP",
        "colab_type": "code",
        "colab": {}
      },
      "source": [
        "import nltk.data \n",
        "  \n",
        "german_tokenizer = nltk.data.load('tokenizers/punkt/PY3/german.pickle') \n",
        "  \n",
        "text = 'Wie geht es Ihnen? Mir geht es gut.'\n",
        "german_tokenizer.tokenize(text) \n"
      ],
      "execution_count": 0,
      "outputs": []
    },
    {
      "cell_type": "code",
      "metadata": {
        "id": "AMAa2dymH7f_",
        "colab_type": "code",
        "colab": {}
      },
      "source": [
        "from nltk.tokenize import word_tokenize \n",
        "  \n",
        "text = \"Hello everyone. Welcome to Intro to Machine Learning Applications. We are now learning important basics of NLP.\"\n",
        "word_tokenize(text) \n",
        "\n"
      ],
      "execution_count": 0,
      "outputs": []
    },
    {
      "cell_type": "code",
      "metadata": {
        "id": "cdYqZcYCINaK",
        "colab_type": "code",
        "colab": {}
      },
      "source": [
        "from nltk.tokenize import TreebankWordTokenizer \n",
        "  \n",
        "tokenizer = TreebankWordTokenizer() \n",
        "tokenizer.tokenize(text) \n"
      ],
      "execution_count": 0,
      "outputs": []
    },
    {
      "cell_type": "markdown",
      "metadata": {
        "id": "5yFvaxNeTc-r",
        "colab_type": "text"
      },
      "source": [
        "###n-grams vs tokens\n",
        "\n",
        "##### n-grams are contiguous sequences of n-items in a sentence. N can be 1, 2 or any other positive integers, although usually we do not consider very large N because those n-grams rarely appears in many different places.\n",
        "\n",
        "##### Tokens do not have any conditions on contiguity"
      ]
    },
    {
      "cell_type": "code",
      "metadata": {
        "id": "x_3jEcxcVbA-",
        "colab_type": "code",
        "colab": {}
      },
      "source": [
        "#Using pure python\n",
        "\n",
        "import re\n",
        "\n",
        "def generate_ngrams(text, n):\n",
        "    # Convert to lowercases\n",
        "    text = text.lower()\n",
        "    \n",
        "    # Replace all none alphanumeric characters with spaces\n",
        "    text = re.sub(r'[^a-zA-Z0-9\\s]', ' ', text)\n",
        "    \n",
        "    # Break sentence in the token, remove empty tokens\n",
        "    tokens = [token for token in text.split(\" \") if token != \"\"]\n",
        "    \n",
        "    # Use the zip function to help us generate n-grams\n",
        "    # Concatentate the tokens into ngrams and return\n",
        "    ngrams = zip(*[tokens[i:] for i in range(n)])\n",
        "    return [\" \".join(ngram) for ngram in ngrams]\n",
        "\n",
        "text = \"Hello everyone. Welcome to Intro to Machine Learning Applications. We are now learning important basics of NLP.\"\n",
        "print(text)\n",
        "generate_ngrams(text, n=2)"
      ],
      "execution_count": 0,
      "outputs": []
    },
    {
      "cell_type": "code",
      "metadata": {
        "id": "wz-Mq1T6YQSW",
        "colab_type": "code",
        "colab": {}
      },
      "source": [
        "#Using NLTK import ngrams\n",
        "\n",
        "import re\n",
        "from nltk.util import ngrams\n",
        "\n",
        "text = text.lower()\n",
        "text = re.sub(r'[^a-zA-Z0-9\\s]', ' ', text)\n",
        "tokens = [token for token in text.split(\" \") if token != \"\"]\n",
        "output = list(ngrams(tokens, 3))\n",
        "print(output)"
      ],
      "execution_count": 0,
      "outputs": []
    },
    {
      "cell_type": "code",
      "metadata": {
        "id": "9BG909xTFbeZ",
        "colab_type": "code",
        "colab": {}
      },
      "source": [
        "#Text Normalization\n",
        "\n",
        "#Lowercasing\n",
        "text = \"Hello everyone. Welcome to Intro to Machine Learning Applications. We are now learning important basics of NLP.\"\n",
        "lowert = text.lower()\n",
        "uppert = text.upper()\n",
        "\n",
        "print(lowert)\n",
        "print(uppert)\n"
      ],
      "execution_count": 0,
      "outputs": []
    },
    {
      "cell_type": "code",
      "metadata": {
        "id": "1JxdoZyaY-iP",
        "colab_type": "code",
        "colab": {}
      },
      "source": [
        "#Text Normalization\n",
        "#stemming\n",
        "#Porter stemmer is a famous stemming approach\n",
        "\n",
        "from nltk.stem import PorterStemmer \n",
        "from nltk.tokenize import word_tokenize \n",
        "   \n",
        "ps = PorterStemmer() \n",
        "  \n",
        "# choose some words to be stemmed \n",
        "words = [\"hike\", \"hikes\", \"hiked\", \"hiking\", \"hikers\", \"hiker\"] \n",
        "  \n",
        "for w in words: \n",
        "    print(w, \" : \", ps.stem(w)) \n",
        "\n"
      ],
      "execution_count": 0,
      "outputs": []
    },
    {
      "cell_type": "code",
      "metadata": {
        "id": "x6EM6ADdZYbL",
        "colab_type": "code",
        "outputId": "cc7bc613-7f67-4e02-bbeb-14fb7c5d069c",
        "colab": {
          "base_uri": "https://localhost:8080/",
          "height": 51
        }
      },
      "source": [
        "from nltk.stem import PorterStemmer \n",
        "from nltk.tokenize import word_tokenize \n",
        "import re\n",
        "   \n",
        "ps = PorterStemmer() \n",
        "text = \"Hello everyone. Welcome to Intro to Machine Learning Applications. We are now learning important basics of NLP.\"\n",
        "print(text)\n",
        "\n",
        "\n",
        "#Tokenize and stem the words\n",
        "text = re.sub(r'[^a-zA-Z0-9\\s]', ' ', text)\n",
        "tokens = [token for token in text.split(\" \") if token != \"\"]\n",
        "\n",
        "i=0\n",
        "while i<len(tokens):\n",
        "  tokens[i]=ps.stem(tokens[i])\n",
        "  i=i+1\n",
        "\n",
        "#merge all the tokens to form a long text sequence \n",
        "text2 = ' '.join(tokens) \n",
        "\n",
        "print(text2)"
      ],
      "execution_count": 0,
      "outputs": [
        {
          "output_type": "stream",
          "text": [
            "Hello everyone. Welcome to Intro to Machine Learning Applications. We are now learning important basics of NLP.\n",
            "hello everyon welcom to intro to machin learn applic We are now learn import basic of nlp\n"
          ],
          "name": "stdout"
        }
      ]
    },
    {
      "cell_type": "code",
      "metadata": {
        "id": "PQg-2u17aWQh",
        "colab_type": "code",
        "outputId": "00d2b375-c2cf-4b11-ad8f-4bb9043be5fa",
        "colab": {
          "base_uri": "https://localhost:8080/",
          "height": 51
        }
      },
      "source": [
        "from nltk.stem.snowball import SnowballStemmer\n",
        "from nltk.tokenize import word_tokenize \n",
        "import re\n",
        "   \n",
        "ss = SnowballStemmer(\"english\")\n",
        "text = \"Hello everyone. Welcome to Intro to Machine Learning Applications. We are now learning important basics of NLP.\"\n",
        "print(text)\n",
        "\n",
        "\n",
        "#Tokenize and stem the words\n",
        "text = re.sub(r'[^a-zA-Z0-9\\s]', ' ', text)\n",
        "tokens = [token for token in text.split(\" \") if token != \"\"]\n",
        "\n",
        "i=0\n",
        "while i<len(tokens):\n",
        "  tokens[i]=ss.stem(tokens[i])\n",
        "  i=i+1\n",
        "\n",
        "#merge all the tokens to form a long text sequence \n",
        "text2 = ' '.join(tokens) \n",
        "\n",
        "print(text2)"
      ],
      "execution_count": 0,
      "outputs": [
        {
          "output_type": "stream",
          "text": [
            "Hello everyone. Welcome to Intro to Machine Learning Applications. We are now learning important basics of NLP.\n",
            "hello everyon welcom to intro to machin learn applic we are now learn import basic of nlp\n"
          ],
          "name": "stdout"
        }
      ]
    },
    {
      "cell_type": "code",
      "metadata": {
        "id": "DQkySHTBldBj",
        "colab_type": "code",
        "colab": {}
      },
      "source": [
        "#Stopwords removal \n",
        "\n",
        "from nltk.corpus import stopwords \n",
        "from nltk.tokenize import word_tokenize \n",
        "\n",
        "text = \"Hello everyone. Welcome to Intro to Machine Learning Applications. We are now learning important basics of NLP.\"\n",
        "\n",
        "stop_words = set(stopwords.words('english')) \n",
        "word_tokens = word_tokenize(text) \n",
        "  \n",
        "filtered_sentence = [w for w in word_tokens if not w in stop_words] \n",
        "  \n",
        "filtered_sentence = [] \n",
        "  \n",
        "for w in word_tokens: \n",
        "    if w not in stop_words: \n",
        "        filtered_sentence.append(w) \n",
        "  \n",
        "print(word_tokens) \n",
        "print(filtered_sentence) \n",
        "\n",
        "text2 = ' '.join(filtered_sentence)"
      ],
      "execution_count": 0,
      "outputs": []
    },
    {
      "cell_type": "code",
      "metadata": {
        "id": "ejWwVdZebHlA",
        "colab_type": "code",
        "outputId": "a90010e5-7deb-4f1e-9ea1-03b5e0f0da44",
        "colab": {
          "base_uri": "https://localhost:8080/",
          "height": 54
        }
      },
      "source": [
        "#Part-of-Speech tagging\n",
        "\n",
        "import nltk\n",
        "from nltk.tokenize import word_tokenize\n",
        "from nltk.tag import pos_tag\n",
        "\n",
        "text = 'GitHub is a development platform inspired by the way you work. From open source to business, you can host and review code, manage projects, and build software alongside 40 million developers.'\n",
        "\n",
        "def preprocess(sent):\n",
        "    sent = nltk.word_tokenize(sent)\n",
        "    sent = nltk.pos_tag(sent)\n",
        "    return sent\n",
        "\n",
        "sent = preprocess(text)\n",
        "print(sent)\n"
      ],
      "execution_count": 0,
      "outputs": [
        {
          "output_type": "stream",
          "text": [
            "[('GitHub', 'NNP'), ('is', 'VBZ'), ('a', 'DT'), ('development', 'NN'), ('platform', 'NN'), ('inspired', 'VBN'), ('by', 'IN'), ('the', 'DT'), ('way', 'NN'), ('you', 'PRP'), ('work', 'VBP'), ('.', '.'), ('From', 'IN'), ('open', 'JJ'), ('source', 'NN'), ('to', 'TO'), ('business', 'NN'), (',', ','), ('you', 'PRP'), ('can', 'MD'), ('host', 'VB'), ('and', 'CC'), ('review', 'VB'), ('code', 'NN'), (',', ','), ('manage', 'NN'), ('projects', 'NNS'), (',', ','), ('and', 'CC'), ('build', 'VB'), ('software', 'NN'), ('alongside', 'RB'), ('40', 'CD'), ('million', 'CD'), ('developers', 'NNS'), ('.', '.')]\n"
          ],
          "name": "stdout"
        }
      ]
    },
    {
      "cell_type": "code",
      "metadata": {
        "id": "8nQvO9BTFdGh",
        "colab_type": "code",
        "colab": {}
      },
      "source": [
        "#Named entity recognition\n",
        "\n",
        "#spaCy is an NLP Framework -- easy to use and having ability to use neural networks\n",
        "\n",
        "import en_core_web_sm\n",
        "nlp = en_core_web_sm.load()\n",
        "\n",
        "text = 'GitHub is a development platform inspired by the way you work. From open source to business, you can host and review code, manage projects, and build software alongside 40 million developers.'\n",
        "\n",
        "doc = nlp(text)\n",
        "print(doc.ents)\n",
        "print([(X.text, X.label_) for X in doc.ents])"
      ],
      "execution_count": 0,
      "outputs": []
    },
    {
      "cell_type": "code",
      "metadata": {
        "id": "Hg-BTKVxFgSP",
        "colab_type": "code",
        "colab": {}
      },
      "source": [
        "#Sentiment analysis"
      ],
      "execution_count": 0,
      "outputs": []
    },
    {
      "cell_type": "code",
      "metadata": {
        "id": "_FcpVeeZFiA4",
        "colab_type": "code",
        "colab": {}
      },
      "source": [
        "#Topic modeling"
      ],
      "execution_count": 0,
      "outputs": []
    },
    {
      "cell_type": "code",
      "metadata": {
        "id": "b0-mQ_AMFlmn",
        "colab_type": "code",
        "colab": {}
      },
      "source": [
        "#Word embeddings\n"
      ],
      "execution_count": 0,
      "outputs": []
    },
    {
      "cell_type": "markdown",
      "metadata": {
        "id": "bQ5DZ_ZkI74h",
        "colab_type": "text"
      },
      "source": [
        "#Class exercise\n",
        "\n",
        "#### 1. Read a file from its URL \n",
        "#### 2. Extract the text and tokenize it meaningfully into words. \n",
        "#### 3. Print the entire text combined after tokenization. \n",
        "#### 4. Perform stemming using both porter and snowball stemmers. Which one works the best? Why? \n",
        "#### 5. Remove stopwords\n",
        "#### 6. Identify the top-10 unigrams based on their frequency.\n"
      ]
    },
    {
      "cell_type": "code",
      "metadata": {
        "id": "uHvXv_uILCvo",
        "colab_type": "code",
        "outputId": "7cea77c0-e3df-41dc-c096-ded7a065d5f9",
        "colab": {
          "base_uri": "https://localhost:8080/",
          "height": 357
        }
      },
      "source": [
        "\n",
        "#Load the file first\n",
        "!wget https://www.dropbox.com/s/o8lxi6yrezmt5em/reviews.txt\n"
      ],
      "execution_count": 0,
      "outputs": [
        {
          "output_type": "stream",
          "text": [
            "--2019-11-04 17:16:22--  https://www.dropbox.com/s/o8lxi6yrezmt5em/reviews.txt\n",
            "Resolving www.dropbox.com (www.dropbox.com)... 162.125.9.1, 2620:100:601b:1::a27d:801\n",
            "Connecting to www.dropbox.com (www.dropbox.com)|162.125.9.1|:443... connected.\n",
            "HTTP request sent, awaiting response... 301 Moved Permanently\n",
            "Location: /s/raw/o8lxi6yrezmt5em/reviews.txt [following]\n",
            "--2019-11-04 17:16:23--  https://www.dropbox.com/s/raw/o8lxi6yrezmt5em/reviews.txt\n",
            "Reusing existing connection to www.dropbox.com:443.\n",
            "HTTP request sent, awaiting response... 302 Found\n",
            "Location: https://ucb753980f94c903b140fb69cb47.dl.dropboxusercontent.com/cd/0/inline/AruGnazr2R1e797TKXdu6chwkg102fB893qSsoT5EeI2_mAFsj2rCinxKGPdm-HpQjOZqWQ21tvsPDpyA7PBxc7QxoDCWKG45GDwN1gZw3C7RlMLoxb8D9NG9IqmJ25IXJc/file# [following]\n",
            "--2019-11-04 17:16:23--  https://ucb753980f94c903b140fb69cb47.dl.dropboxusercontent.com/cd/0/inline/AruGnazr2R1e797TKXdu6chwkg102fB893qSsoT5EeI2_mAFsj2rCinxKGPdm-HpQjOZqWQ21tvsPDpyA7PBxc7QxoDCWKG45GDwN1gZw3C7RlMLoxb8D9NG9IqmJ25IXJc/file\n",
            "Resolving ucb753980f94c903b140fb69cb47.dl.dropboxusercontent.com (ucb753980f94c903b140fb69cb47.dl.dropboxusercontent.com)... 162.125.9.6, 2620:100:601f:6::a27d:906\n",
            "Connecting to ucb753980f94c903b140fb69cb47.dl.dropboxusercontent.com (ucb753980f94c903b140fb69cb47.dl.dropboxusercontent.com)|162.125.9.6|:443... connected.\n",
            "HTTP request sent, awaiting response... 200 OK\n",
            "Length: 3851 (3.8K) [text/plain]\n",
            "Saving to: ‘reviews.txt’\n",
            "\n",
            "reviews.txt         100%[===================>]   3.76K  --.-KB/s    in 0s      \n",
            "\n",
            "2019-11-04 17:16:24 (328 MB/s) - ‘reviews.txt’ saved [3851/3851]\n",
            "\n"
          ],
          "name": "stdout"
        }
      ]
    }
  ]
}