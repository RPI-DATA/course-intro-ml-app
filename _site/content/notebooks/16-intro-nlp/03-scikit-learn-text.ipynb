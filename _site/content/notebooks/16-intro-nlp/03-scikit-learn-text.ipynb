{
  "nbformat": 4,
  "nbformat_minor": 0,
  "metadata": {
    "colab": {
      "name": "03-scikit-learn-text.ipynb",
      "version": "0.3.2",
      "provenance": []
    },
    "kernelspec": {
      "display_name": "Python 3",
      "language": "python",
      "name": "python3"
    }
  },
  "cells": [
    {
      "metadata": {
        "id": "CtVIabzzb64m",
        "colab_type": "text"
      },
      "cell_type": "markdown",
      "source": [
        "[![AnalyticsDojo](https://github.com/rpi-techfundamentals/spring2019-materials/blob/master/fig/final-logo.png?raw=1)](http://rpi.analyticsdojo.com)\n",
        "<center><h1>Methods - Text Feature Extraction with Bag-of-Words Using Scikit Learn</h1></center>\n",
        "<center><h3><a href = 'http://rpi.analyticsdojo.com'>rpi.analyticsdojo.com</a></h3></center>"
      ]
    },
    {
      "metadata": {
        "id": "tu1bzf2mbwrv",
        "colab_type": "code",
        "colab": {}
      },
      "cell_type": "code",
      "source": [
        "%matplotlib inline\n",
        "import matplotlib.pyplot as plt\n",
        "import numpy as np"
      ],
      "execution_count": 0,
      "outputs": []
    },
    {
      "metadata": {
        "id": "2NPnavrXbwr9",
        "colab_type": "text"
      },
      "cell_type": "markdown",
      "source": [
        "# Methods - Text Feature Extraction with Bag-of-Words Using Scikit Learn\n"
      ]
    },
    {
      "metadata": {
        "id": "iXU6vd6vbwr_",
        "colab_type": "text"
      },
      "cell_type": "markdown",
      "source": [
        "In many tasks, like in the classical spam detection, your input data is text.\n",
        "Free text with variables length is very far from the fixed length numeric representation that we need to do machine learning with scikit-learn.\n",
        "However, there is an easy and effective way to go from text data to a numeric representation using the so-called bag-of-words model, which provides a data structure that is compatible with the machine learning aglorithms in scikit-learn."
      ]
    },
    {
      "metadata": {
        "id": "ujjicwcFbwsI",
        "colab_type": "text"
      },
      "cell_type": "markdown",
      "source": [
        "Let's assume that each sample in your dataset is represented as one string, which could be just a sentence, an email, or a whole news article or book. To represent the sample, we first split the string into a list of tokens, which correspond to (somewhat normalized) words. A simple way to do this to just split by whitespace, and then lowercase the word. \n",
        "\n",
        "Then, we build a vocabulary of all tokens (lowercased words) that appear in our whole dataset. This is usually a very large vocabulary.\n",
        "Finally, looking at our single sample, we could show how often each word in the vocabulary appears.\n",
        "We represent our string by a vector, where each entry is how often a given word in the vocabulary appears in the string.\n",
        "\n",
        "As each sample will only contain very few words, most entries will be zero, leading to a very high-dimensional but sparse representation.\n",
        "\n",
        "The method is called \"bag-of-words,\" as the order of the words is lost entirely."
      ]
    },
    {
      "metadata": {
        "id": "8LgCSQvObwsK",
        "colab_type": "code",
        "colab": {}
      },
      "cell_type": "code",
      "source": [
        "X = [\"Mr. Green killed Colonel Mustard in the study with the candlestick. \\\n",
        "Mr. Green is not a very nice fellow.\",\n",
        "     \"Professor Plum has a green plant in his study.\",\n",
        "    \"Miss Scarlett watered Professor Plum's green plant while he was away \\\n",
        "from his office last week.\"]\n"
      ],
      "execution_count": 0,
      "outputs": []
    },
    {
      "metadata": {
        "id": "4smNnQ4lbwsS",
        "colab_type": "code",
        "colab": {}
      },
      "cell_type": "code",
      "source": [
        "len(X)"
      ],
      "execution_count": 0,
      "outputs": []
    },
    {
      "metadata": {
        "id": "tv6Puu2Rbwsh",
        "colab_type": "code",
        "colab": {}
      },
      "cell_type": "code",
      "source": [
        "from sklearn.feature_extraction.text import CountVectorizer\n",
        "vectorizer = CountVectorizer()\n",
        "vectorizer.fit(X)"
      ],
      "execution_count": 0,
      "outputs": []
    },
    {
      "metadata": {
        "id": "DqiZ3TMqbwtY",
        "colab_type": "code",
        "colab": {}
      },
      "cell_type": "code",
      "source": [
        "vectorizer.vocabulary_"
      ],
      "execution_count": 0,
      "outputs": []
    },
    {
      "metadata": {
        "id": "TkLmhm0-bwte",
        "colab_type": "code",
        "colab": {}
      },
      "cell_type": "code",
      "source": [
        "X_bag_of_words = vectorizer.transform(X)"
      ],
      "execution_count": 0,
      "outputs": []
    },
    {
      "metadata": {
        "id": "PK18qqMabwtl",
        "colab_type": "code",
        "colab": {}
      },
      "cell_type": "code",
      "source": [
        "X_bag_of_words.shape"
      ],
      "execution_count": 0,
      "outputs": []
    },
    {
      "metadata": {
        "id": "huitq6-nbwtp",
        "colab_type": "code",
        "colab": {}
      },
      "cell_type": "code",
      "source": [
        "X_bag_of_words"
      ],
      "execution_count": 0,
      "outputs": []
    },
    {
      "metadata": {
        "id": "bGbbbnT4bwtt",
        "colab_type": "code",
        "colab": {}
      },
      "cell_type": "code",
      "source": [
        "X_bag_of_words.toarray()"
      ],
      "execution_count": 0,
      "outputs": []
    },
    {
      "metadata": {
        "id": "9fMIWEOlbwty",
        "colab_type": "code",
        "colab": {}
      },
      "cell_type": "code",
      "source": [
        "vectorizer.get_feature_names()"
      ],
      "execution_count": 0,
      "outputs": []
    },
    {
      "metadata": {
        "id": "iahQFIJ3bwt6",
        "colab_type": "code",
        "colab": {}
      },
      "cell_type": "code",
      "source": [
        "vectorizer.inverse_transform(X_bag_of_words)"
      ],
      "execution_count": 0,
      "outputs": []
    },
    {
      "metadata": {
        "id": "ZhcVPR0fbwt9",
        "colab_type": "text"
      },
      "cell_type": "markdown",
      "source": [
        "# tf-idf Encoding\n",
        "A useful transformation that is often applied to the bag-of-word encoding is the so-called term-frequency inverse-document-frequency (tf-idf) scaling, which is a non-linear transformation of the word counts.\n",
        "\n",
        "The tf-idf encoding rescales words that are common to have less weight:"
      ]
    },
    {
      "metadata": {
        "id": "HEBFAHKHbwt9",
        "colab_type": "code",
        "colab": {}
      },
      "cell_type": "code",
      "source": [
        "from sklearn.feature_extraction.text import TfidfVectorizer\n",
        "tfidf_vectorizer = TfidfVectorizer()\n",
        "tfidf_vectorizer.fit(X)"
      ],
      "execution_count": 0,
      "outputs": []
    },
    {
      "metadata": {
        "id": "qbxcbXFvbwuB",
        "colab_type": "code",
        "colab": {}
      },
      "cell_type": "code",
      "source": [
        "import numpy as np\n",
        "np.set_printoptions(precision=2)\n",
        "\n",
        "print(tfidf_vectorizer.transform(X).toarray())"
      ],
      "execution_count": 0,
      "outputs": []
    },
    {
      "metadata": {
        "id": "Aa-zJuB6bwuF",
        "colab_type": "code",
        "colab": {}
      },
      "cell_type": "code",
      "source": [
        "tfidf_vectorizer.get_feature_names()"
      ],
      "execution_count": 0,
      "outputs": []
    },
    {
      "metadata": {
        "id": "saj9osxVbwuI",
        "colab_type": "text"
      },
      "cell_type": "markdown",
      "source": [
        "tf-idfs are a way to represent documents as feature vectors. tf-idfs can be understood as a modification of the raw term frequencies (`tf`); the `tf` is the count of how often a particular word occurs in a given document. The concept behind the tf-idf is to downweight terms proportionally to the number of documents in which they occur. Here, the idea is that terms that occur in many different documents are likely unimportant or don't contain any useful information for Natural Language Processing tasks such as document classification. If you are interested in the mathematical details and equations, see this [external IPython Notebook](http://nbviewer.jupyter.org/github/rasbt/pattern_classification/blob/master/machine_learning/scikit-learn/tfidf_scikit-learn.ipynb) that walks you through the computation."
      ]
    },
    {
      "metadata": {
        "id": "XRrBVZ8CbwuK",
        "colab_type": "text"
      },
      "cell_type": "markdown",
      "source": [
        "# Bigrams and N-Grams\n",
        "\n",
        "In the example illustrated in the figure at the beginning of this notebook, we used the so-called 1-gram (unigram) tokenization: Each token represents a single element with regard to the splittling criterion. \n",
        "\n",
        "Entirely discarding word order is not always a good idea, as composite phrases often have specific meaning, and modifiers like \"not\" can invert the meaning of words.\n",
        "\n",
        "A simple way to include some word order are n-grams, which don't only look at a single token, but at all pairs of neighborhing tokens. For example, in 2-gram (bigram) tokenization, we would group words together with an overlap of one word; in 3-gram (trigram) splits we would create an overlap two words, and so forth:\n",
        "\n",
        "- original text: \"this is how you get ants\"\n",
        "- 1-gram: \"this\", \"is\", \"how\", \"you\", \"get\", \"ants\"\n",
        "- 2-gram: \"this is\", \"is how\", \"how you\", \"you get\", \"get ants\"\n",
        "- 3-gram: \"this is how\", \"is how you\", \"how you get\", \"you get ants\"\n",
        "\n",
        "Which \"n\" we choose for \"n-gram\" tokenization to obtain the optimal performance in our predictive model depends on the learning algorithm, dataset, and task. Or in other words, we have consider \"n\" in \"n-grams\" as a tuning parameters, and in later notebooks, we will see how we deal with these.\n",
        "\n",
        "Now, let's create a bag of words model of bigrams using scikit-learn's `CountVectorizer`:"
      ]
    },
    {
      "metadata": {
        "id": "BOMO-N4QbwuL",
        "colab_type": "code",
        "colab": {}
      },
      "cell_type": "code",
      "source": [
        "# look at sequences of tokens of minimum length 2 and maximum length 2\n",
        "bigram_vectorizer = CountVectorizer(ngram_range=(2, 2))\n",
        "bigram_vectorizer.fit(X)"
      ],
      "execution_count": 0,
      "outputs": []
    },
    {
      "metadata": {
        "id": "vDXcAcgzbwuO",
        "colab_type": "code",
        "colab": {}
      },
      "cell_type": "code",
      "source": [
        "bigram_vectorizer.get_feature_names()"
      ],
      "execution_count": 0,
      "outputs": []
    },
    {
      "metadata": {
        "id": "lt-yQvunbwuS",
        "colab_type": "code",
        "colab": {}
      },
      "cell_type": "code",
      "source": [
        "bigram_vectorizer.transform(X).toarray()"
      ],
      "execution_count": 0,
      "outputs": []
    },
    {
      "metadata": {
        "id": "TNOdG_OebwuV",
        "colab_type": "text"
      },
      "cell_type": "markdown",
      "source": [
        "Often we want to include unigrams (single tokens) AND bigrams, wich we can do by passing the following tuple as an argument to the `ngram_range` parameter of the `CountVectorizer` function:"
      ]
    },
    {
      "metadata": {
        "id": "OkBG4MThbwuX",
        "colab_type": "code",
        "colab": {}
      },
      "cell_type": "code",
      "source": [
        "gram_vectorizer = CountVectorizer(ngram_range=(1, 2))\n",
        "gram_vectorizer.fit(X)"
      ],
      "execution_count": 0,
      "outputs": []
    },
    {
      "metadata": {
        "id": "L3HpFZV2bwvI",
        "colab_type": "code",
        "colab": {}
      },
      "cell_type": "code",
      "source": [
        "gram_vectorizer.get_feature_names()"
      ],
      "execution_count": 0,
      "outputs": []
    },
    {
      "metadata": {
        "id": "_HJRkBksbwvJ",
        "colab_type": "code",
        "colab": {}
      },
      "cell_type": "code",
      "source": [
        "gram_vectorizer.transform(X).toarray()"
      ],
      "execution_count": 0,
      "outputs": []
    },
    {
      "metadata": {
        "id": "NR2rkal8bwvL",
        "colab_type": "text"
      },
      "cell_type": "markdown",
      "source": [
        "Character n-grams\n",
        "=================\n",
        "\n",
        "Sometimes it is also helpful not only to look at words, but to consider single characters instead.   \n",
        "That is particularly useful if we have very noisy data and want to identify the language, or if we want to predict something about a single word.\n",
        "We can simply look at characters instead of words by setting ``analyzer=\"char\"``.\n",
        "Looking at single characters is usually not very informative, but looking at longer n-grams of characters could be:"
      ]
    },
    {
      "metadata": {
        "id": "hYUVs99PbwvR",
        "colab_type": "code",
        "colab": {}
      },
      "cell_type": "code",
      "source": [
        "X"
      ],
      "execution_count": 0,
      "outputs": []
    },
    {
      "metadata": {
        "id": "eyLIzQgibwvT",
        "colab_type": "code",
        "colab": {}
      },
      "cell_type": "code",
      "source": [
        "char_vectorizer = CountVectorizer(ngram_range=(2, 2), analyzer=\"char\")\n",
        "char_vectorizer.fit(X)"
      ],
      "execution_count": 0,
      "outputs": []
    },
    {
      "metadata": {
        "scrolled": true,
        "id": "hJpM0J0MbwvV",
        "colab_type": "code",
        "colab": {}
      },
      "cell_type": "code",
      "source": [
        "print(char_vectorizer.get_feature_names())"
      ],
      "execution_count": 0,
      "outputs": []
    },
    {
      "metadata": {
        "id": "4WRmIK0AbwvX",
        "colab_type": "code",
        "colab": {}
      },
      "cell_type": "code",
      "source": [
        ""
      ],
      "execution_count": 0,
      "outputs": []
    },
    {
      "metadata": {
        "id": "jnRnKkbobwvY",
        "colab_type": "code",
        "colab": {}
      },
      "cell_type": "code",
      "source": [
        ""
      ],
      "execution_count": 0,
      "outputs": []
    }
  ]
}